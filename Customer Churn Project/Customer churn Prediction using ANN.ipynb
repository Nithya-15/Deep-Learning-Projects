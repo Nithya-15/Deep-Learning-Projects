{
 "cells": [
  {
   "cell_type": "code",
   "execution_count": 1,
   "id": "498ec6ae",
   "metadata": {},
   "outputs": [],
   "source": [
    "import numpy as np\n",
    "import pandas as pd\n",
    "import tensorflow as tf"
   ]
  },
  {
   "cell_type": "code",
   "execution_count": 3,
   "id": "833e31a3",
   "metadata": {},
   "outputs": [
    {
     "data": {
      "text/plain": [
       "'2.15.0'"
      ]
     },
     "execution_count": 3,
     "metadata": {},
     "output_type": "execute_result"
    }
   ],
   "source": [
    "tf.__version__"
   ]
  },
  {
   "cell_type": "markdown",
   "id": "10dafdd3",
   "metadata": {},
   "source": [
    "## Data Preprocessing"
   ]
  },
  {
   "cell_type": "code",
   "execution_count": 4,
   "id": "8e660919",
   "metadata": {},
   "outputs": [],
   "source": [
    "dataset=pd.read_csv(\"Churn_Modelling.csv\")\n",
    "X=dataset.iloc[:,3:-1].values\n",
    "y=dataset.iloc[:,-1].values"
   ]
  },
  {
   "cell_type": "markdown",
   "id": "134db3cf",
   "metadata": {},
   "source": [
    "## Handling missing data"
   ]
  },
  {
   "cell_type": "code",
   "execution_count": 8,
   "id": "72ecb05e",
   "metadata": {},
   "outputs": [
    {
     "data": {
      "text/plain": [
       "RowNumber          0\n",
       "CustomerId         0\n",
       "Surname            0\n",
       "CreditScore        0\n",
       "Geography          0\n",
       "Gender             0\n",
       "Age                0\n",
       "Tenure             0\n",
       "Balance            0\n",
       "NumOfProducts      0\n",
       "HasCrCard          0\n",
       "IsActiveMember     0\n",
       "EstimatedSalary    0\n",
       "Exited             0\n",
       "dtype: int64"
      ]
     },
     "execution_count": 8,
     "metadata": {},
     "output_type": "execute_result"
    }
   ],
   "source": [
    "# There are no missing data in the dataset.\n",
    "dataset.isnull().sum()"
   ]
  },
  {
   "cell_type": "code",
   "execution_count": 5,
   "id": "4f2d92af",
   "metadata": {},
   "outputs": [
    {
     "name": "stdout",
     "output_type": "stream",
     "text": [
      "[[619 'France' 'Female' ... 1 1 101348.88]\n",
      " [608 'Spain' 'Female' ... 0 1 112542.58]\n",
      " [502 'France' 'Female' ... 1 0 113931.57]\n",
      " ...\n",
      " [709 'France' 'Female' ... 0 1 42085.58]\n",
      " [772 'Germany' 'Male' ... 1 0 92888.52]\n",
      " [792 'France' 'Female' ... 1 0 38190.78]]\n"
     ]
    }
   ],
   "source": [
    "print(X)"
   ]
  },
  {
   "cell_type": "code",
   "execution_count": 6,
   "id": "56a1571e",
   "metadata": {},
   "outputs": [
    {
     "name": "stdout",
     "output_type": "stream",
     "text": [
      "[1 0 1 ... 1 1 0]\n"
     ]
    }
   ],
   "source": [
    "print(y)"
   ]
  },
  {
   "cell_type": "markdown",
   "id": "3abadef1",
   "metadata": {},
   "source": [
    "## Encoding Categorical data"
   ]
  },
  {
   "cell_type": "markdown",
   "id": "76e4114a",
   "metadata": {},
   "source": [
    "### Label Encoding the \"Gender\" column"
   ]
  },
  {
   "cell_type": "code",
   "execution_count": 9,
   "id": "516fa107",
   "metadata": {},
   "outputs": [],
   "source": [
    "from sklearn.preprocessing import LabelEncoder\n",
    "le=LabelEncoder()\n",
    "X[:,2]=le.fit_transform(X[:,2])"
   ]
  },
  {
   "cell_type": "code",
   "execution_count": 10,
   "id": "244a5c25",
   "metadata": {},
   "outputs": [
    {
     "name": "stdout",
     "output_type": "stream",
     "text": [
      "[[619 'France' 0 ... 1 1 101348.88]\n",
      " [608 'Spain' 0 ... 0 1 112542.58]\n",
      " [502 'France' 0 ... 1 0 113931.57]\n",
      " ...\n",
      " [709 'France' 0 ... 0 1 42085.58]\n",
      " [772 'Germany' 1 ... 1 0 92888.52]\n",
      " [792 'France' 0 ... 1 0 38190.78]]\n"
     ]
    }
   ],
   "source": [
    "print(X)"
   ]
  },
  {
   "cell_type": "markdown",
   "id": "154597c8",
   "metadata": {},
   "source": [
    "### One hot encoding the \"Georgraphy\" column"
   ]
  },
  {
   "cell_type": "code",
   "execution_count": 11,
   "id": "36901ffa",
   "metadata": {},
   "outputs": [],
   "source": [
    "from sklearn.compose import ColumnTransformer\n",
    "from sklearn.preprocessing import OneHotEncoder\n",
    "ct=ColumnTransformer(transformers=[('encoder',OneHotEncoder(),[1])],remainder='passthrough')\n",
    "X=np.array(ct.fit_transform(X))"
   ]
  },
  {
   "cell_type": "code",
   "execution_count": 12,
   "id": "ec012814",
   "metadata": {},
   "outputs": [
    {
     "data": {
      "text/plain": [
       "array([[1.0, 0.0, 0.0, ..., 1, 1, 101348.88],\n",
       "       [0.0, 0.0, 1.0, ..., 0, 1, 112542.58],\n",
       "       [1.0, 0.0, 0.0, ..., 1, 0, 113931.57],\n",
       "       ...,\n",
       "       [1.0, 0.0, 0.0, ..., 0, 1, 42085.58],\n",
       "       [0.0, 1.0, 0.0, ..., 1, 0, 92888.52],\n",
       "       [1.0, 0.0, 0.0, ..., 1, 0, 38190.78]], dtype=object)"
      ]
     },
     "execution_count": 12,
     "metadata": {},
     "output_type": "execute_result"
    }
   ],
   "source": [
    "X"
   ]
  },
  {
   "cell_type": "markdown",
   "id": "94d9facb",
   "metadata": {},
   "source": [
    "## Splitting the dataset into training and testing"
   ]
  },
  {
   "cell_type": "code",
   "execution_count": 13,
   "id": "b400d8b2",
   "metadata": {},
   "outputs": [],
   "source": [
    "from sklearn.model_selection import train_test_split\n",
    "X_train, X_test, y_train, y_test=train_test_split(X, y, test_size=0.2, random_state=0)"
   ]
  },
  {
   "cell_type": "markdown",
   "id": "38019a18",
   "metadata": {},
   "source": [
    "## Feature Scaling"
   ]
  },
  {
   "cell_type": "code",
   "execution_count": 14,
   "id": "4f9f8482",
   "metadata": {},
   "outputs": [],
   "source": [
    "from sklearn.preprocessing import StandardScaler\n",
    "sc=StandardScaler()\n",
    "X_train=sc.fit_transform(X_train)\n",
    "X_test=sc.transform(X_test)"
   ]
  },
  {
   "cell_type": "markdown",
   "id": "3ee44915",
   "metadata": {},
   "source": [
    "## Building the ANN"
   ]
  },
  {
   "cell_type": "code",
   "execution_count": 15,
   "id": "9da97402",
   "metadata": {},
   "outputs": [],
   "source": [
    "#Initializing the ANN\n",
    "ann=tf.keras.models.Sequential()"
   ]
  },
  {
   "cell_type": "code",
   "execution_count": 17,
   "id": "a11c2691",
   "metadata": {},
   "outputs": [],
   "source": [
    "# Adding the input layer and the first hidden layer\n",
    "ann.add(tf.keras.layers.Dense(units=6, activation='relu'))"
   ]
  },
  {
   "cell_type": "code",
   "execution_count": 19,
   "id": "0fe023dd",
   "metadata": {},
   "outputs": [],
   "source": [
    "ann.add(tf.keras.layers.Dense(units=6, activation='relu'))"
   ]
  },
  {
   "cell_type": "code",
   "execution_count": 20,
   "id": "0f1bc738",
   "metadata": {},
   "outputs": [],
   "source": [
    "ann.add(tf.keras.layers.Dense(units=1, activation='sigmoid'))"
   ]
  },
  {
   "cell_type": "markdown",
   "id": "8d098099",
   "metadata": {},
   "source": [
    "## Training the ANN"
   ]
  },
  {
   "cell_type": "code",
   "execution_count": 24,
   "id": "c10a3c44",
   "metadata": {},
   "outputs": [],
   "source": [
    "ann.compile(optimizer='adam',loss='binary_crossentropy', metrics=['accuracy'])"
   ]
  },
  {
   "cell_type": "code",
   "execution_count": 26,
   "id": "820b7d91",
   "metadata": {},
   "outputs": [
    {
     "name": "stdout",
     "output_type": "stream",
     "text": [
      "Epoch 1/100\n",
      "250/250 [==============================] - 0s 281us/step - loss: 0.3427 - accuracy: 0.8581\n",
      "Epoch 2/100\n",
      "250/250 [==============================] - 0s 253us/step - loss: 0.3422 - accuracy: 0.8590\n",
      "Epoch 3/100\n",
      "250/250 [==============================] - 0s 251us/step - loss: 0.3417 - accuracy: 0.8595\n",
      "Epoch 4/100\n",
      "250/250 [==============================] - 0s 245us/step - loss: 0.3415 - accuracy: 0.8574\n",
      "Epoch 5/100\n",
      "250/250 [==============================] - 0s 249us/step - loss: 0.3411 - accuracy: 0.8602\n",
      "Epoch 6/100\n",
      "250/250 [==============================] - 0s 249us/step - loss: 0.3407 - accuracy: 0.8597\n",
      "Epoch 7/100\n",
      "250/250 [==============================] - 0s 247us/step - loss: 0.3400 - accuracy: 0.8604\n",
      "Epoch 8/100\n",
      "250/250 [==============================] - 0s 246us/step - loss: 0.3400 - accuracy: 0.8627\n",
      "Epoch 9/100\n",
      "250/250 [==============================] - 0s 254us/step - loss: 0.3397 - accuracy: 0.8619\n",
      "Epoch 10/100\n",
      "250/250 [==============================] - 0s 255us/step - loss: 0.3395 - accuracy: 0.8600\n",
      "Epoch 11/100\n",
      "250/250 [==============================] - 0s 262us/step - loss: 0.3384 - accuracy: 0.8616\n",
      "Epoch 12/100\n",
      "250/250 [==============================] - 0s 278us/step - loss: 0.3384 - accuracy: 0.8611\n",
      "Epoch 13/100\n",
      "250/250 [==============================] - 0s 244us/step - loss: 0.3383 - accuracy: 0.8606\n",
      "Epoch 14/100\n",
      "250/250 [==============================] - 0s 251us/step - loss: 0.3376 - accuracy: 0.8622\n",
      "Epoch 15/100\n",
      "250/250 [==============================] - 0s 255us/step - loss: 0.3379 - accuracy: 0.8602\n",
      "Epoch 16/100\n",
      "250/250 [==============================] - 0s 297us/step - loss: 0.3373 - accuracy: 0.8633\n",
      "Epoch 17/100\n",
      "250/250 [==============================] - 0s 261us/step - loss: 0.3375 - accuracy: 0.8610\n",
      "Epoch 18/100\n",
      "250/250 [==============================] - 0s 261us/step - loss: 0.3371 - accuracy: 0.8629\n",
      "Epoch 19/100\n",
      "250/250 [==============================] - 0s 256us/step - loss: 0.3372 - accuracy: 0.8602\n",
      "Epoch 20/100\n",
      "250/250 [==============================] - 0s 261us/step - loss: 0.3370 - accuracy: 0.8631\n",
      "Epoch 21/100\n",
      "250/250 [==============================] - 0s 261us/step - loss: 0.3367 - accuracy: 0.8618\n",
      "Epoch 22/100\n",
      "250/250 [==============================] - 0s 259us/step - loss: 0.3365 - accuracy: 0.8612\n",
      "Epoch 23/100\n",
      "250/250 [==============================] - 0s 255us/step - loss: 0.3364 - accuracy: 0.8631\n",
      "Epoch 24/100\n",
      "250/250 [==============================] - 0s 260us/step - loss: 0.3365 - accuracy: 0.8616\n",
      "Epoch 25/100\n",
      "250/250 [==============================] - 0s 260us/step - loss: 0.3364 - accuracy: 0.8624\n",
      "Epoch 26/100\n",
      "250/250 [==============================] - 0s 255us/step - loss: 0.3359 - accuracy: 0.8618\n",
      "Epoch 27/100\n",
      "250/250 [==============================] - 0s 253us/step - loss: 0.3361 - accuracy: 0.8614\n",
      "Epoch 28/100\n",
      "250/250 [==============================] - 0s 252us/step - loss: 0.3361 - accuracy: 0.8609\n",
      "Epoch 29/100\n",
      "250/250 [==============================] - 0s 261us/step - loss: 0.3355 - accuracy: 0.8609\n",
      "Epoch 30/100\n",
      "250/250 [==============================] - 0s 265us/step - loss: 0.3354 - accuracy: 0.8618\n",
      "Epoch 31/100\n",
      "250/250 [==============================] - 0s 259us/step - loss: 0.3357 - accuracy: 0.8619\n",
      "Epoch 32/100\n",
      "250/250 [==============================] - 0s 255us/step - loss: 0.3359 - accuracy: 0.8620\n",
      "Epoch 33/100\n",
      "250/250 [==============================] - 0s 258us/step - loss: 0.3349 - accuracy: 0.8621\n",
      "Epoch 34/100\n",
      "250/250 [==============================] - 0s 265us/step - loss: 0.3352 - accuracy: 0.8626\n",
      "Epoch 35/100\n",
      "250/250 [==============================] - 0s 266us/step - loss: 0.3354 - accuracy: 0.8615\n",
      "Epoch 36/100\n",
      "250/250 [==============================] - 0s 268us/step - loss: 0.3350 - accuracy: 0.8619\n",
      "Epoch 37/100\n",
      "250/250 [==============================] - 0s 263us/step - loss: 0.3350 - accuracy: 0.8609\n",
      "Epoch 38/100\n",
      "250/250 [==============================] - 0s 267us/step - loss: 0.3346 - accuracy: 0.8611\n",
      "Epoch 39/100\n",
      "250/250 [==============================] - 0s 284us/step - loss: 0.3350 - accuracy: 0.8625\n",
      "Epoch 40/100\n",
      "250/250 [==============================] - 0s 274us/step - loss: 0.3351 - accuracy: 0.8611\n",
      "Epoch 41/100\n",
      "250/250 [==============================] - 0s 277us/step - loss: 0.3348 - accuracy: 0.8604\n",
      "Epoch 42/100\n",
      "250/250 [==============================] - 0s 281us/step - loss: 0.3344 - accuracy: 0.8626\n",
      "Epoch 43/100\n",
      "250/250 [==============================] - 0s 264us/step - loss: 0.3348 - accuracy: 0.8616\n",
      "Epoch 44/100\n",
      "250/250 [==============================] - 0s 262us/step - loss: 0.3341 - accuracy: 0.8622\n",
      "Epoch 45/100\n",
      "250/250 [==============================] - 0s 262us/step - loss: 0.3346 - accuracy: 0.8620\n",
      "Epoch 46/100\n",
      "250/250 [==============================] - 0s 289us/step - loss: 0.3341 - accuracy: 0.8625\n",
      "Epoch 47/100\n",
      "250/250 [==============================] - 0s 256us/step - loss: 0.3341 - accuracy: 0.8630\n",
      "Epoch 48/100\n",
      "250/250 [==============================] - 0s 260us/step - loss: 0.3344 - accuracy: 0.8629\n",
      "Epoch 49/100\n",
      "250/250 [==============================] - 0s 257us/step - loss: 0.3343 - accuracy: 0.8626\n",
      "Epoch 50/100\n",
      "250/250 [==============================] - 0s 255us/step - loss: 0.3337 - accuracy: 0.8625\n",
      "Epoch 51/100\n",
      "250/250 [==============================] - 0s 260us/step - loss: 0.3342 - accuracy: 0.8622\n",
      "Epoch 52/100\n",
      "250/250 [==============================] - 0s 274us/step - loss: 0.3341 - accuracy: 0.8621\n",
      "Epoch 53/100\n",
      "250/250 [==============================] - 0s 270us/step - loss: 0.3339 - accuracy: 0.8612\n",
      "Epoch 54/100\n",
      "250/250 [==============================] - 0s 262us/step - loss: 0.3340 - accuracy: 0.8621\n",
      "Epoch 55/100\n",
      "250/250 [==============================] - 0s 262us/step - loss: 0.3341 - accuracy: 0.8620\n",
      "Epoch 56/100\n",
      "250/250 [==============================] - 0s 268us/step - loss: 0.3337 - accuracy: 0.8618\n",
      "Epoch 57/100\n",
      "250/250 [==============================] - 0s 256us/step - loss: 0.3337 - accuracy: 0.8633\n",
      "Epoch 58/100\n",
      "250/250 [==============================] - 0s 262us/step - loss: 0.3339 - accuracy: 0.8626\n",
      "Epoch 59/100\n",
      "250/250 [==============================] - 0s 262us/step - loss: 0.3333 - accuracy: 0.8618\n",
      "Epoch 60/100\n",
      "250/250 [==============================] - 0s 262us/step - loss: 0.3338 - accuracy: 0.8629\n",
      "Epoch 61/100\n",
      "250/250 [==============================] - 0s 263us/step - loss: 0.3331 - accuracy: 0.8631\n",
      "Epoch 62/100\n",
      "250/250 [==============================] - 0s 258us/step - loss: 0.3336 - accuracy: 0.8619\n",
      "Epoch 63/100\n",
      "250/250 [==============================] - 0s 258us/step - loss: 0.3332 - accuracy: 0.8622\n",
      "Epoch 64/100\n",
      "250/250 [==============================] - 0s 258us/step - loss: 0.3335 - accuracy: 0.8618\n",
      "Epoch 65/100\n",
      "250/250 [==============================] - 0s 251us/step - loss: 0.3329 - accuracy: 0.8624\n",
      "Epoch 66/100\n",
      "250/250 [==============================] - 0s 255us/step - loss: 0.3330 - accuracy: 0.8619\n",
      "Epoch 67/100\n",
      "250/250 [==============================] - 0s 252us/step - loss: 0.3331 - accuracy: 0.8618\n",
      "Epoch 68/100\n",
      "250/250 [==============================] - 0s 253us/step - loss: 0.3329 - accuracy: 0.8620\n",
      "Epoch 69/100\n",
      "250/250 [==============================] - 0s 252us/step - loss: 0.3331 - accuracy: 0.8630\n",
      "Epoch 70/100\n",
      "250/250 [==============================] - 0s 253us/step - loss: 0.3326 - accuracy: 0.8624\n",
      "Epoch 71/100\n",
      "250/250 [==============================] - 0s 256us/step - loss: 0.3328 - accuracy: 0.8620\n",
      "Epoch 72/100\n",
      "250/250 [==============================] - 0s 254us/step - loss: 0.3327 - accuracy: 0.8626\n",
      "Epoch 73/100\n",
      "250/250 [==============================] - 0s 259us/step - loss: 0.3329 - accuracy: 0.8620\n",
      "Epoch 74/100\n",
      "250/250 [==============================] - 0s 256us/step - loss: 0.3324 - accuracy: 0.8625\n",
      "Epoch 75/100\n",
      "250/250 [==============================] - 0s 256us/step - loss: 0.3326 - accuracy: 0.8610\n",
      "Epoch 76/100\n",
      "250/250 [==============================] - 0s 256us/step - loss: 0.3326 - accuracy: 0.8625\n",
      "Epoch 77/100\n",
      "250/250 [==============================] - 0s 273us/step - loss: 0.3323 - accuracy: 0.8620\n",
      "Epoch 78/100\n",
      "250/250 [==============================] - 0s 255us/step - loss: 0.3321 - accuracy: 0.8636\n",
      "Epoch 79/100\n"
     ]
    },
    {
     "name": "stdout",
     "output_type": "stream",
     "text": [
      "250/250 [==============================] - 0s 254us/step - loss: 0.3324 - accuracy: 0.8609\n",
      "Epoch 80/100\n",
      "250/250 [==============================] - 0s 250us/step - loss: 0.3317 - accuracy: 0.8616\n",
      "Epoch 81/100\n",
      "250/250 [==============================] - 0s 249us/step - loss: 0.3324 - accuracy: 0.8624\n",
      "Epoch 82/100\n",
      "250/250 [==============================] - 0s 250us/step - loss: 0.3319 - accuracy: 0.8609\n",
      "Epoch 83/100\n",
      "250/250 [==============================] - 0s 248us/step - loss: 0.3319 - accuracy: 0.8624\n",
      "Epoch 84/100\n",
      "250/250 [==============================] - 0s 267us/step - loss: 0.3322 - accuracy: 0.8612\n",
      "Epoch 85/100\n",
      "250/250 [==============================] - 0s 250us/step - loss: 0.3321 - accuracy: 0.8625\n",
      "Epoch 86/100\n",
      "250/250 [==============================] - 0s 248us/step - loss: 0.3324 - accuracy: 0.8611\n",
      "Epoch 87/100\n",
      "250/250 [==============================] - 0s 248us/step - loss: 0.3321 - accuracy: 0.8615\n",
      "Epoch 88/100\n",
      "250/250 [==============================] - 0s 247us/step - loss: 0.3319 - accuracy: 0.8620\n",
      "Epoch 89/100\n",
      "250/250 [==============================] - 0s 249us/step - loss: 0.3319 - accuracy: 0.8615\n",
      "Epoch 90/100\n",
      "250/250 [==============================] - 0s 245us/step - loss: 0.3316 - accuracy: 0.8621\n",
      "Epoch 91/100\n",
      "250/250 [==============================] - 0s 245us/step - loss: 0.3318 - accuracy: 0.8639\n",
      "Epoch 92/100\n",
      "250/250 [==============================] - 0s 248us/step - loss: 0.3317 - accuracy: 0.8631\n",
      "Epoch 93/100\n",
      "250/250 [==============================] - 0s 245us/step - loss: 0.3319 - accuracy: 0.8626\n",
      "Epoch 94/100\n",
      "250/250 [==============================] - 0s 248us/step - loss: 0.3316 - accuracy: 0.8614\n",
      "Epoch 95/100\n",
      "250/250 [==============================] - 0s 246us/step - loss: 0.3315 - accuracy: 0.8622\n",
      "Epoch 96/100\n",
      "250/250 [==============================] - 0s 245us/step - loss: 0.3323 - accuracy: 0.8624\n",
      "Epoch 97/100\n",
      "250/250 [==============================] - 0s 252us/step - loss: 0.3318 - accuracy: 0.8626\n",
      "Epoch 98/100\n",
      "250/250 [==============================] - 0s 256us/step - loss: 0.3319 - accuracy: 0.8620\n",
      "Epoch 99/100\n",
      "250/250 [==============================] - 0s 255us/step - loss: 0.3319 - accuracy: 0.8621\n",
      "Epoch 100/100\n",
      "250/250 [==============================] - 0s 257us/step - loss: 0.3317 - accuracy: 0.8619\n"
     ]
    },
    {
     "data": {
      "text/plain": [
       "<keras.src.callbacks.History at 0x1650bf9d0>"
      ]
     },
     "execution_count": 26,
     "metadata": {},
     "output_type": "execute_result"
    }
   ],
   "source": [
    "ann.fit(X_train,y_train, batch_size=32, epochs=100)"
   ]
  },
  {
   "cell_type": "code",
   "execution_count": 27,
   "id": "086d23de",
   "metadata": {},
   "outputs": [
    {
     "name": "stdout",
     "output_type": "stream",
     "text": [
      "1/1 [==============================] - 0s 81ms/step\n"
     ]
    },
    {
     "data": {
      "text/plain": [
       "array([[0.03592346]], dtype=float32)"
      ]
     },
     "execution_count": 27,
     "metadata": {},
     "output_type": "execute_result"
    }
   ],
   "source": [
    "ann.predict(sc.transform([[1,0,0,600,1,40,3,60000,2,1,1,50000]]))"
   ]
  },
  {
   "cell_type": "code",
   "execution_count": null,
   "id": "fb7c4248",
   "metadata": {},
   "outputs": [],
   "source": []
  }
 ],
 "metadata": {
  "kernelspec": {
   "display_name": "Python 3 (ipykernel)",
   "language": "python",
   "name": "python3"
  },
  "language_info": {
   "codemirror_mode": {
    "name": "ipython",
    "version": 3
   },
   "file_extension": ".py",
   "mimetype": "text/x-python",
   "name": "python",
   "nbconvert_exporter": "python",
   "pygments_lexer": "ipython3",
   "version": "3.11.4"
  }
 },
 "nbformat": 4,
 "nbformat_minor": 5
}
