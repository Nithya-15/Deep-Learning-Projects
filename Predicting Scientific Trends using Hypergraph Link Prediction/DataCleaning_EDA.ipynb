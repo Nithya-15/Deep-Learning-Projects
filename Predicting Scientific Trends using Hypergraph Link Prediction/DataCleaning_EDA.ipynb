{
 "cells": [
  {
   "cell_type": "code",
   "execution_count": 21,
   "id": "bf707d7b-0bf4-4087-9f66-10ad88e8af07",
   "metadata": {},
   "outputs": [],
   "source": [
    "import pandas as pd\n",
    "import numpy as np"
   ]
  },
  {
   "cell_type": "code",
   "execution_count": 23,
   "id": "3a25b57c",
   "metadata": {},
   "outputs": [],
   "source": [
    "df=pd.read_csv('Ethnic Studies.csv')"
   ]
  },
  {
   "cell_type": "code",
   "execution_count": 25,
   "id": "8ad13963",
   "metadata": {},
   "outputs": [
    {
     "data": {
      "text/html": [
       "<div>\n",
       "<style scoped>\n",
       "    .dataframe tbody tr th:only-of-type {\n",
       "        vertical-align: middle;\n",
       "    }\n",
       "\n",
       "    .dataframe tbody tr th {\n",
       "        vertical-align: top;\n",
       "    }\n",
       "\n",
       "    .dataframe thead th {\n",
       "        text-align: right;\n",
       "    }\n",
       "</style>\n",
       "<table border=\"1\" class=\"dataframe\">\n",
       "  <thead>\n",
       "    <tr style=\"text-align: right;\">\n",
       "      <th></th>\n",
       "      <th>paper_id</th>\n",
       "      <th>publication_year</th>\n",
       "      <th>concept</th>\n",
       "      <th>concept_no</th>\n",
       "      <th>npaper_ids_using_concept</th>\n",
       "    </tr>\n",
       "  </thead>\n",
       "  <tbody>\n",
       "    <tr>\n",
       "      <th>0</th>\n",
       "      <td>64201299</td>\n",
       "      <td>2016</td>\n",
       "      <td>wave</td>\n",
       "      <td>0</td>\n",
       "      <td>28</td>\n",
       "    </tr>\n",
       "    <tr>\n",
       "      <th>1</th>\n",
       "      <td>64205410</td>\n",
       "      <td>2016</td>\n",
       "      <td>understanding</td>\n",
       "      <td>0</td>\n",
       "      <td>395</td>\n",
       "    </tr>\n",
       "    <tr>\n",
       "      <th>2</th>\n",
       "      <td>64210651</td>\n",
       "      <td>2016</td>\n",
       "      <td>article</td>\n",
       "      <td>0</td>\n",
       "      <td>4260</td>\n",
       "    </tr>\n",
       "    <tr>\n",
       "      <th>3</th>\n",
       "      <td>64213293</td>\n",
       "      <td>2016</td>\n",
       "      <td>article</td>\n",
       "      <td>0</td>\n",
       "      <td>4260</td>\n",
       "    </tr>\n",
       "    <tr>\n",
       "      <th>4</th>\n",
       "      <td>64213556</td>\n",
       "      <td>2016</td>\n",
       "      <td>western europe</td>\n",
       "      <td>0</td>\n",
       "      <td>58</td>\n",
       "    </tr>\n",
       "  </tbody>\n",
       "</table>\n",
       "</div>"
      ],
      "text/plain": [
       "   paper_id  publication_year         concept  concept_no  \\\n",
       "0  64201299              2016            wave           0   \n",
       "1  64205410              2016   understanding           0   \n",
       "2  64210651              2016         article           0   \n",
       "3  64213293              2016         article           0   \n",
       "4  64213556              2016  western europe           0   \n",
       "\n",
       "   npaper_ids_using_concept  \n",
       "0                        28  \n",
       "1                       395  \n",
       "2                      4260  \n",
       "3                      4260  \n",
       "4                        58  "
      ]
     },
     "execution_count": 25,
     "metadata": {},
     "output_type": "execute_result"
    }
   ],
   "source": [
    "df.head()"
   ]
  },
  {
   "cell_type": "code",
   "execution_count": 27,
   "id": "535aea91",
   "metadata": {},
   "outputs": [
    {
     "name": "stdout",
     "output_type": "stream",
     "text": [
      "        paper_id  publication_year                         concept  \\\n",
      "0       21760570              1992                           datum   \n",
      "1       21760570              1992                     1980 census   \n",
      "2       21760570              1992             three major finding   \n",
      "3       21760570              1992                           study   \n",
      "4       21760570              1992  labor force participation rate   \n",
      "...          ...               ...                             ...   \n",
      "188320  64535555              2016                          health   \n",
      "188321  64535555              2016                          racism   \n",
      "188322  64535555              2016                            deep   \n",
      "188323  64535555              2016                          belief   \n",
      "188324  64535555              2016                        italians   \n",
      "\n",
      "        concept_no  npaper_ids_using_concept  \n",
      "0                0                       701  \n",
      "1                1                         2  \n",
      "2                2                         2  \n",
      "3                3                      2145  \n",
      "4                4                         2  \n",
      "...            ...                       ...  \n",
      "188320          31                       261  \n",
      "188321          33                       823  \n",
      "188322          34                         2  \n",
      "188323          35                       178  \n",
      "188324          37                        17  \n",
      "\n",
      "[188325 rows x 5 columns]\n"
     ]
    },
    {
     "name": "stderr",
     "output_type": "stream",
     "text": [
      "/var/folders/p0/jsszp6z14fd0nzh105t2v9fh0000gn/T/ipykernel_1401/2841253248.py:6: DeprecationWarning: DataFrameGroupBy.apply operated on the grouping columns. This behavior is deprecated, and in a future version of pandas the grouping columns will be excluded from the operation. Either pass `include_groups=False` to exclude the groupings or explicitly select the grouping columns after groupby to silence this warning.\n",
      "  df_unique_keywords = df.groupby('paper_id').apply(lambda x: x.drop_duplicates(subset=['concept'])).reset_index(drop=True)\n"
     ]
    }
   ],
   "source": [
    "import pandas as pd\n",
    "\n",
    "# Assuming df is your dataframe\n",
    "\n",
    "# Group by 'publication_id' and keep only unique 'concept' values\n",
    "df_unique_keywords = df.groupby('paper_id').apply(lambda x: x.drop_duplicates(subset=['concept'])).reset_index(drop=True)\n",
    "\n",
    "# Print the result\n",
    "print(df_unique_keywords)\n"
   ]
  },
  {
   "cell_type": "code",
   "execution_count": 28,
   "id": "7de07cd6",
   "metadata": {
    "scrolled": true
   },
   "outputs": [
    {
     "data": {
      "text/plain": [
       "7628"
      ]
     },
     "execution_count": 28,
     "metadata": {},
     "output_type": "execute_result"
    }
   ],
   "source": [
    "len(df_unique_keywords['paper_id'].unique())"
   ]
  },
  {
   "cell_type": "code",
   "execution_count": 31,
   "id": "6de4f7d9",
   "metadata": {},
   "outputs": [
    {
     "name": "stdout",
     "output_type": "stream",
     "text": [
      "                              word  frequency  percentage\n",
      "0                          article       3041    1.614762\n",
      "1                            study       1633    0.867118\n",
      "2                              who       1421    0.754547\n",
      "3                           result       1391    0.738617\n",
      "4                            paper       1338    0.710474\n",
      "...                            ...        ...         ...\n",
      "23136           suicide death rate          1    0.000531\n",
      "23137          ethnocentric policy          1    0.000531\n",
      "23138       transnational migrancy          1    0.000531\n",
      "23139                  early unhcr          1    0.000531\n",
      "23140  teacher training initiative          1    0.000531\n",
      "\n",
      "[23141 rows x 3 columns]\n"
     ]
    }
   ],
   "source": [
    "from collections import Counter\n",
    "word_list=df_unique_keywords['concept'].str.strip()\n",
    "word_freq=Counter(word_list)\n",
    "word_freq_df = pd.DataFrame(word_freq.items(), columns=['word', 'frequency'])\n",
    "# Sort the DataFrame by frequency in descending order\n",
    "word_freq_df = word_freq_df.sort_values(by='frequency', ascending=False).reset_index(drop=True)\n",
    "# Calculate the total frequency\n",
    "total_frequency = word_freq_df['frequency'].sum()\n",
    "\n",
    "# Add a new column for percentage frequency\n",
    "word_freq_df['percentage'] = (word_freq_df['frequency'] / total_frequency) * 100\n",
    "\n",
    "# Print the result\n",
    "print(word_freq_df)"
   ]
  },
  {
   "cell_type": "code",
   "execution_count": 33,
   "id": "69be748a",
   "metadata": {},
   "outputs": [],
   "source": [
    "import os\n",
    "word_freq_df.to_csv('word_frequency.csv', index=False)"
   ]
  },
  {
   "cell_type": "code",
   "execution_count": 35,
   "id": "00986f4c",
   "metadata": {},
   "outputs": [],
   "source": [
    "total_percentage = word_freq_df['percentage'].sum()"
   ]
  },
  {
   "cell_type": "code",
   "execution_count": 37,
   "id": "5f5e6fea",
   "metadata": {},
   "outputs": [
    {
     "data": {
      "text/plain": [
       "99.99999999999999"
      ]
     },
     "execution_count": 37,
     "metadata": {},
     "output_type": "execute_result"
    }
   ],
   "source": [
    "total_percentage"
   ]
  },
  {
   "cell_type": "code",
   "execution_count": 39,
   "id": "690db896",
   "metadata": {},
   "outputs": [
    {
     "name": "stdout",
     "output_type": "stream",
     "text": [
      "     frequency  word_count\n",
      "0            1        4669\n",
      "1            2        8374\n",
      "2            3        3072\n",
      "3            4        1578\n",
      "4            5        1029\n",
      "..         ...         ...\n",
      "269       1338           1\n",
      "270       1391           1\n",
      "271       1421           1\n",
      "272       1633           1\n",
      "273       3041           1\n",
      "\n",
      "[274 rows x 2 columns]\n"
     ]
    }
   ],
   "source": [
    "# Group by frequency and count the number of words with each frequency\n",
    "frequency_distribution = word_freq_df.groupby('frequency').size().reset_index(name='count')\n",
    "\n",
    "# Rename columns for clarity\n",
    "frequency_distribution.columns = ['frequency', 'word_count']\n",
    "\n",
    "# Sort by frequency in ascending order\n",
    "frequency_distribution = frequency_distribution.sort_values(by='frequency')\n",
    "\n",
    "# Print the result\n",
    "print(frequency_distribution)\n"
   ]
  },
  {
   "cell_type": "code",
   "execution_count": 41,
   "id": "a3311209",
   "metadata": {},
   "outputs": [],
   "source": [
    "frequency_distribution.to_csv('frequency_distribution.csv', index=False)"
   ]
  },
  {
   "cell_type": "code",
   "execution_count": 43,
   "id": "9d8ddc26",
   "metadata": {},
   "outputs": [
    {
     "name": "stdout",
     "output_type": "stream",
     "text": [
      "                              word  frequency  percentage  \\\n",
      "0                          article       3041    1.614762   \n",
      "1                            study       1633    0.867118   \n",
      "2                              who       1421    0.754547   \n",
      "3                           result       1391    0.738617   \n",
      "4                            paper       1338    0.710474   \n",
      "...                            ...        ...         ...   \n",
      "23136           suicide death rate          1    0.000531   \n",
      "23137          ethnocentric policy          1    0.000531   \n",
      "23138       transnational migrancy          1    0.000531   \n",
      "23139                  early unhcr          1    0.000531   \n",
      "23140  teacher training initiative          1    0.000531   \n",
      "\n",
      "                                        publication_year  \n",
      "0      [1992, 1992, 1992, 1992, 1992, 1992, 1992, 199...  \n",
      "1      [1992, 1992, 1992, 1992, 1992, 1992, 1992, 199...  \n",
      "2      [1992, 1992, 1992, 1992, 1992, 1992, 1993, 199...  \n",
      "3      [1992, 1992, 1992, 1992, 1992, 1992, 1992, 199...  \n",
      "4      [1992, 1993, 1993, 1994, 1994, 1994, 1994, 199...  \n",
      "...                                                  ...  \n",
      "23136                                             [2012]  \n",
      "23137                                             [1997]  \n",
      "23138                                             [2005]  \n",
      "23139                                             [2012]  \n",
      "23140                                             [2016]  \n",
      "\n",
      "[23141 rows x 4 columns]\n"
     ]
    }
   ],
   "source": [
    "# Group the dataframe by 'concept' (keyword) and aggregate the publication years\n",
    "keyword_years = df_unique_keywords.groupby('concept')['publication_year'].apply(list).reset_index()\n",
    "\n",
    "# Merge the frequency DataFrame with the publication years DataFrame\n",
    "word_freq_with_years = pd.merge(word_freq_df, keyword_years, left_on='word', right_on='concept', how='left')\n",
    "\n",
    "# Drop the redundant 'concept' column and keep 'word'\n",
    "word_freq_with_years = word_freq_with_years.drop(columns=['concept'])\n",
    "\n",
    "# Save the result with publication years\n",
    "word_freq_with_years.to_csv('word_frequency_with_years.csv', index=False)\n",
    "\n",
    "# Print the result\n",
    "print(word_freq_with_years)"
   ]
  },
  {
   "cell_type": "code",
   "execution_count": 45,
   "id": "f65adc69",
   "metadata": {},
   "outputs": [
    {
     "data": {
      "image/png": "[encoded data removed]",
      "text/plain": [
       "<Figure size 800x600 with 1 Axes>"
      ]
     },
     "metadata": {},
     "output_type": "display_data"
    }
   ],
   "source": [
    "import matplotlib.pyplot as plt\n",
    "import seaborn as sns\n",
    "\n",
    "# Assuming you already have the frequency_distribution DataFrame\n",
    "\n",
    "# Set the plot size\n",
    "plt.figure(figsize=(8, 6))\n",
    "\n",
    "# Create the box plot for the 'frequency' column\n",
    "sns.boxplot(x=frequency_distribution['frequency'])\n",
    "\n",
    "# Set the title and labels\n",
    "plt.title('Box Plot of Word Frequencies', fontsize=14)\n",
    "plt.xlabel('Frequency', fontsize=12)\n",
    "\n",
    "# Display the plot\n",
    "plt.show()\n",
    "\n"
   ]
  },
  {
   "cell_type": "code",
   "execution_count": 46,
   "id": "f7bce69e",
   "metadata": {},
   "outputs": [
    {
     "data": {
      "text/plain": [
       "count     274.000000\n",
       "mean      221.569343\n",
       "std       286.402961\n",
       "min         1.000000\n",
       "25%        69.250000\n",
       "50%       147.000000\n",
       "75%       274.750000\n",
       "max      3041.000000\n",
       "Name: frequency, dtype: float64"
      ]
     },
     "execution_count": 46,
     "metadata": {},
     "output_type": "execute_result"
    }
   ],
   "source": [
    "frequency_distribution['frequency'].describe()"
   ]
  },
  {
   "cell_type": "code",
   "execution_count": 47,
   "id": "698644f4",
   "metadata": {},
   "outputs": [
    {
     "name": "stdout",
     "output_type": "stream",
     "text": [
      "Outlier words and their frequencies:\n",
      "            word  frequency\n",
      "0        context        595\n",
      "1     experience        596\n",
      "2        process        604\n",
      "3          datum        625\n",
      "4           role        682\n",
      "5       research        700\n",
      "6   relationship        718\n",
      "7           race        767\n",
      "8       analysis        923\n",
      "9        finding        927\n",
      "10           way        943\n",
      "11         paper       1338\n",
      "12        result       1391\n",
      "13           who       1421\n",
      "14         study       1633\n",
      "15       article       3041\n"
     ]
    }
   ],
   "source": [
    "# Calculate Q1 (25th percentile) and Q3 (75th percentile)\n",
    "q1 = frequency_distribution['frequency'].quantile(0.25)\n",
    "q3 = frequency_distribution['frequency'].quantile(0.75)\n",
    "\n",
    "# Calculate the IQR (Interquartile Range)\n",
    "iqr = q3 - q1\n",
    "\n",
    "# Define the lower and upper bounds for outliers\n",
    "lower_bound = q1 - 1.5 * iqr\n",
    "upper_bound = q3 + 1.5 * iqr\n",
    "\n",
    "# Find outliers\n",
    "outliers = frequency_distribution[(frequency_distribution['frequency'] < lower_bound) | \n",
    "                                  (frequency_distribution['frequency'] > upper_bound)]\n",
    "\n",
    "# Merge to find the words corresponding to these outlier frequencies\n",
    "outlier_words = pd.merge(outliers, word_freq_df, left_on='frequency', right_on='frequency', how='left')\n",
    "\n",
    "# Print the words that are outliers along with their frequencies\n",
    "print(\"Outlier words and their frequencies:\")\n",
    "print(outlier_words[['word', 'frequency']])\n"
   ]
  },
  {
   "cell_type": "code",
   "execution_count": 48,
   "id": "3028f52a",
   "metadata": {},
   "outputs": [],
   "source": [
    "# Filter the words with frequency between 1 and 5\n",
    "filtered_words = word_freq_with_years[word_freq_with_years['frequency'].between(1, 5)]\n",
    "\n",
    "# Explode the 'publication_year' column so that each year gets its own row\n",
    "filtered_words = filtered_words.explode('publication_year')\n",
    "\n",
    "# Ensure that publication_year is numeric for comparison\n",
    "filtered_words['publication_year'] = filtered_words['publication_year'].astype(int)\n",
    "\n",
    "# Sort the DataFrame by 'word' and 'publication_year'\n",
    "filtered_words = filtered_words.sort_values(by=['word', 'publication_year'])\n"
   ]
  },
  {
   "cell_type": "code",
   "execution_count": 49,
   "id": "08e26e5d",
   "metadata": {},
   "outputs": [
    {
     "name": "stdout",
     "output_type": "stream",
     "text": [
      "Words appearing in consecutive years:\n",
      "                        word consecutive_years\n",
      "6             1 5 generation    [(2014, 2015)]\n",
      "14              1 perception    [(2012, 2013)]\n",
      "19           10th 11th grade    [(2014, 2015)]\n",
      "44                  18 month    [(2014, 2015)]\n",
      "46             18 to 25 year    [(2014, 2015)]\n",
      "...                      ...               ...\n",
      "18652        young black man    [(2014, 2015)]\n",
      "18657        young immigrant    [(2013, 2014)]\n",
      "18668  young people s agency    [(2015, 2016)]\n",
      "18695                youtube    [(2015, 2016)]\n",
      "18702           yugoslav war    [(2013, 2014)]\n",
      "\n",
      "[2068 rows x 2 columns]\n"
     ]
    },
    {
     "name": "stderr",
     "output_type": "stream",
     "text": [
      "/var/folders/p0/jsszp6z14fd0nzh105t2v9fh0000gn/T/ipykernel_1401/1710931012.py:14: DeprecationWarning: DataFrameGroupBy.apply operated on the grouping columns. This behavior is deprecated, and in a future version of pandas the grouping columns will be excluded from the operation. Either pass `include_groups=False` to exclude the groupings or explicitly select the grouping columns after groupby to silence this warning.\n",
      "  consecutive_words = filtered_words.groupby('word').apply(check_consecutive_years).reset_index()\n"
     ]
    }
   ],
   "source": [
    "# Define the consecutive year pairs we are interested in\n",
    "consecutive_year_pairs = [(2012, 2013), (2013, 2014), (2014, 2015), (2015, 2016)]\n",
    "\n",
    "# Function to check if a word appears in the consecutive year pairs\n",
    "def check_consecutive_years(group):\n",
    "    years = group['publication_year'].values\n",
    "    consecutive_years = []\n",
    "    for year_pair in consecutive_year_pairs:\n",
    "        if all(year in years for year in year_pair):\n",
    "            consecutive_years.append(year_pair)\n",
    "    return pd.Series({'consecutive_years': consecutive_years})\n",
    "\n",
    "# Apply the function to each word group\n",
    "consecutive_words = filtered_words.groupby('word').apply(check_consecutive_years).reset_index()\n",
    "\n",
    "# Filter out words with no consecutive years\n",
    "consecutive_words = consecutive_words[consecutive_words['consecutive_years'].apply(len) > 0]\n",
    "\n",
    "# Print the result\n",
    "print(\"Words appearing in consecutive years:\")\n",
    "print(consecutive_words[['word', 'consecutive_years']])\n"
   ]
  },
  {
   "cell_type": "code",
   "execution_count": 54,
   "id": "5f4f7249",
   "metadata": {},
   "outputs": [
    {
     "data": {
      "text/plain": [
       "2068"
      ]
     },
     "execution_count": 54,
     "metadata": {},
     "output_type": "execute_result"
    }
   ],
   "source": [
    "len(consecutive_words)"
   ]
  },
  {
   "cell_type": "code",
   "execution_count": 55,
   "id": "9f47bd6a",
   "metadata": {},
   "outputs": [
    {
     "data": {
      "text/html": [
       "<div>\n",
       "<style scoped>\n",
       "    .dataframe tbody tr th:only-of-type {\n",
       "        vertical-align: middle;\n",
       "    }\n",
       "\n",
       "    .dataframe tbody tr th {\n",
       "        vertical-align: top;\n",
       "    }\n",
       "\n",
       "    .dataframe thead th {\n",
       "        text-align: right;\n",
       "    }\n",
       "</style>\n",
       "<table border=\"1\" class=\"dataframe\">\n",
       "  <thead>\n",
       "    <tr style=\"text-align: right;\">\n",
       "      <th></th>\n",
       "      <th>word</th>\n",
       "      <th>consecutive_years</th>\n",
       "    </tr>\n",
       "  </thead>\n",
       "  <tbody>\n",
       "    <tr>\n",
       "      <th>6</th>\n",
       "      <td>1 5 generation</td>\n",
       "      <td>[(2014, 2015)]</td>\n",
       "    </tr>\n",
       "    <tr>\n",
       "      <th>14</th>\n",
       "      <td>1 perception</td>\n",
       "      <td>[(2012, 2013)]</td>\n",
       "    </tr>\n",
       "    <tr>\n",
       "      <th>19</th>\n",
       "      <td>10th 11th grade</td>\n",
       "      <td>[(2014, 2015)]</td>\n",
       "    </tr>\n",
       "    <tr>\n",
       "      <th>44</th>\n",
       "      <td>18 month</td>\n",
       "      <td>[(2014, 2015)]</td>\n",
       "    </tr>\n",
       "    <tr>\n",
       "      <th>46</th>\n",
       "      <td>18 to 25 year</td>\n",
       "      <td>[(2014, 2015)]</td>\n",
       "    </tr>\n",
       "    <tr>\n",
       "      <th>53</th>\n",
       "      <td>1951 refugee convention</td>\n",
       "      <td>[(2014, 2015)]</td>\n",
       "    </tr>\n",
       "    <tr>\n",
       "      <th>63</th>\n",
       "      <td>2 factor model</td>\n",
       "      <td>[(2015, 2016)]</td>\n",
       "    </tr>\n",
       "    <tr>\n",
       "      <th>65</th>\n",
       "      <td>2 group</td>\n",
       "      <td>[(2014, 2015), (2015, 2016)]</td>\n",
       "    </tr>\n",
       "    <tr>\n",
       "      <th>69</th>\n",
       "      <td>2 type</td>\n",
       "      <td>[(2015, 2016)]</td>\n",
       "    </tr>\n",
       "    <tr>\n",
       "      <th>76</th>\n",
       "      <td>20 year</td>\n",
       "      <td>[(2013, 2014)]</td>\n",
       "    </tr>\n",
       "    <tr>\n",
       "      <th>90</th>\n",
       "      <td>2008 election</td>\n",
       "      <td>[(2012, 2013)]</td>\n",
       "    </tr>\n",
       "    <tr>\n",
       "      <th>95</th>\n",
       "      <td>2011 census</td>\n",
       "      <td>[(2013, 2014)]</td>\n",
       "    </tr>\n",
       "    <tr>\n",
       "      <th>100</th>\n",
       "      <td>25 year</td>\n",
       "      <td>[(2015, 2016)]</td>\n",
       "    </tr>\n",
       "    <tr>\n",
       "      <th>113</th>\n",
       "      <td>3 year</td>\n",
       "      <td>[(2015, 2016)]</td>\n",
       "    </tr>\n",
       "    <tr>\n",
       "      <th>117</th>\n",
       "      <td>30 interview</td>\n",
       "      <td>[(2014, 2015), (2015, 2016)]</td>\n",
       "    </tr>\n",
       "    <tr>\n",
       "      <th>121</th>\n",
       "      <td>31 december</td>\n",
       "      <td>[(2014, 2015)]</td>\n",
       "    </tr>\n",
       "    <tr>\n",
       "      <th>125</th>\n",
       "      <td>4 focus group</td>\n",
       "      <td>[(2015, 2016)]</td>\n",
       "    </tr>\n",
       "    <tr>\n",
       "      <th>130</th>\n",
       "      <td>40 in depth interview</td>\n",
       "      <td>[(2012, 2013), (2013, 2014)]</td>\n",
       "    </tr>\n",
       "    <tr>\n",
       "      <th>131</th>\n",
       "      <td>40 interview</td>\n",
       "      <td>[(2013, 2014)]</td>\n",
       "    </tr>\n",
       "    <tr>\n",
       "      <th>174</th>\n",
       "      <td>abkhazia</td>\n",
       "      <td>[(2012, 2013)]</td>\n",
       "    </tr>\n",
       "  </tbody>\n",
       "</table>\n",
       "</div>"
      ],
      "text/plain": [
       "                        word             consecutive_years\n",
       "6             1 5 generation                [(2014, 2015)]\n",
       "14              1 perception                [(2012, 2013)]\n",
       "19           10th 11th grade                [(2014, 2015)]\n",
       "44                  18 month                [(2014, 2015)]\n",
       "46             18 to 25 year                [(2014, 2015)]\n",
       "53   1951 refugee convention                [(2014, 2015)]\n",
       "63            2 factor model                [(2015, 2016)]\n",
       "65                   2 group  [(2014, 2015), (2015, 2016)]\n",
       "69                    2 type                [(2015, 2016)]\n",
       "76                   20 year                [(2013, 2014)]\n",
       "90             2008 election                [(2012, 2013)]\n",
       "95               2011 census                [(2013, 2014)]\n",
       "100                  25 year                [(2015, 2016)]\n",
       "113                   3 year                [(2015, 2016)]\n",
       "117             30 interview  [(2014, 2015), (2015, 2016)]\n",
       "121              31 december                [(2014, 2015)]\n",
       "125            4 focus group                [(2015, 2016)]\n",
       "130    40 in depth interview  [(2012, 2013), (2013, 2014)]\n",
       "131             40 interview                [(2013, 2014)]\n",
       "174                 abkhazia                [(2012, 2013)]"
      ]
     },
     "execution_count": 55,
     "metadata": {},
     "output_type": "execute_result"
    }
   ],
   "source": [
    "consecutive_words.head(20)"
   ]
  },
  {
   "cell_type": "code",
   "execution_count": 56,
   "id": "8752bcec",
   "metadata": {},
   "outputs": [
    {
     "data": {
      "image/png": "[encoded data removed]",
      "text/plain": [
       "<Figure size 1000x600 with 1 Axes>"
      ]
     },
     "metadata": {},
     "output_type": "display_data"
    }
   ],
   "source": [
    "import matplotlib.pyplot as plt\n",
    "\n",
    "# Set the plot size\n",
    "plt.figure(figsize=(10, 6))\n",
    "\n",
    "# Plot the histogram with bins of size 100\n",
    "plt.hist(frequency_distribution['frequency'], bins=range(0, max(frequency_distribution['frequency']) + 100, 100), color='blue', edgecolor='black')\n",
    "\n",
    "# Set the title and labels\n",
    "plt.title('Histogram of Word Frequencies with 100-Range Bins', fontsize=16)\n",
    "plt.xlabel('Frequency of Words', fontsize=14)\n",
    "plt.ylabel('Word Count', fontsize=14)\n",
    "\n",
    "# Show the plot\n",
    "plt.show()\n"
   ]
  },
  {
   "cell_type": "code",
   "execution_count": 57,
   "id": "6e60b23d",
   "metadata": {},
   "outputs": [
    {
     "data": {
      "image/png": "[encoded data removed]",
      "text/plain": [
       "<Figure size 1000x600 with 1 Axes>"
      ]
     },
     "metadata": {},
     "output_type": "display_data"
    }
   ],
   "source": [
    "import matplotlib.pyplot as plt\n",
    "\n",
    "# Calculate Q1 (25th percentile) and Q3 (75th percentile)\n",
    "q1 = frequency_distribution['frequency'].quantile(0.25)\n",
    "q3 = frequency_distribution['frequency'].quantile(0.75)\n",
    "\n",
    "# Calculate the IQR (Interquartile Range)\n",
    "iqr = q3 - q1\n",
    "\n",
    "# Define the lower and upper bounds for outliers\n",
    "lower_bound = q1 - 1.5 * iqr\n",
    "upper_bound = q3 + 1.5 * iqr\n",
    "\n",
    "# Remove outliers from the frequency distribution\n",
    "filtered_data = frequency_distribution[(frequency_distribution['frequency'] >= lower_bound) & \n",
    "                                       (frequency_distribution['frequency'] <= upper_bound)]\n",
    "\n",
    "# Plot the histogram with bins of size 100 (without outliers)\n",
    "plt.figure(figsize=(10, 6))\n",
    "plt.hist(filtered_data['frequency'], bins=range(0, max(filtered_data['frequency']) + 100, 100), color='blue', edgecolor='black')\n",
    "\n",
    "# Set the title and labels\n",
    "plt.title('Histogram of Word Frequencies (Without Outliers)', fontsize=16)\n",
    "plt.xlabel('Frequency of Words', fontsize=14)\n",
    "plt.ylabel('Word Count', fontsize=14)\n",
    "\n",
    "# Show the plot\n",
    "plt.show()\n"
   ]
  },
  {
   "cell_type": "code",
   "execution_count": 94,
   "id": "708ee9b8-e26a-48a4-b4c9-f8270420eeff",
   "metadata": {},
   "outputs": [
    {
     "name": "stdout",
     "output_type": "stream",
     "text": [
      "Filtered frequency distribution saved as 'filtered_frequency_distribution.csv'.\n"
     ]
    }
   ],
   "source": [
    "# Save the filtered data (without outliers) to a CSV file\n",
    "filtered_data.to_csv('filtered_frequency_distribution.csv', index=False)\n",
    "\n",
    "print(\"Filtered frequency distribution saved as 'filtered_frequency_distribution.csv'.\")\n"
   ]
  },
  {
   "cell_type": "code",
   "execution_count": 96,
   "id": "393edf04-d13d-49c2-ba29-3ac92cd599d5",
   "metadata": {},
   "outputs": [
    {
     "name": "stdout",
     "output_type": "stream",
     "text": [
      "Filtered original DataFrame saved as 'filtered_word_frequency_with_all_columns.csv'.\n"
     ]
    }
   ],
   "source": [
    "# Remove outliers from the frequency distribution\n",
    "filtered_data = frequency_distribution[(frequency_distribution['frequency'] >= lower_bound) & \n",
    "                                       (frequency_distribution['frequency'] <= upper_bound)]\n",
    "\n",
    "# Get the words that are not outliers\n",
    "non_outlier_words = filtered_data['frequency'].index.tolist()  # Get the indices of non-outlier frequencies\n",
    "\n",
    "# Create a mask to filter the original DataFrame based on the non-outlier words\n",
    "mask = word_freq_df['frequency'].isin(filtered_data['frequency'])\n",
    "\n",
    "# Filter the original DataFrame to keep all columns for non-outlier words\n",
    "filtered_original_df = word_freq_df[mask]\n",
    "\n",
    "# Save the filtered original DataFrame (without outliers) to a CSV file\n",
    "filtered_original_df.to_csv('filtered_word_frequency_with_all_columns.csv', index=False)\n",
    "\n",
    "print(\"Filtered original DataFrame saved as 'filtered_word_frequency_with_all_columns.csv'.\")\n"
   ]
  },
  {
   "cell_type": "code",
   "execution_count": 107,
   "id": "bdc0f6f6-27fb-478f-8517-b2437c4650be",
   "metadata": {},
   "outputs": [
    {
     "name": "stdout",
     "output_type": "stream",
     "text": [
      "                              word  frequency\n",
      "14                      experience        596\n",
      "15                         context        595\n",
      "16                           group        571\n",
      "17                      difference        566\n",
      "18                          people        566\n",
      "...                            ...        ...\n",
      "23136           suicide death rate          1\n",
      "23137          ethnocentric policy          1\n",
      "23138       transnational migrancy          1\n",
      "23139                  early unhcr          1\n",
      "23140  teacher training initiative          1\n",
      "\n",
      "[22730 rows x 2 columns]\n",
      "Cleaned word frequency data saved as 'word_frequency_without_stopwords_length_less_than_4_frequency_over_600_no_percentage.csv'.\n"
     ]
    },
    {
     "name": "stderr",
     "output_type": "stream",
     "text": [
      "[nltk_data] Downloading package stopwords to\n",
      "[nltk_data]     /Users/chandutholeti/nltk_data...\n",
      "[nltk_data]   Package stopwords is already up-to-date!\n"
     ]
    }
   ],
   "source": [
    "import pandas as pd\n",
    "import nltk\n",
    "from nltk.corpus import stopwords\n",
    "\n",
    "# Make sure to download the stopwords list if you haven't already\n",
    "nltk.download('stopwords')\n",
    "\n",
    "# Load the stop words in English\n",
    "stop_words = set(stopwords.words('english'))\n",
    "\n",
    "# Create a function to remove stop words, words with length less than 4, and frequency greater than 600\n",
    "def remove_unwanted_words(df):\n",
    "    # Filter out stop words, words with length less than 4, and frequency > 600\n",
    "    df_filtered = df[\n",
    "        ~df['word'].isin(stop_words) & \n",
    "        (df['word'].str.len() >= 4) &  # Keep words of length 4 or more\n",
    "        (df['frequency'] <= 600)\n",
    "    ]\n",
    "    \n",
    "    # Drop the 'percentage' column\n",
    "    df_filtered = df_filtered.drop(columns=['percentage'], errors='ignore')\n",
    "    \n",
    "    return df_filtered\n",
    "\n",
    "# Assuming your DataFrame is named 'word_freq_df'\n",
    "word_freq_df_cleaned = remove_unwanted_words(word_freq_df)\n",
    "\n",
    "# Print the cleaned DataFrame\n",
    "print(word_freq_df_cleaned)\n",
    "\n",
    "# Save the cleaned DataFrame to a CSV file\n",
    "word_freq_df_cleaned.to_csv('word_frequency_without_stopwords_length_less_than_4_frequency_over_600_no_percentage.csv', index=False)\n",
    "\n",
    "print(\"Cleaned word frequency data saved as 'word_frequency_without_stopwords_length_less_than_4_frequency_over_600_no_percentage.csv'.\")\n"
   ]
  },
  {
   "cell_type": "code",
   "execution_count": null,
   "id": "7c6d802e-e2f2-41f1-8b04-aa77eb8954e6",
   "metadata": {},
   "outputs": [],
   "source": [
    "import pandas as pd\n",
    "\n",
    "# Sample data: replace this with your actual DataFrame\n",
    "data = {\n",
    "    'paper_id': [1, 2, 3],\n",
    "    'keywords': [\n",
    "        ['keyword1', 'keyword2', 'keyword3'],\n",
    "        ['keyword2', 'keyword4'],\n",
    "        ['keyword1', 'keyword3', 'keyword5']\n",
    "    ]\n",
    "}\n",
    "\n",
    "df = pd.DataFrame(data)\n",
    "\n",
    "# Create a set of unique keywords\n",
    "unique_keywords = set()\n",
    "for keywords in df['keywords']:\n",
    "    unique_keywords.update(keywords)\n",
    "\n",
    "# Create an incidence matrix\n",
    "incidence_matrix = pd.DataFrame(0, index=unique_keywords, columns=df['paper_id'])\n",
    "\n",
    "# Fill the incidence matrix\n",
    "for index, row in df.iterrows():\n",
    "    for keyword in row['keywords']:\n",
    "        incidence_matrix.loc[keyword, row['paper_id']] = 1\n",
    "\n",
    "# Display the incidence matrix\n",
    "print(incidence_matrix)\n"
   ]
  }
 ],
 "metadata": {
  "kernelspec": {
   "display_name": "Python 3 (ipykernel)",
   "language": "python",
   "name": "python3"
  },
  "language_info": {
   "codemirror_mode": {
    "name": "ipython",
    "version": 3
   },
   "file_extension": ".py",
   "mimetype": "text/x-python",
   "name": "python",
   "nbconvert_exporter": "python",
   "pygments_lexer": "ipython3",
   "version": "3.12.2"
  }
 },
 "nbformat": 4,
 "nbformat_minor": 5
}
