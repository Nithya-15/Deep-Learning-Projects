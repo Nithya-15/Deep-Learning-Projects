{
  "nbformat": 4,
  "nbformat_minor": 0,
  "metadata": {
    "colab": {
      "provenance": []
    },
    "kernelspec": {
      "name": "python3",
      "display_name": "Python 3"
    },
    "language_info": {
      "name": "python"
    }
  },
  "cells": [
    {
      "cell_type": "code",
      "execution_count": null,
      "metadata": {
        "id": "oTTphR71aC35",
        "colab": {
          "base_uri": "https://localhost:8080/"
        },
        "outputId": "ee148d7d-3a25-4545-e619-886f8edd50f7"
      },
      "outputs": [
        {
          "output_type": "stream",
          "name": "stdout",
          "text": [
            "Requirement already satisfied: pydantic in /usr/local/lib/python3.10/dist-packages (2.9.2)\n",
            "Requirement already satisfied: annotated-types>=0.6.0 in /usr/local/lib/python3.10/dist-packages (from pydantic) (0.7.0)\n",
            "Requirement already satisfied: pydantic-core==2.23.4 in /usr/local/lib/python3.10/dist-packages (from pydantic) (2.23.4)\n",
            "Requirement already satisfied: typing-extensions>=4.6.1 in /usr/local/lib/python3.10/dist-packages (from pydantic) (4.12.2)\n",
            "Requirement already satisfied: PyYAML in /usr/local/lib/python3.10/dist-packages (6.0.2)\n",
            "Requirement already satisfied: numpy==1.26.4 in /usr/local/lib/python3.10/dist-packages (1.26.4)\n",
            "Collecting torch==2.1.2\n",
            "  Downloading torch-2.1.2-cp310-cp310-manylinux1_x86_64.whl.metadata (25 kB)\n",
            "Collecting torchvision==0.16.2\n",
            "  Downloading torchvision-0.16.2-cp310-cp310-manylinux1_x86_64.whl.metadata (6.6 kB)\n",
            "Collecting torchaudio==2.1.2\n",
            "  Downloading torchaudio-2.1.2-cp310-cp310-manylinux1_x86_64.whl.metadata (6.4 kB)\n",
            "Requirement already satisfied: filelock in /usr/local/lib/python3.10/dist-packages (from torch==2.1.2) (3.16.1)\n",
            "Requirement already satisfied: typing-extensions in /usr/local/lib/python3.10/dist-packages (from torch==2.1.2) (4.12.2)\n",
            "Requirement already satisfied: sympy in /usr/local/lib/python3.10/dist-packages (from torch==2.1.2) (1.13.1)\n",
            "Requirement already satisfied: networkx in /usr/local/lib/python3.10/dist-packages (from torch==2.1.2) (3.4.2)\n",
            "Requirement already satisfied: jinja2 in /usr/local/lib/python3.10/dist-packages (from torch==2.1.2) (3.1.4)\n",
            "Requirement already satisfied: fsspec in /usr/local/lib/python3.10/dist-packages (from torch==2.1.2) (2024.10.0)\n",
            "Collecting nvidia-cuda-nvrtc-cu12==12.1.105 (from torch==2.1.2)\n",
            "  Downloading nvidia_cuda_nvrtc_cu12-12.1.105-py3-none-manylinux1_x86_64.whl.metadata (1.5 kB)\n",
            "Collecting nvidia-cuda-runtime-cu12==12.1.105 (from torch==2.1.2)\n",
            "  Downloading nvidia_cuda_runtime_cu12-12.1.105-py3-none-manylinux1_x86_64.whl.metadata (1.5 kB)\n",
            "Collecting nvidia-cuda-cupti-cu12==12.1.105 (from torch==2.1.2)\n",
            "  Downloading nvidia_cuda_cupti_cu12-12.1.105-py3-none-manylinux1_x86_64.whl.metadata (1.6 kB)\n",
            "Collecting nvidia-cudnn-cu12==8.9.2.26 (from torch==2.1.2)\n",
            "  Downloading nvidia_cudnn_cu12-8.9.2.26-py3-none-manylinux1_x86_64.whl.metadata (1.6 kB)\n",
            "Collecting nvidia-cublas-cu12==12.1.3.1 (from torch==2.1.2)\n",
            "  Downloading nvidia_cublas_cu12-12.1.3.1-py3-none-manylinux1_x86_64.whl.metadata (1.5 kB)\n",
            "Collecting nvidia-cufft-cu12==11.0.2.54 (from torch==2.1.2)\n",
            "  Downloading nvidia_cufft_cu12-11.0.2.54-py3-none-manylinux1_x86_64.whl.metadata (1.5 kB)\n",
            "Collecting nvidia-curand-cu12==10.3.2.106 (from torch==2.1.2)\n",
            "  Downloading nvidia_curand_cu12-10.3.2.106-py3-none-manylinux1_x86_64.whl.metadata (1.5 kB)\n",
            "Collecting nvidia-cusolver-cu12==11.4.5.107 (from torch==2.1.2)\n",
            "  Downloading nvidia_cusolver_cu12-11.4.5.107-py3-none-manylinux1_x86_64.whl.metadata (1.6 kB)\n",
            "Collecting nvidia-cusparse-cu12==12.1.0.106 (from torch==2.1.2)\n",
            "  Downloading nvidia_cusparse_cu12-12.1.0.106-py3-none-manylinux1_x86_64.whl.metadata (1.6 kB)\n",
            "Collecting nvidia-nccl-cu12==2.18.1 (from torch==2.1.2)\n",
            "  Downloading nvidia_nccl_cu12-2.18.1-py3-none-manylinux1_x86_64.whl.metadata (1.8 kB)\n",
            "Collecting nvidia-nvtx-cu12==12.1.105 (from torch==2.1.2)\n",
            "  Downloading nvidia_nvtx_cu12-12.1.105-py3-none-manylinux1_x86_64.whl.metadata (1.7 kB)\n",
            "Collecting triton==2.1.0 (from torch==2.1.2)\n",
            "  Downloading triton-2.1.0-0-cp310-cp310-manylinux2014_x86_64.manylinux_2_17_x86_64.whl.metadata (1.3 kB)\n",
            "Requirement already satisfied: numpy in /usr/local/lib/python3.10/dist-packages (from torchvision==0.16.2) (1.26.4)\n",
            "Requirement already satisfied: requests in /usr/local/lib/python3.10/dist-packages (from torchvision==0.16.2) (2.32.3)\n",
            "Requirement already satisfied: pillow!=8.3.*,>=5.3.0 in /usr/local/lib/python3.10/dist-packages (from torchvision==0.16.2) (11.0.0)\n",
            "Requirement already satisfied: nvidia-nvjitlink-cu12 in /usr/local/lib/python3.10/dist-packages (from nvidia-cusolver-cu12==11.4.5.107->torch==2.1.2) (12.6.77)\n",
            "Requirement already satisfied: MarkupSafe>=2.0 in /usr/local/lib/python3.10/dist-packages (from jinja2->torch==2.1.2) (3.0.2)\n",
            "Requirement already satisfied: charset-normalizer<4,>=2 in /usr/local/lib/python3.10/dist-packages (from requests->torchvision==0.16.2) (3.4.0)\n",
            "Requirement already satisfied: idna<4,>=2.5 in /usr/local/lib/python3.10/dist-packages (from requests->torchvision==0.16.2) (3.10)\n",
            "Requirement already satisfied: urllib3<3,>=1.21.1 in /usr/local/lib/python3.10/dist-packages (from requests->torchvision==0.16.2) (2.2.3)\n",
            "Requirement already satisfied: certifi>=2017.4.17 in /usr/local/lib/python3.10/dist-packages (from requests->torchvision==0.16.2) (2024.8.30)\n",
            "Requirement already satisfied: mpmath<1.4,>=1.1.0 in /usr/local/lib/python3.10/dist-packages (from sympy->torch==2.1.2) (1.3.0)\n",
            "Downloading torch-2.1.2-cp310-cp310-manylinux1_x86_64.whl (670.2 MB)\n",
            "\u001b[2K   \u001b[90m━━━━━━━━━━━━━━━━━━━━━━━━━━━━━━━━━━━━━━━━\u001b[0m \u001b[32m670.2/670.2 MB\u001b[0m \u001b[31m2.7 MB/s\u001b[0m eta \u001b[36m0:00:00\u001b[0m\n",
            "\u001b[?25hDownloading torchvision-0.16.2-cp310-cp310-manylinux1_x86_64.whl (6.8 MB)\n",
            "\u001b[2K   \u001b[90m━━━━━━━━━━━━━━━━━━━━━━━━━━━━━━━━━━━━━━━━\u001b[0m \u001b[32m6.8/6.8 MB\u001b[0m \u001b[31m46.0 MB/s\u001b[0m eta \u001b[36m0:00:00\u001b[0m\n",
            "\u001b[?25hDownloading torchaudio-2.1.2-cp310-cp310-manylinux1_x86_64.whl (3.3 MB)\n",
            "\u001b[2K   \u001b[90m━━━━━━━━━━━━━━━━━━━━━━━━━━━━━━━━━━━━━━━━\u001b[0m \u001b[32m3.3/3.3 MB\u001b[0m \u001b[31m35.3 MB/s\u001b[0m eta \u001b[36m0:00:00\u001b[0m\n",
            "\u001b[?25hDownloading nvidia_cublas_cu12-12.1.3.1-py3-none-manylinux1_x86_64.whl (410.6 MB)\n",
            "\u001b[2K   \u001b[91m━━━━━━━━━━━━━━━━━━━━━━━\u001b[0m\u001b[91m╸\u001b[0m\u001b[90m━━━━━━━━━━━━━━━━\u001b[0m \u001b[32m242.9/410.6 MB\u001b[0m \u001b[31m9.7 MB/s\u001b[0m eta \u001b[36m0:00:18\u001b[0m\n",
            "\u001b[?25hDownloading nvidia_cuda_cupti_cu12-12.1.105-py3-none-manylinux1_x86_64.whl (14.1 MB)\n",
            "\u001b[2K   \u001b[90m━━━━━━━━━━━━━━━━━━━━━━━━━━━━━━━━━━━━━━━━\u001b[0m \u001b[32m14.1/14.1 MB\u001b[0m \u001b[31m76.5 MB/s\u001b[0m eta \u001b[36m0:00:00\u001b[0m\n",
            "\u001b[?25hDownloading nvidia_cuda_nvrtc_cu12-12.1.105-py3-none-manylinux1_x86_64.whl (23.7 MB)\n",
            "\u001b[2K   \u001b[90m━━━━━━━━━━━━━━━━━━━━━━━━━━━━━━━━━━━━━━━━\u001b[0m \u001b[32m23.7/23.7 MB\u001b[0m \u001b[31m57.5 MB/s\u001b[0m eta \u001b[36m0:00:00\u001b[0m\n",
            "\u001b[?25hDownloading nvidia_cuda_runtime_cu12-12.1.105-py3-none-manylinux1_x86_64.whl (823 kB)\n",
            "\u001b[2K   \u001b[90m━━━━━━━━━━━━━━━━━━━━━━━━━━━━━━━━━━━━━━━━\u001b[0m \u001b[32m823.6/823.6 kB\u001b[0m \u001b[31m43.7 MB/s\u001b[0m eta \u001b[36m0:00:00\u001b[0m\n",
            "\u001b[?25hDownloading nvidia_cudnn_cu12-8.9.2.26-py3-none-manylinux1_x86_64.whl (731.7 MB)\n",
            "\u001b[2K   \u001b[90m━━━━━━━━━━━━━━━━━━━━━━━━━━━━━━━━━━━━━━━━\u001b[0m \u001b[32m731.7/731.7 MB\u001b[0m \u001b[31m2.5 MB/s\u001b[0m eta \u001b[36m0:00:00\u001b[0m\n",
            "\u001b[?25hDownloading nvidia_cufft_cu12-11.0.2.54-py3-none-manylinux1_x86_64.whl (121.6 MB)\n",
            "\u001b[2K   \u001b[90m━━━━━━━━━━━━━━━━━━━━━━━━━━━━━━━━━━━━━━━━\u001b[0m \u001b[32m121.6/121.6 MB\u001b[0m \u001b[31m7.8 MB/s\u001b[0m eta \u001b[36m0:00:00\u001b[0m\n",
            "\u001b[?25hDownloading nvidia_curand_cu12-10.3.2.106-py3-none-manylinux1_x86_64.whl (56.5 MB)\n",
            "\u001b[2K   \u001b[90m━━━━━━━━━━━━━━━━━━━━━━━━━━━━━━━━━━━━━━━━\u001b[0m \u001b[32m56.5/56.5 MB\u001b[0m \u001b[31m12.4 MB/s\u001b[0m eta \u001b[36m0:00:00\u001b[0m\n",
            "\u001b[?25hDownloading nvidia_cusolver_cu12-11.4.5.107-py3-none-manylinux1_x86_64.whl (124.2 MB)\n",
            "\u001b[2K   \u001b[90m━━━━━━━━━━━━━━━━━━━━━━━━━━━━━━━━━━━━━━━━\u001b[0m \u001b[32m124.2/124.2 MB\u001b[0m \u001b[31m7.4 MB/s\u001b[0m eta \u001b[36m0:00:00\u001b[0m\n",
            "\u001b[?25hDownloading nvidia_cusparse_cu12-12.1.0.106-py3-none-manylinux1_x86_64.whl (196.0 MB)\n",
            "\u001b[2K   \u001b[90m━━━━━━━━━━━━━━━━━━━━━━━━━━━━━━━━━━━━━━━━\u001b[0m \u001b[32m196.0/196.0 MB\u001b[0m \u001b[31m6.7 MB/s\u001b[0m eta \u001b[36m0:00:00\u001b[0m\n",
            "\u001b[?25hDownloading nvidia_nccl_cu12-2.18.1-py3-none-manylinux1_x86_64.whl (209.8 MB)\n",
            "\u001b[2K   \u001b[90m━━━━━━━━━━━━━━━━━━━━━━━━━━━━━━━━━━━━━━━━\u001b[0m \u001b[32m209.8/209.8 MB\u001b[0m \u001b[31m5.7 MB/s\u001b[0m eta \u001b[36m0:00:00\u001b[0m\n",
            "\u001b[?25hDownloading nvidia_nvtx_cu12-12.1.105-py3-none-manylinux1_x86_64.whl (99 kB)\n",
            "\u001b[2K   \u001b[90m━━━━━━━━━━━━━━━━━━━━━━━━━━━━━━━━━━━━━━━━\u001b[0m \u001b[32m99.1/99.1 kB\u001b[0m \u001b[31m7.0 MB/s\u001b[0m eta \u001b[36m0:00:00\u001b[0m\n",
            "\u001b[?25hDownloading triton-2.1.0-0-cp310-cp310-manylinux2014_x86_64.manylinux_2_17_x86_64.whl (89.2 MB)\n",
            "\u001b[2K   \u001b[90m━━━━━━━━━━━━━━━━━━━━━━━━━━━━━━━━━━━━━━━━\u001b[0m \u001b[32m89.2/89.2 MB\u001b[0m \u001b[31m7.6 MB/s\u001b[0m eta \u001b[36m0:00:00\u001b[0m\n",
            "\u001b[?25h\u001b[31mERROR: THESE PACKAGES DO NOT MATCH THE HASHES FROM THE REQUIREMENTS FILE. If you have updated the package versions, please update the hashes. Otherwise, examine the package contents carefully; someone may have tampered with them.\n",
            "    unknown package:\n",
            "        Expected sha256 ee53ccca76a6fc08fb9701aa95b6ceb242cdaab118c3bb152af4e579af792728\n",
            "             Got        3d1b4f86de440cbd058882648fd29d23a8c4dada446cc626691d5bfeb5b23b78\n",
            "\u001b[0m\u001b[31m\n",
            "\u001b[0m"
          ]
        }
      ],
      "source": [
        "! pip install pydantic\n",
        "! pip install PyYAML\n",
        "! pip install numpy==1.26.4\n",
        "! pip install torch==2.1.2 torchvision==0.16.2 torchaudio==2.1.2"
      ]
    },
    {
      "cell_type": "code",
      "source": [
        "! pip install --no-cache-dir dgl -f https://data.dgl.ai/wheels/repo.html"
      ],
      "metadata": {
        "id": "Uy2oRprraW10",
        "colab": {
          "base_uri": "https://localhost:8080/"
        },
        "outputId": "143843ba-828a-4120-d5b7-8c855c52f2dc"
      },
      "execution_count": null,
      "outputs": [
        {
          "output_type": "stream",
          "name": "stdout",
          "text": [
            "Looking in links: https://data.dgl.ai/wheels/repo.html\n",
            "Collecting dgl\n",
            "  Downloading dgl-2.1.0-cp310-cp310-manylinux1_x86_64.whl.metadata (553 bytes)\n",
            "Requirement already satisfied: numpy>=1.14.0 in /usr/local/lib/python3.10/dist-packages (from dgl) (1.26.4)\n",
            "Requirement already satisfied: scipy>=1.1.0 in /usr/local/lib/python3.10/dist-packages (from dgl) (1.13.1)\n",
            "Requirement already satisfied: networkx>=2.1 in /usr/local/lib/python3.10/dist-packages (from dgl) (3.4.2)\n",
            "Requirement already satisfied: requests>=2.19.0 in /usr/local/lib/python3.10/dist-packages (from dgl) (2.32.3)\n",
            "Requirement already satisfied: tqdm in /usr/local/lib/python3.10/dist-packages (from dgl) (4.66.6)\n",
            "Requirement already satisfied: psutil>=5.8.0 in /usr/local/lib/python3.10/dist-packages (from dgl) (5.9.5)\n",
            "Collecting torchdata>=0.5.0 (from dgl)\n",
            "  Downloading torchdata-0.9.0-cp310-cp310-manylinux1_x86_64.whl.metadata (5.5 kB)\n",
            "Requirement already satisfied: charset-normalizer<4,>=2 in /usr/local/lib/python3.10/dist-packages (from requests>=2.19.0->dgl) (3.4.0)\n",
            "Requirement already satisfied: idna<4,>=2.5 in /usr/local/lib/python3.10/dist-packages (from requests>=2.19.0->dgl) (3.10)\n",
            "Requirement already satisfied: urllib3<3,>=1.21.1 in /usr/local/lib/python3.10/dist-packages (from requests>=2.19.0->dgl) (2.2.3)\n",
            "Requirement already satisfied: certifi>=2017.4.17 in /usr/local/lib/python3.10/dist-packages (from requests>=2.19.0->dgl) (2024.8.30)\n",
            "Requirement already satisfied: torch>=2 in /usr/local/lib/python3.10/dist-packages (from torchdata>=0.5.0->dgl) (2.5.1+cu121)\n",
            "Requirement already satisfied: filelock in /usr/local/lib/python3.10/dist-packages (from torch>=2->torchdata>=0.5.0->dgl) (3.16.1)\n",
            "Requirement already satisfied: typing-extensions>=4.8.0 in /usr/local/lib/python3.10/dist-packages (from torch>=2->torchdata>=0.5.0->dgl) (4.12.2)\n",
            "Requirement already satisfied: jinja2 in /usr/local/lib/python3.10/dist-packages (from torch>=2->torchdata>=0.5.0->dgl) (3.1.4)\n",
            "Requirement already satisfied: fsspec in /usr/local/lib/python3.10/dist-packages (from torch>=2->torchdata>=0.5.0->dgl) (2024.10.0)\n",
            "Requirement already satisfied: sympy==1.13.1 in /usr/local/lib/python3.10/dist-packages (from torch>=2->torchdata>=0.5.0->dgl) (1.13.1)\n",
            "Requirement already satisfied: mpmath<1.4,>=1.1.0 in /usr/local/lib/python3.10/dist-packages (from sympy==1.13.1->torch>=2->torchdata>=0.5.0->dgl) (1.3.0)\n",
            "Requirement already satisfied: MarkupSafe>=2.0 in /usr/local/lib/python3.10/dist-packages (from jinja2->torch>=2->torchdata>=0.5.0->dgl) (3.0.2)\n",
            "Downloading dgl-2.1.0-cp310-cp310-manylinux1_x86_64.whl (8.5 MB)\n",
            "\u001b[2K   \u001b[90m━━━━━━━━━━━━━━━━━━━━━━━━━━━━━━━━━━━━━━━━\u001b[0m \u001b[32m8.5/8.5 MB\u001b[0m \u001b[31m65.3 MB/s\u001b[0m eta \u001b[36m0:00:00\u001b[0m\n",
            "\u001b[?25hDownloading torchdata-0.9.0-cp310-cp310-manylinux1_x86_64.whl (2.7 MB)\n",
            "\u001b[2K   \u001b[90m━━━━━━━━━━━━━━━━━━━━━━━━━━━━━━━━━━━━━━━━\u001b[0m \u001b[32m2.7/2.7 MB\u001b[0m \u001b[31m103.4 MB/s\u001b[0m eta \u001b[36m0:00:00\u001b[0m\n",
            "\u001b[?25hInstalling collected packages: torchdata, dgl\n",
            "Successfully installed dgl-2.1.0 torchdata-0.9.0\n"
          ]
        }
      ]
    },
    {
      "cell_type": "code",
      "source": [
        "!pip install dill"
      ],
      "metadata": {
        "id": "_kW3ufzYao1i",
        "colab": {
          "base_uri": "https://localhost:8080/"
        },
        "outputId": "16580ec7-23c6-4194-9b6b-7b6ae1594187"
      },
      "execution_count": null,
      "outputs": [
        {
          "output_type": "stream",
          "name": "stdout",
          "text": [
            "Collecting dill\n",
            "  Downloading dill-0.3.9-py3-none-any.whl.metadata (10 kB)\n",
            "Downloading dill-0.3.9-py3-none-any.whl (119 kB)\n",
            "\u001b[?25l   \u001b[90m━━━━━━━━━━━━━━━━━━━━━━━━━━━━━━━━━━━━━━━━\u001b[0m \u001b[32m0.0/119.4 kB\u001b[0m \u001b[31m?\u001b[0m eta \u001b[36m-:--:--\u001b[0m\r\u001b[2K   \u001b[90m━━━━━━━━━━━━━━━━━━━━━━━━━━━━━━━━━━━━━━━━\u001b[0m \u001b[32m119.4/119.4 kB\u001b[0m \u001b[31m8.2 MB/s\u001b[0m eta \u001b[36m0:00:00\u001b[0m\n",
            "\u001b[?25hInstalling collected packages: dill\n",
            "Successfully installed dill-0.3.9\n"
          ]
        }
      ]
    },
    {
      "cell_type": "code",
      "source": [
        "!pip install torchdata==0.6.0"
      ],
      "metadata": {
        "id": "XkYQSYxdasI2",
        "colab": {
          "base_uri": "https://localhost:8080/",
          "height": 1000
        },
        "outputId": "f952f81c-dbe1-4088-ae15-f7b13b9a1f33"
      },
      "execution_count": null,
      "outputs": [
        {
          "output_type": "stream",
          "name": "stdout",
          "text": [
            "Collecting torchdata==0.6.0\n",
            "  Downloading torchdata-0.6.0-cp310-cp310-manylinux_2_17_x86_64.manylinux2014_x86_64.whl.metadata (919 bytes)\n",
            "Requirement already satisfied: urllib3>=1.25 in /usr/local/lib/python3.10/dist-packages (from torchdata==0.6.0) (2.2.3)\n",
            "Requirement already satisfied: requests in /usr/local/lib/python3.10/dist-packages (from torchdata==0.6.0) (2.32.3)\n",
            "Collecting torch==2.0.0 (from torchdata==0.6.0)\n",
            "  Downloading torch-2.0.0-cp310-cp310-manylinux1_x86_64.whl.metadata (24 kB)\n",
            "Requirement already satisfied: filelock in /usr/local/lib/python3.10/dist-packages (from torch==2.0.0->torchdata==0.6.0) (3.16.1)\n",
            "Requirement already satisfied: typing-extensions in /usr/local/lib/python3.10/dist-packages (from torch==2.0.0->torchdata==0.6.0) (4.12.2)\n",
            "Requirement already satisfied: sympy in /usr/local/lib/python3.10/dist-packages (from torch==2.0.0->torchdata==0.6.0) (1.13.1)\n",
            "Requirement already satisfied: networkx in /usr/local/lib/python3.10/dist-packages (from torch==2.0.0->torchdata==0.6.0) (3.4.2)\n",
            "Requirement already satisfied: jinja2 in /usr/local/lib/python3.10/dist-packages (from torch==2.0.0->torchdata==0.6.0) (3.1.4)\n",
            "Collecting nvidia-cuda-nvrtc-cu11==11.7.99 (from torch==2.0.0->torchdata==0.6.0)\n",
            "  Downloading nvidia_cuda_nvrtc_cu11-11.7.99-2-py3-none-manylinux1_x86_64.whl.metadata (1.5 kB)\n",
            "Collecting nvidia-cuda-runtime-cu11==11.7.99 (from torch==2.0.0->torchdata==0.6.0)\n",
            "  Downloading nvidia_cuda_runtime_cu11-11.7.99-py3-none-manylinux1_x86_64.whl.metadata (1.6 kB)\n",
            "Collecting nvidia-cuda-cupti-cu11==11.7.101 (from torch==2.0.0->torchdata==0.6.0)\n",
            "  Downloading nvidia_cuda_cupti_cu11-11.7.101-py3-none-manylinux1_x86_64.whl.metadata (1.6 kB)\n",
            "Collecting nvidia-cudnn-cu11==8.5.0.96 (from torch==2.0.0->torchdata==0.6.0)\n",
            "  Downloading nvidia_cudnn_cu11-8.5.0.96-2-py3-none-manylinux1_x86_64.whl.metadata (1.6 kB)\n",
            "Collecting nvidia-cublas-cu11==11.10.3.66 (from torch==2.0.0->torchdata==0.6.0)\n",
            "  Downloading nvidia_cublas_cu11-11.10.3.66-py3-none-manylinux1_x86_64.whl.metadata (1.6 kB)\n",
            "Collecting nvidia-cufft-cu11==10.9.0.58 (from torch==2.0.0->torchdata==0.6.0)\n",
            "  Downloading nvidia_cufft_cu11-10.9.0.58-py3-none-manylinux2014_x86_64.whl.metadata (1.5 kB)\n",
            "Collecting nvidia-curand-cu11==10.2.10.91 (from torch==2.0.0->torchdata==0.6.0)\n",
            "  Downloading nvidia_curand_cu11-10.2.10.91-py3-none-manylinux1_x86_64.whl.metadata (1.6 kB)\n",
            "Collecting nvidia-cusolver-cu11==11.4.0.1 (from torch==2.0.0->torchdata==0.6.0)\n",
            "  Downloading nvidia_cusolver_cu11-11.4.0.1-2-py3-none-manylinux1_x86_64.whl.metadata (1.6 kB)\n",
            "Collecting nvidia-cusparse-cu11==11.7.4.91 (from torch==2.0.0->torchdata==0.6.0)\n",
            "  Downloading nvidia_cusparse_cu11-11.7.4.91-py3-none-manylinux1_x86_64.whl.metadata (1.6 kB)\n",
            "Collecting nvidia-nccl-cu11==2.14.3 (from torch==2.0.0->torchdata==0.6.0)\n",
            "  Downloading nvidia_nccl_cu11-2.14.3-py3-none-manylinux1_x86_64.whl.metadata (1.8 kB)\n",
            "Collecting nvidia-nvtx-cu11==11.7.91 (from torch==2.0.0->torchdata==0.6.0)\n",
            "  Downloading nvidia_nvtx_cu11-11.7.91-py3-none-manylinux1_x86_64.whl.metadata (1.7 kB)\n",
            "Collecting triton==2.0.0 (from torch==2.0.0->torchdata==0.6.0)\n",
            "  Downloading triton-2.0.0-1-cp310-cp310-manylinux2014_x86_64.manylinux_2_17_x86_64.whl.metadata (1.0 kB)\n",
            "Requirement already satisfied: setuptools in /usr/local/lib/python3.10/dist-packages (from nvidia-cublas-cu11==11.10.3.66->torch==2.0.0->torchdata==0.6.0) (75.1.0)\n",
            "Requirement already satisfied: wheel in /usr/local/lib/python3.10/dist-packages (from nvidia-cublas-cu11==11.10.3.66->torch==2.0.0->torchdata==0.6.0) (0.45.0)\n",
            "Requirement already satisfied: cmake in /usr/local/lib/python3.10/dist-packages (from triton==2.0.0->torch==2.0.0->torchdata==0.6.0) (3.30.5)\n",
            "Collecting lit (from triton==2.0.0->torch==2.0.0->torchdata==0.6.0)\n",
            "  Downloading lit-18.1.8-py3-none-any.whl.metadata (2.5 kB)\n",
            "Requirement already satisfied: charset-normalizer<4,>=2 in /usr/local/lib/python3.10/dist-packages (from requests->torchdata==0.6.0) (3.4.0)\n",
            "Requirement already satisfied: idna<4,>=2.5 in /usr/local/lib/python3.10/dist-packages (from requests->torchdata==0.6.0) (3.10)\n",
            "Requirement already satisfied: certifi>=2017.4.17 in /usr/local/lib/python3.10/dist-packages (from requests->torchdata==0.6.0) (2024.8.30)\n",
            "Requirement already satisfied: MarkupSafe>=2.0 in /usr/local/lib/python3.10/dist-packages (from jinja2->torch==2.0.0->torchdata==0.6.0) (3.0.2)\n",
            "Requirement already satisfied: mpmath<1.4,>=1.1.0 in /usr/local/lib/python3.10/dist-packages (from sympy->torch==2.0.0->torchdata==0.6.0) (1.3.0)\n",
            "Downloading torchdata-0.6.0-cp310-cp310-manylinux_2_17_x86_64.manylinux2014_x86_64.whl (4.6 MB)\n",
            "\u001b[2K   \u001b[90m━━━━━━━━━━━━━━━━━━━━━━━━━━━━━━━━━━━━━━━━\u001b[0m \u001b[32m4.6/4.6 MB\u001b[0m \u001b[31m59.6 MB/s\u001b[0m eta \u001b[36m0:00:00\u001b[0m\n",
            "\u001b[?25hDownloading torch-2.0.0-cp310-cp310-manylinux1_x86_64.whl (619.9 MB)\n",
            "\u001b[2K   \u001b[90m━━━━━━━━━━━━━━━━━━━━━━━━━━━━━━━━━━━━━━━━\u001b[0m \u001b[32m619.9/619.9 MB\u001b[0m \u001b[31m2.9 MB/s\u001b[0m eta \u001b[36m0:00:00\u001b[0m\n",
            "\u001b[?25hDownloading nvidia_cublas_cu11-11.10.3.66-py3-none-manylinux1_x86_64.whl (317.1 MB)\n",
            "\u001b[2K   \u001b[90m━━━━━━━━━━━━━━━━━━━━━━━━━━━━━━━━━━━━━━━━\u001b[0m \u001b[32m317.1/317.1 MB\u001b[0m \u001b[31m3.7 MB/s\u001b[0m eta \u001b[36m0:00:00\u001b[0m\n",
            "\u001b[?25hDownloading nvidia_cuda_cupti_cu11-11.7.101-py3-none-manylinux1_x86_64.whl (11.8 MB)\n",
            "\u001b[2K   \u001b[90m━━━━━━━━━━━━━━━━━━━━━━━━━━━━━━━━━━━━━━━━\u001b[0m \u001b[32m11.8/11.8 MB\u001b[0m \u001b[31m65.8 MB/s\u001b[0m eta \u001b[36m0:00:00\u001b[0m\n",
            "\u001b[?25hDownloading nvidia_cuda_nvrtc_cu11-11.7.99-2-py3-none-manylinux1_x86_64.whl (21.0 MB)\n",
            "\u001b[2K   \u001b[90m━━━━━━━━━━━━━━━━━━━━━━━━━━━━━━━━━━━━━━━━\u001b[0m \u001b[32m21.0/21.0 MB\u001b[0m \u001b[31m53.9 MB/s\u001b[0m eta \u001b[36m0:00:00\u001b[0m\n",
            "\u001b[?25hDownloading nvidia_cuda_runtime_cu11-11.7.99-py3-none-manylinux1_x86_64.whl (849 kB)\n",
            "\u001b[2K   \u001b[90m━━━━━━━━━━━━━━━━━━━━━━━━━━━━━━━━━━━━━━━━\u001b[0m \u001b[32m849.3/849.3 kB\u001b[0m \u001b[31m42.1 MB/s\u001b[0m eta \u001b[36m0:00:00\u001b[0m\n",
            "\u001b[?25hDownloading nvidia_cudnn_cu11-8.5.0.96-2-py3-none-manylinux1_x86_64.whl (557.1 MB)\n",
            "\u001b[2K   \u001b[90m━━━━━━━━━━━━━━━━━━━━━━━━━━━━━━━━━━━━━━━━\u001b[0m \u001b[32m557.1/557.1 MB\u001b[0m \u001b[31m3.1 MB/s\u001b[0m eta \u001b[36m0:00:00\u001b[0m\n",
            "\u001b[?25hDownloading nvidia_cufft_cu11-10.9.0.58-py3-none-manylinux2014_x86_64.whl (168.4 MB)\n",
            "\u001b[2K   \u001b[90m━━━━━━━━━━━━━━━━━━━━━━━━━━━━━━━━━━━━━━━━\u001b[0m \u001b[32m168.4/168.4 MB\u001b[0m \u001b[31m6.6 MB/s\u001b[0m eta \u001b[36m0:00:00\u001b[0m\n",
            "\u001b[?25hDownloading nvidia_curand_cu11-10.2.10.91-py3-none-manylinux1_x86_64.whl (54.6 MB)\n",
            "\u001b[2K   \u001b[90m━━━━━━━━━━━━━━━━━━━━━━━━━━━━━━━━━━━━━━━━\u001b[0m \u001b[32m54.6/54.6 MB\u001b[0m \u001b[31m10.4 MB/s\u001b[0m eta \u001b[36m0:00:00\u001b[0m\n",
            "\u001b[?25hDownloading nvidia_cusolver_cu11-11.4.0.1-2-py3-none-manylinux1_x86_64.whl (102.6 MB)\n",
            "\u001b[2K   \u001b[90m━━━━━━━━━━━━━━━━━━━━━━━━━━━━━━━━━━━━━━━━\u001b[0m \u001b[32m102.6/102.6 MB\u001b[0m \u001b[31m9.4 MB/s\u001b[0m eta \u001b[36m0:00:00\u001b[0m\n",
            "\u001b[?25hDownloading nvidia_cusparse_cu11-11.7.4.91-py3-none-manylinux1_x86_64.whl (173.2 MB)\n",
            "\u001b[2K   \u001b[90m━━━━━━━━━━━━━━━━━━━━━━━━━━━━━━━━━━━━━━━━\u001b[0m \u001b[32m173.2/173.2 MB\u001b[0m \u001b[31m6.9 MB/s\u001b[0m eta \u001b[36m0:00:00\u001b[0m\n",
            "\u001b[?25hDownloading nvidia_nccl_cu11-2.14.3-py3-none-manylinux1_x86_64.whl (177.1 MB)\n",
            "\u001b[2K   \u001b[90m━━━━━━━━━━━━━━━━━━━━━━━━━━━━━━━━━━━━━━━━\u001b[0m \u001b[32m177.1/177.1 MB\u001b[0m \u001b[31m6.9 MB/s\u001b[0m eta \u001b[36m0:00:00\u001b[0m\n",
            "\u001b[?25hDownloading nvidia_nvtx_cu11-11.7.91-py3-none-manylinux1_x86_64.whl (98 kB)\n",
            "\u001b[2K   \u001b[90m━━━━━━━━━━━━━━━━━━━━━━━━━━━━━━━━━━━━━━━━\u001b[0m \u001b[32m98.6/98.6 kB\u001b[0m \u001b[31m9.2 MB/s\u001b[0m eta \u001b[36m0:00:00\u001b[0m\n",
            "\u001b[?25hDownloading triton-2.0.0-1-cp310-cp310-manylinux2014_x86_64.manylinux_2_17_x86_64.whl (63.3 MB)\n",
            "\u001b[2K   \u001b[90m━━━━━━━━━━━━━━━━━━━━━━━━━━━━━━━━━━━━━━━━\u001b[0m \u001b[32m63.3/63.3 MB\u001b[0m \u001b[31m11.6 MB/s\u001b[0m eta \u001b[36m0:00:00\u001b[0m\n",
            "\u001b[?25hDownloading lit-18.1.8-py3-none-any.whl (96 kB)\n",
            "\u001b[2K   \u001b[90m━━━━━━━━━━━━━━━━━━━━━━━━━━━━━━━━━━━━━━━━\u001b[0m \u001b[32m96.4/96.4 kB\u001b[0m \u001b[31m8.7 MB/s\u001b[0m eta \u001b[36m0:00:00\u001b[0m\n",
            "\u001b[?25hInstalling collected packages: lit, nvidia-nvtx-cu11, nvidia-nccl-cu11, nvidia-cusparse-cu11, nvidia-curand-cu11, nvidia-cufft-cu11, nvidia-cuda-runtime-cu11, nvidia-cuda-nvrtc-cu11, nvidia-cuda-cupti-cu11, nvidia-cublas-cu11, nvidia-cusolver-cu11, nvidia-cudnn-cu11, triton, torch, torchdata\n",
            "  Attempting uninstall: torch\n",
            "    Found existing installation: torch 2.5.1+cu121\n",
            "    Uninstalling torch-2.5.1+cu121:\n",
            "      Successfully uninstalled torch-2.5.1+cu121\n",
            "  Attempting uninstall: torchdata\n",
            "    Found existing installation: torchdata 0.9.0\n",
            "    Uninstalling torchdata-0.9.0:\n",
            "      Successfully uninstalled torchdata-0.9.0\n",
            "\u001b[31mERROR: pip's dependency resolver does not currently take into account all the packages that are installed. This behaviour is the source of the following dependency conflicts.\n",
            "torchaudio 2.5.1+cu121 requires torch==2.5.1, but you have torch 2.0.0 which is incompatible.\n",
            "torchvision 0.20.1+cu121 requires torch==2.5.1, but you have torch 2.0.0 which is incompatible.\u001b[0m\u001b[31m\n",
            "\u001b[0mSuccessfully installed lit-18.1.8 nvidia-cublas-cu11-11.10.3.66 nvidia-cuda-cupti-cu11-11.7.101 nvidia-cuda-nvrtc-cu11-11.7.99 nvidia-cuda-runtime-cu11-11.7.99 nvidia-cudnn-cu11-8.5.0.96 nvidia-cufft-cu11-10.9.0.58 nvidia-curand-cu11-10.2.10.91 nvidia-cusolver-cu11-11.4.0.1 nvidia-cusparse-cu11-11.7.4.91 nvidia-nccl-cu11-2.14.3 nvidia-nvtx-cu11-11.7.91 torch-2.0.0 torchdata-0.6.0 triton-2.0.0\n"
          ]
        },
        {
          "output_type": "display_data",
          "data": {
            "application/vnd.colab-display-data+json": {
              "pip_warning": {
                "packages": [
                  "torch",
                  "torchgen"
                ]
              },
              "id": "4acac202106d4cd49b8d66fa319273af"
            }
          },
          "metadata": {}
        }
      ]
    },
    {
      "cell_type": "code",
      "source": [
        "import pandas as pd\n",
        "import torch\n",
        "import torch\n",
        "import torch.nn as nn\n",
        "import torch.nn.functional as F\n",
        "import tqdm\n",
        "import random\n",
        "from gensim.models import Word2Vec"
      ],
      "metadata": {
        "id": "BsmkRJHZcwdQ"
      },
      "execution_count": null,
      "outputs": []
    },
    {
      "cell_type": "code",
      "source": [
        "# Load dataset\n",
        "import pandas as pd\n",
        "df=pd.read_excel('/content/drive/MyDrive/Graph_Research/filtered_dataset.xlsx')"
      ],
      "metadata": {
        "id": "ykZoENxbc4x0"
      },
      "execution_count": null,
      "outputs": []
    },
    {
      "cell_type": "code",
      "source": [
        "len(df['concept'].unique())"
      ],
      "metadata": {
        "colab": {
          "base_uri": "https://localhost:8080/"
        },
        "id": "Qyvf-aY8QYmI",
        "outputId": "632f638c-0a9d-4345-971d-4e63b232e9d0"
      },
      "execution_count": null,
      "outputs": [
        {
          "output_type": "execute_result",
          "data": {
            "text/plain": [
              "5362"
            ]
          },
          "metadata": {},
          "execution_count": 3
        }
      ]
    },
    {
      "cell_type": "code",
      "source": [
        "import pandas as pd\n",
        "from gensim.models import Word2Vec\n",
        "from itertools import chain\n",
        "# Group paper_ids by concept (hyperedges)\n",
        "concept_groups = df.groupby('paper_id')['concept'].apply(list)\n",
        "\n",
        "# Prepare corpus for Word2Vec (list of lists of paper_ids for each concept)\n",
        "corpus = list(concept_groups)\n",
        "\n",
        "# Train Word2Vec to get embeddings based on co-occurrences within concepts\n",
        "model = Word2Vec(corpus, vector_size=50, window=5, min_count=1, sg=1)\n",
        "\n",
        "# Example: Getting embedding for a specific paper_id\n",
        "embedding = model.wv['predominantly white institution']  # Convert paper_id to string if needed\n",
        "print(\"Embedding for paper_id 64201299:\", embedding)\n"
      ],
      "metadata": {
        "colab": {
          "base_uri": "https://localhost:8080/"
        },
        "id": "Lka05jjGlsHi",
        "outputId": "ff3020af-ad3d-4df0-91c7-a0b8f0bff2d0"
      },
      "execution_count": null,
      "outputs": [
        {
          "output_type": "stream",
          "name": "stdout",
          "text": [
            "Embedding for paper_id 64201299: [-0.01490124 -0.00257968  0.01942483 -0.00533011 -0.00554046  0.00262952\n",
            "  0.01355196 -0.00707919  0.00525558 -0.00800375 -0.00422704  0.01537495\n",
            " -0.01391258 -0.00753967  0.01204673  0.00877196  0.01657084  0.01940312\n",
            "  0.01341131  0.00649441  0.00322468 -0.00562699 -0.01771103 -0.01322765\n",
            " -0.00788921  0.00730999 -0.00619664 -0.01344254  0.01475953 -0.00408009\n",
            "  0.01302156  0.01731868  0.01880399  0.0066581   0.01192933  0.00116519\n",
            " -0.00143794  0.00950324  0.01020341 -0.00499975 -0.01209614 -0.01621446\n",
            " -0.01966629  0.00428392  0.01285138  0.01574135  0.017305   -0.0112708\n",
            "  0.01721796 -0.01228983]\n"
          ]
        }
      ]
    },
    {
      "cell_type": "markdown",
      "source": [
        "## **DeepWalk**"
      ],
      "metadata": {
        "id": "aNVyvWncJFFd"
      }
    },
    {
      "cell_type": "code",
      "source": [
        "from collections import defaultdict\n",
        "paper_to_concepts = defaultdict(list)"
      ],
      "metadata": {
        "id": "ILCx4JiJqzBL"
      },
      "execution_count": null,
      "outputs": []
    },
    {
      "cell_type": "code",
      "source": [
        "paper_to_concepts"
      ],
      "metadata": {
        "colab": {
          "base_uri": "https://localhost:8080/"
        },
        "id": "NXUWJ0K3q65d",
        "outputId": "fd72914a-8166-4410-ab0e-93e574b86232"
      },
      "execution_count": null,
      "outputs": [
        {
          "output_type": "execute_result",
          "data": {
            "text/plain": [
              "defaultdict(list, {})"
            ]
          },
          "metadata": {},
          "execution_count": 105
        }
      ]
    },
    {
      "cell_type": "code",
      "source": [
        "def TraverseAndSelect(length, num_walks, hyperedges, vertexMemberships, alpha=1., beta=0):\n",
        "    walksTAS = []\n",
        "    for hyperedge_index in hyperedges:\n",
        "        hyperedge = hyperedges[hyperedge_index]\n",
        "        walk_hyperedge = []\n",
        "        for _ in range(num_walks):\n",
        "            curr_vertex = random.choice(hyperedge[\"members\"])  # Start with a random concept in the paper\n",
        "            initial = True\n",
        "            curr_hyperedge_num = hyperedge_index  # Starting with the current paper (hyperedge)\n",
        "            curr_hyperedge = hyperedge\n",
        "            for i in range(length):\n",
        "                proba = (float(alpha) / len(vertexMemberships[curr_vertex])) + beta  # Transition probability\n",
        "                if random.random() < proba:  # With probability, select a random adjacent concept\n",
        "                    adjacent_vertices = curr_hyperedge[\"members\"]\n",
        "                    curr_vertex = random.choice(adjacent_vertices)  # Move to a random adjacent concept\n",
        "                walk_hyperedge.append(str(curr_hyperedge_num))  # Log the paper (hyperedge)\n",
        "\n",
        "                adjacent_hyperedges = vertexMemberships[curr_vertex]  # Find adjacent papers (hyperedges)\n",
        "                curr_hyperedge_num = random.choice(adjacent_hyperedges)  # Move to a random adjacent paper\n",
        "                curr_hyperedge = hyperedges[curr_hyperedge_num]  # Update current hyperedge\n",
        "            walksTAS.append(walk_hyperedge)\n",
        "\n",
        "    return walksTAS\n"
      ],
      "metadata": {
        "id": "fTDXmyXdAt8F"
      },
      "execution_count": null,
      "outputs": []
    },
    {
      "cell_type": "code",
      "source": [
        "def SubsampleAndTraverse(length, num_walks, hyperedges, vertexMemberships, alpha=1., beta=0):\n",
        "    walksSAT = []\n",
        "    for hyperedge_index in hyperedges:\n",
        "        hyperedge = hyperedges[hyperedge_index]\n",
        "        walk_vertex = []\n",
        "        curr_vertex = random.choice(hyperedge[\"members\"])\n",
        "        for _ in range(num_walks):\n",
        "            initial=True\n",
        "            hyperedge_num = hyperedge_index\n",
        "            curr_hyperedge = hyperedge\n",
        "            for i in range(length):\n",
        "                proba = (float(alpha)/len(curr_hyperedge[\"members\"])) + beta\n",
        "                if random.random()<proba:\n",
        "                    adjacent_hyperedges = vertexMemberships[curr_vertex]\n",
        "                    hyperedge_num = random.choice(adjacent_hyperedges)\n",
        "                    curr_hyperedge = hyperedges[hyperedge_num]\n",
        "                walk_vertex.append(str(curr_vertex))\n",
        "                curr_vertex = random.choice(curr_hyperedge[\"members\"])\n",
        "            walksSAT.append(walk_vertex)\n",
        "    return walksSAT"
      ],
      "metadata": {
        "id": "qZ5dQtq0JgYt"
      },
      "execution_count": null,
      "outputs": []
    },
    {
      "cell_type": "code",
      "source": [
        "import time as time\n",
        "def EmbedWord2Vec(walks,dimension):\n",
        "    time_start = time.time()\n",
        "    print(\"Creating embeddings.\")\n",
        "    model = Word2Vec(walks, vector_size=dimension, window=5, min_count=0, sg=1, workers=32)\n",
        "    node_ids = model.wv.index_to_key\n",
        "    node_embeddings = model.wv.vectors\n",
        "    print(\"Embedding generation runtime: \", time.time()-time_start)\n",
        "    return node_ids, node_embeddings"
      ],
      "metadata": {
        "id": "LjtOBeh8BE9t"
      },
      "execution_count": null,
      "outputs": []
    },
    {
      "cell_type": "code",
      "source": [
        "walksSAT = SubsampleAndTraverse(length=25,\n",
        "                                   num_walks=25,\n",
        "                                   hyperedges=hyperedges,\n",
        "                                   vertexMemberships=vertexMemberships,\n",
        "                                   alpha=1.,\n",
        "                                   beta=0)"
      ],
      "metadata": {
        "id": "2MDUhRqRJ-z9"
      },
      "execution_count": null,
      "outputs": []
    },
    {
      "cell_type": "code",
      "source": [
        "walksTAS = TraverseAndSelect(length=25,\n",
        "                               num_walks=25,\n",
        "                               hyperedges=hyperedges,\n",
        "                               vertexMemberships=vertexMemberships,\n",
        "                               alpha=1.,\n",
        "                               beta=0)"
      ],
      "metadata": {
        "id": "XY1tM7VRA6Rh"
      },
      "execution_count": null,
      "outputs": []
    },
    {
      "cell_type": "code",
      "source": [
        "datadir = '/content/drive/MyDrive/Graph_Research'"
      ],
      "metadata": {
        "id": "tu-dJpicOGwi"
      },
      "execution_count": null,
      "outputs": []
    },
    {
      "cell_type": "code",
      "source": [
        "import pickle\n",
        "with open(datadir+'/walksSAT.p', 'wb') as fp:\n",
        "    pickle.dump(walksSAT, fp)\n",
        "\n",
        "with open(datadir+'/walksTAS.p', 'wb') as fp:\n",
        "    pickle.dump(walksTAS, fp)"
      ],
      "metadata": {
        "id": "5VYtozIIN_nC"
      },
      "execution_count": null,
      "outputs": []
    },
    {
      "cell_type": "code",
      "source": [
        "model\n",
        "node_ids = model.wv.index_to_key\n",
        "node_embeddings = model.wv.vectors"
      ],
      "metadata": {
        "id": "1HEDuVA8o4tF"
      },
      "execution_count": null,
      "outputs": []
    },
    {
      "cell_type": "code",
      "source": [
        "vertex_embedding_dimension = 16\n",
        "hyperedge_embedding_dimension = 128\n",
        "max_groupsize = 169\n",
        "\n",
        "vertex_ids, vertex_embeddings = EmbedWord2Vec(walks=walksSAT,dimension=vertex_embedding_dimension)\n",
        "print(\"Vertex embeddings finished.\")\n",
        "print(len(vertex_embeddings))\n",
        "vertex_data = {\n",
        "    \"ids\": vertex_ids,\n",
        "    \"embeddings\": vertex_embeddings\n",
        "}\n",
        "with open(datadir+'/vertex_embeddings3_'+str(max_groupsize)+'.p', 'wb') as fp:\n",
        "    pickle.dump(vertex_data, fp)\n",
        "\n",
        "# Save vertex embeddings with corresponding vertex IDs\n",
        "\n",
        "\n"
      ],
      "metadata": {
        "id": "SoMMGZ67BNXE"
      },
      "execution_count": null,
      "outputs": []
    },
    {
      "cell_type": "code",
      "source": [
        "import pickle\n",
        "datadir = '/content/drive/MyDrive/Graph_Research'\n",
        "with open(datadir+'/vertex_embeddings3_'+str(max_groupsize)+'.p', 'wb') as fp:\n",
        "    pickle.dump(vertex_data, fp)"
      ],
      "metadata": {
        "id": "XostAFFg4XsH"
      },
      "execution_count": null,
      "outputs": []
    },
    {
      "cell_type": "code",
      "source": [
        "with open(datadir+'/vertex_embeddings_'+str(max_groupsize)+'.p', 'wb') as fp:\n",
        "    pickle.dump(vertex_data, fp)\n",
        "hyperedge_ids, hyperedge_embeddings = EmbedWord2Vec(walks=walksTAS,dimension=hyperedge_embedding_dimension)\n",
        "print(\"Hyperedge embeddings finished.\")\n",
        "print(len(hyperedge_embeddings))\n",
        "with open(datadir+'/hyperedge_embeddings_'+str(max_groupsize)+'.p', 'wb') as fp:\n",
        "    pickle.dump(hyperedge_embeddings, fp)"
      ],
      "metadata": {
        "id": "LPKTdqN_o07U"
      },
      "execution_count": null,
      "outputs": []
    },
    {
      "cell_type": "code",
      "source": [
        "# Save vertex embeddings with corresponding vertex IDs\n",
        "vertex_data = {\n",
        "    \"ids\": node_ids,\n",
        "    \"embeddings\": node_embeddings\n",
        "}\n",
        "\n",
        "with open(datadir+'/vertex_embeddings_'+str(max_groupsize)+'.p', 'wb') as fp:\n",
        "    pickle.dump(vertex_data, fp)"
      ],
      "metadata": {
        "id": "bYryNAiBjuv2"
      },
      "execution_count": null,
      "outputs": []
    },
    {
      "cell_type": "code",
      "source": [
        "import pickle\n",
        "\n",
        "# Load the vertex embeddings from the file\n",
        "with open(datadir + '/vertex_embeddings_' + str(max_groupsize) + '.p', 'rb') as fp:\n",
        "    vertex_data = pickle.load(fp)\n",
        "\n",
        "# Extract IDs and embeddings from the loaded data\n",
        "node_ids = vertex_data[\"ids\"]\n",
        "node_embeddings = vertex_data[\"embeddings\"]\n",
        "\n"
      ],
      "metadata": {
        "id": "27D7uImDphs7"
      },
      "execution_count": null,
      "outputs": []
    },
    {
      "cell_type": "code",
      "source": [
        "print(node_ids)"
      ],
      "metadata": {
        "colab": {
          "base_uri": "https://localhost:8080/"
        },
        "id": "wGKLRkA-pmHb",
        "outputId": "80a6e878-91d8-400b-865d-d0f7099bdd23"
      },
      "execution_count": null,
      "outputs": [
        {
          "output_type": "stream",
          "name": "stdout",
          "text": [
            "['objective', 'essay', 'united states', 'purpose', 'ethnicity', 'author', 'present study', 'concept', 'effect', 'experience', 'immigrant', 'recent year', 'impact', 'literature', 'scholar', 'racism', 'migration', 'immigration', 'people', 'europe', 'number', 'nationalism', 'question', 'background', 'history', 'difference', 'work', 'refugee', 'context', 'association', 'development', 'relation', 'child', 'time', 'identity', 'britain', 'integration', 'multiculturalism', 'issue', 'current study', 'migrant', 'extent', 'importance', 'notion', 'special issue', 'qualitative study', 'response', 'african americans', 'woman', 'introduction', 'debate', 'group', 'asian americans', 'scholarship', 'state', 'culture', 'place', 'transnationalism', 'term', 'understanding', 'influence', 'previous research', 'attitude', 'idea', 'politic', 'problem', 'rise', 'national identity', 'practice', 'country', 'discussion', 'ethnic minority', 'france', 'case', 'theory', 'case study', 'discrimination', 'individual', 'part', 'discourse', 'pattern', 'formation', 'construction', 'representation', 'education', 'claim', 'interview', 'life', 'narrative', 'challenge', 'muslims', 'last decade', 'meaning', 'diaspora', 'contribution', 'city', 'form', 'gender', 'nation', 'member', 'policy', 'need', 'australia', 'change', 'perception', 'diversity', 'focus', 'asylum seeker', 'islam', 'critical race theory', 'religion', 'emergence', 'immigrant integration', 'health', 'nature', 'ethnic identity', 'international migration', 'whiteness', 'community', 'level', 'student', 'attention', 'growth', 'netherlands', 'risk', 'italy', 'field', 'past decade', 'tension', 'european union', 'origin', 'concern', 'survey', 'violence', 'china', 'transformation', 'determinant', 'review', 'population', 'researcher', 'conflict', 'link', 'topic', 'canada', 'south africa', 'order', 'interaction', 'increase number', 'depression', 'evolution', 'consequence', 'israel', 'citizenship', 'latinos', 'intersection', 'year', 'acculturation', 'society', 'dynamic', 'significance', 'investigation', 'black woman', 'belief', 'social capital', 'racial discrimination', 'recent research', 'black', 'prevalence', 'interplay', 'shift', 'connection', 'government', 'strategy', 'globalization', 'effort', 'legacy', 'exploration', 'india', 'january', 'definition', 'aspect', 'evidence', 'ireland', 'brazil', 'light', 'tendency', 'family', 'rate', 'barack obama', 'social scientist', 'september', 'story', 'jems', 'present article', 'african american woman', 'theoretical framework', 'school', 'presence', 'jews', 'indigenous people', 'university', 'variety', 'racial identity', 'slavery', 'lack', 'previous study', 'beginning', 'basis', 'piece', 'independence', 'ethnographic research', 'factor', 'perceive discrimination', 'assimilation', 'creation', 'example', 'condition', 'goal', 'phenomenon', 'aftermath', 'longitudinal study', 'insight', 'structure', 'critique', 'racialization', 'return', 'class', 'hurricane katrina', 'framework', 'value', 'marriage', 'struggle', 'examination', 'perspective', 'scope', 'recent study', 'overview', 'account', 'globalisation', 'space', 'report', 'knowledge', 'ethnic group', 'turkey', 'sample', 'interest', 'spain', 'wave', 'w e b du bois', 'fact', 'young people', 'medium', 'nation state', 'status', 'ethnographic fieldwork', 'recent scholarship', 'source', 'minority', 'event', 'germany', 'similarity', 'model', 'united kingdom', 'degree', 'return migration', 'exploratory study', 'internet', 'important role', 'success', 'variation', 'terror', 'western europe', 'twentieth century', 'transition', 'decision', 'white', 'political participation', 'subject', 'northern ireland', 'physical activity', 'world', 'sense', 'sweden', 'recent decade', 'mexico', 'reflection', 'category', 'support', 'implication', 'mental health', 'prior research', 'series', 'opportunity', 'point', 'journal', 'second generation', 'africans', 'japan', 'parent', 'in depth interview', 'twenty first century', 'mechanism', 'book', 'grow body', 'discipline', 'project', 'right', 'participation', 'image', 'stereotype', 'identity formation', 'south korea', 'hypothesis', 'denmark', 'border', 'superdiversity', 'high level', 'view', 'migrant transnationalism', 'grow number', 'segmented assimilation', 'migration scholar', 'access', 'measure', 'fieldwork', 'site', 'arrival', 'america', 'islamophobia', 'england', 'few study', 'grow literature', 'recent literature', 'speech', 'immigration policy', 'michael porter', 'cause', 'european country', 'latin america', 'disparity', 'youth', 'west', 'minority group', 'critical analysis', 'poland', 'starting point', 'early 1990', 'africa', 'music', 'existence', 'black studies', 'inclusion', 'scotland', 'greece', 'expansion', 'range', 'argument', 'barrier', 'method', 'diabetes', 'figure', 'malaysia', 'late 1980', 'mobility', 'cent', 'taiwan', 'past', 'cosmopolitanism', 'inner city', 'production', 'migration study', 'exposure', 'situation', 'conception', 'memory', 'foundation', 'means', 'last two decade', 'poverty', 'inequality', 'respect', 'controversy', 'contrast', 'social network', 'great deal', 'past two decade', 'recent development', 'management', 'life story', 'characteristic', 'racial / ethnic difference', 'ethnography', 'date', 'death', 'sport', 'ethnic minority group', 'home', 'comparison', 'ideology', 'american indians', 'summer', 'vehicle', 'roma', 'nation building', 'research project', 'attempt', 'departure', 'million', 'myth', 'communication', 'theme', 'recognition', 'racial / ethnic disparity', 'african american community', 'social sciences', 'generation', 'heart', 'psychometric property', 'malcolm x', 'reason', 'observer', 'numerous study', 'collapse', 'institute', 'european identity', 'rhetoric', 'type', 'content', 'intersectionality', 'language', 'name', 'approach', 'commentary', 'current debate', 'publication', 'policy maker', 'april', 'long history', 'failure', 'comparative study', 'performance', 'health status', 'philosophy', 'exist literature', 'interrelationship', 'psychological distress', 'cyprus', 'boundary', 'black americans', 'ethnographic study', 'collection', 'intervention', 'decade', 'south asians', 'trajectory', 'possibility', 'increase', 'power', 'establishment', 'february', 'treatment', 'predictor', 'teacher', 'movement', 'dimension', 'new zealand', 'transnational family', 'blackness', 'social integration', 'cultural diversity', 'mortality', 'different way', 'component', 'paucity', 'solidarity', 'antisemitism', 'ethnographic datum', 'asians', 'writing', 'racial order', 'first world war', 'race relations', 'assessment', 'black man', 'career', 'filipino americans', 'contact hypothesis', 'freedom', 'land', 'deportation', 'workplace', 'complex relationship', 'correlate', 'institution', 'root', 'activist', 'apartheid', 'large number', 'everyday life', 'business', 'affirmative action', 'americans', 'racial attitude', 'consumption', 'feeling', 'faculty', 'choice', 'absence', 'sickle cell disease', 'turkish immigrant', 'turn', 'palestinians', 'qualitative research', 'future', 'negotiation', 'color', 'competitive advantage', 'acculturative stress', 'public opinion', 'review essay', 'hong kong', 'system', 'making', 'paradox', 'migration process', 'descendant', 'immigrant population', 'late 1990', 'proliferation', 'assumption', 'labour migration', 'african american adolescent', 'key role', 'voice', 'religiosity', 'academy', 'reality', 'educator', 'transnational migration', 'two study', 'effectiveness', 'citizen', 'current literature', 'election', 'provision', 'universal negro improvement association', 'politician', 'achievement', 'portugal', 'side', 'north america', 'develop country', 'sociology', 'recent work', 'manner', 'michael banton', 'historian', 'black study', 'recent debate', 'race / ethnicity', 'division', 'resistance', 'film', 'kazakhstan', 'mean', 'emphasis', 'racial inequality', 'hip hop', 'discourse analysis', 'alcohol', 'decline', 'depressive symptom', 'involvement', 'nigeria', 'refugee camp', 'civil society', 'october', 'iraq', 'complexity', 'conceptual framework', 'network', 'present research', 'ethnic relation', 'threat', 'prospect', 'limit', 'function', 'design', 'immigrant organisation', 'high rate', 'south', 'ethnic racial study', 'public', 'wake', 'diverse group', 'focus group', 'racial microaggression', 'stone', 'ethnic conflict', 'sociological study', 'explanation', 'college student', 'critical reflection', 'british government', 'prison', 'muslim minority', 'potential', 'chronic disease', 'building', 'observation', 'black feminist thought', 'migrant association', 'advocate', 'college', 'sociologist', 'long distance nationalism', 'otherness', 'centre', 'second world war', 'liberal state', 'tradition', 'introductory paper', 'explosion', 'government policy', 'european government', 'different ethnic group', 'theoretical model', 'london', 'ongoing debate', 'wealth', 'majority', 'los angeles', 'symbolic ethnicity', 'methodology', 'psychological adjustment', 'conventional wisdom', 'ethnic national identity', 'rap music', 'salience', 'call', 'exist research', 'past research', 'gender difference', 'important element', 'southern european country', 'continent', 'social cohesion', 'black student', 'close relationship', 'autobiography', '21st century', 'founder', 'difficulty', 'faith', 'birth', 'mexican state', 'rationale', 'puerto rico', 'academic', 'teacher candidate', 'organization', 'repatriation', 'belgium', 'element', 'cultural identity', 'belonging', 'premise', 'immigrant woman', 'usefulness', 'migrant worker', 'area', 'ethnic identification', 'motivation', 'social anxiety', 'adult', 'linkage', 'cultural socialization', 'prejudice', 'adolescent', 'travel', 'exhibition', 'wife', 'proposition', 'fall', 'entry', 'gypsy', 'position', 'august', 'historically black college', 'inception', 'asylum', 'korean americans', 'cardiovascular disease', 'european integration', 'entrepreneurship', 'encounter', 'mental health problem', 'nationality', 'newcomer', 'language policy', 'refugee law', 'great risk', 'look', 'black youth', 'late 1960', 'capacity', 'reliability', 'three question', 'expectation', 'november', 'stage', 'description', 'political mobilization', 'intellectual', 'cooperation', 'volume', 'activity', 'important component', 'xenophobia', 'course', 'positive relationship', 'symptom', 'implementation', 'dilemma', 'loss', 'republic', 'desire', 'institutional racism', 'size', 'emotion', 'mid twentieth century', 'migrant network', 'extreme right party', 'hospitality', 'long tradition', 'thousand', 'crisis', 'risk factor', 'high prevalence', 'expression', 'self esteem', 'key issue', 'past several decade', 'essence', 'ethiopia', 'willingness', 'introductory article', 'africana studies', 'food', 'roma minority', 'human right', 'patient', 'centrality', 'richard iton', 'reparation', 'second generation immigrant', 'increase risk', 'political science', 'force displacement', 'racial ethnic difference', 'little research', 'brutality', 'scale', 'current research', 'washington', 'trend', 'applicability', 'mobilization', 'sexual violence', 'critical examination', 'cancer', 'world war ii', 'ethnic difference', 'colonization', 'ethnic discrimination', 'immigrant group', 'politics', 'genre', 'persistence', 'racial minority', 'behavior', 'dearth', 'principle', 'primordialism', 'african american man', 'consensus', 'website', 'relevance', 'plight', 'black community', 'intention', 'revival', 'strength', 'logic', 'southern africa', 'comparative analysis', 'social science', 'measurement', 'contention', 'historiography', 'social inequality', 'power relation', 'heritage', 'western society', 'urban area', 'great extent', 'russia', 'preliminary study', 'pakistan', 'interpretation', 'palestinian refugee', 'earning', 'revolution', 'feasibility', 'afrocentricity', 'face', 'two group', 'self employment', 'racial difference', 'text', 'contradiction', 'consideration', 'demand', 'jennifer lee', 'kenya', 'party', 'displacement', 'extension', 'indicator', 'social connectedness', 'aboriginal people', 'justice', 'dream', 'anthropology', 'kind', 'prediction', 'refugee study', 'racial segregation', 'ethnic entrepreneurship', 'oppression', 'racial politic', 'rejoinder', 'imagination', 'livelihood', 'considerable attention', 'recent attempt', 'force migration', 'chapter', 'israeli palestinian conflict', 'activism', 'new york city', 'perceive racial discrimination', 'nineteenth century', 'protest', 'cultural politic', 'one hand', 'racial identification', 'accommodation', 'moment', 'neoliberalism', 'feature', 'popular culture', 'liberation', 'classroom', 'racial disparity', 'benefit', 'settlement', 'efficacy', 'validity', 'self construal', 'balkans', 'generalizability', 'mass displacement', 'united nations', 'ethnic racial studies', 'civil right movement', 'sectarianism', 'body image', 'granting', 'nationally representative datum', 'national latino asian american study', 'central question', 'connectedness', 'black radical tradition', 'racist violence', 'mental health disparity', 'early 1960', 'hiv / aids', 'politicization', 'follow article', 'nationhood', 'employment', 'mission', 'immigrant minority', 'first generation immigrant', 'african identity', 'host', 'science', 'one third', 'significant problem', 'employee', 'first time', 'several country', 'migration policy', 'illinois', 'empirical datum', 'clinical trial', 'liberal democracy', 'polish migrant', 'song', 'abuse', 'liberalism', 'palestine', 'cultural resource', 'new immigrant', 'contemporary discourse', 'white americans', 'survey datum', 'fear', 'east central europe', 'national border', 'new form', 'recent time', 'central role', 'ethnic category', 'epidemic', 'professional', 'civilisation', 'slave', 'resurgence', 'villager', 'racial line', 'large sample', 'school choice', 'marginalize group', 'application', 'catholicism', 'speculation', 'australian government', 'latino', 'cape verde', 'early 1980', 'village', 'dominant discourse', 'international level', 'hybridity', 'reading', 'political transnationalism', 'clash', 'resource', 'mixed method approach', 'narrative analysis', 'ethnic composition', 'explanatory model', 'present paper', 'caribbean', 'critical role', 'increase attention', 'british asians', 'us politic', 'majority population', 'resettlement', 'acceptance', 'public discourse', 'program', 'key element', 'multiplicity', 'toronto', 'transnational space', 'new york', 'union', 'hundred of thousand', 'appointment', 'puzzle', 'africana study', 'diversification', 'racial discourse', 'presidency', 'affirmative action policy', 'illness', 'mixed method study', 'ground theory approach', 'new antisemitism', 'asian indians', 'transnational mobility', 'matter', 'person', 'first decade', 'economic', 'campaign', 'state intervention', 'brief overview', 'psychological well being', 'detail', 'participant observation', 'programme', 'marker', 'wales', 'refugee experience', 'main objective', 'witness', 'psychology', 'new model', 'core value', 'dialogue', 'economist', 'diagnosis', 'recent immigrant', 'solution', 'academic literature', 'central eastern europe', 'phenomenology', 'newspaper', 'breast cancer', 'reaction', 'latin american immigrant', 'middle', 'marcus garvey', 'criterion', 'genocide', 'ethnic nationalism', 'thailand', 'organisation', 'different kind', 'african diaspora', 'pilot study', 'immigrant worker', 'ambiguity', 'racial categorization', 'total', 'labour', 'original survey', 'usage', 'selection', 'confluence', '19th century', 'meeting', 'school performance', 'criticism', 'inquiry', 'spring', 'one aspect', 'romania', 'sudan', 'liberal', 'domination', 'poet', 'new generation', 'content analysis', 'tourism', 'previous literature', 'movie', 'racial bias', 'cold war', 'midst', 'teacher educator', 'radical right party', 'elevated level', 'contemporary form', 'impediment', 'identity development', 'key site', 'utility', 'ethnographic analysis', 'racial / ethnic minority', 'multicultural society', 'breadth', 'internally displace person', 'social problem', 'dispersal', 'line', 'dance', 'reproduction', 'african american youth', 'detention', 'advantage', 'collectivism', 'uncertainty', 'emigration', 'fire', 'alcohol use', 'advance', 'christians', 'antecedent', 'racial ethnic disparity', 'very little research', 'meer', 'african american history', 'crime', 'increasingly important role', 'social class', 'united state', 'metaphor', 'dominican republic', 'racial ethnic identity', 'african american student', 'emerge literature', 'uniqueness', 'ghana', 'brussels', 'death penalty', 'north', 'severity', 'island', 'national pride', 'white teacher', 'pain', 'feminism', 'appraisal', 'mixture', 'colleague', 'federalism', 'adherence', 'racial violence', 'two decade', 'global flow', 'relatively little research', 'central theme', 'moderate role', 'religious diversity', 'parenting', 'disaster', 'minority ethnic group', 'collective memory', 'entanglement', 'adjustment', 'labour market participation', 'interrogation', 'korean immigrant', 'global migration', 'transnational social space', 'transnational social field', 'labour migrant', 'spectacle', 'quest', 'segregation', 'cross national comparison', 'tenet', 'complex issue', 'intolerance', 'responsibility', 'convergence', 'global south', 'intelligence', 'britishness', 'jim crow', 'force', 'racial ethnic minority', 'kashmir', 'anxiety', 'tanzania', 'preliminary result', 'search', 'cult', 'reader', 'holocaust', 'hip hop music', 'alternative', 'stereotype threat', 'great britain', 'familism', 'prophet', 'hispanics', 'attack', 'regulation', 'resonance', 'silence', 'reception', 'july', 'vienna', 'action', 'finland', 'aspiration', 'irregular migrant', 'information', 'kurds', 'dichotomy', 'new understanding', 'accession', 'hatred', 'under representation', 'high risk', 'leader', 'early twentieth century', 'interviewer', 'migrant social capital', 'international student', 'mixed race individual', 'requirement', 'health outcome', 'improvement', 'awareness', 'recent trend', 'photograph', 'popular representation', 'thought', 'norway', 'parental involvement', 'product', 'vietnam', 'individual right', 'philippines', 'colonial legacy', 'type 2 diabetes', 'parallel', 'removal', 'stranger', 'state border', 'switzerland', 'social support', 'incentive', 'migration status', 'migration theory', 'black power movement', 'latino immigrant', 'quantitative datum', 'new millennium', 'climate', 'qualitative interview', 'depiction', 'modernity', 'path', 'last fifteen year', 'census', 'nepal', 'backdrop', 'self rate health', 'scholarly interest', 'democratization', 'prism', 'model minority', 'hiring', 'employer', 'national narrative', 'bulgaria', 'identity politic', 'educational outcome', 'march', 'neighbourhood', 'interracial marriage', 'transnational engagement', 'south carolina', 'incidence', 'microcosm', 'chicago', 'utilization', 'abortion', 'domestic violence', 'chance', 'gypsies', 'multiculturalist', 'current trend', 'complex interaction', 'ability', 'last 15 year', 'african american male', 'welfare', 'circumstance', 'cultural study', 'longitudinal datum', 'adaptation', 'expert', 'black male', 'racial classification', 'match', 'social interaction', 'ethnic politic', 'social construction', 'blacks', 'african descent', 'civil war', 'intermarriage', 'empirical study', 'central asia', 'dialectic', 'television', 'ukraine', 'important contribution', 'student teacher', 'structural change', 'recruitment', 'teaching', 'control', 'active role', 'czech republic', 'post apartheid south africa', 'democracy', 'european state', 'last 30 year', 'conflation', 'resilience', 'immigrant parent', 'interface', 'former soviet union', 'popularity', 'migrant child', 'disadvantage', 'tolerance', 'key aspect', 'behaviour', 'paul gilroy', 'socioeconomic status', 'insecurity', 'word', 'birmingham', 'governance', 'important determinant', 'early study', 'john rex', 'public policy', 'obstacle', 'ethnic religious identity', 'key component', 'nativity', 'racialized outsider', 'indigenous group', 'economic status', 'negative attitude', 'california', 'fertility', 'new orleans', 'rape', 'visibility', 'proportion', 'worker', 'people s republic', 'electorate', 'socio economic condition', 'norm', 'various way', 'theoretical debate', 'mode', 'transnational perspective', 'public school', 'colombia', 'common experience', 'subject matter', 'critical engagement', 'marriage migration', 'misunderstanding', 'underrepresentation', 'traumatic event', 'two question', 'mental disorder', 'southeast asia', 'group formation', 'health care professional', 'riot', 'historical analysis', 'spirituality', 'secondary source', 'commentator', 'father', 'diverse way', 'formulation', 'western democracy', 'charge', 'paradigm', 'estonia', 'arab americans', 'research method', 'embodiment', 'participant', 'exclusion', 'cultural factor', 'policing', 'slovenia', 'operation', 'commemoration', 'spread', 'immigration control', 'west africa', 'muslim', 'immigrant family', 'japanese americans', 'security threat', 'hand', 'president', 'migrant family', 'self determination', 'mental health service use', 'ethnic diversity', 'all form', 'popular discourse', 'social change', 'homosexuality', 'appropriateness', 'statistical datum', 'excerpt', 'addition', 'pregnancy', 'change nature', 'mexicans', 'protective factor', 'questionnaire', 'nationalist discourse', 'american society', 'immigration law', 'british empire', 'office', 'allegation', 'character', 'ghetto', 'increase diversity', 'capitalism', 'acquisition', 'central issue', 'morbidity', 'african', 'celebration', 'native americans', 'exist theory', 'recent change', 'anti semitism', 'social condition', 'scene', 'supply', 'dispute', 'promise', 'muslim identity', 'incarceration', 'meta analysis', 'social context', 'national sample', 'model minority stereotype', 'breakdown', 'opinion', 'trope', 'section', 'analytical framework', 'advancement', 'neighborhood', 'garveyism', 'black panther party', 'transnational tie', 'cultural policy', 'complex process', 'opposition', 'positive outcome', 'black caribbeans', 'region', 'duality', 'ethnic disparity', 'canadians', 'distinction', 'innovation', 'intersectional analysis', 'mobile phone', 'political representation', 'haiti', 'white community', 'white racial identity', 'portrayal', 'theoretical approach', 'serbia', 'european city', 'administration', 'us government', 'concentration', 'asian american adolescent', 'editor', 'croatia', 'black people', 'social science research', 'earthquake', 'validation', 'mentoring', 'latina', 'identification', 'white woman', 'visit', 'promotion', 'authenticity', 'soccer', 'midwest', 'private sector', 'outsider', 'representative datum', 'earth', 'reliance', 'predominantly white institution', 'cricket', 'ethnic mobilization', 'municipality', 'appearance', 'yugoslavia', 'particular type', 'silencing', 'sameness', 'football', 'christianity', 'whites', 'dutch', 'producer', 'subsistence', 'grow importance', 'chinese culture', 'countryside', 'various aspect', 'colour', 'exception', 'half', 'hundred', 'vision', 'albanians', 'response rate', 'care', 'differential effect', 'resident', 'laboratory', 'hawai i', 'profound impact', 'independent state', 'cervical cancer', 'decolonisation', 'magnitude', 'first attempt', 'british identity', 'affirmative action program', 'gender relation', 'state action', 'personal identity', 'environment', 'location', 'skilled migration', 'torture', 'refuge', 'convenience sample', 'equal opportunity', 'three approach', 'mass medium', 'black college student', 'health condition', 'political right', 'homelessness', 'sociological analysis', 'major factor', 'white ethnicity', 'young black male', 'last ten year', 'capital', 'roma people', 'marxism', 'political change', 'conceptualisation', 'federation', 'answer', 'reference', 'proposal', 'invocation', 'node', 'service', 'scarcity', 'sexism', 'productivity', 'material', 'demographic characteristic', 'political context', 'asylum system', 'white male', 'ethnic', 'wisdom', 'inconsistency', 'labor', 'anti racism', 'mauritius', 'fiji', 'government program', 'polity', 'ethnic affiliation', 'reduction', 'new insight', 'control condition', 'wage', 'nazi germany', 'stake', 'suriname', 'alcohol consumption', 'general population', 'destination', 'anonymity', 'significant impact', 'local history', 'weakness', 'democratic citizenship', 'sub saharan africa', 'black scholar', 'labour market integration', 'distance', 'proximity', 'limitation', 'basque country', 'ministry', 'department', 'broad context', 'defence', 'jewish community', 'zionism', 'mosque', 'official statistic', 'trinidad', 'military service', 'occasion', 'transnational political practice', 'securitization', 'journey', 'global market', 'historical background', 'hindu nationalism', 'grade', 'final section', 'shortcoming', 'two country', 'reconsideration', 'political struggle', 'museum', 'key theme', 'propensity', 'demonstration', 'center', 'racial exclusion', 'health care provider', 'postmodernism', 'common ground', 'signifier', 'social formation', 'talk', 'ethnic prejudice', 'critical literacy', 'hegemony', 'mammography', 'accessibility', 'amount', 'disagreement', 'black identity', 'contemporary migration', 'festival', 'cultural construction', 'planning', 'primacy', 'safety', 'returnee', 'us citizen', 'social influence', 'imperialism', 'narration', 'transnational context', 'ambivalent relationship', 'revitalization', 'human right abuse', 'margin', 'resolution', 'misrepresentation', 'denigration', 'primary focus', 'exercise', 'african american studies', 'racial category', 'excess', 'permanence', 'ethnic medium', 'divide', 'fascism', 'ethnic cleansing', 'variability', 'army', 'ecuador', 'certain extent', 'ethnic status', 'sensitivity', 'length', 'liberty', 'articulation', 'oral testimony', 'supreme court', 'rule', 'progress', 'detainee', 'black own business', 'ethnic racial identity', 'symbol', 'irish', 'mid 1960', 'social security', 'micro level', 'south asia', 'classification', 'ethnic tie', 'political action', 'terminology', 'household', 'anthropologist', 'informant', 'negative perception', 'local identity', 'viability', 'comparative perspective', 'long term illness', 'inhabitant', 'labor market', 'segment', 'first part', 'soviet union', 'rehabilitation', 'authority', 'two level', 'conformity', 'problematic relationship', 'manipulation', 'dependency', 'various group', 'viewpoint', 'headline', 'perpetuation', 'political debate', 'pan africanism', 'offspring', 'profile', 'aids', 'two type', 'main argument', 'ethnic community', 'african american culture', 'western culture', 'ethnic inequality', 'second generation migrant', 'one country', 'instrument', 'turkish state', 'mobilisation', 'realm', 'characterization', 'self report questionnaire', 'diaspora community', 'several decade', 'active citizenship', 'correspondence', 'ideal', 'alabama', 'high percentage', 'grief', 'mistrust', 'everyday interaction', 'secularization', 'variable', 'member state', 'immigration politic', 'uk government', 'predicament', 'significant change', 'educational research', 'smith', 'stressful event', 'marginality', 'health care', 'social trust', 'affinity', 'dissatisfaction', 'puerto ricans', 'racist incident', 'mental health need', 'public debate', 'prior study', 'subordination', 'stockholm', 'regime', 'infrastructure', 'nexus', 'nazis', 'obama', 'age range', 'free speech', 'englishness', 'empirical research', 'physical health', 'textbook', 'important insight', 'late nineteenth century', 'citizenship acquisition', 'restriction', 'live experience', 'nuance', 'assassination', 'western state', 'testimony', 'third reich', 'exchange', 'jerusalem', 'first wave', 'armenians', 'deportability', 'quarter', 'religious involvement', 'methodological nationalism', 'nationalism study', 'race relation', 'dominant paradigm', 'translator', 'structural barrier', 'new way', 'smoking', 'reminder', 'meaningful way', 'motherhood', 'wearing', 'turkishness', 'privilege', 'cross', 'black person', 'custody', 'transnational network', 'italian society', 'non governmental organization', 'ngos', 'musician', 'imprisonment', 'contour', 'video', 'state policy', 'rationality', 'homeland', 'likelihood', 'maori', 'guise', 'popular understanding', 'leicester', 'berlin', 'retention', 'cultivation', 'transnational connection', 'citizenship law', 'victimization', 'modern nation', 'masse', 'friendship', 'immigrant concentration', 'iran', 'transaction', 'minority population', 'discrepancy', 'cultural heritage', 'african american college student', 'critical theory', 'pace', 'advertisement', 'illegal immigrant', 'sharp contrast', 'favor', 'well understanding', 'tobacco use', 'wilson', 'cohesion', 'ethnographic work', 'mismatch', 'human being', 'mental health treatment', 'high education institution', 'transnational activity', 'life experience', 'foreign country', 'caucasians', 'racial democracy', 'inflow', 'crucial role', 'modern society', 'universalism', 'political process', 'social tie', 'romanians', 'survey research', 'racial boundary', 'central argument', 'qualification', 'friend', 'late eighteenth century', 'reach', 'parental control', 'multiracial', 'street', 'cross sectional study', 'undocumented immigrant', 'ethnographic method', 'systematic analysis', 'institutional change', 'expulsion', 'dehumanization', 'immigrant status', 'key challenge', 'refugee convention', 'montreal', 'sentiment', 'traveller', 'various dimension', 'shadow', 'replacement', 'unity', 'two set', 'policy document', 'labour market', 'cluster analysis', 'racial identity attitude', 'depth', 'significant level', 'funding', 'local policy', 'malta', 'agency', 'indigenous woman', 'empathy', 'cost', 'community cohesion', 'zimbabwe', 'high concentration', 'commonality', 'amsterdam', 'language proficiency', 'convenience', 'central concern', 'documentation', 'rejection', 'tragedy', 'cultural context', 'mellitus', 'african origin', 'three way', 'english speak country', 'penality', 'same time', 'close tie', 'bottom', 'cultural value', 'migrant agency', 'pivotal role', 'moderator', 'durable solution', 'different factor', 'ethnic variation', 'major shift', 'large part', 'positive effect', 'compete claim', 'theoretical insight', 'reform', 'stock', 'multinational state', 'send country', 'two part', 'counseling', 'refugee child', 'major contribution', 'december', 'victim', 'immigrant assimilation', 'enculturation', 'declaration', 'psychological health', 'mexican americans', 'whitening', 'racial oppression', 'social capital theory', 'individual interview', 'early 2000', 'filipinos', 'husband', 'ethnic group difference', 'illustration', 'academic success', 'suicide', 'young immigrant', 'racism relate stress', 'peru', 'urban community', 'asian american woman', 'individual level', 'concurrent validity', 'social', 'genesis', 'formal education', 'national minority', 'invisibility', 'clinical practice', 'intergroup relation', 'outrage', 'political discourse', 'less extent', 'step', 'secularism', 'racial equality', 'civilian', 'utilisation', 'scheme', 'migration decision', 'new type', 'political power', 'hair', 'nativity status', 'major source', 'previous scholarship', 'multigroup ethnic identity measure', 'meim', 'black history', 'black immigrant', 'vanguard', 'suicidal ideation', 'research study', 'guardian', 'qualitative datum', 'past 20 year', 'surge', 'small group', 'address', 'conference', 'drama', 'university student', 'germans', 'austria', 'femininity', 'coexistence', 'counterpart', 'state official', 'academic discipline', 'reconstruction', 'empirical evidence', 'interview datum', 'incorporation', 'three ethnic group', 'accumulation', 'high proportion', 'urban context', 'medium discourse', 'combination', 'hungarians', 'old adult', 'significant factor', 'global scale', 'all country', 'decentralization', 'pathway', 'interculturalism', 'brother', 'accusation', 'settler society', 'underutilization', 'body', 'middle east', 'spirit', 'body dissatisfaction', 'chinese woman', 'ramification', 'appreciation', 'cornerstone', 'school experience', 'alternative explanation', 'deep understanding', 'lived experience', 'indigenous australians', 'individual characteristic', 'origin country', 'cycle', 'jamaica', 'migration research', 'migrant experience', 'ethnic lens', 'option', 'family conflict', 'political significance', 'flight', 'cultural capital', 'peace', 'ambivalence', 'disjuncture', 'fluidity', 'black church', 'trauma', 'scientific racism', 'hbcus', 'something', 'council', 'postracial', 'demography', 'love', 'compensation', 'deprivation', 'period', 'life expectancy', 'emotional self control', 'weapon', 'mainland china', 'political conflict', 'tibet', 'datum source', 'health inequality', 'literacy', 'subset', 'release', 'specific form', 'racial prejudice', 'display', 'technology', 'early 20th century', 'sao paulo', 'central place', 'indigenous population', 'smartness', 'political activism', 'lyon', 'transnational movement', 'social life', 'vulnerability', 'western european country', 'aboriginal australians', 'refugee protection', 'substance use', 'killing', 'modality', 'different form', 'everyday racism', 'reintegration', 'south asian community', 'district', 'methodological approach', 'eritrea', 'information technology', 'federal government', 'ethnic segregation', 'structural condition', 'young child', 'endorsement', 'attribution', 'three theme', 'league', 'economic crisis', 'contact', 'educational experience', 'leadership', 'substance', 'disorder', 'prominence', 'note', 'ethnic violence', 'important implication', 'jordan', 'destination country', 'different perspective', 'rhetorical strategy', 'different country', 'spite', 'blood pressure', 'congress', 'key term', 'public space', 'corruption', 'overt racism', 'risk perception', 'dataset', 'hijab', 'genealogy', 'voter', 'british context', 'ethnic boundary', 'home country', 'activation', 'discovery', 'dissent', 'task', 'mediate role', 'soil', 'convert', 'mid nineteenth century', 'chinese immigrant', 'aggression', 'host society', 'immobility', 'injustice', 'socialization', 'sri lanka', 'grow interest', 'mexican migration', 'complex interplay', 'contact zone', 'self reliance', 'frequency', 'emerge adult', 'two case', 'nation building process', 'trafficking', 'iconography', 'poles', 'large group', 'thinker', 'semi structured interview', 'omission', 'state legislature', 'economic inequality', 'grow concern', 'differential', 'past few decade', 'vary level', 'secession', 'aesthetic', 'caregiver', 'economic opportunity', 'judaism', 'immigrant background', 'multilevel analysis', 'burma', 'academic research', 'platform', 'black liberation', 'karen', 'contemporary society', 'forefront', 'paul robeson', '20th century', 'archive', 'statelessness', 'suburb', 'farmer', 'urban space', 'asset', 'civil rights movement', 'cultural difference', '2 study', 'news coverage', 'critical discourse analysis', 'newspaper article', 'cultural influence', 'immigrants', 'extreme right', 'influx', 'subjective well being', 'turkish migrant', 'wide range', 'prostitution', 'istanbul', 'disability', 'contemporary europe', 'national survey', 'title', 'hindus', 'sikhs', 'camp', 'contestation', 'court', 'british muslims', 'embrace', 'commitment', 'past 50 year', 'synthesis', 'scientist', 'positioning', 'essential component', 'racial hierarchy', 'attachment', 'qualitative quantitative method', 'self understanding', 'theorist', 'obligation', 'international law', 'admission', 'sharing', 'base', 'academic achievement', 'statistics canada', 'wall', 'national culture', 'unique opportunity', 'migrant group', 'catalonia', 'moroccans', 'new york times', 'american dream', 'predominantly white college', 'first glance', 'renegotiation', 'statistic', '2001 census', 'stance', 'post traumatic stress disorder', 'template', 'emigrant', 'recent effort', 'window', 'new technology', 'new state', 'provider', 'daily life', 'muslim youth', 'particular case', 'victimhood', 'migrant integration', 'diffusion', 'receipt', 'internal displacement', 'adolescence', 'morocco', 'specific way', 'trust', 'autumn', 'dominant group', 'bilingualism', 'important site', 'skin color', 'unhcr', 'ethnic minority status', 'obesity', 'national history', 'medical care', 'gain', 'mixed race', 'week', 'mid 1980', 'object', 'refugee woman', 'displace people', 'old people', 'british state', 'deliberation', 'justification', 'rural area', 'multiracial individual', 'unique position', 'potential consequence', 'property', 'hostility', 'bonding', 'ethno nationalism', 'hegemonic discourse', 'emotion regulation', 'regression analysis', 'unemployment', 'immigrant incorporation', 'college campus', 'healthcare', 'diet', 'imagery', 'police', 'different type', 'first african american president', 'danish society', 'protective effect', 'significant issue', 'contemporary france', 'three study', 'interconnection', 'colonial mentality', 'young woman', 'census datum', 'surveillance', 'french society', 'remittance', 'pool', 'rapid growth', 'african immigrant', 'lebanon', 'poor mental health', 'positive experience', 'asian culture', 'membership', 'marking', 'political ideology', 'racial matter', 'millennium', 'qualitative analysis', 'factor structure', 'three group', 'academic performance', 'loyalty', 'terrorist attack', 'veil', 'large proportion', 'moderate effect', 'purview', 'start', 'political development', 'rumination', 'human mobility', 'internal consistency', 'globe', 'large population', 'almost half', 'inferiority', 'positive change', 'news', 'educational attainment', 'three part', 'disclosure', 'sacrifice', 'previous work', 'dominance', 'contemporary context', 'crimea', 'different pattern', 'specific case', 'political activist', 'writer', 'economic activity', 'national self determination', 'egypt', 'return migrant', 'adolescent perception', 'transnational relation', 'economy', 'argentina', 'tatarstan', 'russian federation', 'continuity', 'brief discussion', 'new politic', 'contemporary racism', 'constitution', 'decolonization', 'social phenomenon', 'various kind', 'mental health service', 'small sample', 'paris', 'multicultural policy', 'albania', 'enslavement', 'west bank', 'initiation', 'research literature', 'foreign national', 'incident', 'asian', 'taboo', 'living condition', 'nationally representative sample', 'well health', 'new datum', 'muslim population', 'permanent settlement', 'williams', 'migrant woman', 'social transformation', 'three year', 'entrepreneur', datetime.datetime(2024, 9, 11, 0, 0), 'british national party', 'virginia', 'delivery', 'common theme', 'current understanding', 'repertoire', 'home office', 'sexual behaviour', 'traditional belief', 'muslim woman', 'protection', 'following', 'conversation', 'empowerment', 'pathology', 'alienation', 'structural equation model', 'latino youth', 'gender equality', 'demise', 'different strategy', 'facilitator', 'close examination', 'denial', 'occupation', 'agent', 'last quarter', 'consciousness', 'ethnic majority', 'large study', 'copy', 'du bois', 'mainstream society', 'semistructured interview', 'reconfiguration', 'graduate', 'eastern europe', 'undocumented migrant', 'configuration', 'restoration', 'political scientist', 'new direction', 'turkish nationalism', 'two community', 'symbolic violence', 'capability', 'advice', 'professor', 'tenure', 'devolution', 'minority group member', 'mother', 'entertainment', 'minority student', 'probability', 'cultural competence', 'current state', 'latino adolescent', 'industry', 'first half', 'us population', 'founding', 'teenager', 'african american experience', 'european american counterpart', 'necessary condition', 'cultural orientation', 'moroccan migrant', 'hip hop culture', 'pre service teacher', 'important factor', 'present', 'systematic review', 'linking', 'instability', 'migration flow', 'hypertension', 'historical development', 'new country', 'institutionalization', 'political engagement', 'koreans', 'terrorism', 'slovakia', 'technique', 'mid 1990', 'momentum', 'intimate relationship', 'radicalism', 'survival', 'social networking', 'postcolonial theory', 'well being', 'transnational study', 'housing', 'multiple factor', 'suicidal behavior', 'behalf', 'stigma', 'recent discussion', 'american history', 'modern nationalism', 'european americans', 'policymaker', 'array', 'everyday experience', 'adoption', 'group member', 'stigmatization', 'spouse', 'cultural homogeneity', 'african country', 'veteran', 'important aspect', 'educational researcher', 'quality', 'various level', 'upward social mobility', 'ethnocentrism', 'african caribbeans', 'racial stereotype', 'socialisation', 'socio economic position', 'new light', 'different aspect', 'quebec', 'methodological challenge', 'signing', 'translation', 'perpetrator', 'racial diversity', 'practitioner', 'radicalisation', 'uganda', 'elite', 'asia', 'indigeneity', 'intensity', 'racial domination', 'extract', 'close connection', 'socio economic status', 'categorization', 'new measure', 'meritocracy', 'european society', 'increase rate', 'social political context', 'deleterious effect', 'high education', 'white student', 'instance', 'political violence', 'national unity', 'dietary change', 'research finding', 'storytelling', 'social psychology', 'ethnicization', 'racist', 'symposium', 'june', 'social movement', 'transnational marriage', 'constraint', 'decision making', 'hold', 'catalyst', 'south african society', 'test', 'mexican migrant', 'fault', 'english identity', 'cultural background', 'syria', 'gender role', 'local government', 'social hierarchy', 'immigrant youth', 'white identity', 'oral history', 'microaggression', 'pervasiveness', 'public discussion', 'consociationalism', 'working', 'danger', 'national belonging', 'prerequisite', 'conclusion', 'social organization', 'reinforcement', 'educational opportunity', 'white privilege', 'autonomy', 'two dimension', 'multiracial people', 'skin', 'positive emotion', 'physician', 'british rule', 'african people', 'several factor', 'immigration attitude', 'linguistic diversity', 'singapore', 'faith base organization', 'drug use', 'territory', 'international migrant', 'comparative approach', 'economic integration', 'african american', 'cultural adaptation', 'colonial', 'brazilians', 'social identity', 'artist', 'water', 'womanhood', 'ethic', 'policy response', 'nation building project', 'share', 'humanitarian assistance', 'audience', 'collective identity', 'anthem', 'emblem', 'borderland', 'patriotism', 'louisiana', 'praxis', 'strong predictor', 'political economy', 'vast majority', 'global city', 'johannesburg', 'shanghai', 'expatriate', 'cultural practice', 'contemporary debate', 'black body', 'multicultural psychology', 'parliament', 'house', 'popular music', 'poetry', 'integration policy', 'scrutiny', 'regard', 'refugee status', 'judgment', 'multiple way', 'framing', 'commodity', 'school climate', 'behavioral acculturation', 'western country', 'racial group', 'occurrence', 'policy making', 'minority status', 'orientalism', 'othering', 'health belief', 'century', 'immigrant adaptation', 'sovereignty', 'identity work', 'anger', 'assertion', 'criminality', 'diasporic identity', 'normalization', 'fate', 'native population', 'civil right', 'compatriot', 'legislation', 'national longitudinal survey', 'certain aspect', 'significant decrease', 'collaboration', 'adolescent health', 'wide variety', 'coronary heart disease', 'ethnic democracy', 'collective action', 'stress', 'el salvador', 'woman s experience', 'trial', 'self', 'multicultural education', 'nationalist ideology', 'interest convergence', 'latvia', 'self representation', 'historical event', 'michigan', 'detroit', 'important way', 'live reality', 'universality', 'civic engagement', 'strong commitment', 'black family', 'acceptability', 'psychologist', 'style', 'family tie', 'two process', 'advent', 'door', 'qualitative interview study', 'obama administration', 'homicide', 'internal migration', 'family history', 'democratisation', 'french', 'political life', 'sexuality', 'priority', 'grand narrative', 'refugees', 'several study', 'age group', 'out migration', 'korea', 'family reunification', 'humanitarianism']\n"
          ]
        }
      ]
    },
    {
      "cell_type": "code",
      "source": [
        "# Check the embedding for a specific word (or vertex ID)\n",
        "word = \"association\"  # Replace this with the word you want to check\n",
        "if word in node_ids:\n",
        "    # Get the index of the word in node_ids\n",
        "    word_index = node_ids.index(word)\n",
        "    # Fetch the corresponding embedding\n",
        "    embedding = node_embeddings[word_index]\n",
        "    print(f\"Embedding for '{word}': {embedding}\")\n",
        "else:\n",
        "    print(f\"'{word}' not found in vertex embeddings.\")"
      ],
      "metadata": {
        "colab": {
          "base_uri": "https://localhost:8080/"
        },
        "id": "LxD3zU-jpqEq",
        "outputId": "ecab736c-09d1-41cf-e5c5-a19c0f94e795"
      },
      "execution_count": null,
      "outputs": [
        {
          "output_type": "stream",
          "name": "stdout",
          "text": [
            "Embedding for 'association': [ 6.87642489e-03  1.01174265e-02  9.10867192e-03 -1.69918612e-02\n",
            " -6.67411881e-03 -1.52933244e-02  2.06857100e-02  1.15393121e-02\n",
            " -1.16981217e-03  8.00233334e-03 -1.57693326e-02 -1.25177233e-02\n",
            "  6.79527689e-03  1.27293542e-02  7.03054992e-03  1.19353859e-02\n",
            " -3.33737978e-03 -7.26528047e-03 -1.52605993e-04 -7.40337791e-03\n",
            " -1.11787310e-02 -1.51804006e-02  1.39921131e-02 -1.89323642e-03\n",
            " -3.18683963e-03 -1.55996764e-02  1.82790682e-02  1.54953741e-03\n",
            "  3.27205285e-03  5.25797484e-03 -1.48722138e-02  3.64216766e-03\n",
            "  6.38511078e-03 -1.71899553e-02  9.87451710e-03  4.68029035e-03\n",
            "  1.53852655e-02  1.08186342e-02 -6.32879743e-03 -1.49252638e-02\n",
            "  1.52404085e-02  3.96176055e-03  1.02192266e-02  1.30753163e-02\n",
            "  4.66440758e-03 -1.24364868e-02 -8.84742549e-05  1.64822191e-02\n",
            " -1.17455488e-02  1.93008166e-02]\n"
          ]
        }
      ]
    },
    {
      "cell_type": "code",
      "source": [
        "print(len(vertex_embeddings))\n",
        "with open(datadir+'/vertex_embeddings_'+str(max_groupsize)+'.p', 'wb') as fp:\n",
        "    pickle.dump(vertex_embeddings, fp)\n",
        "print(len(hyperedge_embeddings))\n",
        "with open(datadir+'/hyperedge_embeddings_'+str(max_groupsize)+'.p', 'wb') as fp:\n",
        "    pickle.dump(hyperedge_embeddings, fp)"
      ],
      "metadata": {
        "id": "-5RbqQAbOEtm"
      },
      "execution_count": null,
      "outputs": []
    },
    {
      "cell_type": "code",
      "source": [
        "hyperedge_ids, hyperedge_embeddings = EmbedWord2Vec(walks=walksTAS,dimension=hyperedge_embedding_dimension)\n",
        "print(\"Hyperedge embeddings finished.\")\n",
        "# Save vertex embeddings with corresponding vertex IDs\n",
        "hyperedge_data = {\n",
        "    \"ids\": hyperedge_ids,\n",
        "    \"embeddings\": hyperedge_embeddings\n",
        "}\n",
        "\n",
        "with open(datadir+'/hyperedge_embeddings3_'+str(max_groupsize)+'.p', 'wb') as fp:\n",
        "    pickle.dump(hyperedge_data, fp)\n"
      ],
      "metadata": {
        "colab": {
          "base_uri": "https://localhost:8080/"
        },
        "id": "7z2JzTRFqsY0",
        "outputId": "0b9cfa47-0671-4fbf-b64d-799dba036095"
      },
      "execution_count": null,
      "outputs": [
        {
          "output_type": "stream",
          "name": "stdout",
          "text": [
            "Creating embeddings.\n",
            "Embedding generation runtime:  3633.8300161361694\n",
            "Hyperedge embeddings finished.\n"
          ]
        }
      ]
    },
    {
      "cell_type": "code",
      "source": [
        "print(hyperedge_ids)"
      ],
      "metadata": {
        "colab": {
          "base_uri": "https://localhost:8080/"
        },
        "id": "IjlOey0GQ6ig",
        "outputId": "c3d201b9-b8d4-4a21-a73f-17cb86a54c8f"
      },
      "execution_count": null,
      "outputs": [
        {
          "output_type": "stream",
          "name": "stdout",
          "text": [
            "['objective', 'essay', 'united states', 'purpose', 'ethnicity', 'author', 'present study', 'concept', 'effect', 'experience', 'immigrant', 'recent year', 'impact', 'literature', 'scholar', 'racism', 'migration', 'immigration', 'people', 'europe', 'number', 'nationalism', 'question', 'background', 'history', 'difference', 'work', 'refugee', 'context', 'association', 'development', 'relation', 'child', 'time', 'identity', 'britain', 'integration', 'multiculturalism', 'issue', 'current study', 'migrant', 'extent', 'importance', 'notion', 'special issue', 'qualitative study', 'response', 'african americans', 'woman', 'introduction', 'debate', 'group', 'asian americans', 'scholarship', 'state', 'culture', 'place', 'transnationalism', 'term', 'understanding', 'influence', 'previous research', 'attitude', 'idea', 'politic', 'problem', 'rise', 'national identity', 'practice', 'country', 'discussion', 'ethnic minority', 'france', 'case', 'theory', 'case study', 'discrimination', 'individual', 'part', 'discourse', 'pattern', 'formation', 'construction', 'representation', 'education', 'claim', 'interview', 'life', 'narrative', 'challenge', 'muslims', 'last decade', 'meaning', 'diaspora', 'contribution', 'city', 'form', 'gender', 'nation', 'member', 'policy', 'need', 'australia', 'change', 'perception', 'diversity', 'focus', 'asylum seeker', 'islam', 'critical race theory', 'religion', 'emergence', 'immigrant integration', 'health', 'nature', 'ethnic identity', 'international migration', 'whiteness', 'community', 'level', 'student', 'attention', 'growth', 'netherlands', 'risk', 'italy', 'field', 'past decade', 'tension', 'european union', 'origin', 'concern', 'survey', 'violence', 'china', 'transformation', 'determinant', 'review', 'population', 'researcher', 'conflict', 'link', 'topic', 'canada', 'south africa', 'order', 'interaction', 'increase number', 'depression', 'evolution', 'consequence', 'israel', 'citizenship', 'latinos', 'intersection', 'year', 'acculturation', 'society', 'dynamic', 'significance', 'investigation', 'black woman', 'belief', 'social capital', 'racial discrimination', 'recent research', 'black', 'prevalence', 'interplay', 'shift', 'connection', 'government', 'strategy', 'globalization', 'effort', 'legacy', 'exploration', 'india', 'january', 'definition', 'aspect', 'evidence', 'ireland', 'brazil', 'light', 'tendency', 'family', 'rate', 'barack obama', 'social scientist', 'september', 'story', 'jems', 'present article', 'african american woman', 'theoretical framework', 'school', 'presence', 'jews', 'indigenous people', 'university', 'variety', 'racial identity', 'slavery', 'lack', 'previous study', 'beginning', 'basis', 'piece', 'independence', 'ethnographic research', 'factor', 'perceive discrimination', 'assimilation', 'creation', 'example', 'condition', 'goal', 'phenomenon', 'aftermath', 'longitudinal study', 'insight', 'structure', 'critique', 'racialization', 'return', 'class', 'hurricane katrina', 'framework', 'value', 'marriage', 'struggle', 'examination', 'perspective', 'scope', 'recent study', 'overview', 'account', 'globalisation', 'space', 'report', 'knowledge', 'ethnic group', 'turkey', 'sample', 'interest', 'spain', 'wave', 'w e b du bois', 'fact', 'young people', 'medium', 'nation state', 'status', 'ethnographic fieldwork', 'recent scholarship', 'source', 'minority', 'event', 'germany', 'similarity', 'model', 'united kingdom', 'degree', 'return migration', 'exploratory study', 'internet', 'important role', 'success', 'variation', 'terror', 'western europe', 'twentieth century', 'transition', 'decision', 'white', 'political participation', 'subject', 'northern ireland', 'physical activity', 'world', 'sense', 'sweden', 'recent decade', 'mexico', 'reflection', 'category', 'support', 'implication', 'mental health', 'prior research', 'series', 'opportunity', 'point', 'journal', 'second generation', 'africans', 'japan', 'parent', 'in depth interview', 'twenty first century', 'mechanism', 'book', 'grow body', 'discipline', 'project', 'right', 'participation', 'image', 'stereotype', 'identity formation', 'south korea', 'hypothesis', 'denmark', 'border', 'superdiversity', 'high level', 'view', 'migrant transnationalism', 'grow number', 'segmented assimilation', 'migration scholar', 'access', 'measure', 'fieldwork', 'site', 'arrival', 'america', 'islamophobia', 'england', 'few study', 'grow literature', 'recent literature', 'speech', 'immigration policy', 'michael porter', 'cause', 'european country', 'latin america', 'disparity', 'youth', 'west', 'minority group', 'critical analysis', 'poland', 'starting point', 'early 1990', 'africa', 'music', 'existence', 'black studies', 'inclusion', 'scotland', 'greece', 'expansion', 'range', 'argument', 'barrier', 'method', 'diabetes', 'figure', 'malaysia', 'late 1980', 'mobility', 'cent', 'taiwan', 'past', 'cosmopolitanism', 'inner city', 'production', 'migration study', 'exposure', 'situation', 'conception', 'memory', 'foundation', 'means', 'last two decade', 'poverty', 'inequality', 'respect', 'controversy', 'contrast', 'social network', 'great deal', 'past two decade', 'recent development', 'management', 'life story', 'characteristic', 'racial / ethnic difference', 'ethnography', 'date', 'death', 'sport', 'ethnic minority group', 'home', 'comparison', 'ideology', 'american indians', 'summer', 'vehicle', 'roma', 'nation building', 'research project', 'attempt', 'departure', 'million', 'myth', 'communication', 'theme', 'recognition', 'racial / ethnic disparity', 'african american community', 'social sciences', 'generation', 'heart', 'psychometric property', 'malcolm x', 'reason', 'observer', 'numerous study', 'collapse', 'institute', 'european identity', 'rhetoric', 'type', 'content', 'intersectionality', 'language', 'name', 'approach', 'commentary', 'current debate', 'publication', 'policy maker', 'april', 'long history', 'failure', 'comparative study', 'performance', 'health status', 'philosophy', 'exist literature', 'interrelationship', 'psychological distress', 'cyprus', 'boundary', 'black americans', 'ethnographic study', 'collection', 'intervention', 'decade', 'south asians', 'trajectory', 'possibility', 'increase', 'power', 'establishment', 'february', 'treatment', 'predictor', 'teacher', 'movement', 'dimension', 'new zealand', 'transnational family', 'blackness', 'social integration', 'cultural diversity', 'mortality', 'different way', 'component', 'paucity', 'solidarity', 'antisemitism', 'ethnographic datum', 'asians', 'writing', 'racial order', 'first world war', 'race relations', 'assessment', 'black man', 'career', 'filipino americans', 'contact hypothesis', 'freedom', 'land', 'deportation', 'workplace', 'complex relationship', 'correlate', 'institution', 'root', 'activist', 'apartheid', 'large number', 'everyday life', 'business', 'affirmative action', 'americans', 'racial attitude', 'consumption', 'feeling', 'faculty', 'choice', 'absence', 'sickle cell disease', 'turkish immigrant', 'turn', 'palestinians', 'qualitative research', 'future', 'negotiation', 'color', 'competitive advantage', 'acculturative stress', 'public opinion', 'review essay', 'hong kong', 'system', 'making', 'paradox', 'migration process', 'descendant', 'immigrant population', 'late 1990', 'proliferation', 'assumption', 'labour migration', 'african american adolescent', 'key role', 'voice', 'religiosity', 'academy', 'reality', 'educator', 'transnational migration', 'two study', 'effectiveness', 'citizen', 'current literature', 'election', 'provision', 'universal negro improvement association', 'politician', 'achievement', 'portugal', 'side', 'north america', 'develop country', 'sociology', 'recent work', 'manner', 'michael banton', 'historian', 'black study', 'recent debate', 'race / ethnicity', 'division', 'resistance', 'film', 'kazakhstan', 'mean', 'emphasis', 'racial inequality', 'hip hop', 'discourse analysis', 'alcohol', 'decline', 'depressive symptom', 'involvement', 'nigeria', 'refugee camp', 'civil society', 'october', 'iraq', 'complexity', 'conceptual framework', 'network', 'present research', 'ethnic relation', 'threat', 'prospect', 'limit', 'function', 'design', 'immigrant organisation', 'high rate', 'south', 'ethnic racial study', 'public', 'wake', 'diverse group', 'focus group', 'racial microaggression', 'stone', 'ethnic conflict', 'sociological study', 'explanation', 'college student', 'critical reflection', 'british government', 'prison', 'muslim minority', 'potential', 'chronic disease', 'building', 'observation', 'black feminist thought', 'migrant association', 'advocate', 'college', 'sociologist', 'long distance nationalism', 'otherness', 'centre', 'second world war', 'liberal state', 'tradition', 'introductory paper', 'explosion', 'government policy', 'european government', 'different ethnic group', 'theoretical model', 'london', 'ongoing debate', 'wealth', 'majority', 'los angeles', 'symbolic ethnicity', 'methodology', 'psychological adjustment', 'conventional wisdom', 'ethnic national identity', 'rap music', 'salience', 'call', 'exist research', 'past research', 'gender difference', 'important element', 'southern european country', 'continent', 'social cohesion', 'black student', 'close relationship', 'autobiography', '21st century', 'founder', 'difficulty', 'faith', 'birth', 'mexican state', 'rationale', 'puerto rico', 'academic', 'teacher candidate', 'organization', 'repatriation', 'belgium', 'element', 'cultural identity', 'belonging', 'premise', 'immigrant woman', 'usefulness', 'migrant worker', 'area', 'ethnic identification', 'motivation', 'social anxiety', 'adult', 'linkage', 'cultural socialization', 'prejudice', 'adolescent', 'travel', 'exhibition', 'wife', 'proposition', 'fall', 'entry', 'gypsy', 'position', 'august', 'historically black college', 'inception', 'asylum', 'korean americans', 'cardiovascular disease', 'european integration', 'entrepreneurship', 'encounter', 'mental health problem', 'nationality', 'newcomer', 'language policy', 'refugee law', 'great risk', 'look', 'black youth', 'late 1960', 'capacity', 'reliability', 'three question', 'expectation', 'november', 'stage', 'description', 'political mobilization', 'intellectual', 'cooperation', 'volume', 'activity', 'important component', 'xenophobia', 'course', 'positive relationship', 'symptom', 'implementation', 'dilemma', 'loss', 'republic', 'desire', 'institutional racism', 'size', 'emotion', 'mid twentieth century', 'migrant network', 'extreme right party', 'hospitality', 'long tradition', 'thousand', 'crisis', 'risk factor', 'high prevalence', 'expression', 'self esteem', 'key issue', 'past several decade', 'essence', 'ethiopia', 'willingness', 'introductory article', 'africana studies', 'food', 'roma minority', 'human right', 'patient', 'centrality', 'richard iton', 'reparation', 'second generation immigrant', 'increase risk', 'political science', 'force displacement', 'racial ethnic difference', 'little research', 'brutality', 'scale', 'current research', 'washington', 'trend', 'applicability', 'mobilization', 'sexual violence', 'critical examination', 'cancer', 'world war ii', 'ethnic difference', 'colonization', 'ethnic discrimination', 'immigrant group', 'politics', 'genre', 'persistence', 'racial minority', 'behavior', 'dearth', 'principle', 'primordialism', 'african american man', 'consensus', 'website', 'relevance', 'plight', 'black community', 'intention', 'revival', 'strength', 'logic', 'southern africa', 'comparative analysis', 'social science', 'measurement', 'contention', 'historiography', 'social inequality', 'power relation', 'heritage', 'western society', 'urban area', 'great extent', 'russia', 'preliminary study', 'pakistan', 'interpretation', 'palestinian refugee', 'earning', 'revolution', 'feasibility', 'afrocentricity', 'face', 'two group', 'self employment', 'racial difference', 'text', 'contradiction', 'consideration', 'demand', 'jennifer lee', 'kenya', 'party', 'displacement', 'extension', 'indicator', 'social connectedness', 'aboriginal people', 'justice', 'dream', 'anthropology', 'kind', 'prediction', 'refugee study', 'racial segregation', 'ethnic entrepreneurship', 'oppression', 'racial politic', 'rejoinder', 'imagination', 'livelihood', 'considerable attention', 'recent attempt', 'force migration', 'chapter', 'israeli palestinian conflict', 'activism', 'new york city', 'perceive racial discrimination', 'nineteenth century', 'protest', 'cultural politic', 'one hand', 'racial identification', 'accommodation', 'moment', 'neoliberalism', 'feature', 'popular culture', 'liberation', 'classroom', 'racial disparity', 'benefit', 'settlement', 'efficacy', 'validity', 'self construal', 'balkans', 'generalizability', 'mass displacement', 'united nations', 'ethnic racial studies', 'civil right movement', 'sectarianism', 'body image', 'granting', 'nationally representative datum', 'national latino asian american study', 'central question', 'connectedness', 'black radical tradition', 'racist violence', 'mental health disparity', 'early 1960', 'hiv / aids', 'politicization', 'follow article', 'nationhood', 'employment', 'mission', 'immigrant minority', 'first generation immigrant', 'african identity', 'host', 'science', 'one third', 'significant problem', 'employee', 'first time', 'several country', 'migration policy', 'illinois', 'empirical datum', 'clinical trial', 'liberal democracy', 'polish migrant', 'song', 'abuse', 'liberalism', 'palestine', 'cultural resource', 'new immigrant', 'contemporary discourse', 'white americans', 'survey datum', 'fear', 'east central europe', 'national border', 'new form', 'recent time', 'central role', 'ethnic category', 'epidemic', 'professional', 'civilisation', 'slave', 'resurgence', 'villager', 'racial line', 'large sample', 'school choice', 'marginalize group', 'application', 'catholicism', 'speculation', 'australian government', 'latino', 'cape verde', 'early 1980', 'village', 'dominant discourse', 'international level', 'hybridity', 'reading', 'political transnationalism', 'clash', 'resource', 'mixed method approach', 'narrative analysis', 'ethnic composition', 'explanatory model', 'present paper', 'caribbean', 'critical role', 'increase attention', 'british asians', 'us politic', 'majority population', 'resettlement', 'acceptance', 'public discourse', 'program', 'key element', 'multiplicity', 'toronto', 'transnational space', 'new york', 'union', 'hundred of thousand', 'appointment', 'puzzle', 'africana study', 'diversification', 'racial discourse', 'presidency', 'affirmative action policy', 'illness', 'mixed method study', 'ground theory approach', 'new antisemitism', 'asian indians', 'transnational mobility', 'matter', 'person', 'first decade', 'economic', 'campaign', 'state intervention', 'brief overview', 'psychological well being', 'detail', 'participant observation', 'programme', 'marker', 'wales', 'refugee experience', 'main objective', 'witness', 'psychology', 'new model', 'core value', 'dialogue', 'economist', 'diagnosis', 'recent immigrant', 'solution', 'academic literature', 'central eastern europe', 'phenomenology', 'newspaper', 'breast cancer', 'reaction', 'latin american immigrant', 'middle', 'marcus garvey', 'criterion', 'genocide', 'ethnic nationalism', 'thailand', 'organisation', 'different kind', 'african diaspora', 'pilot study', 'immigrant worker', 'ambiguity', 'racial categorization', 'total', 'labour', 'original survey', 'usage', 'selection', 'confluence', '19th century', 'meeting', 'school performance', 'criticism', 'inquiry', 'spring', 'one aspect', 'romania', 'sudan', 'liberal', 'domination', 'poet', 'new generation', 'content analysis', 'tourism', 'previous literature', 'movie', 'racial bias', 'cold war', 'midst', 'teacher educator', 'radical right party', 'elevated level', 'contemporary form', 'impediment', 'identity development', 'key site', 'utility', 'ethnographic analysis', 'racial / ethnic minority', 'multicultural society', 'breadth', 'internally displace person', 'social problem', 'dispersal', 'line', 'dance', 'reproduction', 'african american youth', 'detention', 'advantage', 'collectivism', 'uncertainty', 'emigration', 'fire', 'alcohol use', 'advance', 'christians', 'antecedent', 'racial ethnic disparity', 'very little research', 'meer', 'african american history', 'crime', 'increasingly important role', 'social class', 'united state', 'metaphor', 'dominican republic', 'racial ethnic identity', 'african american student', 'emerge literature', 'uniqueness', 'ghana', 'brussels', 'death penalty', 'north', 'severity', 'island', 'national pride', 'white teacher', 'pain', 'feminism', 'appraisal', 'mixture', 'colleague', 'federalism', 'adherence', 'racial violence', 'two decade', 'global flow', 'relatively little research', 'central theme', 'moderate role', 'religious diversity', 'parenting', 'disaster', 'minority ethnic group', 'collective memory', 'entanglement', 'adjustment', 'labour market participation', 'interrogation', 'korean immigrant', 'global migration', 'transnational social space', 'transnational social field', 'labour migrant', 'spectacle', 'quest', 'segregation', 'cross national comparison', 'tenet', 'complex issue', 'intolerance', 'responsibility', 'convergence', 'global south', 'intelligence', 'britishness', 'jim crow', 'force', 'racial ethnic minority', 'kashmir', 'anxiety', 'tanzania', 'preliminary result', 'search', 'cult', 'reader', 'holocaust', 'hip hop music', 'alternative', 'stereotype threat', 'great britain', 'familism', 'prophet', 'hispanics', 'attack', 'regulation', 'resonance', 'silence', 'reception', 'july', 'vienna', 'action', 'finland', 'aspiration', 'irregular migrant', 'information', 'kurds', 'dichotomy', 'new understanding', 'accession', 'hatred', 'under representation', 'high risk', 'leader', 'early twentieth century', 'interviewer', 'migrant social capital', 'international student', 'mixed race individual', 'requirement', 'health outcome', 'improvement', 'awareness', 'recent trend', 'photograph', 'popular representation', 'thought', 'norway', 'parental involvement', 'product', 'vietnam', 'individual right', 'philippines', 'colonial legacy', 'type 2 diabetes', 'parallel', 'removal', 'stranger', 'state border', 'switzerland', 'social support', 'incentive', 'migration status', 'migration theory', 'black power movement', 'latino immigrant', 'quantitative datum', 'new millennium', 'climate', 'qualitative interview', 'depiction', 'modernity', 'path', 'last fifteen year', 'census', 'nepal', 'backdrop', 'self rate health', 'scholarly interest', 'democratization', 'prism', 'model minority', 'hiring', 'employer', 'national narrative', 'bulgaria', 'identity politic', 'educational outcome', 'march', 'neighbourhood', 'interracial marriage', 'transnational engagement', 'south carolina', 'incidence', 'microcosm', 'chicago', 'utilization', 'abortion', 'domestic violence', 'chance', 'gypsies', 'multiculturalist', 'current trend', 'complex interaction', 'ability', 'last 15 year', 'african american male', 'welfare', 'circumstance', 'cultural study', 'longitudinal datum', 'adaptation', 'expert', 'black male', 'racial classification', 'match', 'social interaction', 'ethnic politic', 'social construction', 'blacks', 'african descent', 'civil war', 'intermarriage', 'empirical study', 'central asia', 'dialectic', 'television', 'ukraine', 'important contribution', 'student teacher', 'structural change', 'recruitment', 'teaching', 'control', 'active role', 'czech republic', 'post apartheid south africa', 'democracy', 'european state', 'last 30 year', 'conflation', 'resilience', 'immigrant parent', 'interface', 'former soviet union', 'popularity', 'migrant child', 'disadvantage', 'tolerance', 'key aspect', 'behaviour', 'paul gilroy', 'socioeconomic status', 'insecurity', 'word', 'birmingham', 'governance', 'important determinant', 'early study', 'john rex', 'public policy', 'obstacle', 'ethnic religious identity', 'key component', 'nativity', 'racialized outsider', 'indigenous group', 'economic status', 'negative attitude', 'california', 'fertility', 'new orleans', 'rape', 'visibility', 'proportion', 'worker', 'people s republic', 'electorate', 'socio economic condition', 'norm', 'various way', 'theoretical debate', 'mode', 'transnational perspective', 'public school', 'colombia', 'common experience', 'subject matter', 'critical engagement', 'marriage migration', 'misunderstanding', 'underrepresentation', 'traumatic event', 'two question', 'mental disorder', 'southeast asia', 'group formation', 'health care professional', 'riot', 'historical analysis', 'spirituality', 'secondary source', 'commentator', 'father', 'diverse way', 'formulation', 'western democracy', 'charge', 'paradigm', 'estonia', 'arab americans', 'research method', 'embodiment', 'participant', 'exclusion', 'cultural factor', 'policing', 'slovenia', 'operation', 'commemoration', 'spread', 'immigration control', 'west africa', 'muslim', 'immigrant family', 'japanese americans', 'security threat', 'hand', 'president', 'migrant family', 'self determination', 'mental health service use', 'ethnic diversity', 'all form', 'popular discourse', 'social change', 'homosexuality', 'appropriateness', 'statistical datum', 'excerpt', 'addition', 'pregnancy', 'change nature', 'mexicans', 'protective factor', 'questionnaire', 'nationalist discourse', 'american society', 'immigration law', 'british empire', 'office', 'allegation', 'character', 'ghetto', 'increase diversity', 'capitalism', 'acquisition', 'central issue', 'morbidity', 'african', 'celebration', 'native americans', 'exist theory', 'recent change', 'anti semitism', 'social condition', 'scene', 'supply', 'dispute', 'promise', 'muslim identity', 'incarceration', 'meta analysis', 'social context', 'national sample', 'model minority stereotype', 'breakdown', 'opinion', 'trope', 'section', 'analytical framework', 'advancement', 'neighborhood', 'garveyism', 'black panther party', 'transnational tie', 'cultural policy', 'complex process', 'opposition', 'positive outcome', 'black caribbeans', 'region', 'duality', 'ethnic disparity', 'canadians', 'distinction', 'innovation', 'intersectional analysis', 'mobile phone', 'political representation', 'haiti', 'white community', 'white racial identity', 'portrayal', 'theoretical approach', 'serbia', 'european city', 'administration', 'us government', 'concentration', 'asian american adolescent', 'editor', 'croatia', 'black people', 'social science research', 'earthquake', 'validation', 'mentoring', 'latina', 'identification', 'white woman', 'visit', 'promotion', 'authenticity', 'soccer', 'midwest', 'private sector', 'outsider', 'representative datum', 'earth', 'reliance', 'predominantly white institution', 'cricket', 'ethnic mobilization', 'municipality', 'appearance', 'yugoslavia', 'particular type', 'silencing', 'sameness', 'football', 'christianity', 'whites', 'dutch', 'producer', 'subsistence', 'grow importance', 'chinese culture', 'countryside', 'various aspect', 'colour', 'exception', 'half', 'hundred', 'vision', 'albanians', 'response rate', 'care', 'differential effect', 'resident', 'laboratory', 'hawai i', 'profound impact', 'independent state', 'cervical cancer', 'decolonisation', 'magnitude', 'first attempt', 'british identity', 'affirmative action program', 'gender relation', 'state action', 'personal identity', 'environment', 'location', 'skilled migration', 'torture', 'refuge', 'convenience sample', 'equal opportunity', 'three approach', 'mass medium', 'black college student', 'health condition', 'political right', 'homelessness', 'sociological analysis', 'major factor', 'white ethnicity', 'young black male', 'last ten year', 'capital', 'roma people', 'marxism', 'political change', 'conceptualisation', 'federation', 'answer', 'reference', 'proposal', 'invocation', 'node', 'service', 'scarcity', 'sexism', 'productivity', 'material', 'demographic characteristic', 'political context', 'asylum system', 'white male', 'ethnic', 'wisdom', 'inconsistency', 'labor', 'anti racism', 'mauritius', 'fiji', 'government program', 'polity', 'ethnic affiliation', 'reduction', 'new insight', 'control condition', 'wage', 'nazi germany', 'stake', 'suriname', 'alcohol consumption', 'general population', 'destination', 'anonymity', 'significant impact', 'local history', 'weakness', 'democratic citizenship', 'sub saharan africa', 'black scholar', 'labour market integration', 'distance', 'proximity', 'limitation', 'basque country', 'ministry', 'department', 'broad context', 'defence', 'jewish community', 'zionism', 'mosque', 'official statistic', 'trinidad', 'military service', 'occasion', 'transnational political practice', 'securitization', 'journey', 'global market', 'historical background', 'hindu nationalism', 'grade', 'final section', 'shortcoming', 'two country', 'reconsideration', 'political struggle', 'museum', 'key theme', 'propensity', 'demonstration', 'center', 'racial exclusion', 'health care provider', 'postmodernism', 'common ground', 'signifier', 'social formation', 'talk', 'ethnic prejudice', 'critical literacy', 'hegemony', 'mammography', 'accessibility', 'amount', 'disagreement', 'black identity', 'contemporary migration', 'festival', 'cultural construction', 'planning', 'primacy', 'safety', 'returnee', 'us citizen', 'social influence', 'imperialism', 'narration', 'transnational context', 'ambivalent relationship', 'revitalization', 'human right abuse', 'margin', 'resolution', 'misrepresentation', 'denigration', 'primary focus', 'exercise', 'african american studies', 'racial category', 'excess', 'permanence', 'ethnic medium', 'divide', 'fascism', 'ethnic cleansing', 'variability', 'army', 'ecuador', 'certain extent', 'ethnic status', 'sensitivity', 'length', 'liberty', 'articulation', 'oral testimony', 'supreme court', 'rule', 'progress', 'detainee', 'black own business', 'ethnic racial identity', 'symbol', 'irish', 'mid 1960', 'social security', 'micro level', 'south asia', 'classification', 'ethnic tie', 'political action', 'terminology', 'household', 'anthropologist', 'informant', 'negative perception', 'local identity', 'viability', 'comparative perspective', 'long term illness', 'inhabitant', 'labor market', 'segment', 'first part', 'soviet union', 'rehabilitation', 'authority', 'two level', 'conformity', 'problematic relationship', 'manipulation', 'dependency', 'various group', 'viewpoint', 'headline', 'perpetuation', 'political debate', 'pan africanism', 'offspring', 'profile', 'aids', 'two type', 'main argument', 'ethnic community', 'african american culture', 'western culture', 'ethnic inequality', 'second generation migrant', 'one country', 'instrument', 'turkish state', 'mobilisation', 'realm', 'characterization', 'self report questionnaire', 'diaspora community', 'several decade', 'active citizenship', 'correspondence', 'ideal', 'alabama', 'high percentage', 'grief', 'mistrust', 'everyday interaction', 'secularization', 'variable', 'member state', 'immigration politic', 'uk government', 'predicament', 'significant change', 'educational research', 'smith', 'stressful event', 'marginality', 'health care', 'social trust', 'affinity', 'dissatisfaction', 'puerto ricans', 'racist incident', 'mental health need', 'public debate', 'prior study', 'subordination', 'stockholm', 'regime', 'infrastructure', 'nexus', 'nazis', 'obama', 'age range', 'free speech', 'englishness', 'empirical research', 'physical health', 'textbook', 'important insight', 'late nineteenth century', 'citizenship acquisition', 'restriction', 'live experience', 'nuance', 'assassination', 'western state', 'testimony', 'third reich', 'exchange', 'jerusalem', 'first wave', 'armenians', 'deportability', 'quarter', 'religious involvement', 'methodological nationalism', 'nationalism study', 'race relation', 'dominant paradigm', 'translator', 'structural barrier', 'new way', 'smoking', 'reminder', 'meaningful way', 'motherhood', 'wearing', 'turkishness', 'privilege', 'cross', 'black person', 'custody', 'transnational network', 'italian society', 'non governmental organization', 'ngos', 'musician', 'imprisonment', 'contour', 'video', 'state policy', 'rationality', 'homeland', 'likelihood', 'maori', 'guise', 'popular understanding', 'leicester', 'berlin', 'retention', 'cultivation', 'transnational connection', 'citizenship law', 'victimization', 'modern nation', 'masse', 'friendship', 'immigrant concentration', 'iran', 'transaction', 'minority population', 'discrepancy', 'cultural heritage', 'african american college student', 'critical theory', 'pace', 'advertisement', 'illegal immigrant', 'sharp contrast', 'favor', 'well understanding', 'tobacco use', 'wilson', 'cohesion', 'ethnographic work', 'mismatch', 'human being', 'mental health treatment', 'high education institution', 'transnational activity', 'life experience', 'foreign country', 'caucasians', 'racial democracy', 'inflow', 'crucial role', 'modern society', 'universalism', 'political process', 'social tie', 'romanians', 'survey research', 'racial boundary', 'central argument', 'qualification', 'friend', 'late eighteenth century', 'reach', 'parental control', 'multiracial', 'street', 'cross sectional study', 'undocumented immigrant', 'ethnographic method', 'systematic analysis', 'institutional change', 'expulsion', 'dehumanization', 'immigrant status', 'key challenge', 'refugee convention', 'montreal', 'sentiment', 'traveller', 'various dimension', 'shadow', 'replacement', 'unity', 'two set', 'policy document', 'labour market', 'cluster analysis', 'racial identity attitude', 'depth', 'significant level', 'funding', 'local policy', 'malta', 'agency', 'indigenous woman', 'empathy', 'cost', 'community cohesion', 'zimbabwe', 'high concentration', 'commonality', 'amsterdam', 'language proficiency', 'convenience', 'central concern', 'documentation', 'rejection', 'tragedy', 'cultural context', 'mellitus', 'african origin', 'three way', 'english speak country', 'penality', 'same time', 'close tie', 'bottom', 'cultural value', 'migrant agency', 'pivotal role', 'moderator', 'durable solution', 'different factor', 'ethnic variation', 'major shift', 'large part', 'positive effect', 'compete claim', 'theoretical insight', 'reform', 'stock', 'multinational state', 'send country', 'two part', 'counseling', 'refugee child', 'major contribution', 'december', 'victim', 'immigrant assimilation', 'enculturation', 'declaration', 'psychological health', 'mexican americans', 'whitening', 'racial oppression', 'social capital theory', 'individual interview', 'early 2000', 'filipinos', 'husband', 'ethnic group difference', 'illustration', 'academic success', 'suicide', 'young immigrant', 'racism relate stress', 'peru', 'urban community', 'asian american woman', 'individual level', 'concurrent validity', 'social', 'genesis', 'formal education', 'national minority', 'invisibility', 'clinical practice', 'intergroup relation', 'outrage', 'political discourse', 'less extent', 'step', 'secularism', 'racial equality', 'civilian', 'utilisation', 'scheme', 'migration decision', 'new type', 'political power', 'hair', 'nativity status', 'major source', 'previous scholarship', 'multigroup ethnic identity measure', 'meim', 'black history', 'black immigrant', 'vanguard', 'suicidal ideation', 'research study', 'guardian', 'qualitative datum', 'past 20 year', 'surge', 'small group', 'address', 'conference', 'drama', 'university student', 'germans', 'austria', 'femininity', 'coexistence', 'counterpart', 'state official', 'academic discipline', 'reconstruction', 'empirical evidence', 'interview datum', 'incorporation', 'three ethnic group', 'accumulation', 'high proportion', 'urban context', 'medium discourse', 'combination', 'hungarians', 'old adult', 'significant factor', 'global scale', 'all country', 'decentralization', 'pathway', 'interculturalism', 'brother', 'accusation', 'settler society', 'underutilization', 'body', 'middle east', 'spirit', 'body dissatisfaction', 'chinese woman', 'ramification', 'appreciation', 'cornerstone', 'school experience', 'alternative explanation', 'deep understanding', 'lived experience', 'indigenous australians', 'individual characteristic', 'origin country', 'cycle', 'jamaica', 'migration research', 'migrant experience', 'ethnic lens', 'option', 'family conflict', 'political significance', 'flight', 'cultural capital', 'peace', 'ambivalence', 'disjuncture', 'fluidity', 'black church', 'trauma', 'scientific racism', 'hbcus', 'something', 'council', 'postracial', 'demography', 'love', 'compensation', 'deprivation', 'period', 'life expectancy', 'emotional self control', 'weapon', 'mainland china', 'political conflict', 'tibet', 'datum source', 'health inequality', 'literacy', 'subset', 'release', 'specific form', 'racial prejudice', 'display', 'technology', 'early 20th century', 'sao paulo', 'central place', 'indigenous population', 'smartness', 'political activism', 'lyon', 'transnational movement', 'social life', 'vulnerability', 'western european country', 'aboriginal australians', 'refugee protection', 'substance use', 'killing', 'modality', 'different form', 'everyday racism', 'reintegration', 'south asian community', 'district', 'methodological approach', 'eritrea', 'information technology', 'federal government', 'ethnic segregation', 'structural condition', 'young child', 'endorsement', 'attribution', 'three theme', 'league', 'economic crisis', 'contact', 'educational experience', 'leadership', 'substance', 'disorder', 'prominence', 'note', 'ethnic violence', 'important implication', 'jordan', 'destination country', 'different perspective', 'rhetorical strategy', 'different country', 'spite', 'blood pressure', 'congress', 'key term', 'public space', 'corruption', 'overt racism', 'risk perception', 'dataset', 'hijab', 'genealogy', 'voter', 'british context', 'ethnic boundary', 'home country', 'activation', 'discovery', 'dissent', 'task', 'mediate role', 'soil', 'convert', 'mid nineteenth century', 'chinese immigrant', 'aggression', 'host society', 'immobility', 'injustice', 'socialization', 'sri lanka', 'grow interest', 'mexican migration', 'complex interplay', 'contact zone', 'self reliance', 'frequency', 'emerge adult', 'two case', 'nation building process', 'trafficking', 'iconography', 'poles', 'large group', 'thinker', 'semi structured interview', 'omission', 'state legislature', 'economic inequality', 'grow concern', 'differential', 'past few decade', 'vary level', 'secession', 'aesthetic', 'caregiver', 'economic opportunity', 'judaism', 'immigrant background', 'multilevel analysis', 'burma', 'academic research', 'platform', 'black liberation', 'karen', 'contemporary society', 'forefront', 'paul robeson', '20th century', 'archive', 'statelessness', 'suburb', 'farmer', 'urban space', 'asset', 'civil rights movement', 'cultural difference', '2 study', 'news coverage', 'critical discourse analysis', 'newspaper article', 'cultural influence', 'immigrants', 'extreme right', 'influx', 'subjective well being', 'turkish migrant', 'wide range', 'prostitution', 'istanbul', 'disability', 'contemporary europe', 'national survey', 'title', 'hindus', 'sikhs', 'camp', 'contestation', 'court', 'british muslims', 'embrace', 'commitment', 'past 50 year', 'synthesis', 'scientist', 'positioning', 'essential component', 'racial hierarchy', 'attachment', 'qualitative quantitative method', 'self understanding', 'theorist', 'obligation', 'international law', 'admission', 'sharing', 'base', 'academic achievement', 'statistics canada', 'wall', 'national culture', 'unique opportunity', 'migrant group', 'catalonia', 'moroccans', 'new york times', 'american dream', 'predominantly white college', 'first glance', 'renegotiation', 'statistic', '2001 census', 'stance', 'post traumatic stress disorder', 'template', 'emigrant', 'recent effort', 'window', 'new technology', 'new state', 'provider', 'daily life', 'muslim youth', 'particular case', 'victimhood', 'migrant integration', 'diffusion', 'receipt', 'internal displacement', 'adolescence', 'morocco', 'specific way', 'trust', 'autumn', 'dominant group', 'bilingualism', 'important site', 'skin color', 'unhcr', 'ethnic minority status', 'obesity', 'national history', 'medical care', 'gain', 'mixed race', 'week', 'mid 1980', 'object', 'refugee woman', 'displace people', 'old people', 'british state', 'deliberation', 'justification', 'rural area', 'multiracial individual', 'unique position', 'potential consequence', 'property', 'hostility', 'bonding', 'ethno nationalism', 'hegemonic discourse', 'emotion regulation', 'regression analysis', 'unemployment', 'immigrant incorporation', 'college campus', 'healthcare', 'diet', 'imagery', 'police', 'different type', 'first african american president', 'danish society', 'protective effect', 'significant issue', 'contemporary france', 'three study', 'interconnection', 'colonial mentality', 'young woman', 'census datum', 'surveillance', 'french society', 'remittance', 'pool', 'rapid growth', 'african immigrant', 'lebanon', 'poor mental health', 'positive experience', 'asian culture', 'membership', 'marking', 'political ideology', 'racial matter', 'millennium', 'qualitative analysis', 'factor structure', 'three group', 'academic performance', 'loyalty', 'terrorist attack', 'veil', 'large proportion', 'moderate effect', 'purview', 'start', 'political development', 'rumination', 'human mobility', 'internal consistency', 'globe', 'large population', 'almost half', 'inferiority', 'positive change', 'news', 'educational attainment', 'three part', 'disclosure', 'sacrifice', 'previous work', 'dominance', 'contemporary context', 'crimea', 'different pattern', 'specific case', 'political activist', 'writer', 'economic activity', 'national self determination', 'egypt', 'return migrant', 'adolescent perception', 'transnational relation', 'economy', 'argentina', 'tatarstan', 'russian federation', 'continuity', 'brief discussion', 'new politic', 'contemporary racism', 'constitution', 'decolonization', 'social phenomenon', 'various kind', 'mental health service', 'small sample', 'paris', 'multicultural policy', 'albania', 'enslavement', 'west bank', 'initiation', 'research literature', 'foreign national', 'incident', 'asian', 'taboo', 'living condition', 'nationally representative sample', 'well health', 'new datum', 'muslim population', 'permanent settlement', 'williams', 'migrant woman', 'social transformation', 'three year', 'entrepreneur', datetime.datetime(2024, 9, 11, 0, 0), 'british national party', 'virginia', 'delivery', 'common theme', 'current understanding', 'repertoire', 'home office', 'sexual behaviour', 'traditional belief', 'muslim woman', 'protection', 'following', 'conversation', 'empowerment', 'pathology', 'alienation', 'structural equation model', 'latino youth', 'gender equality', 'demise', 'different strategy', 'facilitator', 'close examination', 'denial', 'occupation', 'agent', 'last quarter', 'consciousness', 'ethnic majority', 'large study', 'copy', 'du bois', 'mainstream society', 'semistructured interview', 'reconfiguration', 'graduate', 'eastern europe', 'undocumented migrant', 'configuration', 'restoration', 'political scientist', 'new direction', 'turkish nationalism', 'two community', 'symbolic violence', 'capability', 'advice', 'professor', 'tenure', 'devolution', 'minority group member', 'mother', 'entertainment', 'minority student', 'probability', 'cultural competence', 'current state', 'latino adolescent', 'industry', 'first half', 'us population', 'founding', 'teenager', 'african american experience', 'european american counterpart', 'necessary condition', 'cultural orientation', 'moroccan migrant', 'hip hop culture', 'pre service teacher', 'important factor', 'present', 'systematic review', 'linking', 'instability', 'migration flow', 'hypertension', 'historical development', 'new country', 'institutionalization', 'political engagement', 'koreans', 'terrorism', 'slovakia', 'technique', 'mid 1990', 'momentum', 'intimate relationship', 'radicalism', 'survival', 'social networking', 'postcolonial theory', 'well being', 'transnational study', 'housing', 'multiple factor', 'suicidal behavior', 'behalf', 'stigma', 'recent discussion', 'american history', 'modern nationalism', 'european americans', 'policymaker', 'array', 'everyday experience', 'adoption', 'group member', 'stigmatization', 'spouse', 'cultural homogeneity', 'african country', 'veteran', 'important aspect', 'educational researcher', 'quality', 'various level', 'upward social mobility', 'ethnocentrism', 'african caribbeans', 'racial stereotype', 'socialisation', 'socio economic position', 'new light', 'different aspect', 'quebec', 'methodological challenge', 'signing', 'translation', 'perpetrator', 'racial diversity', 'practitioner', 'radicalisation', 'uganda', 'elite', 'asia', 'indigeneity', 'intensity', 'racial domination', 'extract', 'close connection', 'socio economic status', 'categorization', 'new measure', 'meritocracy', 'european society', 'increase rate', 'social political context', 'deleterious effect', 'high education', 'white student', 'instance', 'political violence', 'national unity', 'dietary change', 'research finding', 'storytelling', 'social psychology', 'ethnicization', 'racist', 'symposium', 'june', 'social movement', 'transnational marriage', 'constraint', 'decision making', 'hold', 'catalyst', 'south african society', 'test', 'mexican migrant', 'fault', 'english identity', 'cultural background', 'syria', 'gender role', 'local government', 'social hierarchy', 'immigrant youth', 'white identity', 'oral history', 'microaggression', 'pervasiveness', 'public discussion', 'consociationalism', 'working', 'danger', 'national belonging', 'prerequisite', 'conclusion', 'social organization', 'reinforcement', 'educational opportunity', 'white privilege', 'autonomy', 'two dimension', 'multiracial people', 'skin', 'positive emotion', 'physician', 'british rule', 'african people', 'several factor', 'immigration attitude', 'linguistic diversity', 'singapore', 'faith base organization', 'drug use', 'territory', 'international migrant', 'comparative approach', 'economic integration', 'african american', 'cultural adaptation', 'colonial', 'brazilians', 'social identity', 'artist', 'water', 'womanhood', 'ethic', 'policy response', 'nation building project', 'share', 'humanitarian assistance', 'audience', 'collective identity', 'anthem', 'emblem', 'borderland', 'patriotism', 'louisiana', 'praxis', 'strong predictor', 'political economy', 'vast majority', 'global city', 'johannesburg', 'shanghai', 'expatriate', 'cultural practice', 'contemporary debate', 'black body', 'multicultural psychology', 'parliament', 'house', 'popular music', 'poetry', 'integration policy', 'scrutiny', 'regard', 'refugee status', 'judgment', 'multiple way', 'framing', 'commodity', 'school climate', 'behavioral acculturation', 'western country', 'racial group', 'occurrence', 'policy making', 'minority status', 'orientalism', 'othering', 'health belief', 'century', 'immigrant adaptation', 'sovereignty', 'identity work', 'anger', 'assertion', 'criminality', 'diasporic identity', 'normalization', 'fate', 'native population', 'civil right', 'compatriot', 'legislation', 'national longitudinal survey', 'certain aspect', 'significant decrease', 'collaboration', 'adolescent health', 'wide variety', 'coronary heart disease', 'ethnic democracy', 'collective action', 'stress', 'el salvador', 'woman s experience', 'trial', 'self', 'multicultural education', 'nationalist ideology', 'interest convergence', 'latvia', 'self representation', 'historical event', 'michigan', 'detroit', 'important way', 'live reality', 'universality', 'civic engagement', 'strong commitment', 'black family', 'acceptability', 'psychologist', 'style', 'family tie', 'two process', 'advent', 'door', 'qualitative interview study', 'obama administration', 'homicide', 'internal migration', 'family history', 'democratisation', 'french', 'political life', 'sexuality', 'priority', 'grand narrative', 'refugees', 'several study', 'age group', 'out migration', 'korea', 'family reunification', 'humanitarianism']\n"
          ]
        }
      ]
    },
    {
      "cell_type": "code",
      "source": [
        "import pickle\n",
        "\n",
        "# Load the vertex embeddings from the file\n",
        "with open(datadir + '/hyperedge_embeddings2_' + str(max_groupsize) + '.p', 'rb') as fp:\n",
        "    hyperedge_data = pickle.load(fp)\n",
        "hyperedge_ids=hyperedge_data[\"ids\"]\n",
        "hyperedge_embeddings=hyperedge_data[\"embeddings\"]"
      ],
      "metadata": {
        "id": "RJZOJ6lMBdW9"
      },
      "execution_count": null,
      "outputs": []
    },
    {
      "cell_type": "code",
      "source": [
        "print(len(node_embeddings[0]))"
      ],
      "metadata": {
        "colab": {
          "base_uri": "https://localhost:8080/"
        },
        "id": "eg_k5vDIBkci",
        "outputId": "ccbd08e6-e544-4461-8a44-76183ed15302"
      },
      "execution_count": null,
      "outputs": [
        {
          "output_type": "stream",
          "name": "stdout",
          "text": [
            "50\n"
          ]
        }
      ]
    },
    {
      "cell_type": "code",
      "source": [
        "# Check the embedding for a paper_id\n",
        "paper_id = '64015600'  # Replace this with the word you want to check\n",
        "if paper_id in hyperedge_ids:\n",
        "    # Get the index of the word in node_ids\n",
        "    embed_index = hyperedge_ids.index(paper_id)\n",
        "    # Fetch the corresponding embedding\n",
        "    embedding = hyperedge_embeddings[embed_index]\n",
        "    print(f\"Embedding for '{paper_id}': {embedding}\")\n",
        "else:\n",
        "    print(f\"'{paper_id}' not found in hyperedges embeddings.\")"
      ],
      "metadata": {
        "colab": {
          "base_uri": "https://localhost:8080/"
        },
        "id": "8NJPWUsEC4Ao",
        "outputId": "956eed22-40d6-4ee8-fe30-e127295d6a33"
      },
      "execution_count": null,
      "outputs": [
        {
          "output_type": "stream",
          "name": "stdout",
          "text": [
            "Embedding for '64015600': [-0.1724158  -0.30911058  0.17869374 -0.02336455 -0.2198408   0.14060803\n",
            " -0.17029455  0.34572706 -0.46052915 -0.40527973  0.41725433  0.13883856\n",
            " -0.4002456  -0.1541834  -0.23865663  0.27786508  0.01196659 -0.28399584\n",
            " -0.05883624 -0.00079855  0.35517216  0.49743184 -0.48904085 -0.53240263\n",
            "  0.14224178  0.19585238  0.01298048 -0.0768832  -0.09091107  0.30085075\n",
            "  0.15142663 -0.44359252  0.52269334  0.18180223  0.41884246  0.21053882\n",
            " -0.24486315  0.10529759 -0.5661837   0.42263198  0.6381528   0.09464369\n",
            " -0.63489956  0.10970066  0.03735866  0.34548822 -0.22717822 -0.04930058\n",
            "  0.46798998 -0.4190707   0.22601326  0.65172786 -0.3923048  -0.05262451\n",
            "  0.07631906 -0.10411481  0.01848615 -0.01241262 -0.14513828 -0.10175294\n",
            " -0.39678994  0.02555451  0.06571677  0.78526515  0.18033612 -0.524255\n",
            "  0.17826733  0.08404802 -0.71284825 -0.56387126 -0.02065249  0.1054785\n",
            " -0.2629859   0.02822165  0.17502682 -0.08312582  0.26564842  0.13636471\n",
            " -0.23571955  0.03078011  0.2674879   0.23377453  0.04407297 -0.02550223\n",
            "  0.24240474  0.41411024 -0.32278627 -0.26929107  0.14804995 -0.0643962\n",
            " -0.12501192  0.07221504 -0.24198951 -0.03798053  0.08826077 -0.12195928\n",
            "  0.03340971  0.08841804  0.28978142  0.02485485  0.06355301 -0.34012577\n",
            "  0.17814147  0.1664555   0.3301792  -0.11149045 -0.24544159  0.18268229\n",
            " -0.17555599 -0.13788725  0.3267033   0.48126304 -0.29060334  0.1839597\n",
            "  0.33447802 -0.11616362 -0.6458129  -0.00792408  0.28985435 -0.27196425\n",
            " -0.42036912  0.11117099 -0.23910643 -0.46534586  0.17302878 -0.03336708\n",
            " -0.21755601  0.16450223]\n"
          ]
        }
      ]
    }
  ]
}