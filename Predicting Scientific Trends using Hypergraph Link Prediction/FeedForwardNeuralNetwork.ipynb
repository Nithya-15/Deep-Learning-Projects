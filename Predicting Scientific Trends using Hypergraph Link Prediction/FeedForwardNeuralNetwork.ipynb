{
  "nbformat": 4,
  "nbformat_minor": 0,
  "metadata": {
    "colab": {
      "provenance": []
    },
    "kernelspec": {
      "name": "python3",
      "display_name": "Python 3"
    },
    "language_info": {
      "name": "python"
    }
  },
  "cells": [
    {
      "cell_type": "code",
      "execution_count": null,
      "metadata": {
        "colab": {
          "base_uri": "https://localhost:8080/"
        },
        "id": "qvxXcfaqFSlp",
        "outputId": "7b3071e8-4a94-4296-b77f-7ddd19b5786c"
      },
      "outputs": [
        {
          "output_type": "stream",
          "name": "stdout",
          "text": [
            "Requirement already satisfied: pydantic in /usr/local/lib/python3.10/dist-packages (2.10.2)\n",
            "Requirement already satisfied: annotated-types>=0.6.0 in /usr/local/lib/python3.10/dist-packages (from pydantic) (0.7.0)\n",
            "Requirement already satisfied: pydantic-core==2.27.1 in /usr/local/lib/python3.10/dist-packages (from pydantic) (2.27.1)\n",
            "Requirement already satisfied: typing-extensions>=4.12.2 in /usr/local/lib/python3.10/dist-packages (from pydantic) (4.12.2)\n",
            "Requirement already satisfied: PyYAML in /usr/local/lib/python3.10/dist-packages (6.0.2)\n",
            "Requirement already satisfied: numpy==1.26.4 in /usr/local/lib/python3.10/dist-packages (1.26.4)\n",
            "Collecting torch==2.1.2\n",
            "  Downloading torch-2.1.2-cp310-cp310-manylinux1_x86_64.whl.metadata (25 kB)\n",
            "Collecting torchvision==0.16.2\n",
            "  Downloading torchvision-0.16.2-cp310-cp310-manylinux1_x86_64.whl.metadata (6.6 kB)\n",
            "Collecting torchaudio==2.1.2\n",
            "  Downloading torchaudio-2.1.2-cp310-cp310-manylinux1_x86_64.whl.metadata (6.4 kB)\n",
            "Requirement already satisfied: filelock in /usr/local/lib/python3.10/dist-packages (from torch==2.1.2) (3.16.1)\n",
            "Requirement already satisfied: typing-extensions in /usr/local/lib/python3.10/dist-packages (from torch==2.1.2) (4.12.2)\n",
            "Requirement already satisfied: sympy in /usr/local/lib/python3.10/dist-packages (from torch==2.1.2) (1.13.1)\n",
            "Requirement already satisfied: networkx in /usr/local/lib/python3.10/dist-packages (from torch==2.1.2) (3.4.2)\n",
            "Requirement already satisfied: jinja2 in /usr/local/lib/python3.10/dist-packages (from torch==2.1.2) (3.1.4)\n",
            "Requirement already satisfied: fsspec in /usr/local/lib/python3.10/dist-packages (from torch==2.1.2) (2024.10.0)\n",
            "Collecting nvidia-cuda-nvrtc-cu12==12.1.105 (from torch==2.1.2)\n",
            "  Downloading nvidia_cuda_nvrtc_cu12-12.1.105-py3-none-manylinux1_x86_64.whl.metadata (1.5 kB)\n",
            "Collecting nvidia-cuda-runtime-cu12==12.1.105 (from torch==2.1.2)\n",
            "  Downloading nvidia_cuda_runtime_cu12-12.1.105-py3-none-manylinux1_x86_64.whl.metadata (1.5 kB)\n",
            "Collecting nvidia-cuda-cupti-cu12==12.1.105 (from torch==2.1.2)\n",
            "  Downloading nvidia_cuda_cupti_cu12-12.1.105-py3-none-manylinux1_x86_64.whl.metadata (1.6 kB)\n",
            "Collecting nvidia-cudnn-cu12==8.9.2.26 (from torch==2.1.2)\n",
            "  Downloading nvidia_cudnn_cu12-8.9.2.26-py3-none-manylinux1_x86_64.whl.metadata (1.6 kB)\n",
            "Collecting nvidia-cublas-cu12==12.1.3.1 (from torch==2.1.2)\n",
            "  Downloading nvidia_cublas_cu12-12.1.3.1-py3-none-manylinux1_x86_64.whl.metadata (1.5 kB)\n",
            "Collecting nvidia-cufft-cu12==11.0.2.54 (from torch==2.1.2)\n",
            "  Downloading nvidia_cufft_cu12-11.0.2.54-py3-none-manylinux1_x86_64.whl.metadata (1.5 kB)\n",
            "Collecting nvidia-curand-cu12==10.3.2.106 (from torch==2.1.2)\n",
            "  Downloading nvidia_curand_cu12-10.3.2.106-py3-none-manylinux1_x86_64.whl.metadata (1.5 kB)\n",
            "Collecting nvidia-cusolver-cu12==11.4.5.107 (from torch==2.1.2)\n",
            "  Downloading nvidia_cusolver_cu12-11.4.5.107-py3-none-manylinux1_x86_64.whl.metadata (1.6 kB)\n",
            "Collecting nvidia-cusparse-cu12==12.1.0.106 (from torch==2.1.2)\n",
            "  Downloading nvidia_cusparse_cu12-12.1.0.106-py3-none-manylinux1_x86_64.whl.metadata (1.6 kB)\n",
            "Collecting nvidia-nccl-cu12==2.18.1 (from torch==2.1.2)\n",
            "  Downloading nvidia_nccl_cu12-2.18.1-py3-none-manylinux1_x86_64.whl.metadata (1.8 kB)\n",
            "Collecting nvidia-nvtx-cu12==12.1.105 (from torch==2.1.2)\n",
            "  Downloading nvidia_nvtx_cu12-12.1.105-py3-none-manylinux1_x86_64.whl.metadata (1.7 kB)\n",
            "Collecting triton==2.1.0 (from torch==2.1.2)\n",
            "  Downloading triton-2.1.0-0-cp310-cp310-manylinux2014_x86_64.manylinux_2_17_x86_64.whl.metadata (1.3 kB)\n",
            "Requirement already satisfied: numpy in /usr/local/lib/python3.10/dist-packages (from torchvision==0.16.2) (1.26.4)\n",
            "Requirement already satisfied: requests in /usr/local/lib/python3.10/dist-packages (from torchvision==0.16.2) (2.32.3)\n",
            "Requirement already satisfied: pillow!=8.3.*,>=5.3.0 in /usr/local/lib/python3.10/dist-packages (from torchvision==0.16.2) (11.0.0)\n",
            "Requirement already satisfied: nvidia-nvjitlink-cu12 in /usr/local/lib/python3.10/dist-packages (from nvidia-cusolver-cu12==11.4.5.107->torch==2.1.2) (12.6.85)\n",
            "Requirement already satisfied: MarkupSafe>=2.0 in /usr/local/lib/python3.10/dist-packages (from jinja2->torch==2.1.2) (3.0.2)\n",
            "Requirement already satisfied: charset-normalizer<4,>=2 in /usr/local/lib/python3.10/dist-packages (from requests->torchvision==0.16.2) (3.4.0)\n",
            "Requirement already satisfied: idna<4,>=2.5 in /usr/local/lib/python3.10/dist-packages (from requests->torchvision==0.16.2) (3.10)\n",
            "Requirement already satisfied: urllib3<3,>=1.21.1 in /usr/local/lib/python3.10/dist-packages (from requests->torchvision==0.16.2) (2.2.3)\n",
            "Requirement already satisfied: certifi>=2017.4.17 in /usr/local/lib/python3.10/dist-packages (from requests->torchvision==0.16.2) (2024.8.30)\n",
            "Requirement already satisfied: mpmath<1.4,>=1.1.0 in /usr/local/lib/python3.10/dist-packages (from sympy->torch==2.1.2) (1.3.0)\n",
            "Downloading torch-2.1.2-cp310-cp310-manylinux1_x86_64.whl (670.2 MB)\n",
            "\u001b[2K   \u001b[90m━━━━━━━━━━━━━━━━━━━━━━━━━━━━━━━━━━━━━━━━\u001b[0m \u001b[32m670.2/670.2 MB\u001b[0m \u001b[31m2.8 MB/s\u001b[0m eta \u001b[36m0:00:00\u001b[0m\n",
            "\u001b[?25hDownloading torchvision-0.16.2-cp310-cp310-manylinux1_x86_64.whl (6.8 MB)\n",
            "\u001b[2K   \u001b[90m━━━━━━━━━━━━━━━━━━━━━━━━━━━━━━━━━━━━━━━━\u001b[0m \u001b[32m6.8/6.8 MB\u001b[0m \u001b[31m19.3 MB/s\u001b[0m eta \u001b[36m0:00:00\u001b[0m\n",
            "\u001b[?25hDownloading torchaudio-2.1.2-cp310-cp310-manylinux1_x86_64.whl (3.3 MB)\n",
            "\u001b[2K   \u001b[90m━━━━━━━━━━━━━━━━━━━━━━━━━━━━━━━━━━━━━━━━\u001b[0m \u001b[32m3.3/3.3 MB\u001b[0m \u001b[31m76.7 MB/s\u001b[0m eta \u001b[36m0:00:00\u001b[0m\n",
            "\u001b[?25hDownloading nvidia_cublas_cu12-12.1.3.1-py3-none-manylinux1_x86_64.whl (410.6 MB)\n",
            "\u001b[2K   \u001b[90m━━━━━━━━━━━━━━━━━━━━━━━━━━━━━━━━━━━━━━━━\u001b[0m \u001b[32m410.6/410.6 MB\u001b[0m \u001b[31m4.2 MB/s\u001b[0m eta \u001b[36m0:00:00\u001b[0m\n",
            "\u001b[?25hDownloading nvidia_cuda_cupti_cu12-12.1.105-py3-none-manylinux1_x86_64.whl (14.1 MB)\n",
            "\u001b[2K   \u001b[90m━━━━━━━━━━━━━━━━━━━━━━━━━━━━━━━━━━━━━━━━\u001b[0m \u001b[32m14.1/14.1 MB\u001b[0m \u001b[31m82.1 MB/s\u001b[0m eta \u001b[36m0:00:00\u001b[0m\n",
            "\u001b[?25hDownloading nvidia_cuda_nvrtc_cu12-12.1.105-py3-none-manylinux1_x86_64.whl (23.7 MB)\n",
            "\u001b[2K   \u001b[90m━━━━━━━━━━━━━━━━━━━━━━━━━━━━━━━━━━━━━━━━\u001b[0m \u001b[32m23.7/23.7 MB\u001b[0m \u001b[31m66.1 MB/s\u001b[0m eta \u001b[36m0:00:00\u001b[0m\n",
            "\u001b[?25hDownloading nvidia_cuda_runtime_cu12-12.1.105-py3-none-manylinux1_x86_64.whl (823 kB)\n",
            "\u001b[2K   \u001b[90m━━━━━━━━━━━━━━━━━━━━━━━━━━━━━━━━━━━━━━━━\u001b[0m \u001b[32m823.6/823.6 kB\u001b[0m \u001b[31m39.9 MB/s\u001b[0m eta \u001b[36m0:00:00\u001b[0m\n",
            "\u001b[?25hDownloading nvidia_cudnn_cu12-8.9.2.26-py3-none-manylinux1_x86_64.whl (731.7 MB)\n",
            "\u001b[2K   \u001b[90m━━━━━━━━━━━━━━━━━━━━━━━━━━━━━━━━━━━━━━━━\u001b[0m \u001b[32m731.7/731.7 MB\u001b[0m \u001b[31m2.3 MB/s\u001b[0m eta \u001b[36m0:00:00\u001b[0m\n",
            "\u001b[?25hDownloading nvidia_cufft_cu12-11.0.2.54-py3-none-manylinux1_x86_64.whl (121.6 MB)\n",
            "\u001b[2K   \u001b[90m━━━━━━━━━━━━━━━━━━━━━━━━━━━━━━━━━━━━━━━━\u001b[0m \u001b[32m121.6/121.6 MB\u001b[0m \u001b[31m7.5 MB/s\u001b[0m eta \u001b[36m0:00:00\u001b[0m\n",
            "\u001b[?25hDownloading nvidia_curand_cu12-10.3.2.106-py3-none-manylinux1_x86_64.whl (56.5 MB)\n",
            "\u001b[2K   \u001b[90m━━━━━━━━━━━━━━━━━━━━━━━━━━━━━━━━━━━━━━━━\u001b[0m \u001b[32m56.5/56.5 MB\u001b[0m \u001b[31m13.0 MB/s\u001b[0m eta \u001b[36m0:00:00\u001b[0m\n",
            "\u001b[?25hDownloading nvidia_cusolver_cu12-11.4.5.107-py3-none-manylinux1_x86_64.whl (124.2 MB)\n",
            "\u001b[2K   \u001b[90m━━━━━━━━━━━━━━━━━━━━━━━━━━━━━━━━━━━━━━━━\u001b[0m \u001b[32m124.2/124.2 MB\u001b[0m \u001b[31m7.5 MB/s\u001b[0m eta \u001b[36m0:00:00\u001b[0m\n",
            "\u001b[?25hDownloading nvidia_cusparse_cu12-12.1.0.106-py3-none-manylinux1_x86_64.whl (196.0 MB)\n",
            "\u001b[2K   \u001b[90m━━━━━━━━━━━━━━━━━━━━━━━━━━━━━━━━━━━━━━━━\u001b[0m \u001b[32m196.0/196.0 MB\u001b[0m \u001b[31m6.5 MB/s\u001b[0m eta \u001b[36m0:00:00\u001b[0m\n",
            "\u001b[?25hDownloading nvidia_nccl_cu12-2.18.1-py3-none-manylinux1_x86_64.whl (209.8 MB)\n",
            "\u001b[2K   \u001b[90m━━━━━━━━━━━━━━━━━━━━━━━━━━━━━━━━━━━━━━━━\u001b[0m \u001b[32m209.8/209.8 MB\u001b[0m \u001b[31m2.2 MB/s\u001b[0m eta \u001b[36m0:00:00\u001b[0m\n",
            "\u001b[?25hDownloading nvidia_nvtx_cu12-12.1.105-py3-none-manylinux1_x86_64.whl (99 kB)\n",
            "\u001b[2K   \u001b[90m━━━━━━━━━━━━━━━━━━━━━━━━━━━━━━━━━━━━━━━━\u001b[0m \u001b[32m99.1/99.1 kB\u001b[0m \u001b[31m6.2 MB/s\u001b[0m eta \u001b[36m0:00:00\u001b[0m\n",
            "\u001b[?25hDownloading triton-2.1.0-0-cp310-cp310-manylinux2014_x86_64.manylinux_2_17_x86_64.whl (89.2 MB)\n",
            "\u001b[2K   \u001b[90m━━━━━━━━━━━━━━━━━━━━━━━━━━━━━━━━━━━━━━━━\u001b[0m \u001b[32m89.2/89.2 MB\u001b[0m \u001b[31m8.8 MB/s\u001b[0m eta \u001b[36m0:00:00\u001b[0m\n",
            "\u001b[?25hInstalling collected packages: triton, nvidia-nvtx-cu12, nvidia-nccl-cu12, nvidia-cusparse-cu12, nvidia-curand-cu12, nvidia-cufft-cu12, nvidia-cuda-runtime-cu12, nvidia-cuda-nvrtc-cu12, nvidia-cuda-cupti-cu12, nvidia-cublas-cu12, nvidia-cusolver-cu12, nvidia-cudnn-cu12, torch, torchvision, torchaudio\n",
            "  Attempting uninstall: nvidia-nccl-cu12\n",
            "    Found existing installation: nvidia-nccl-cu12 2.23.4\n",
            "    Uninstalling nvidia-nccl-cu12-2.23.4:\n",
            "      Successfully uninstalled nvidia-nccl-cu12-2.23.4\n",
            "  Attempting uninstall: nvidia-cusparse-cu12\n",
            "    Found existing installation: nvidia-cusparse-cu12 12.5.4.2\n",
            "    Uninstalling nvidia-cusparse-cu12-12.5.4.2:\n",
            "      Successfully uninstalled nvidia-cusparse-cu12-12.5.4.2\n",
            "  Attempting uninstall: nvidia-curand-cu12\n",
            "    Found existing installation: nvidia-curand-cu12 10.3.7.77\n",
            "    Uninstalling nvidia-curand-cu12-10.3.7.77:\n",
            "      Successfully uninstalled nvidia-curand-cu12-10.3.7.77\n",
            "  Attempting uninstall: nvidia-cufft-cu12\n",
            "    Found existing installation: nvidia-cufft-cu12 11.3.0.4\n",
            "    Uninstalling nvidia-cufft-cu12-11.3.0.4:\n",
            "      Successfully uninstalled nvidia-cufft-cu12-11.3.0.4\n",
            "  Attempting uninstall: nvidia-cuda-runtime-cu12\n",
            "    Found existing installation: nvidia-cuda-runtime-cu12 12.6.77\n",
            "    Uninstalling nvidia-cuda-runtime-cu12-12.6.77:\n",
            "      Successfully uninstalled nvidia-cuda-runtime-cu12-12.6.77\n",
            "  Attempting uninstall: nvidia-cuda-cupti-cu12\n",
            "    Found existing installation: nvidia-cuda-cupti-cu12 12.6.80\n",
            "    Uninstalling nvidia-cuda-cupti-cu12-12.6.80:\n",
            "      Successfully uninstalled nvidia-cuda-cupti-cu12-12.6.80\n",
            "  Attempting uninstall: nvidia-cublas-cu12\n",
            "    Found existing installation: nvidia-cublas-cu12 12.6.4.1\n",
            "    Uninstalling nvidia-cublas-cu12-12.6.4.1:\n",
            "      Successfully uninstalled nvidia-cublas-cu12-12.6.4.1\n",
            "  Attempting uninstall: nvidia-cusolver-cu12\n",
            "    Found existing installation: nvidia-cusolver-cu12 11.7.1.2\n",
            "    Uninstalling nvidia-cusolver-cu12-11.7.1.2:\n",
            "      Successfully uninstalled nvidia-cusolver-cu12-11.7.1.2\n",
            "  Attempting uninstall: nvidia-cudnn-cu12\n",
            "    Found existing installation: nvidia-cudnn-cu12 9.5.1.17\n",
            "    Uninstalling nvidia-cudnn-cu12-9.5.1.17:\n",
            "      Successfully uninstalled nvidia-cudnn-cu12-9.5.1.17\n",
            "  Attempting uninstall: torch\n",
            "    Found existing installation: torch 2.5.1+cu121\n",
            "    Uninstalling torch-2.5.1+cu121:\n",
            "      Successfully uninstalled torch-2.5.1+cu121\n",
            "  Attempting uninstall: torchvision\n",
            "    Found existing installation: torchvision 0.20.1+cu121\n",
            "    Uninstalling torchvision-0.20.1+cu121:\n",
            "      Successfully uninstalled torchvision-0.20.1+cu121\n",
            "  Attempting uninstall: torchaudio\n",
            "    Found existing installation: torchaudio 2.5.1+cu121\n",
            "    Uninstalling torchaudio-2.5.1+cu121:\n",
            "      Successfully uninstalled torchaudio-2.5.1+cu121\n",
            "Successfully installed nvidia-cublas-cu12-12.1.3.1 nvidia-cuda-cupti-cu12-12.1.105 nvidia-cuda-nvrtc-cu12-12.1.105 nvidia-cuda-runtime-cu12-12.1.105 nvidia-cudnn-cu12-8.9.2.26 nvidia-cufft-cu12-11.0.2.54 nvidia-curand-cu12-10.3.2.106 nvidia-cusolver-cu12-11.4.5.107 nvidia-cusparse-cu12-12.1.0.106 nvidia-nccl-cu12-2.18.1 nvidia-nvtx-cu12-12.1.105 torch-2.1.2 torchaudio-2.1.2 torchvision-0.16.2 triton-2.1.0\n",
            "Looking in links: https://data.dgl.ai/wheels/repo.html\n",
            "Collecting dgl\n",
            "  Downloading dgl-2.1.0-cp310-cp310-manylinux1_x86_64.whl.metadata (553 bytes)\n",
            "Requirement already satisfied: numpy>=1.14.0 in /usr/local/lib/python3.10/dist-packages (from dgl) (1.26.4)\n",
            "Requirement already satisfied: scipy>=1.1.0 in /usr/local/lib/python3.10/dist-packages (from dgl) (1.13.1)\n",
            "Requirement already satisfied: networkx>=2.1 in /usr/local/lib/python3.10/dist-packages (from dgl) (3.4.2)\n",
            "Requirement already satisfied: requests>=2.19.0 in /usr/local/lib/python3.10/dist-packages (from dgl) (2.32.3)\n",
            "Requirement already satisfied: tqdm in /usr/local/lib/python3.10/dist-packages (from dgl) (4.66.6)\n",
            "Requirement already satisfied: psutil>=5.8.0 in /usr/local/lib/python3.10/dist-packages (from dgl) (5.9.5)\n",
            "Collecting torchdata>=0.5.0 (from dgl)\n",
            "  Downloading torchdata-0.9.0-cp310-cp310-manylinux1_x86_64.whl.metadata (5.5 kB)\n",
            "Requirement already satisfied: charset-normalizer<4,>=2 in /usr/local/lib/python3.10/dist-packages (from requests>=2.19.0->dgl) (3.4.0)\n",
            "Requirement already satisfied: idna<4,>=2.5 in /usr/local/lib/python3.10/dist-packages (from requests>=2.19.0->dgl) (3.10)\n",
            "Requirement already satisfied: urllib3<3,>=1.21.1 in /usr/local/lib/python3.10/dist-packages (from requests>=2.19.0->dgl) (2.2.3)\n",
            "Requirement already satisfied: certifi>=2017.4.17 in /usr/local/lib/python3.10/dist-packages (from requests>=2.19.0->dgl) (2024.8.30)\n",
            "Requirement already satisfied: torch>=2 in /usr/local/lib/python3.10/dist-packages (from torchdata>=0.5.0->dgl) (2.1.2)\n",
            "Requirement already satisfied: filelock in /usr/local/lib/python3.10/dist-packages (from torch>=2->torchdata>=0.5.0->dgl) (3.16.1)\n",
            "Requirement already satisfied: typing-extensions in /usr/local/lib/python3.10/dist-packages (from torch>=2->torchdata>=0.5.0->dgl) (4.12.2)\n",
            "Requirement already satisfied: sympy in /usr/local/lib/python3.10/dist-packages (from torch>=2->torchdata>=0.5.0->dgl) (1.13.1)\n",
            "Requirement already satisfied: jinja2 in /usr/local/lib/python3.10/dist-packages (from torch>=2->torchdata>=0.5.0->dgl) (3.1.4)\n",
            "Requirement already satisfied: fsspec in /usr/local/lib/python3.10/dist-packages (from torch>=2->torchdata>=0.5.0->dgl) (2024.10.0)\n",
            "Requirement already satisfied: nvidia-cuda-nvrtc-cu12==12.1.105 in /usr/local/lib/python3.10/dist-packages (from torch>=2->torchdata>=0.5.0->dgl) (12.1.105)\n",
            "Requirement already satisfied: nvidia-cuda-runtime-cu12==12.1.105 in /usr/local/lib/python3.10/dist-packages (from torch>=2->torchdata>=0.5.0->dgl) (12.1.105)\n",
            "Requirement already satisfied: nvidia-cuda-cupti-cu12==12.1.105 in /usr/local/lib/python3.10/dist-packages (from torch>=2->torchdata>=0.5.0->dgl) (12.1.105)\n",
            "Requirement already satisfied: nvidia-cudnn-cu12==8.9.2.26 in /usr/local/lib/python3.10/dist-packages (from torch>=2->torchdata>=0.5.0->dgl) (8.9.2.26)\n",
            "Requirement already satisfied: nvidia-cublas-cu12==12.1.3.1 in /usr/local/lib/python3.10/dist-packages (from torch>=2->torchdata>=0.5.0->dgl) (12.1.3.1)\n",
            "Requirement already satisfied: nvidia-cufft-cu12==11.0.2.54 in /usr/local/lib/python3.10/dist-packages (from torch>=2->torchdata>=0.5.0->dgl) (11.0.2.54)\n",
            "Requirement already satisfied: nvidia-curand-cu12==10.3.2.106 in /usr/local/lib/python3.10/dist-packages (from torch>=2->torchdata>=0.5.0->dgl) (10.3.2.106)\n",
            "Requirement already satisfied: nvidia-cusolver-cu12==11.4.5.107 in /usr/local/lib/python3.10/dist-packages (from torch>=2->torchdata>=0.5.0->dgl) (11.4.5.107)\n",
            "Requirement already satisfied: nvidia-cusparse-cu12==12.1.0.106 in /usr/local/lib/python3.10/dist-packages (from torch>=2->torchdata>=0.5.0->dgl) (12.1.0.106)\n",
            "Requirement already satisfied: nvidia-nccl-cu12==2.18.1 in /usr/local/lib/python3.10/dist-packages (from torch>=2->torchdata>=0.5.0->dgl) (2.18.1)\n",
            "Requirement already satisfied: nvidia-nvtx-cu12==12.1.105 in /usr/local/lib/python3.10/dist-packages (from torch>=2->torchdata>=0.5.0->dgl) (12.1.105)\n",
            "Requirement already satisfied: triton==2.1.0 in /usr/local/lib/python3.10/dist-packages (from torch>=2->torchdata>=0.5.0->dgl) (2.1.0)\n",
            "Requirement already satisfied: nvidia-nvjitlink-cu12 in /usr/local/lib/python3.10/dist-packages (from nvidia-cusolver-cu12==11.4.5.107->torch>=2->torchdata>=0.5.0->dgl) (12.6.85)\n",
            "Requirement already satisfied: MarkupSafe>=2.0 in /usr/local/lib/python3.10/dist-packages (from jinja2->torch>=2->torchdata>=0.5.0->dgl) (3.0.2)\n",
            "Requirement already satisfied: mpmath<1.4,>=1.1.0 in /usr/local/lib/python3.10/dist-packages (from sympy->torch>=2->torchdata>=0.5.0->dgl) (1.3.0)\n",
            "Downloading dgl-2.1.0-cp310-cp310-manylinux1_x86_64.whl (8.5 MB)\n",
            "\u001b[2K   \u001b[90m━━━━━━━━━━━━━━━━━━━━━━━━━━━━━━━━━━━━━━━━\u001b[0m \u001b[32m8.5/8.5 MB\u001b[0m \u001b[31m14.2 MB/s\u001b[0m eta \u001b[36m0:00:00\u001b[0m\n",
            "\u001b[?25hDownloading torchdata-0.9.0-cp310-cp310-manylinux1_x86_64.whl (2.7 MB)\n",
            "\u001b[2K   \u001b[90m━━━━━━━━━━━━━━━━━━━━━━━━━━━━━━━━━━━━━━━━\u001b[0m \u001b[32m2.7/2.7 MB\u001b[0m \u001b[31m261.1 MB/s\u001b[0m eta \u001b[36m0:00:00\u001b[0m\n",
            "\u001b[?25hInstalling collected packages: torchdata, dgl\n",
            "Successfully installed dgl-2.1.0 torchdata-0.9.0\n",
            "Collecting dill\n",
            "  Downloading dill-0.3.9-py3-none-any.whl.metadata (10 kB)\n",
            "Downloading dill-0.3.9-py3-none-any.whl (119 kB)\n",
            "\u001b[2K   \u001b[90m━━━━━━━━━━━━━━━━━━━━━━━━━━━━━━━━━━━━━━━━\u001b[0m \u001b[32m119.4/119.4 kB\u001b[0m \u001b[31m2.3 MB/s\u001b[0m eta \u001b[36m0:00:00\u001b[0m\n",
            "\u001b[?25hInstalling collected packages: dill\n",
            "Successfully installed dill-0.3.9\n",
            "Collecting torchdata==0.6.0\n",
            "  Downloading torchdata-0.6.0-cp310-cp310-manylinux_2_17_x86_64.manylinux2014_x86_64.whl.metadata (919 bytes)\n",
            "Requirement already satisfied: urllib3>=1.25 in /usr/local/lib/python3.10/dist-packages (from torchdata==0.6.0) (2.2.3)\n",
            "Requirement already satisfied: requests in /usr/local/lib/python3.10/dist-packages (from torchdata==0.6.0) (2.32.3)\n",
            "Collecting torch==2.0.0 (from torchdata==0.6.0)\n",
            "  Downloading torch-2.0.0-cp310-cp310-manylinux1_x86_64.whl.metadata (24 kB)\n",
            "Requirement already satisfied: filelock in /usr/local/lib/python3.10/dist-packages (from torch==2.0.0->torchdata==0.6.0) (3.16.1)\n",
            "Requirement already satisfied: typing-extensions in /usr/local/lib/python3.10/dist-packages (from torch==2.0.0->torchdata==0.6.0) (4.12.2)\n",
            "Requirement already satisfied: sympy in /usr/local/lib/python3.10/dist-packages (from torch==2.0.0->torchdata==0.6.0) (1.13.1)\n",
            "Requirement already satisfied: networkx in /usr/local/lib/python3.10/dist-packages (from torch==2.0.0->torchdata==0.6.0) (3.4.2)\n",
            "Requirement already satisfied: jinja2 in /usr/local/lib/python3.10/dist-packages (from torch==2.0.0->torchdata==0.6.0) (3.1.4)\n",
            "Collecting nvidia-cuda-nvrtc-cu11==11.7.99 (from torch==2.0.0->torchdata==0.6.0)\n",
            "  Downloading nvidia_cuda_nvrtc_cu11-11.7.99-2-py3-none-manylinux1_x86_64.whl.metadata (1.5 kB)\n",
            "Collecting nvidia-cuda-runtime-cu11==11.7.99 (from torch==2.0.0->torchdata==0.6.0)\n",
            "  Downloading nvidia_cuda_runtime_cu11-11.7.99-py3-none-manylinux1_x86_64.whl.metadata (1.6 kB)\n",
            "Collecting nvidia-cuda-cupti-cu11==11.7.101 (from torch==2.0.0->torchdata==0.6.0)\n",
            "  Downloading nvidia_cuda_cupti_cu11-11.7.101-py3-none-manylinux1_x86_64.whl.metadata (1.6 kB)\n",
            "Collecting nvidia-cudnn-cu11==8.5.0.96 (from torch==2.0.0->torchdata==0.6.0)\n",
            "  Downloading nvidia_cudnn_cu11-8.5.0.96-2-py3-none-manylinux1_x86_64.whl.metadata (1.6 kB)\n",
            "Collecting nvidia-cublas-cu11==11.10.3.66 (from torch==2.0.0->torchdata==0.6.0)\n",
            "  Downloading nvidia_cublas_cu11-11.10.3.66-py3-none-manylinux1_x86_64.whl.metadata (1.6 kB)\n",
            "Collecting nvidia-cufft-cu11==10.9.0.58 (from torch==2.0.0->torchdata==0.6.0)\n",
            "  Downloading nvidia_cufft_cu11-10.9.0.58-py3-none-manylinux2014_x86_64.whl.metadata (1.5 kB)\n",
            "Collecting nvidia-curand-cu11==10.2.10.91 (from torch==2.0.0->torchdata==0.6.0)\n",
            "  Downloading nvidia_curand_cu11-10.2.10.91-py3-none-manylinux1_x86_64.whl.metadata (1.6 kB)\n",
            "Collecting nvidia-cusolver-cu11==11.4.0.1 (from torch==2.0.0->torchdata==0.6.0)\n",
            "  Downloading nvidia_cusolver_cu11-11.4.0.1-2-py3-none-manylinux1_x86_64.whl.metadata (1.6 kB)\n",
            "Collecting nvidia-cusparse-cu11==11.7.4.91 (from torch==2.0.0->torchdata==0.6.0)\n",
            "  Downloading nvidia_cusparse_cu11-11.7.4.91-py3-none-manylinux1_x86_64.whl.metadata (1.6 kB)\n",
            "Collecting nvidia-nccl-cu11==2.14.3 (from torch==2.0.0->torchdata==0.6.0)\n",
            "  Downloading nvidia_nccl_cu11-2.14.3-py3-none-manylinux1_x86_64.whl.metadata (1.8 kB)\n",
            "Collecting nvidia-nvtx-cu11==11.7.91 (from torch==2.0.0->torchdata==0.6.0)\n",
            "  Downloading nvidia_nvtx_cu11-11.7.91-py3-none-manylinux1_x86_64.whl.metadata (1.7 kB)\n",
            "Collecting triton==2.0.0 (from torch==2.0.0->torchdata==0.6.0)\n",
            "  Downloading triton-2.0.0-1-cp310-cp310-manylinux2014_x86_64.manylinux_2_17_x86_64.whl.metadata (1.0 kB)\n",
            "Requirement already satisfied: setuptools in /usr/local/lib/python3.10/dist-packages (from nvidia-cublas-cu11==11.10.3.66->torch==2.0.0->torchdata==0.6.0) (75.1.0)\n",
            "Requirement already satisfied: wheel in /usr/local/lib/python3.10/dist-packages (from nvidia-cublas-cu11==11.10.3.66->torch==2.0.0->torchdata==0.6.0) (0.45.1)\n",
            "Requirement already satisfied: cmake in /usr/local/lib/python3.10/dist-packages (from triton==2.0.0->torch==2.0.0->torchdata==0.6.0) (3.30.5)\n",
            "Collecting lit (from triton==2.0.0->torch==2.0.0->torchdata==0.6.0)\n",
            "  Downloading lit-18.1.8-py3-none-any.whl.metadata (2.5 kB)\n",
            "Requirement already satisfied: charset-normalizer<4,>=2 in /usr/local/lib/python3.10/dist-packages (from requests->torchdata==0.6.0) (3.4.0)\n",
            "Requirement already satisfied: idna<4,>=2.5 in /usr/local/lib/python3.10/dist-packages (from requests->torchdata==0.6.0) (3.10)\n",
            "Requirement already satisfied: certifi>=2017.4.17 in /usr/local/lib/python3.10/dist-packages (from requests->torchdata==0.6.0) (2024.8.30)\n",
            "Requirement already satisfied: MarkupSafe>=2.0 in /usr/local/lib/python3.10/dist-packages (from jinja2->torch==2.0.0->torchdata==0.6.0) (3.0.2)\n",
            "Requirement already satisfied: mpmath<1.4,>=1.1.0 in /usr/local/lib/python3.10/dist-packages (from sympy->torch==2.0.0->torchdata==0.6.0) (1.3.0)\n",
            "Downloading torchdata-0.6.0-cp310-cp310-manylinux_2_17_x86_64.manylinux2014_x86_64.whl (4.6 MB)\n",
            "\u001b[2K   \u001b[90m━━━━━━━━━━━━━━━━━━━━━━━━━━━━━━━━━━━━━━━━\u001b[0m \u001b[32m4.6/4.6 MB\u001b[0m \u001b[31m38.9 MB/s\u001b[0m eta \u001b[36m0:00:00\u001b[0m\n",
            "\u001b[?25hDownloading torch-2.0.0-cp310-cp310-manylinux1_x86_64.whl (619.9 MB)\n",
            "\u001b[2K   \u001b[90m━━━━━━━━━━━━━━━━━━━━━━━━━━━━━━━━━━━━━━━━\u001b[0m \u001b[32m619.9/619.9 MB\u001b[0m \u001b[31m2.8 MB/s\u001b[0m eta \u001b[36m0:00:00\u001b[0m\n",
            "\u001b[?25hDownloading nvidia_cublas_cu11-11.10.3.66-py3-none-manylinux1_x86_64.whl (317.1 MB)\n",
            "\u001b[2K   \u001b[90m━━━━━━━━━━━━━━━━━━━━━━━━━━━━━━━━━━━━━━━━\u001b[0m \u001b[32m317.1/317.1 MB\u001b[0m \u001b[31m2.9 MB/s\u001b[0m eta \u001b[36m0:00:00\u001b[0m\n",
            "\u001b[?25hDownloading nvidia_cuda_cupti_cu11-11.7.101-py3-none-manylinux1_x86_64.whl (11.8 MB)\n",
            "\u001b[2K   \u001b[90m━━━━━━━━━━━━━━━━━━━━━━━━━━━━━━━━━━━━━━━━\u001b[0m \u001b[32m11.8/11.8 MB\u001b[0m \u001b[31m95.7 MB/s\u001b[0m eta \u001b[36m0:00:00\u001b[0m\n",
            "\u001b[?25hDownloading nvidia_cuda_nvrtc_cu11-11.7.99-2-py3-none-manylinux1_x86_64.whl (21.0 MB)\n",
            "\u001b[2K   \u001b[90m━━━━━━━━━━━━━━━━━━━━━━━━━━━━━━━━━━━━━━━━\u001b[0m \u001b[32m21.0/21.0 MB\u001b[0m \u001b[31m78.7 MB/s\u001b[0m eta \u001b[36m0:00:00\u001b[0m\n",
            "\u001b[?25hDownloading nvidia_cuda_runtime_cu11-11.7.99-py3-none-manylinux1_x86_64.whl (849 kB)\n",
            "\u001b[2K   \u001b[90m━━━━━━━━━━━━━━━━━━━━━━━━━━━━━━━━━━━━━━━━\u001b[0m \u001b[32m849.3/849.3 kB\u001b[0m \u001b[31m41.1 MB/s\u001b[0m eta \u001b[36m0:00:00\u001b[0m\n",
            "\u001b[?25hDownloading nvidia_cudnn_cu11-8.5.0.96-2-py3-none-manylinux1_x86_64.whl (557.1 MB)\n",
            "\u001b[2K   \u001b[90m━━━━━━━━━━━━━━━━━━━━━━━━━━━━━━━━━━━━━━━━\u001b[0m \u001b[32m557.1/557.1 MB\u001b[0m \u001b[31m3.2 MB/s\u001b[0m eta \u001b[36m0:00:00\u001b[0m\n",
            "\u001b[?25hDownloading nvidia_cufft_cu11-10.9.0.58-py3-none-manylinux2014_x86_64.whl (168.4 MB)\n",
            "\u001b[2K   \u001b[90m━━━━━━━━━━━━━━━━━━━━━━━━━━━━━━━━━━━━━━━━\u001b[0m \u001b[32m168.4/168.4 MB\u001b[0m \u001b[31m6.3 MB/s\u001b[0m eta \u001b[36m0:00:00\u001b[0m\n",
            "\u001b[?25hDownloading nvidia_curand_cu11-10.2.10.91-py3-none-manylinux1_x86_64.whl (54.6 MB)\n",
            "\u001b[2K   \u001b[90m━━━━━━━━━━━━━━━━━━━━━━━━━━━━━━━━━━━━━━━━\u001b[0m \u001b[32m54.6/54.6 MB\u001b[0m \u001b[31m9.1 MB/s\u001b[0m eta \u001b[36m0:00:00\u001b[0m\n",
            "\u001b[?25hDownloading nvidia_cusolver_cu11-11.4.0.1-2-py3-none-manylinux1_x86_64.whl (102.6 MB)\n",
            "\u001b[2K   \u001b[90m━━━━━━━━━━━━━━━━━━━━━━━━━━━━━━━━━━━━━━━━\u001b[0m \u001b[32m102.6/102.6 MB\u001b[0m \u001b[31m6.8 MB/s\u001b[0m eta \u001b[36m0:00:00\u001b[0m\n",
            "\u001b[?25hDownloading nvidia_cusparse_cu11-11.7.4.91-py3-none-manylinux1_x86_64.whl (173.2 MB)\n",
            "\u001b[2K   \u001b[90m━━━━━━━━━━━━━━━━━━━━━━━━━━━━━━━━━━━━━━━━\u001b[0m \u001b[32m173.2/173.2 MB\u001b[0m \u001b[31m4.6 MB/s\u001b[0m eta \u001b[36m0:00:00\u001b[0m\n",
            "\u001b[?25hDownloading nvidia_nccl_cu11-2.14.3-py3-none-manylinux1_x86_64.whl (177.1 MB)\n",
            "\u001b[2K   \u001b[90m━━━━━━━━━━━━━━━━━━━━━━━━━━━━━━━━━━━━━━━━\u001b[0m \u001b[32m177.1/177.1 MB\u001b[0m \u001b[31m6.0 MB/s\u001b[0m eta \u001b[36m0:00:00\u001b[0m\n",
            "\u001b[?25hDownloading nvidia_nvtx_cu11-11.7.91-py3-none-manylinux1_x86_64.whl (98 kB)\n",
            "\u001b[2K   \u001b[90m━━━━━━━━━━━━━━━━━━━━━━━━━━━━━━━━━━━━━━━━\u001b[0m \u001b[32m98.6/98.6 kB\u001b[0m \u001b[31m6.4 MB/s\u001b[0m eta \u001b[36m0:00:00\u001b[0m\n",
            "\u001b[?25hDownloading triton-2.0.0-1-cp310-cp310-manylinux2014_x86_64.manylinux_2_17_x86_64.whl (63.3 MB)\n",
            "\u001b[2K   \u001b[90m━━━━━━━━━━━━━━━━━━━━━━━━━━━━━━━━━━━━━━━━\u001b[0m \u001b[32m63.3/63.3 MB\u001b[0m \u001b[31m12.1 MB/s\u001b[0m eta \u001b[36m0:00:00\u001b[0m\n",
            "\u001b[?25hDownloading lit-18.1.8-py3-none-any.whl (96 kB)\n",
            "\u001b[2K   \u001b[90m━━━━━━━━━━━━━━━━━━━━━━━━━━━━━━━━━━━━━━━━\u001b[0m \u001b[32m96.4/96.4 kB\u001b[0m \u001b[31m7.1 MB/s\u001b[0m eta \u001b[36m0:00:00\u001b[0m\n",
            "\u001b[?25hInstalling collected packages: lit, nvidia-nvtx-cu11, nvidia-nccl-cu11, nvidia-cusparse-cu11, nvidia-curand-cu11, nvidia-cufft-cu11, nvidia-cuda-runtime-cu11, nvidia-cuda-nvrtc-cu11, nvidia-cuda-cupti-cu11, nvidia-cublas-cu11, nvidia-cusolver-cu11, nvidia-cudnn-cu11, triton, torch, torchdata\n",
            "  Attempting uninstall: triton\n",
            "    Found existing installation: triton 2.1.0\n",
            "    Uninstalling triton-2.1.0:\n",
            "      Successfully uninstalled triton-2.1.0\n",
            "  Attempting uninstall: torch\n",
            "    Found existing installation: torch 2.1.2\n",
            "    Uninstalling torch-2.1.2:\n",
            "      Successfully uninstalled torch-2.1.2\n",
            "  Attempting uninstall: torchdata\n",
            "    Found existing installation: torchdata 0.9.0\n",
            "    Uninstalling torchdata-0.9.0:\n",
            "      Successfully uninstalled torchdata-0.9.0\n",
            "\u001b[31mERROR: pip's dependency resolver does not currently take into account all the packages that are installed. This behaviour is the source of the following dependency conflicts.\n",
            "torchaudio 2.1.2 requires torch==2.1.2, but you have torch 2.0.0 which is incompatible.\n",
            "torchvision 0.16.2 requires torch==2.1.2, but you have torch 2.0.0 which is incompatible.\u001b[0m\u001b[31m\n",
            "\u001b[0mSuccessfully installed lit-18.1.8 nvidia-cublas-cu11-11.10.3.66 nvidia-cuda-cupti-cu11-11.7.101 nvidia-cuda-nvrtc-cu11-11.7.99 nvidia-cuda-runtime-cu11-11.7.99 nvidia-cudnn-cu11-8.5.0.96 nvidia-cufft-cu11-10.9.0.58 nvidia-curand-cu11-10.2.10.91 nvidia-cusolver-cu11-11.4.0.1 nvidia-cusparse-cu11-11.7.4.91 nvidia-nccl-cu11-2.14.3 nvidia-nvtx-cu11-11.7.91 torch-2.0.0 torchdata-0.6.0 triton-2.0.0\n"
          ]
        }
      ],
      "source": [
        "! pip install pydantic\n",
        "! pip install PyYAML\n",
        "! pip install numpy==1.26.4\n",
        "! pip install torch==2.1.2 torchvision==0.16.2 torchaudio==2.1.2\n",
        "! pip install --no-cache-dir dgl -f https://data.dgl.ai/wheels/repo.html\n",
        "!pip install dill\n",
        "!pip install torchdata==0.6.0"
      ]
    },
    {
      "cell_type": "code",
      "source": [
        "import pandas as pd\n",
        "import torch\n",
        "import dgl.sparse as dglsp\n",
        "import torch\n",
        "import torch.nn as nn\n",
        "import torch.nn.functional as F\n",
        "import random"
      ],
      "metadata": {
        "id": "9F4j_9aAqYTz",
        "colab": {
          "base_uri": "https://localhost:8080/"
        },
        "outputId": "00db8c1a-bd69-4047-9f86-765e6d3981a8"
      },
      "execution_count": null,
      "outputs": [
        {
          "output_type": "stream",
          "name": "stderr",
          "text": [
            "DGL backend not selected or invalid.  Assuming PyTorch for now.\n"
          ]
        },
        {
          "output_type": "stream",
          "name": "stdout",
          "text": [
            "Setting the default backend to \"pytorch\". You can change it in the ~/.dgl/config.json file or export the DGLBACKEND environment variable.  Valid options are: pytorch, mxnet, tensorflow (all lowercase)\n"
          ]
        }
      ]
    },
    {
      "cell_type": "code",
      "source": [
        "df=pd.read_excel('/content/drive/MyDrive/Graph_Research/filtered_dataset.xlsx')"
      ],
      "metadata": {
        "id": "OXAP2wL_FwzU"
      },
      "execution_count": null,
      "outputs": []
    },
    {
      "cell_type": "code",
      "source": [
        "df['concept'] = df['concept'].astype(str)\n",
        "df['paper_id'] = df['paper_id'].astype(str)"
      ],
      "metadata": {
        "id": "HSa9UBR5K-uC"
      },
      "execution_count": null,
      "outputs": []
    },
    {
      "cell_type": "markdown",
      "source": [
        "## **Loading Vertex Embeddings**"
      ],
      "metadata": {
        "id": "gmYFbQ1iqBmQ"
      }
    },
    {
      "cell_type": "code",
      "source": [
        "datadir = '/content/drive/MyDrive/Graph_Research'\n",
        "max_groupsize = 169\n",
        "import pickle\n",
        "\n",
        "# Load the vertex embeddings from the file\n",
        "with open(datadir + '/vertex_embeddings3_' + str(max_groupsize) + '.p', 'rb') as fp:\n",
        "    vertex_data = pickle.load(fp)\n",
        "node_ids = vertex_data[\"ids\"]\n",
        "node_embeddings = vertex_data[\"embeddings\"]"
      ],
      "metadata": {
        "id": "Cie5hFn5J-Ai"
      },
      "execution_count": null,
      "outputs": []
    },
    {
      "cell_type": "code",
      "source": [
        "with open(datadir + '/hyperedge_embeddings3_' + str(max_groupsize) + '.p', 'rb') as fp:\n",
        "    hyperedge_data = pickle.load(fp)\n",
        "hyperedge_ids=hyperedge_data[\"ids\"]\n",
        "hyperedge_embeddings=hyperedge_data[\"embeddings\"]"
      ],
      "metadata": {
        "id": "_u2w4701Wset"
      },
      "execution_count": null,
      "outputs": []
    },
    {
      "cell_type": "code",
      "source": [
        "node_embeddings[247].shape"
      ],
      "metadata": {
        "colab": {
          "base_uri": "https://localhost:8080/"
        },
        "id": "dKx0kg8PvLKt",
        "outputId": "02183f04-4679-4786-d749-3735d27c836f"
      },
      "execution_count": null,
      "outputs": [
        {
          "output_type": "execute_result",
          "data": {
            "text/plain": [
              "(50,)"
            ]
          },
          "metadata": {},
          "execution_count": 78
        }
      ]
    },
    {
      "cell_type": "markdown",
      "source": [
        "## **Incidence Matrix Creation**"
      ],
      "metadata": {
        "id": "HI3qF3HzHwKT"
      }
    },
    {
      "cell_type": "code",
      "source": [
        "def create_incidence_matrix(df):\n",
        "  concept_to_idx={word:node_ids.index(word) for word in list(df['concept'].unique())}\n",
        "  paper_to_idx={str(paper_id):hyperedge_ids.index(paper_id) for paper_id in list(df['paper_id'].unique())}\n",
        "\n",
        "  rows=[]\n",
        "  cols=[]\n",
        "  for _, row in df.iterrows():\n",
        "    concept_idx=concept_to_idx[row['concept']]\n",
        "    paper_idx=paper_to_idx[row['paper_id']]\n",
        "    rows.append(concept_idx)\n",
        "    cols.append(paper_idx)\n",
        "  rows=torch.tensor(rows)\n",
        "  cols=torch.tensor(cols)\n",
        "\n",
        "  H=dglsp.spmatrix(torch.stack([rows,cols]))\n",
        "  return H, concept_to_idx\n",
        "\n",
        "H, concept_to_idx_train = create_incidence_matrix(df)"
      ],
      "metadata": {
        "id": "lHxHvsc9rmN4"
      },
      "execution_count": null,
      "outputs": []
    },
    {
      "cell_type": "code",
      "source": [
        "H.to_dense()"
      ],
      "metadata": {
        "colab": {
          "base_uri": "https://localhost:8080/"
        },
        "id": "VegfxqwHMP5s",
        "outputId": "3c6f6011-7675-4663-ee57-c4f29e4f9396"
      },
      "execution_count": null,
      "outputs": [
        {
          "output_type": "execute_result",
          "data": {
            "text/plain": [
              "tensor([[0., 0., 1.,  ..., 0., 0., 0.],\n",
              "        [0., 1., 0.,  ..., 0., 0., 0.],\n",
              "        [0., 0., 0.,  ..., 0., 0., 1.],\n",
              "        ...,\n",
              "        [0., 0., 0.,  ..., 0., 0., 0.],\n",
              "        [0., 0., 0.,  ..., 0., 0., 0.],\n",
              "        [0., 0., 0.,  ..., 0., 0., 0.]])"
            ]
          },
          "metadata": {},
          "execution_count": 32
        }
      ]
    },
    {
      "cell_type": "markdown",
      "source": [
        "## **Positive Samples Generation**"
      ],
      "metadata": {
        "id": "4HUiJGBeqG64"
      }
    },
    {
      "cell_type": "code",
      "source": [
        "def generate_positive_samples(df, max_len=16):\n",
        "    \"\"\"Generates positive samples (keyword sets that form real hyperedges) from the dataframe.\"\"\"\n",
        "    positive_samples = df.groupby('paper_id')['concept'].apply(list).tolist()\n",
        "\n",
        "    positive_samples_indices = [[node_ids.index(word) if word in node_ids else -1 for word in sublist] for sublist in positive_samples]\n",
        "    positive_samples_indices = [[word_index for word_index in sample if word_index != -1] for sample in positive_samples_indices]\n",
        "\n",
        "    #Pad or truncate to ensure consistent length\n",
        "    padded_samples = []\n",
        "    for sample in positive_samples_indices:\n",
        "        if len(sample) < max_len:\n",
        "            # Pad with zeros\n",
        "            padded_samples.append(sample + [-1] * (max_len - len(sample))) # Padding with zeros\n",
        "        elif len(sample) > max_len:\n",
        "            # Truncate\n",
        "            padded_samples.append(sample[:max_len])\n",
        "        else:\n",
        "            padded_samples.append(sample)\n",
        "\n",
        "    return torch.tensor(padded_samples, dtype=torch.long)"
      ],
      "metadata": {
        "id": "0Fy6BcODMZyJ"
      },
      "execution_count": null,
      "outputs": []
    },
    {
      "cell_type": "markdown",
      "source": [
        "## **Negative Samples Generation**"
      ],
      "metadata": {
        "id": "znQ_073KqN1z"
      }
    },
    {
      "cell_type": "code",
      "source": [
        "def generate_negative_samples(df, num_samples, max_len=16):\n",
        "\n",
        "    negative_samples = []\n",
        "    positive_samples_list = [list(row) for row in df.groupby('paper_id')['concept'].apply(list).tolist()]  # Positive samples as list of lists\n",
        "\n",
        "    while len(negative_samples) < num_samples:\n",
        "        # Randomly select a set of keywords and ensure it’s not in positive_samples\n",
        "        neg_sample_concepts = random.sample(node_ids, random.randint(10,16))\n",
        "        if neg_sample_concepts not in positive_samples_list:\n",
        "            # Convert concepts to their indices\n",
        "            neg_sample_indices = [node_ids.index(word) for word in neg_sample_concepts]\n",
        "\n",
        "            # Pad or truncate to max_len\n",
        "            if len(neg_sample_indices) < max_len:\n",
        "                # Pad with zeros\n",
        "                neg_sample_indices += [-1] * (max_len - len(neg_sample_indices))\n",
        "            elif len(neg_sample_indices) > max_len:\n",
        "                # Truncate to max_len\n",
        "                neg_sample_indices = neg_sample_indices[:max_len]\n",
        "\n",
        "            negative_samples.append(neg_sample_indices)\n",
        "\n",
        "    return torch.tensor(negative_samples, dtype=torch.long)"
      ],
      "metadata": {
        "id": "QXUa4hfnpLkz"
      },
      "execution_count": null,
      "outputs": []
    },
    {
      "cell_type": "code",
      "source": [
        "import torch\n",
        "from sklearn.model_selection import train_test_split\n",
        "\n",
        "def prepare_dataset(positive_samples, negative_samples, test_size=0.2, val_size=0.1):\n",
        "\n",
        "    # Create labels: 1 for positive samples, 0 for negative samples\n",
        "    positive_labels = torch.ones(positive_samples.shape[0], dtype=torch.long)\n",
        "    negative_labels = torch.zeros(negative_samples.shape[0], dtype=torch.long)\n",
        "\n",
        "    # Concatenate positive and negative samples\n",
        "    all_samples = torch.cat([positive_samples, negative_samples], dim=0)\n",
        "    all_labels = torch.cat([positive_labels, negative_labels], dim=0)\n",
        "\n",
        "    # Shuffle and split into train, validation, and test sets\n",
        "    X_train, X_temp, y_train, y_temp = train_test_split(\n",
        "        all_samples, all_labels, test_size=test_size + val_size, random_state=42, stratify=all_labels\n",
        "    )\n",
        "    X_val, X_test, y_val, y_test = train_test_split(\n",
        "        X_temp, y_temp, test_size=test_size / (test_size + val_size), random_state=42, stratify=y_temp\n",
        "    )\n",
        "\n",
        "    return X_train, y_train, X_val, y_val, X_test, y_test\n",
        "\n",
        "positive_samples = generate_positive_samples(df)  # Replace `df` with your actual dataframe\n",
        "negative_samples = generate_negative_samples(df, len(positive_samples))  # Replace with desired number of negatives\n",
        "\n",
        "X_train, y_train, X_val, y_val, X_test, y_test = prepare_dataset(positive_samples, negative_samples)\n",
        "\n",
        "# Print shapes of the datasets\n",
        "print(f\"Train Features: {X_train.shape}, Train Labels: {y_train.shape}\")\n",
        "print(f\"Validation Features: {X_val.shape}, Validation Labels: {y_val.shape}\")\n",
        "print(f\"Test Features: {X_test.shape}, Test Labels: {y_test.shape}\")\n"
      ],
      "metadata": {
        "colab": {
          "base_uri": "https://localhost:8080/"
        },
        "id": "ubUaT-rSqxx7",
        "outputId": "4d9cd023-f27e-4331-ce6a-3b5e488e1a3d"
      },
      "execution_count": null,
      "outputs": [
        {
          "output_type": "stream",
          "name": "stdout",
          "text": [
            "Train Features: torch.Size([10677, 16]), Train Labels: torch.Size([10677])\n",
            "Validation Features: torch.Size([1525, 16]), Validation Labels: torch.Size([1525])\n",
            "Test Features: torch.Size([3052, 16]), Test Labels: torch.Size([3052])\n"
          ]
        }
      ]
    },
    {
      "cell_type": "code",
      "source": [
        "import numpy as np\n",
        "\n",
        "# Example: Assume node_embeddings is a dictionary with node IDs as keys and embeddings as values\n",
        "# Example structure: node_embeddings = {12: np.array([0.1, 0.2, ..., 0.5]), ...}\n",
        "\n",
        "def convert_to_embeddings(samples, node_embeddings, embedding_dim):\n",
        "    \"\"\"\n",
        "    Converts node IDs in samples to their corresponding precomputed embeddings.\n",
        "\n",
        "    Args:\n",
        "        samples (list of lists): List of samples where each sample is a list of node IDs (including padded values as -1).\n",
        "        node_embeddings (dict): Dictionary mapping node IDs to their embeddings.\n",
        "        embedding_dim (int): Dimension of the precomputed embeddings.\n",
        "\n",
        "    Returns:\n",
        "        torch.Tensor: Tensor of shape (num_samples, max_len, embedding_dim).\n",
        "    \"\"\"\n",
        "    all_embeddings = []\n",
        "    for sample in samples:\n",
        "        embeddings = []\n",
        "        for node in sample:\n",
        "            if node == -1:\n",
        "                # Replace padding (-1) with a zero embedding\n",
        "                embeddings.append(np.zeros(embedding_dim))\n",
        "            else:\n",
        "                # Use the precomputed embedding for the node\n",
        "                embeddings.append(node_embeddings[node])  # Default to zero embedding if node not found\n",
        "        all_embeddings.append(embeddings)\n",
        "\n",
        "    return torch.tensor(all_embeddings, dtype=torch.float)\n",
        "\n",
        "# Convert positive and negative samples to embedding tensors\n",
        "positive_embeddings = convert_to_embeddings(positive_samples, node_embeddings, embedding_dim=16)\n",
        "negative_embeddings = convert_to_embeddings(negative_samples, node_embeddings, embedding_dim=16)\n",
        "\n",
        "# Concatenate and create labels\n",
        "X_data = torch.cat((positive_embeddings, negative_embeddings), dim=0)\n",
        "y_data = torch.cat((torch.ones(len(positive_embeddings)), torch.zeros(len(negative_embeddings))), dim=0)\n"
      ],
      "metadata": {
        "id": "YzchEEBwtjlf"
      },
      "execution_count": null,
      "outputs": []
    },
    {
      "cell_type": "code",
      "source": [
        "from sklearn.model_selection import train_test_split\n",
        "from torch.utils.data import DataLoader, TensorDataset\n",
        "\n",
        "# Split into train, validation, and test sets\n",
        "X_train, X_temp, y_train, y_temp = train_test_split(X_data, y_data, test_size=0.3, random_state=42)\n",
        "X_val, X_test, y_val, y_test = train_test_split(X_temp, y_temp, test_size=0.5, random_state=42)\n",
        "\n",
        "# Create DataLoaders\n",
        "batch_size = 32\n",
        "train_loader = DataLoader(TensorDataset(X_train, y_train), batch_size=batch_size, shuffle=True)\n",
        "val_loader = DataLoader(TensorDataset(X_val, y_val), batch_size=batch_size, shuffle=False)\n",
        "test_loader = DataLoader(TensorDataset(X_test, y_test), batch_size=batch_size, shuffle=False)\n"
      ],
      "metadata": {
        "id": "3CsdX7VoJzqy"
      },
      "execution_count": null,
      "outputs": []
    },
    {
      "cell_type": "code",
      "source": [
        "class HyperedgeLinkPredictor(nn.Module):\n",
        "    def __init__(self, embedding_dim, hidden_dim):\n",
        "        \"\"\"\n",
        "        Initialize the model.\n",
        "\n",
        "        Args:\n",
        "            embedding_dim (int): Dimension of the precomputed node embeddings.\n",
        "            hidden_dim (int): Dimension of the hidden layer.\n",
        "        \"\"\"\n",
        "        super(HyperedgeLinkPredictor, self).__init__()\n",
        "        # Fully connected layers for prediction\n",
        "        self.fc1 = nn.Linear(embedding_dim, hidden_dim)\n",
        "        self.fc2 = nn.Linear(hidden_dim, 1)  # Output layer for binary classification\n",
        "\n",
        "    def forward(self, x):\n",
        "        \"\"\"\n",
        "        Forward pass through the model.\n",
        "\n",
        "        Args:\n",
        "            x (torch.Tensor): Input tensor of shape (batch_size, max_len, embedding_dim),\n",
        "                              where each row is the set of node embeddings in a hyperedge.\n",
        "\n",
        "        Returns:\n",
        "            torch.Tensor: Predicted probabilities for each input hyperedge.\n",
        "        \"\"\"\n",
        "        # Aggregate embeddings using mean pooling\n",
        "        x_pooled = torch.mean(x, dim=1)  # Shape: (batch_size, embedding_dim)\n",
        "\n",
        "        # Fully connected layers\n",
        "        x_hidden = F.relu(self.fc1(x_pooled))  # Shape: (batch_size, hidden_dim)\n",
        "        logits = self.fc2(x_hidden)  # Shape: (batch_size, 1)\n",
        "\n",
        "        return torch.sigmoid(logits).squeeze()  # Output probabilities (Shape: batch_size)\n"
      ],
      "metadata": {
        "id": "QVK3ibjbLpQ-"
      },
      "execution_count": null,
      "outputs": []
    },
    {
      "cell_type": "code",
      "source": [
        "import matplotlib.pyplot as plt\n",
        "\n",
        "# Lists to store loss values for plotting\n",
        "train_losses = []\n",
        "val_losses = []\n",
        "\n",
        "# Training loop\n",
        "num_epochs = 150\n",
        "for epoch in range(num_epochs):\n",
        "    model.train()\n",
        "    total_loss = 0\n",
        "    for batch_X, batch_y in train_loader:\n",
        "        # Forward pass\n",
        "        predictions = model(batch_X)\n",
        "        loss = criterion(predictions, batch_y.float())\n",
        "\n",
        "        # Backward pass and optimization\n",
        "        optimizer.zero_grad()\n",
        "        loss.backward()\n",
        "        optimizer.step()\n",
        "\n",
        "        total_loss += loss.item()\n",
        "\n",
        "    # Validation\n",
        "    model.eval()\n",
        "    val_loss = 0\n",
        "    with torch.no_grad():\n",
        "        for batch_X, batch_y in val_loader:\n",
        "            predictions = model(batch_X)\n",
        "            loss = criterion(predictions, batch_y.float())\n",
        "            val_loss += loss.item()\n",
        "\n",
        "    # Store losses\n",
        "    train_losses.append(total_loss / len(train_loader))  # Average training loss\n",
        "    val_losses.append(val_loss / len(val_loader))  # Average validation loss\n",
        "\n",
        "    print(f\"Epoch {epoch+1}/{num_epochs}, Train Loss: {train_losses[-1]:.4f}, Val Loss: {val_losses[-1]:.4f}\")\n",
        "\n",
        "# Plot training and validation loss\n",
        "plt.figure(figsize=(10, 6))\n",
        "plt.plot(range(1, num_epochs + 1), train_losses, label='Train Loss', color='blue')\n",
        "plt.plot(range(1, num_epochs + 1), val_losses, label='Validation Loss', color='orange')\n",
        "plt.xlabel('Epoch')\n",
        "plt.ylabel('Loss')\n",
        "plt.title('Training and Validation Loss')\n",
        "plt.legend()\n",
        "plt.grid(True)\n",
        "plt.show()\n"
      ],
      "metadata": {
        "colab": {
          "base_uri": "https://localhost:8080/",
          "height": 1000
        },
        "id": "7rkJV6JsZ5nr",
        "outputId": "a502f868-c41c-451f-f147-ef918bf942db"
      },
      "execution_count": null,
      "outputs": [
        {
          "output_type": "stream",
          "name": "stdout",
          "text": [
            "Epoch 1/150, Train Loss: 0.2532, Val Loss: 0.2688\n",
            "Epoch 2/150, Train Loss: 0.2515, Val Loss: 0.2738\n",
            "Epoch 3/150, Train Loss: 0.2478, Val Loss: 0.2664\n",
            "Epoch 4/150, Train Loss: 0.2467, Val Loss: 0.2707\n",
            "Epoch 5/150, Train Loss: 0.2448, Val Loss: 0.2696\n",
            "Epoch 6/150, Train Loss: 0.2445, Val Loss: 0.2682\n",
            "Epoch 7/150, Train Loss: 0.2427, Val Loss: 0.2666\n",
            "Epoch 8/150, Train Loss: 0.2420, Val Loss: 0.2670\n",
            "Epoch 9/150, Train Loss: 0.2422, Val Loss: 0.2665\n",
            "Epoch 10/150, Train Loss: 0.2411, Val Loss: 0.2653\n",
            "Epoch 11/150, Train Loss: 0.2400, Val Loss: 0.2692\n",
            "Epoch 12/150, Train Loss: 0.2399, Val Loss: 0.2651\n",
            "Epoch 13/150, Train Loss: 0.2391, Val Loss: 0.2802\n",
            "Epoch 14/150, Train Loss: 0.2391, Val Loss: 0.2687\n",
            "Epoch 15/150, Train Loss: 0.2387, Val Loss: 0.2662\n",
            "Epoch 16/150, Train Loss: 0.2386, Val Loss: 0.2671\n",
            "Epoch 17/150, Train Loss: 0.2377, Val Loss: 0.2636\n",
            "Epoch 18/150, Train Loss: 0.2371, Val Loss: 0.2667\n",
            "Epoch 19/150, Train Loss: 0.2362, Val Loss: 0.2760\n",
            "Epoch 20/150, Train Loss: 0.2381, Val Loss: 0.2632\n",
            "Epoch 21/150, Train Loss: 0.2354, Val Loss: 0.2643\n",
            "Epoch 22/150, Train Loss: 0.2350, Val Loss: 0.2647\n",
            "Epoch 23/150, Train Loss: 0.2347, Val Loss: 0.2715\n",
            "Epoch 24/150, Train Loss: 0.2351, Val Loss: 0.2717\n",
            "Epoch 25/150, Train Loss: 0.2331, Val Loss: 0.2686\n",
            "Epoch 26/150, Train Loss: 0.2339, Val Loss: 0.2666\n",
            "Epoch 27/150, Train Loss: 0.2336, Val Loss: 0.2647\n",
            "Epoch 28/150, Train Loss: 0.2335, Val Loss: 0.2632\n",
            "Epoch 29/150, Train Loss: 0.2317, Val Loss: 0.2632\n",
            "Epoch 30/150, Train Loss: 0.2312, Val Loss: 0.2669\n",
            "Epoch 31/150, Train Loss: 0.2323, Val Loss: 0.2659\n",
            "Epoch 32/150, Train Loss: 0.2315, Val Loss: 0.2684\n",
            "Epoch 33/150, Train Loss: 0.2304, Val Loss: 0.2671\n",
            "Epoch 34/150, Train Loss: 0.2300, Val Loss: 0.2814\n",
            "Epoch 35/150, Train Loss: 0.2308, Val Loss: 0.2666\n",
            "Epoch 36/150, Train Loss: 0.2296, Val Loss: 0.2632\n",
            "Epoch 37/150, Train Loss: 0.2291, Val Loss: 0.2707\n",
            "Epoch 38/150, Train Loss: 0.2290, Val Loss: 0.2610\n",
            "Epoch 39/150, Train Loss: 0.2281, Val Loss: 0.2665\n",
            "Epoch 40/150, Train Loss: 0.2269, Val Loss: 0.2618\n",
            "Epoch 41/150, Train Loss: 0.2273, Val Loss: 0.2663\n",
            "Epoch 42/150, Train Loss: 0.2284, Val Loss: 0.2644\n",
            "Epoch 43/150, Train Loss: 0.2264, Val Loss: 0.2642\n",
            "Epoch 44/150, Train Loss: 0.2262, Val Loss: 0.2595\n",
            "Epoch 45/150, Train Loss: 0.2258, Val Loss: 0.2630\n",
            "Epoch 46/150, Train Loss: 0.2255, Val Loss: 0.2616\n",
            "Epoch 47/150, Train Loss: 0.2247, Val Loss: 0.2641\n",
            "Epoch 48/150, Train Loss: 0.2247, Val Loss: 0.2601\n",
            "Epoch 49/150, Train Loss: 0.2233, Val Loss: 0.2598\n",
            "Epoch 50/150, Train Loss: 0.2225, Val Loss: 0.2616\n",
            "Epoch 51/150, Train Loss: 0.2234, Val Loss: 0.2611\n",
            "Epoch 52/150, Train Loss: 0.2223, Val Loss: 0.2632\n",
            "Epoch 53/150, Train Loss: 0.2222, Val Loss: 0.2617\n",
            "Epoch 54/150, Train Loss: 0.2213, Val Loss: 0.2652\n",
            "Epoch 55/150, Train Loss: 0.2214, Val Loss: 0.2613\n",
            "Epoch 56/150, Train Loss: 0.2207, Val Loss: 0.2603\n",
            "Epoch 57/150, Train Loss: 0.2213, Val Loss: 0.2627\n",
            "Epoch 58/150, Train Loss: 0.2201, Val Loss: 0.2613\n",
            "Epoch 59/150, Train Loss: 0.2201, Val Loss: 0.2608\n",
            "Epoch 60/150, Train Loss: 0.2192, Val Loss: 0.2628\n",
            "Epoch 61/150, Train Loss: 0.2185, Val Loss: 0.2589\n",
            "Epoch 62/150, Train Loss: 0.2188, Val Loss: 0.2574\n",
            "Epoch 63/150, Train Loss: 0.2186, Val Loss: 0.2589\n",
            "Epoch 64/150, Train Loss: 0.2181, Val Loss: 0.2590\n",
            "Epoch 65/150, Train Loss: 0.2171, Val Loss: 0.2626\n",
            "Epoch 66/150, Train Loss: 0.2165, Val Loss: 0.2590\n",
            "Epoch 67/150, Train Loss: 0.2165, Val Loss: 0.2587\n",
            "Epoch 68/150, Train Loss: 0.2159, Val Loss: 0.2566\n",
            "Epoch 69/150, Train Loss: 0.2154, Val Loss: 0.2661\n",
            "Epoch 70/150, Train Loss: 0.2163, Val Loss: 0.2717\n",
            "Epoch 71/150, Train Loss: 0.2147, Val Loss: 0.2620\n",
            "Epoch 72/150, Train Loss: 0.2142, Val Loss: 0.2585\n",
            "Epoch 73/150, Train Loss: 0.2145, Val Loss: 0.2566\n",
            "Epoch 74/150, Train Loss: 0.2146, Val Loss: 0.2598\n",
            "Epoch 75/150, Train Loss: 0.2144, Val Loss: 0.2588\n",
            "Epoch 76/150, Train Loss: 0.2126, Val Loss: 0.2573\n",
            "Epoch 77/150, Train Loss: 0.2131, Val Loss: 0.2575\n",
            "Epoch 78/150, Train Loss: 0.2125, Val Loss: 0.2584\n",
            "Epoch 79/150, Train Loss: 0.2121, Val Loss: 0.2591\n",
            "Epoch 80/150, Train Loss: 0.2118, Val Loss: 0.2613\n",
            "Epoch 81/150, Train Loss: 0.2114, Val Loss: 0.2652\n",
            "Epoch 82/150, Train Loss: 0.2112, Val Loss: 0.2575\n",
            "Epoch 83/150, Train Loss: 0.2113, Val Loss: 0.2576\n",
            "Epoch 84/150, Train Loss: 0.2117, Val Loss: 0.2584\n",
            "Epoch 85/150, Train Loss: 0.2105, Val Loss: 0.2588\n",
            "Epoch 86/150, Train Loss: 0.2086, Val Loss: 0.2563\n",
            "Epoch 87/150, Train Loss: 0.2092, Val Loss: 0.2597\n",
            "Epoch 88/150, Train Loss: 0.2095, Val Loss: 0.2547\n",
            "Epoch 89/150, Train Loss: 0.2101, Val Loss: 0.2573\n",
            "Epoch 90/150, Train Loss: 0.2085, Val Loss: 0.2562\n",
            "Epoch 91/150, Train Loss: 0.2082, Val Loss: 0.2571\n",
            "Epoch 92/150, Train Loss: 0.2077, Val Loss: 0.2715\n",
            "Epoch 93/150, Train Loss: 0.2073, Val Loss: 0.2579\n",
            "Epoch 94/150, Train Loss: 0.2080, Val Loss: 0.2582\n",
            "Epoch 95/150, Train Loss: 0.2080, Val Loss: 0.2585\n",
            "Epoch 96/150, Train Loss: 0.2072, Val Loss: 0.2573\n",
            "Epoch 97/150, Train Loss: 0.2064, Val Loss: 0.2564\n",
            "Epoch 98/150, Train Loss: 0.2071, Val Loss: 0.2575\n",
            "Epoch 99/150, Train Loss: 0.2065, Val Loss: 0.2547\n",
            "Epoch 100/150, Train Loss: 0.2049, Val Loss: 0.2548\n",
            "Epoch 101/150, Train Loss: 0.2055, Val Loss: 0.2563\n",
            "Epoch 102/150, Train Loss: 0.2058, Val Loss: 0.2568\n",
            "Epoch 103/150, Train Loss: 0.2042, Val Loss: 0.2578\n",
            "Epoch 104/150, Train Loss: 0.2033, Val Loss: 0.2555\n",
            "Epoch 105/150, Train Loss: 0.2046, Val Loss: 0.2550\n",
            "Epoch 106/150, Train Loss: 0.2038, Val Loss: 0.2558\n",
            "Epoch 107/150, Train Loss: 0.2041, Val Loss: 0.2549\n",
            "Epoch 108/150, Train Loss: 0.2038, Val Loss: 0.2566\n",
            "Epoch 109/150, Train Loss: 0.2028, Val Loss: 0.2546\n",
            "Epoch 110/150, Train Loss: 0.2017, Val Loss: 0.2551\n",
            "Epoch 111/150, Train Loss: 0.2021, Val Loss: 0.2595\n",
            "Epoch 112/150, Train Loss: 0.2015, Val Loss: 0.2546\n",
            "Epoch 113/150, Train Loss: 0.2025, Val Loss: 0.2556\n",
            "Epoch 114/150, Train Loss: 0.2008, Val Loss: 0.2542\n",
            "Epoch 115/150, Train Loss: 0.2013, Val Loss: 0.2554\n",
            "Epoch 116/150, Train Loss: 0.2019, Val Loss: 0.2552\n",
            "Epoch 117/150, Train Loss: 0.2012, Val Loss: 0.2575\n",
            "Epoch 118/150, Train Loss: 0.2008, Val Loss: 0.2550\n",
            "Epoch 119/150, Train Loss: 0.1997, Val Loss: 0.2579\n",
            "Epoch 120/150, Train Loss: 0.2000, Val Loss: 0.2612\n",
            "Epoch 121/150, Train Loss: 0.1988, Val Loss: 0.2769\n",
            "Epoch 122/150, Train Loss: 0.1992, Val Loss: 0.2584\n",
            "Epoch 123/150, Train Loss: 0.1987, Val Loss: 0.2630\n",
            "Epoch 124/150, Train Loss: 0.1995, Val Loss: 0.2528\n",
            "Epoch 125/150, Train Loss: 0.1983, Val Loss: 0.2545\n",
            "Epoch 126/150, Train Loss: 0.1989, Val Loss: 0.2581\n",
            "Epoch 127/150, Train Loss: 0.1978, Val Loss: 0.2551\n",
            "Epoch 128/150, Train Loss: 0.1978, Val Loss: 0.2556\n",
            "Epoch 129/150, Train Loss: 0.1978, Val Loss: 0.2536\n",
            "Epoch 130/150, Train Loss: 0.1974, Val Loss: 0.2576\n",
            "Epoch 131/150, Train Loss: 0.1967, Val Loss: 0.2586\n",
            "Epoch 132/150, Train Loss: 0.1970, Val Loss: 0.2547\n",
            "Epoch 133/150, Train Loss: 0.1968, Val Loss: 0.2571\n",
            "Epoch 134/150, Train Loss: 0.1973, Val Loss: 0.2538\n",
            "Epoch 135/150, Train Loss: 0.1964, Val Loss: 0.2578\n",
            "Epoch 136/150, Train Loss: 0.1961, Val Loss: 0.2588\n",
            "Epoch 137/150, Train Loss: 0.1955, Val Loss: 0.2574\n",
            "Epoch 138/150, Train Loss: 0.1953, Val Loss: 0.2569\n",
            "Epoch 139/150, Train Loss: 0.1957, Val Loss: 0.2602\n",
            "Epoch 140/150, Train Loss: 0.1964, Val Loss: 0.2553\n",
            "Epoch 141/150, Train Loss: 0.1953, Val Loss: 0.2598\n",
            "Epoch 142/150, Train Loss: 0.1948, Val Loss: 0.2587\n",
            "Epoch 143/150, Train Loss: 0.1946, Val Loss: 0.2550\n",
            "Epoch 144/150, Train Loss: 0.1940, Val Loss: 0.2550\n",
            "Epoch 145/150, Train Loss: 0.1945, Val Loss: 0.2556\n",
            "Epoch 146/150, Train Loss: 0.1941, Val Loss: 0.2559\n",
            "Epoch 147/150, Train Loss: 0.1939, Val Loss: 0.2540\n",
            "Epoch 148/150, Train Loss: 0.1930, Val Loss: 0.2557\n",
            "Epoch 149/150, Train Loss: 0.1936, Val Loss: 0.2589\n",
            "Epoch 150/150, Train Loss: 0.1935, Val Loss: 0.2550\n"
          ]
        },
        {
          "output_type": "display_data",
          "data": {
            "text/plain": [
              "<Figure size 1000x600 with 1 Axes>"
            ],
            "image/png": "[encoded data removed]"
          },
          "metadata": {}
        }
      ]
    },
    {
      "cell_type": "code",
      "source": [
        "from sklearn.metrics import accuracy_score, precision_score, recall_score, f1_score, classification_report, roc_curve, auc\n",
        "import matplotlib.pyplot as plt\n",
        "\n",
        "def evaluate_model(model, test_loader):\n",
        "    model.eval()\n",
        "    all_predictions = []\n",
        "    all_labels = []\n",
        "    all_probabilities = []\n",
        "\n",
        "    with torch.no_grad():\n",
        "        for batch_X, batch_y in test_loader:\n",
        "            predictions = model(batch_X)\n",
        "            predicted_labels = (predictions > 0.5).long()\n",
        "            all_predictions.extend(predicted_labels.cpu().numpy())\n",
        "            all_labels.extend(batch_y.cpu().numpy())\n",
        "            all_probabilities.extend(predictions.cpu().numpy())  # For ROC curve\n",
        "\n",
        "    # Compute metrics\n",
        "    accuracy = accuracy_score(all_labels, all_predictions)\n",
        "    precision = precision_score(all_labels, all_predictions)\n",
        "    recall = recall_score(all_labels, all_predictions)\n",
        "    f1 = f1_score(all_labels, all_predictions)\n",
        "    report = classification_report(all_labels, all_predictions)\n",
        "\n",
        "    # Print metrics\n",
        "    print(f\"Accuracy: {accuracy:.4f}\")\n",
        "    print(f\"Precision: {precision:.4f}\")\n",
        "    print(f\"Recall: {recall:.4f}\")\n",
        "    print(f\"F1 Score: {f1:.4f}\")\n",
        "    print(\"\\nClassification Report:\\n\", report)\n",
        "\n",
        "    # ROC curve\n",
        "    fpr, tpr, _ = roc_curve(all_labels, all_probabilities)\n",
        "    roc_auc = auc(fpr, tpr)\n",
        "\n",
        "    # Plot ROC curve\n",
        "    plt.figure(figsize=(8, 6))\n",
        "    plt.plot(fpr, tpr, color=\"blue\", label=f\"ROC curve (AUC = {roc_auc:.4f})\")\n",
        "    plt.plot([0, 1], [0, 1], color=\"red\", linestyle=\"--\", label=\"Random guess\")\n",
        "    plt.xlabel(\"False Positive Rate\")\n",
        "    plt.ylabel(\"True Positive Rate\")\n",
        "    plt.title(\"ROC Curve\")\n",
        "    plt.legend(loc=\"lower right\")\n",
        "    plt.grid()\n",
        "    plt.show()\n",
        "\n",
        "# Evaluate the model\n",
        "evaluate_model(model, test_loader)\n"
      ],
      "metadata": {
        "id": "TkqS3ssLdX_N",
        "outputId": "4fa1d852-bc3e-4eb2-e271-e5e4a4ae9474",
        "colab": {
          "base_uri": "https://localhost:8080/",
          "height": 824
        }
      },
      "execution_count": null,
      "outputs": [
        {
          "output_type": "stream",
          "name": "stdout",
          "text": [
            "Accuracy: 0.9048\n",
            "Precision: 0.9189\n",
            "Recall: 0.8827\n",
            "F1 Score: 0.9005\n",
            "\n",
            "Classification Report:\n",
            "               precision    recall  f1-score   support\n",
            "\n",
            "         0.0       0.89      0.93      0.91      1172\n",
            "         1.0       0.92      0.88      0.90      1117\n",
            "\n",
            "    accuracy                           0.90      2289\n",
            "   macro avg       0.91      0.90      0.90      2289\n",
            "weighted avg       0.91      0.90      0.90      2289\n",
            "\n"
          ]
        },
        {
          "output_type": "display_data",
          "data": {
            "text/plain": [
              "<Figure size 800x600 with 1 Axes>"
            ],
            "image/png": "[encoded data removed]"
          },
          "metadata": {}
        }
      ]
    },
    {
      "cell_type": "code",
      "source": [
        "from sklearn.metrics import accuracy_score, precision_score, recall_score, f1_score\n",
        "\n",
        "def evaluate_model(model, test_loader):\n",
        "    model.eval()\n",
        "    all_predictions = []\n",
        "    all_labels = []\n",
        "\n",
        "    with torch.no_grad():\n",
        "        for batch_X, batch_y in test_loader:\n",
        "            predictions = model(batch_X)\n",
        "            predicted_labels = (predictions > 0.5).long()\n",
        "            all_predictions.extend(predicted_labels.cpu().numpy())\n",
        "            all_labels.extend(batch_y.cpu().numpy())\n",
        "\n",
        "    accuracy = accuracy_score(all_labels, all_predictions)\n",
        "    precision = precision_score(all_labels, all_predictions)\n",
        "    recall = recall_score(all_labels, all_predictions)\n",
        "    f1 = f1_score(all_labels, all_predictions)\n",
        "\n",
        "    print(f\"Accuracy: {accuracy:.4f}\")\n",
        "    print(f\"Precision: {precision:.4f}\")\n",
        "    print(f\"Recall: {recall:.4f}\")\n",
        "    print(f\"F1 Score: {f1:.4f}\")\n",
        "\n",
        "evaluate_model(model, test_loader)\n"
      ],
      "metadata": {
        "colab": {
          "base_uri": "https://localhost:8080/"
        },
        "id": "C8EErNmxMJ0C",
        "outputId": "3335e355-c7ab-4335-b514-ba27ff41616d"
      },
      "execution_count": null,
      "outputs": [
        {
          "output_type": "stream",
          "name": "stdout",
          "text": [
            "Accuracy: 0.9048\n",
            "Precision: 0.9189\n",
            "Recall: 0.8827\n",
            "F1 Score: 0.9005\n"
          ]
        }
      ]
    }
  ]
}