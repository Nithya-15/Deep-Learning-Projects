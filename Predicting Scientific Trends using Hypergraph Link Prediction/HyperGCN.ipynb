{
  "nbformat": 4,
  "nbformat_minor": 0,
  "metadata": {
    "colab": {
      "provenance": []
    },
    "kernelspec": {
      "name": "python3",
      "display_name": "Python 3"
    },
    "language_info": {
      "name": "python"
    }
  },
  "cells": [
    {
      "cell_type": "code",
      "execution_count": null,
      "metadata": {
        "colab": {
          "base_uri": "https://localhost:8080/"
        },
        "id": "JnuC-08VjD1b",
        "outputId": "056a6464-9105-4fdb-cc14-a1d22e0afbe7"
      },
      "outputs": [
        {
          "output_type": "stream",
          "name": "stdout",
          "text": [
            "Requirement already satisfied: pydantic in /usr/local/lib/python3.10/dist-packages (2.10.2)\n",
            "Requirement already satisfied: annotated-types>=0.6.0 in /usr/local/lib/python3.10/dist-packages (from pydantic) (0.7.0)\n",
            "Requirement already satisfied: pydantic-core==2.27.1 in /usr/local/lib/python3.10/dist-packages (from pydantic) (2.27.1)\n",
            "Requirement already satisfied: typing-extensions>=4.12.2 in /usr/local/lib/python3.10/dist-packages (from pydantic) (4.12.2)\n",
            "Requirement already satisfied: PyYAML in /usr/local/lib/python3.10/dist-packages (6.0.2)\n",
            "Requirement already satisfied: numpy==1.26.4 in /usr/local/lib/python3.10/dist-packages (1.26.4)\n",
            "Collecting torch==2.1.2\n",
            "  Downloading torch-2.1.2-cp310-cp310-manylinux1_x86_64.whl.metadata (25 kB)\n",
            "Collecting torchvision==0.16.2\n",
            "  Downloading torchvision-0.16.2-cp310-cp310-manylinux1_x86_64.whl.metadata (6.6 kB)\n",
            "Collecting torchaudio==2.1.2\n",
            "  Downloading torchaudio-2.1.2-cp310-cp310-manylinux1_x86_64.whl.metadata (6.4 kB)\n",
            "Requirement already satisfied: filelock in /usr/local/lib/python3.10/dist-packages (from torch==2.1.2) (3.16.1)\n",
            "Requirement already satisfied: typing-extensions in /usr/local/lib/python3.10/dist-packages (from torch==2.1.2) (4.12.2)\n",
            "Requirement already satisfied: sympy in /usr/local/lib/python3.10/dist-packages (from torch==2.1.2) (1.13.1)\n",
            "Requirement already satisfied: networkx in /usr/local/lib/python3.10/dist-packages (from torch==2.1.2) (3.4.2)\n",
            "Requirement already satisfied: jinja2 in /usr/local/lib/python3.10/dist-packages (from torch==2.1.2) (3.1.4)\n",
            "Requirement already satisfied: fsspec in /usr/local/lib/python3.10/dist-packages (from torch==2.1.2) (2024.10.0)\n",
            "Collecting nvidia-cuda-nvrtc-cu12==12.1.105 (from torch==2.1.2)\n",
            "  Downloading nvidia_cuda_nvrtc_cu12-12.1.105-py3-none-manylinux1_x86_64.whl.metadata (1.5 kB)\n",
            "Collecting nvidia-cuda-runtime-cu12==12.1.105 (from torch==2.1.2)\n",
            "  Downloading nvidia_cuda_runtime_cu12-12.1.105-py3-none-manylinux1_x86_64.whl.metadata (1.5 kB)\n",
            "Collecting nvidia-cuda-cupti-cu12==12.1.105 (from torch==2.1.2)\n",
            "  Downloading nvidia_cuda_cupti_cu12-12.1.105-py3-none-manylinux1_x86_64.whl.metadata (1.6 kB)\n",
            "Collecting nvidia-cudnn-cu12==8.9.2.26 (from torch==2.1.2)\n",
            "  Downloading nvidia_cudnn_cu12-8.9.2.26-py3-none-manylinux1_x86_64.whl.metadata (1.6 kB)\n",
            "Collecting nvidia-cublas-cu12==12.1.3.1 (from torch==2.1.2)\n",
            "  Downloading nvidia_cublas_cu12-12.1.3.1-py3-none-manylinux1_x86_64.whl.metadata (1.5 kB)\n",
            "Collecting nvidia-cufft-cu12==11.0.2.54 (from torch==2.1.2)\n",
            "  Downloading nvidia_cufft_cu12-11.0.2.54-py3-none-manylinux1_x86_64.whl.metadata (1.5 kB)\n",
            "Collecting nvidia-curand-cu12==10.3.2.106 (from torch==2.1.2)\n",
            "  Downloading nvidia_curand_cu12-10.3.2.106-py3-none-manylinux1_x86_64.whl.metadata (1.5 kB)\n",
            "Collecting nvidia-cusolver-cu12==11.4.5.107 (from torch==2.1.2)\n",
            "  Downloading nvidia_cusolver_cu12-11.4.5.107-py3-none-manylinux1_x86_64.whl.metadata (1.6 kB)\n",
            "Collecting nvidia-cusparse-cu12==12.1.0.106 (from torch==2.1.2)\n",
            "  Downloading nvidia_cusparse_cu12-12.1.0.106-py3-none-manylinux1_x86_64.whl.metadata (1.6 kB)\n",
            "Collecting nvidia-nccl-cu12==2.18.1 (from torch==2.1.2)\n",
            "  Downloading nvidia_nccl_cu12-2.18.1-py3-none-manylinux1_x86_64.whl.metadata (1.8 kB)\n",
            "Collecting nvidia-nvtx-cu12==12.1.105 (from torch==2.1.2)\n",
            "  Downloading nvidia_nvtx_cu12-12.1.105-py3-none-manylinux1_x86_64.whl.metadata (1.7 kB)\n",
            "Collecting triton==2.1.0 (from torch==2.1.2)\n",
            "  Downloading triton-2.1.0-0-cp310-cp310-manylinux2014_x86_64.manylinux_2_17_x86_64.whl.metadata (1.3 kB)\n",
            "Requirement already satisfied: numpy in /usr/local/lib/python3.10/dist-packages (from torchvision==0.16.2) (1.26.4)\n",
            "Requirement already satisfied: requests in /usr/local/lib/python3.10/dist-packages (from torchvision==0.16.2) (2.32.3)\n",
            "Requirement already satisfied: pillow!=8.3.*,>=5.3.0 in /usr/local/lib/python3.10/dist-packages (from torchvision==0.16.2) (11.0.0)\n",
            "Requirement already satisfied: nvidia-nvjitlink-cu12 in /usr/local/lib/python3.10/dist-packages (from nvidia-cusolver-cu12==11.4.5.107->torch==2.1.2) (12.6.85)\n",
            "Requirement already satisfied: MarkupSafe>=2.0 in /usr/local/lib/python3.10/dist-packages (from jinja2->torch==2.1.2) (3.0.2)\n",
            "Requirement already satisfied: charset-normalizer<4,>=2 in /usr/local/lib/python3.10/dist-packages (from requests->torchvision==0.16.2) (3.4.0)\n",
            "Requirement already satisfied: idna<4,>=2.5 in /usr/local/lib/python3.10/dist-packages (from requests->torchvision==0.16.2) (3.10)\n",
            "Requirement already satisfied: urllib3<3,>=1.21.1 in /usr/local/lib/python3.10/dist-packages (from requests->torchvision==0.16.2) (2.2.3)\n",
            "Requirement already satisfied: certifi>=2017.4.17 in /usr/local/lib/python3.10/dist-packages (from requests->torchvision==0.16.2) (2024.8.30)\n",
            "Requirement already satisfied: mpmath<1.4,>=1.1.0 in /usr/local/lib/python3.10/dist-packages (from sympy->torch==2.1.2) (1.3.0)\n",
            "Downloading torch-2.1.2-cp310-cp310-manylinux1_x86_64.whl (670.2 MB)\n",
            "\u001b[2K   \u001b[90m━━━━━━━━━━━━━━━━━━━━━━━━━━━━━━━━━━━━━━━━\u001b[0m \u001b[32m670.2/670.2 MB\u001b[0m \u001b[31m2.7 MB/s\u001b[0m eta \u001b[36m0:00:00\u001b[0m\n",
            "\u001b[?25hDownloading torchvision-0.16.2-cp310-cp310-manylinux1_x86_64.whl (6.8 MB)\n",
            "\u001b[2K   \u001b[90m━━━━━━━━━━━━━━━━━━━━━━━━━━━━━━━━━━━━━━━━\u001b[0m \u001b[32m6.8/6.8 MB\u001b[0m \u001b[31m74.0 MB/s\u001b[0m eta \u001b[36m0:00:00\u001b[0m\n",
            "\u001b[?25hDownloading torchaudio-2.1.2-cp310-cp310-manylinux1_x86_64.whl (3.3 MB)\n",
            "\u001b[2K   \u001b[90m━━━━━━━━━━━━━━━━━━━━━━━━━━━━━━━━━━━━━━━━\u001b[0m \u001b[32m3.3/3.3 MB\u001b[0m \u001b[31m65.5 MB/s\u001b[0m eta \u001b[36m0:00:00\u001b[0m\n",
            "\u001b[?25hDownloading nvidia_cublas_cu12-12.1.3.1-py3-none-manylinux1_x86_64.whl (410.6 MB)\n",
            "\u001b[2K   \u001b[90m━━━━━━━━━━━━━━━━━━━━━━━━━━━━━━━━━━━━━━━━\u001b[0m \u001b[32m410.6/410.6 MB\u001b[0m \u001b[31m3.9 MB/s\u001b[0m eta \u001b[36m0:00:00\u001b[0m\n",
            "\u001b[?25hDownloading nvidia_cuda_cupti_cu12-12.1.105-py3-none-manylinux1_x86_64.whl (14.1 MB)\n",
            "\u001b[2K   \u001b[90m━━━━━━━━━━━━━━━━━━━━━━━━━━━━━━━━━━━━━━━━\u001b[0m \u001b[32m14.1/14.1 MB\u001b[0m \u001b[31m64.5 MB/s\u001b[0m eta \u001b[36m0:00:00\u001b[0m\n",
            "\u001b[?25hDownloading nvidia_cuda_nvrtc_cu12-12.1.105-py3-none-manylinux1_x86_64.whl (23.7 MB)\n",
            "\u001b[2K   \u001b[90m━━━━━━━━━━━━━━━━━━━━━━━━━━━━━━━━━━━━━━━━\u001b[0m \u001b[32m23.7/23.7 MB\u001b[0m \u001b[31m55.7 MB/s\u001b[0m eta \u001b[36m0:00:00\u001b[0m\n",
            "\u001b[?25hDownloading nvidia_cuda_runtime_cu12-12.1.105-py3-none-manylinux1_x86_64.whl (823 kB)\n",
            "\u001b[2K   \u001b[90m━━━━━━━━━━━━━━━━━━━━━━━━━━━━━━━━━━━━━━━━\u001b[0m \u001b[32m823.6/823.6 kB\u001b[0m \u001b[31m45.0 MB/s\u001b[0m eta \u001b[36m0:00:00\u001b[0m\n",
            "\u001b[?25hDownloading nvidia_cudnn_cu12-8.9.2.26-py3-none-manylinux1_x86_64.whl (731.7 MB)\n",
            "\u001b[2K   \u001b[90m━━━━━━━━━━━━━━━━━━━━━━━━━━━━━━━━━━━━━━━━\u001b[0m \u001b[32m731.7/731.7 MB\u001b[0m \u001b[31m2.6 MB/s\u001b[0m eta \u001b[36m0:00:00\u001b[0m\n",
            "\u001b[?25hDownloading nvidia_cufft_cu12-11.0.2.54-py3-none-manylinux1_x86_64.whl (121.6 MB)\n",
            "\u001b[2K   \u001b[90m━━━━━━━━━━━━━━━━━━━━━━━━━━━━━━━━━━━━━━━━\u001b[0m \u001b[32m121.6/121.6 MB\u001b[0m \u001b[31m7.8 MB/s\u001b[0m eta \u001b[36m0:00:00\u001b[0m\n",
            "\u001b[?25hDownloading nvidia_curand_cu12-10.3.2.106-py3-none-manylinux1_x86_64.whl (56.5 MB)\n",
            "\u001b[2K   \u001b[90m━━━━━━━━━━━━━━━━━━━━━━━━━━━━━━━━━━━━━━━━\u001b[0m \u001b[32m56.5/56.5 MB\u001b[0m \u001b[31m12.1 MB/s\u001b[0m eta \u001b[36m0:00:00\u001b[0m\n",
            "\u001b[?25hDownloading nvidia_cusolver_cu12-11.4.5.107-py3-none-manylinux1_x86_64.whl (124.2 MB)\n",
            "\u001b[2K   \u001b[90m━━━━━━━━━━━━━━━━━━━━━━━━━━━━━━━━━━━━━━━━\u001b[0m \u001b[32m124.2/124.2 MB\u001b[0m \u001b[31m7.5 MB/s\u001b[0m eta \u001b[36m0:00:00\u001b[0m\n",
            "\u001b[?25hDownloading nvidia_cusparse_cu12-12.1.0.106-py3-none-manylinux1_x86_64.whl (196.0 MB)\n",
            "\u001b[2K   \u001b[90m━━━━━━━━━━━━━━━━━━━━━━━━━━━━━━━━━━━━━━━━\u001b[0m \u001b[32m196.0/196.0 MB\u001b[0m \u001b[31m8.2 MB/s\u001b[0m eta \u001b[36m0:00:00\u001b[0m\n",
            "\u001b[?25hDownloading nvidia_nccl_cu12-2.18.1-py3-none-manylinux1_x86_64.whl (209.8 MB)\n",
            "\u001b[2K   \u001b[90m━━━━━━━━━━━━━━━━━━━━━━━━━━━━━━━━━━━━━━━━\u001b[0m \u001b[32m209.8/209.8 MB\u001b[0m \u001b[31m6.6 MB/s\u001b[0m eta \u001b[36m0:00:00\u001b[0m\n",
            "\u001b[?25hDownloading nvidia_nvtx_cu12-12.1.105-py3-none-manylinux1_x86_64.whl (99 kB)\n",
            "\u001b[2K   \u001b[90m━━━━━━━━━━━━━━━━━━━━━━━━━━━━━━━━━━━━━━━━\u001b[0m \u001b[32m99.1/99.1 kB\u001b[0m \u001b[31m7.0 MB/s\u001b[0m eta \u001b[36m0:00:00\u001b[0m\n",
            "\u001b[?25hDownloading triton-2.1.0-0-cp310-cp310-manylinux2014_x86_64.manylinux_2_17_x86_64.whl (89.2 MB)\n",
            "\u001b[2K   \u001b[90m━━━━━━━━━━━━━━━━━━━━━━━━━━━━━━━━━━━━━━━━\u001b[0m \u001b[32m89.2/89.2 MB\u001b[0m \u001b[31m7.9 MB/s\u001b[0m eta \u001b[36m0:00:00\u001b[0m\n",
            "\u001b[?25hInstalling collected packages: triton, nvidia-nvtx-cu12, nvidia-nccl-cu12, nvidia-cusparse-cu12, nvidia-curand-cu12, nvidia-cufft-cu12, nvidia-cuda-runtime-cu12, nvidia-cuda-nvrtc-cu12, nvidia-cuda-cupti-cu12, nvidia-cublas-cu12, nvidia-cusolver-cu12, nvidia-cudnn-cu12, torch, torchvision, torchaudio\n",
            "  Attempting uninstall: nvidia-nccl-cu12\n",
            "    Found existing installation: nvidia-nccl-cu12 2.23.4\n",
            "    Uninstalling nvidia-nccl-cu12-2.23.4:\n",
            "      Successfully uninstalled nvidia-nccl-cu12-2.23.4\n",
            "  Attempting uninstall: nvidia-cusparse-cu12\n",
            "    Found existing installation: nvidia-cusparse-cu12 12.5.4.2\n",
            "    Uninstalling nvidia-cusparse-cu12-12.5.4.2:\n",
            "      Successfully uninstalled nvidia-cusparse-cu12-12.5.4.2\n",
            "  Attempting uninstall: nvidia-curand-cu12\n",
            "    Found existing installation: nvidia-curand-cu12 10.3.7.77\n",
            "    Uninstalling nvidia-curand-cu12-10.3.7.77:\n",
            "      Successfully uninstalled nvidia-curand-cu12-10.3.7.77\n",
            "  Attempting uninstall: nvidia-cufft-cu12\n",
            "    Found existing installation: nvidia-cufft-cu12 11.3.0.4\n",
            "    Uninstalling nvidia-cufft-cu12-11.3.0.4:\n",
            "      Successfully uninstalled nvidia-cufft-cu12-11.3.0.4\n",
            "  Attempting uninstall: nvidia-cuda-runtime-cu12\n",
            "    Found existing installation: nvidia-cuda-runtime-cu12 12.6.77\n",
            "    Uninstalling nvidia-cuda-runtime-cu12-12.6.77:\n",
            "      Successfully uninstalled nvidia-cuda-runtime-cu12-12.6.77\n",
            "  Attempting uninstall: nvidia-cuda-cupti-cu12\n",
            "    Found existing installation: nvidia-cuda-cupti-cu12 12.6.80\n",
            "    Uninstalling nvidia-cuda-cupti-cu12-12.6.80:\n",
            "      Successfully uninstalled nvidia-cuda-cupti-cu12-12.6.80\n",
            "  Attempting uninstall: nvidia-cublas-cu12\n",
            "    Found existing installation: nvidia-cublas-cu12 12.6.4.1\n",
            "    Uninstalling nvidia-cublas-cu12-12.6.4.1:\n",
            "      Successfully uninstalled nvidia-cublas-cu12-12.6.4.1\n",
            "  Attempting uninstall: nvidia-cusolver-cu12\n",
            "    Found existing installation: nvidia-cusolver-cu12 11.7.1.2\n",
            "    Uninstalling nvidia-cusolver-cu12-11.7.1.2:\n",
            "      Successfully uninstalled nvidia-cusolver-cu12-11.7.1.2\n",
            "  Attempting uninstall: nvidia-cudnn-cu12\n",
            "    Found existing installation: nvidia-cudnn-cu12 9.5.1.17\n",
            "    Uninstalling nvidia-cudnn-cu12-9.5.1.17:\n",
            "      Successfully uninstalled nvidia-cudnn-cu12-9.5.1.17\n",
            "  Attempting uninstall: torch\n",
            "    Found existing installation: torch 2.5.1+cu121\n",
            "    Uninstalling torch-2.5.1+cu121:\n",
            "      Successfully uninstalled torch-2.5.1+cu121\n",
            "  Attempting uninstall: torchvision\n",
            "    Found existing installation: torchvision 0.20.1+cu121\n",
            "    Uninstalling torchvision-0.20.1+cu121:\n",
            "      Successfully uninstalled torchvision-0.20.1+cu121\n",
            "  Attempting uninstall: torchaudio\n",
            "    Found existing installation: torchaudio 2.5.1+cu121\n",
            "    Uninstalling torchaudio-2.5.1+cu121:\n",
            "      Successfully uninstalled torchaudio-2.5.1+cu121\n",
            "Successfully installed nvidia-cublas-cu12-12.1.3.1 nvidia-cuda-cupti-cu12-12.1.105 nvidia-cuda-nvrtc-cu12-12.1.105 nvidia-cuda-runtime-cu12-12.1.105 nvidia-cudnn-cu12-8.9.2.26 nvidia-cufft-cu12-11.0.2.54 nvidia-curand-cu12-10.3.2.106 nvidia-cusolver-cu12-11.4.5.107 nvidia-cusparse-cu12-12.1.0.106 nvidia-nccl-cu12-2.18.1 nvidia-nvtx-cu12-12.1.105 torch-2.1.2 torchaudio-2.1.2 torchvision-0.16.2 triton-2.1.0\n",
            "Looking in links: https://data.dgl.ai/wheels/repo.html\n",
            "Collecting dgl\n",
            "  Downloading dgl-2.1.0-cp310-cp310-manylinux1_x86_64.whl.metadata (553 bytes)\n",
            "Requirement already satisfied: numpy>=1.14.0 in /usr/local/lib/python3.10/dist-packages (from dgl) (1.26.4)\n",
            "Requirement already satisfied: scipy>=1.1.0 in /usr/local/lib/python3.10/dist-packages (from dgl) (1.13.1)\n",
            "Requirement already satisfied: networkx>=2.1 in /usr/local/lib/python3.10/dist-packages (from dgl) (3.4.2)\n",
            "Requirement already satisfied: requests>=2.19.0 in /usr/local/lib/python3.10/dist-packages (from dgl) (2.32.3)\n",
            "Requirement already satisfied: tqdm in /usr/local/lib/python3.10/dist-packages (from dgl) (4.66.6)\n",
            "Requirement already satisfied: psutil>=5.8.0 in /usr/local/lib/python3.10/dist-packages (from dgl) (5.9.5)\n",
            "Collecting torchdata>=0.5.0 (from dgl)\n",
            "  Downloading torchdata-0.9.0-cp310-cp310-manylinux1_x86_64.whl.metadata (5.5 kB)\n",
            "Requirement already satisfied: charset-normalizer<4,>=2 in /usr/local/lib/python3.10/dist-packages (from requests>=2.19.0->dgl) (3.4.0)\n",
            "Requirement already satisfied: idna<4,>=2.5 in /usr/local/lib/python3.10/dist-packages (from requests>=2.19.0->dgl) (3.10)\n",
            "Requirement already satisfied: urllib3<3,>=1.21.1 in /usr/local/lib/python3.10/dist-packages (from requests>=2.19.0->dgl) (2.2.3)\n",
            "Requirement already satisfied: certifi>=2017.4.17 in /usr/local/lib/python3.10/dist-packages (from requests>=2.19.0->dgl) (2024.8.30)\n",
            "Requirement already satisfied: torch>=2 in /usr/local/lib/python3.10/dist-packages (from torchdata>=0.5.0->dgl) (2.1.2)\n",
            "Requirement already satisfied: filelock in /usr/local/lib/python3.10/dist-packages (from torch>=2->torchdata>=0.5.0->dgl) (3.16.1)\n",
            "Requirement already satisfied: typing-extensions in /usr/local/lib/python3.10/dist-packages (from torch>=2->torchdata>=0.5.0->dgl) (4.12.2)\n",
            "Requirement already satisfied: sympy in /usr/local/lib/python3.10/dist-packages (from torch>=2->torchdata>=0.5.0->dgl) (1.13.1)\n",
            "Requirement already satisfied: jinja2 in /usr/local/lib/python3.10/dist-packages (from torch>=2->torchdata>=0.5.0->dgl) (3.1.4)\n",
            "Requirement already satisfied: fsspec in /usr/local/lib/python3.10/dist-packages (from torch>=2->torchdata>=0.5.0->dgl) (2024.10.0)\n",
            "Requirement already satisfied: nvidia-cuda-nvrtc-cu12==12.1.105 in /usr/local/lib/python3.10/dist-packages (from torch>=2->torchdata>=0.5.0->dgl) (12.1.105)\n",
            "Requirement already satisfied: nvidia-cuda-runtime-cu12==12.1.105 in /usr/local/lib/python3.10/dist-packages (from torch>=2->torchdata>=0.5.0->dgl) (12.1.105)\n",
            "Requirement already satisfied: nvidia-cuda-cupti-cu12==12.1.105 in /usr/local/lib/python3.10/dist-packages (from torch>=2->torchdata>=0.5.0->dgl) (12.1.105)\n",
            "Requirement already satisfied: nvidia-cudnn-cu12==8.9.2.26 in /usr/local/lib/python3.10/dist-packages (from torch>=2->torchdata>=0.5.0->dgl) (8.9.2.26)\n",
            "Requirement already satisfied: nvidia-cublas-cu12==12.1.3.1 in /usr/local/lib/python3.10/dist-packages (from torch>=2->torchdata>=0.5.0->dgl) (12.1.3.1)\n",
            "Requirement already satisfied: nvidia-cufft-cu12==11.0.2.54 in /usr/local/lib/python3.10/dist-packages (from torch>=2->torchdata>=0.5.0->dgl) (11.0.2.54)\n",
            "Requirement already satisfied: nvidia-curand-cu12==10.3.2.106 in /usr/local/lib/python3.10/dist-packages (from torch>=2->torchdata>=0.5.0->dgl) (10.3.2.106)\n",
            "Requirement already satisfied: nvidia-cusolver-cu12==11.4.5.107 in /usr/local/lib/python3.10/dist-packages (from torch>=2->torchdata>=0.5.0->dgl) (11.4.5.107)\n",
            "Requirement already satisfied: nvidia-cusparse-cu12==12.1.0.106 in /usr/local/lib/python3.10/dist-packages (from torch>=2->torchdata>=0.5.0->dgl) (12.1.0.106)\n",
            "Requirement already satisfied: nvidia-nccl-cu12==2.18.1 in /usr/local/lib/python3.10/dist-packages (from torch>=2->torchdata>=0.5.0->dgl) (2.18.1)\n",
            "Requirement already satisfied: nvidia-nvtx-cu12==12.1.105 in /usr/local/lib/python3.10/dist-packages (from torch>=2->torchdata>=0.5.0->dgl) (12.1.105)\n",
            "Requirement already satisfied: triton==2.1.0 in /usr/local/lib/python3.10/dist-packages (from torch>=2->torchdata>=0.5.0->dgl) (2.1.0)\n",
            "Requirement already satisfied: nvidia-nvjitlink-cu12 in /usr/local/lib/python3.10/dist-packages (from nvidia-cusolver-cu12==11.4.5.107->torch>=2->torchdata>=0.5.0->dgl) (12.6.85)\n",
            "Requirement already satisfied: MarkupSafe>=2.0 in /usr/local/lib/python3.10/dist-packages (from jinja2->torch>=2->torchdata>=0.5.0->dgl) (3.0.2)\n",
            "Requirement already satisfied: mpmath<1.4,>=1.1.0 in /usr/local/lib/python3.10/dist-packages (from sympy->torch>=2->torchdata>=0.5.0->dgl) (1.3.0)\n",
            "Downloading dgl-2.1.0-cp310-cp310-manylinux1_x86_64.whl (8.5 MB)\n",
            "\u001b[2K   \u001b[90m━━━━━━━━━━━━━━━━━━━━━━━━━━━━━━━━━━━━━━━━\u001b[0m \u001b[32m8.5/8.5 MB\u001b[0m \u001b[31m71.2 MB/s\u001b[0m eta \u001b[36m0:00:00\u001b[0m\n",
            "\u001b[?25hDownloading torchdata-0.9.0-cp310-cp310-manylinux1_x86_64.whl (2.7 MB)\n",
            "\u001b[2K   \u001b[90m━━━━━━━━━━━━━━━━━━━━━━━━━━━━━━━━━━━━━━━━\u001b[0m \u001b[32m2.7/2.7 MB\u001b[0m \u001b[31m203.9 MB/s\u001b[0m eta \u001b[36m0:00:00\u001b[0m\n",
            "\u001b[?25hInstalling collected packages: torchdata, dgl\n",
            "Successfully installed dgl-2.1.0 torchdata-0.9.0\n",
            "Collecting dill\n",
            "  Downloading dill-0.3.9-py3-none-any.whl.metadata (10 kB)\n",
            "Downloading dill-0.3.9-py3-none-any.whl (119 kB)\n",
            "\u001b[2K   \u001b[90m━━━━━━━━━━━━━━━━━━━━━━━━━━━━━━━━━━━━━━━━\u001b[0m \u001b[32m119.4/119.4 kB\u001b[0m \u001b[31m2.3 MB/s\u001b[0m eta \u001b[36m0:00:00\u001b[0m\n",
            "\u001b[?25hInstalling collected packages: dill\n",
            "Successfully installed dill-0.3.9\n",
            "Collecting torchdata==0.6.0\n",
            "  Downloading torchdata-0.6.0-cp310-cp310-manylinux_2_17_x86_64.manylinux2014_x86_64.whl.metadata (919 bytes)\n",
            "Requirement already satisfied: urllib3>=1.25 in /usr/local/lib/python3.10/dist-packages (from torchdata==0.6.0) (2.2.3)\n",
            "Requirement already satisfied: requests in /usr/local/lib/python3.10/dist-packages (from torchdata==0.6.0) (2.32.3)\n",
            "Collecting torch==2.0.0 (from torchdata==0.6.0)\n",
            "  Downloading torch-2.0.0-cp310-cp310-manylinux1_x86_64.whl.metadata (24 kB)\n",
            "Requirement already satisfied: filelock in /usr/local/lib/python3.10/dist-packages (from torch==2.0.0->torchdata==0.6.0) (3.16.1)\n",
            "Requirement already satisfied: typing-extensions in /usr/local/lib/python3.10/dist-packages (from torch==2.0.0->torchdata==0.6.0) (4.12.2)\n",
            "Requirement already satisfied: sympy in /usr/local/lib/python3.10/dist-packages (from torch==2.0.0->torchdata==0.6.0) (1.13.1)\n",
            "Requirement already satisfied: networkx in /usr/local/lib/python3.10/dist-packages (from torch==2.0.0->torchdata==0.6.0) (3.4.2)\n",
            "Requirement already satisfied: jinja2 in /usr/local/lib/python3.10/dist-packages (from torch==2.0.0->torchdata==0.6.0) (3.1.4)\n",
            "Collecting nvidia-cuda-nvrtc-cu11==11.7.99 (from torch==2.0.0->torchdata==0.6.0)\n",
            "  Downloading nvidia_cuda_nvrtc_cu11-11.7.99-2-py3-none-manylinux1_x86_64.whl.metadata (1.5 kB)\n",
            "Collecting nvidia-cuda-runtime-cu11==11.7.99 (from torch==2.0.0->torchdata==0.6.0)\n",
            "  Downloading nvidia_cuda_runtime_cu11-11.7.99-py3-none-manylinux1_x86_64.whl.metadata (1.6 kB)\n",
            "Collecting nvidia-cuda-cupti-cu11==11.7.101 (from torch==2.0.0->torchdata==0.6.0)\n",
            "  Downloading nvidia_cuda_cupti_cu11-11.7.101-py3-none-manylinux1_x86_64.whl.metadata (1.6 kB)\n",
            "Collecting nvidia-cudnn-cu11==8.5.0.96 (from torch==2.0.0->torchdata==0.6.0)\n",
            "  Downloading nvidia_cudnn_cu11-8.5.0.96-2-py3-none-manylinux1_x86_64.whl.metadata (1.6 kB)\n",
            "Collecting nvidia-cublas-cu11==11.10.3.66 (from torch==2.0.0->torchdata==0.6.0)\n",
            "  Downloading nvidia_cublas_cu11-11.10.3.66-py3-none-manylinux1_x86_64.whl.metadata (1.6 kB)\n",
            "Collecting nvidia-cufft-cu11==10.9.0.58 (from torch==2.0.0->torchdata==0.6.0)\n",
            "  Downloading nvidia_cufft_cu11-10.9.0.58-py3-none-manylinux2014_x86_64.whl.metadata (1.5 kB)\n",
            "Collecting nvidia-curand-cu11==10.2.10.91 (from torch==2.0.0->torchdata==0.6.0)\n",
            "  Downloading nvidia_curand_cu11-10.2.10.91-py3-none-manylinux1_x86_64.whl.metadata (1.6 kB)\n",
            "Collecting nvidia-cusolver-cu11==11.4.0.1 (from torch==2.0.0->torchdata==0.6.0)\n",
            "  Downloading nvidia_cusolver_cu11-11.4.0.1-2-py3-none-manylinux1_x86_64.whl.metadata (1.6 kB)\n",
            "Collecting nvidia-cusparse-cu11==11.7.4.91 (from torch==2.0.0->torchdata==0.6.0)\n",
            "  Downloading nvidia_cusparse_cu11-11.7.4.91-py3-none-manylinux1_x86_64.whl.metadata (1.6 kB)\n",
            "Collecting nvidia-nccl-cu11==2.14.3 (from torch==2.0.0->torchdata==0.6.0)\n",
            "  Downloading nvidia_nccl_cu11-2.14.3-py3-none-manylinux1_x86_64.whl.metadata (1.8 kB)\n",
            "Collecting nvidia-nvtx-cu11==11.7.91 (from torch==2.0.0->torchdata==0.6.0)\n",
            "  Downloading nvidia_nvtx_cu11-11.7.91-py3-none-manylinux1_x86_64.whl.metadata (1.7 kB)\n",
            "Collecting triton==2.0.0 (from torch==2.0.0->torchdata==0.6.0)\n",
            "  Downloading triton-2.0.0-1-cp310-cp310-manylinux2014_x86_64.manylinux_2_17_x86_64.whl.metadata (1.0 kB)\n",
            "Requirement already satisfied: setuptools in /usr/local/lib/python3.10/dist-packages (from nvidia-cublas-cu11==11.10.3.66->torch==2.0.0->torchdata==0.6.0) (75.1.0)\n",
            "Requirement already satisfied: wheel in /usr/local/lib/python3.10/dist-packages (from nvidia-cublas-cu11==11.10.3.66->torch==2.0.0->torchdata==0.6.0) (0.45.1)\n",
            "Requirement already satisfied: cmake in /usr/local/lib/python3.10/dist-packages (from triton==2.0.0->torch==2.0.0->torchdata==0.6.0) (3.30.5)\n",
            "Collecting lit (from triton==2.0.0->torch==2.0.0->torchdata==0.6.0)\n",
            "  Downloading lit-18.1.8-py3-none-any.whl.metadata (2.5 kB)\n",
            "Requirement already satisfied: charset-normalizer<4,>=2 in /usr/local/lib/python3.10/dist-packages (from requests->torchdata==0.6.0) (3.4.0)\n",
            "Requirement already satisfied: idna<4,>=2.5 in /usr/local/lib/python3.10/dist-packages (from requests->torchdata==0.6.0) (3.10)\n",
            "Requirement already satisfied: certifi>=2017.4.17 in /usr/local/lib/python3.10/dist-packages (from requests->torchdata==0.6.0) (2024.8.30)\n",
            "Requirement already satisfied: MarkupSafe>=2.0 in /usr/local/lib/python3.10/dist-packages (from jinja2->torch==2.0.0->torchdata==0.6.0) (3.0.2)\n",
            "Requirement already satisfied: mpmath<1.4,>=1.1.0 in /usr/local/lib/python3.10/dist-packages (from sympy->torch==2.0.0->torchdata==0.6.0) (1.3.0)\n",
            "Downloading torchdata-0.6.0-cp310-cp310-manylinux_2_17_x86_64.manylinux2014_x86_64.whl (4.6 MB)\n",
            "\u001b[2K   \u001b[90m━━━━━━━━━━━━━━━━━━━━━━━━━━━━━━━━━━━━━━━━\u001b[0m \u001b[32m4.6/4.6 MB\u001b[0m \u001b[31m34.0 MB/s\u001b[0m eta \u001b[36m0:00:00\u001b[0m\n",
            "\u001b[?25hDownloading torch-2.0.0-cp310-cp310-manylinux1_x86_64.whl (619.9 MB)\n",
            "\u001b[2K   \u001b[90m━━━━━━━━━━━━━━━━━━━━━━━━━━━━━━━━━━━━━━━━\u001b[0m \u001b[32m619.9/619.9 MB\u001b[0m \u001b[31m3.0 MB/s\u001b[0m eta \u001b[36m0:00:00\u001b[0m\n",
            "\u001b[?25hDownloading nvidia_cublas_cu11-11.10.3.66-py3-none-manylinux1_x86_64.whl (317.1 MB)\n",
            "\u001b[2K   \u001b[90m━━━━━━━━━━━━━━━━━━━━━━━━━━━━━━━━━━━━━━━━\u001b[0m \u001b[32m317.1/317.1 MB\u001b[0m \u001b[31m4.9 MB/s\u001b[0m eta \u001b[36m0:00:00\u001b[0m\n",
            "\u001b[?25hDownloading nvidia_cuda_cupti_cu11-11.7.101-py3-none-manylinux1_x86_64.whl (11.8 MB)\n",
            "\u001b[2K   \u001b[90m━━━━━━━━━━━━━━━━━━━━━━━━━━━━━━━━━━━━━━━━\u001b[0m \u001b[32m11.8/11.8 MB\u001b[0m \u001b[31m64.1 MB/s\u001b[0m eta \u001b[36m0:00:00\u001b[0m\n",
            "\u001b[?25hDownloading nvidia_cuda_nvrtc_cu11-11.7.99-2-py3-none-manylinux1_x86_64.whl (21.0 MB)\n",
            "\u001b[2K   \u001b[90m━━━━━━━━━━━━━━━━━━━━━━━━━━━━━━━━━━━━━━━━\u001b[0m \u001b[32m21.0/21.0 MB\u001b[0m \u001b[31m35.3 MB/s\u001b[0m eta \u001b[36m0:00:00\u001b[0m\n",
            "\u001b[?25hDownloading nvidia_cuda_runtime_cu11-11.7.99-py3-none-manylinux1_x86_64.whl (849 kB)\n",
            "\u001b[2K   \u001b[90m━━━━━━━━━━━━━━━━━━━━━━━━━━━━━━━━━━━━━━━━\u001b[0m \u001b[32m849.3/849.3 kB\u001b[0m \u001b[31m35.3 MB/s\u001b[0m eta \u001b[36m0:00:00\u001b[0m\n",
            "\u001b[?25hDownloading nvidia_cudnn_cu11-8.5.0.96-2-py3-none-manylinux1_x86_64.whl (557.1 MB)\n",
            "\u001b[2K   \u001b[90m━━━━━━━━━━━━━━━━━━━━━━━━━━━━━━━━━━━━━━━━\u001b[0m \u001b[32m557.1/557.1 MB\u001b[0m \u001b[31m2.1 MB/s\u001b[0m eta \u001b[36m0:00:00\u001b[0m\n",
            "\u001b[?25hDownloading nvidia_cufft_cu11-10.9.0.58-py3-none-manylinux2014_x86_64.whl (168.4 MB)\n",
            "\u001b[2K   \u001b[90m━━━━━━━━━━━━━━━━━━━━━━━━━━━━━━━━━━━━━━━━\u001b[0m \u001b[32m168.4/168.4 MB\u001b[0m \u001b[31m7.4 MB/s\u001b[0m eta \u001b[36m0:00:00\u001b[0m\n",
            "\u001b[?25hDownloading nvidia_curand_cu11-10.2.10.91-py3-none-manylinux1_x86_64.whl (54.6 MB)\n",
            "\u001b[2K   \u001b[90m━━━━━━━━━━━━━━━━━━━━━━━━━━━━━━━━━━━━━━━━\u001b[0m \u001b[32m54.6/54.6 MB\u001b[0m \u001b[31m12.4 MB/s\u001b[0m eta \u001b[36m0:00:00\u001b[0m\n",
            "\u001b[?25hDownloading nvidia_cusolver_cu11-11.4.0.1-2-py3-none-manylinux1_x86_64.whl (102.6 MB)\n",
            "\u001b[2K   \u001b[90m━━━━━━━━━━━━━━━━━━━━━━━━━━━━━━━━━━━━━━━━\u001b[0m \u001b[32m102.6/102.6 MB\u001b[0m \u001b[31m8.2 MB/s\u001b[0m eta \u001b[36m0:00:00\u001b[0m\n",
            "\u001b[?25hDownloading nvidia_cusparse_cu11-11.7.4.91-py3-none-manylinux1_x86_64.whl (173.2 MB)\n",
            "\u001b[2K   \u001b[90m━━━━━━━━━━━━━━━━━━━━━━━━━━━━━━━━━━━━━━━━\u001b[0m \u001b[32m173.2/173.2 MB\u001b[0m \u001b[31m6.8 MB/s\u001b[0m eta \u001b[36m0:00:00\u001b[0m\n",
            "\u001b[?25hDownloading nvidia_nccl_cu11-2.14.3-py3-none-manylinux1_x86_64.whl (177.1 MB)\n",
            "\u001b[2K   \u001b[90m━━━━━━━━━━━━━━━━━━━━━━━━━━━━━━━━━━━━━━━━\u001b[0m \u001b[32m177.1/177.1 MB\u001b[0m \u001b[31m6.7 MB/s\u001b[0m eta \u001b[36m0:00:00\u001b[0m\n",
            "\u001b[?25hDownloading nvidia_nvtx_cu11-11.7.91-py3-none-manylinux1_x86_64.whl (98 kB)\n",
            "\u001b[2K   \u001b[90m━━━━━━━━━━━━━━━━━━━━━━━━━━━━━━━━━━━━━━━━\u001b[0m \u001b[32m98.6/98.6 kB\u001b[0m \u001b[31m8.0 MB/s\u001b[0m eta \u001b[36m0:00:00\u001b[0m\n",
            "\u001b[?25hDownloading triton-2.0.0-1-cp310-cp310-manylinux2014_x86_64.manylinux_2_17_x86_64.whl (63.3 MB)\n",
            "\u001b[2K   \u001b[90m━━━━━━━━━━━━━━━━━━━━━━━━━━━━━━━━━━━━━━━━\u001b[0m \u001b[32m63.3/63.3 MB\u001b[0m \u001b[31m10.2 MB/s\u001b[0m eta \u001b[36m0:00:00\u001b[0m\n",
            "\u001b[?25hDownloading lit-18.1.8-py3-none-any.whl (96 kB)\n",
            "\u001b[2K   \u001b[90m━━━━━━━━━━━━━━━━━━━━━━━━━━━━━━━━━━━━━━━━\u001b[0m \u001b[32m96.4/96.4 kB\u001b[0m \u001b[31m6.4 MB/s\u001b[0m eta \u001b[36m0:00:00\u001b[0m\n",
            "\u001b[?25hInstalling collected packages: lit, nvidia-nvtx-cu11, nvidia-nccl-cu11, nvidia-cusparse-cu11, nvidia-curand-cu11, nvidia-cufft-cu11, nvidia-cuda-runtime-cu11, nvidia-cuda-nvrtc-cu11, nvidia-cuda-cupti-cu11, nvidia-cublas-cu11, nvidia-cusolver-cu11, nvidia-cudnn-cu11, triton, torch, torchdata\n",
            "  Attempting uninstall: triton\n",
            "    Found existing installation: triton 2.1.0\n",
            "    Uninstalling triton-2.1.0:\n",
            "      Successfully uninstalled triton-2.1.0\n",
            "  Attempting uninstall: torch\n",
            "    Found existing installation: torch 2.1.2\n",
            "    Uninstalling torch-2.1.2:\n",
            "      Successfully uninstalled torch-2.1.2\n",
            "  Attempting uninstall: torchdata\n",
            "    Found existing installation: torchdata 0.9.0\n",
            "    Uninstalling torchdata-0.9.0:\n",
            "      Successfully uninstalled torchdata-0.9.0\n",
            "\u001b[31mERROR: pip's dependency resolver does not currently take into account all the packages that are installed. This behaviour is the source of the following dependency conflicts.\n",
            "torchaudio 2.1.2 requires torch==2.1.2, but you have torch 2.0.0 which is incompatible.\n",
            "torchvision 0.16.2 requires torch==2.1.2, but you have torch 2.0.0 which is incompatible.\u001b[0m\u001b[31m\n",
            "\u001b[0mSuccessfully installed lit-18.1.8 nvidia-cublas-cu11-11.10.3.66 nvidia-cuda-cupti-cu11-11.7.101 nvidia-cuda-nvrtc-cu11-11.7.99 nvidia-cuda-runtime-cu11-11.7.99 nvidia-cudnn-cu11-8.5.0.96 nvidia-cufft-cu11-10.9.0.58 nvidia-curand-cu11-10.2.10.91 nvidia-cusolver-cu11-11.4.0.1 nvidia-cusparse-cu11-11.7.4.91 nvidia-nccl-cu11-2.14.3 nvidia-nvtx-cu11-11.7.91 torch-2.0.0 torchdata-0.6.0 triton-2.0.0\n"
          ]
        }
      ],
      "source": [
        "! pip install pydantic\n",
        "! pip install PyYAML\n",
        "! pip install numpy==1.26.4\n",
        "! pip install torch==2.1.2 torchvision==0.16.2 torchaudio==2.1.2\n",
        "! pip install --no-cache-dir dgl -f https://data.dgl.ai/wheels/repo.html\n",
        "! pip install dill\n",
        "! pip install torchdata==0.6.0"
      ]
    },
    {
      "cell_type": "code",
      "source": [
        "import pandas as pd\n",
        "import torch\n",
        "import dgl.sparse as dglsp\n",
        "import torch\n",
        "import torch.nn as nn\n",
        "import torch.nn.functional as F\n",
        "import random"
      ],
      "metadata": {
        "colab": {
          "base_uri": "https://localhost:8080/"
        },
        "id": "7WVMYjFjjIpe",
        "outputId": "49a6141a-15d9-4e92-8bd4-07644f1e0ec9"
      },
      "execution_count": null,
      "outputs": [
        {
          "output_type": "stream",
          "name": "stderr",
          "text": [
            "DGL backend not selected or invalid.  Assuming PyTorch for now.\n"
          ]
        },
        {
          "output_type": "stream",
          "name": "stdout",
          "text": [
            "Setting the default backend to \"pytorch\". You can change it in the ~/.dgl/config.json file or export the DGLBACKEND environment variable.  Valid options are: pytorch, mxnet, tensorflow (all lowercase)\n"
          ]
        }
      ]
    },
    {
      "cell_type": "code",
      "source": [
        "df=pd.read_excel('/content/drive/MyDrive/Graph_Research/filtered_dataset.xlsx')"
      ],
      "metadata": {
        "id": "648RliqPjLik"
      },
      "execution_count": null,
      "outputs": []
    },
    {
      "cell_type": "code",
      "source": [
        "df['concept'] = df['concept'].astype(str)\n",
        "df['paper_id'] = df['paper_id'].astype(str)"
      ],
      "metadata": {
        "id": "K3c-I3uwjRtd"
      },
      "execution_count": null,
      "outputs": []
    },
    {
      "cell_type": "code",
      "source": [
        "datadir = '/content/drive/MyDrive/Graph_Research'\n",
        "max_groupsize = 169\n",
        "import pickle\n",
        "\n",
        "# Load the vertex embeddings from the file\n",
        "with open(datadir + '/vertex_embeddings3_' + str(max_groupsize) + '.p', 'rb') as fp:\n",
        "    vertex_data = pickle.load(fp)\n",
        "node_ids = vertex_data[\"ids\"]\n",
        "node_embeddings = vertex_data[\"embeddings\"]"
      ],
      "metadata": {
        "id": "7C9TPjHhjSr-"
      },
      "execution_count": null,
      "outputs": []
    },
    {
      "cell_type": "code",
      "source": [
        "with open(datadir + '/hyperedge_embeddings3_' + str(max_groupsize) + '.p', 'rb') as fp:\n",
        "    hyperedge_data = pickle.load(fp)\n",
        "hyperedge_ids=hyperedge_data[\"ids\"]\n",
        "hyperedge_embeddings=hyperedge_data[\"embeddings\"]"
      ],
      "metadata": {
        "id": "ZuB6FFQtjVEJ"
      },
      "execution_count": null,
      "outputs": []
    },
    {
      "cell_type": "code",
      "source": [
        "def create_incidence_matrix(df):\n",
        "  concept_to_idx={word:node_ids.index(word) for word in list(df['concept'].unique())}\n",
        "  paper_to_idx={str(paper_id):hyperedge_ids.index(paper_id) for paper_id in list(df['paper_id'].unique())}\n",
        "\n",
        "  rows=[]\n",
        "  cols=[]\n",
        "  for _, row in df.iterrows():\n",
        "    concept_idx=concept_to_idx[row['concept']]\n",
        "    paper_idx=paper_to_idx[row['paper_id']]\n",
        "    rows.append(concept_idx)\n",
        "    cols.append(paper_idx)\n",
        "  rows=torch.tensor(rows)\n",
        "  cols=torch.tensor(cols)\n",
        "\n",
        "  H=dglsp.spmatrix(torch.stack([rows,cols]))\n",
        "  return H, concept_to_idx\n",
        "\n",
        "H, concept_to_idx_train = create_incidence_matrix(df)"
      ],
      "metadata": {
        "id": "fEI4NbZ7jW-g"
      },
      "execution_count": null,
      "outputs": []
    },
    {
      "cell_type": "code",
      "source": [
        "H.to_dense()"
      ],
      "metadata": {
        "colab": {
          "base_uri": "https://localhost:8080/"
        },
        "id": "LKpcI9qJjZS9",
        "outputId": "a75ea049-c64e-4838-c4c6-21e03c0d17d7"
      },
      "execution_count": null,
      "outputs": [
        {
          "output_type": "execute_result",
          "data": {
            "text/plain": [
              "tensor([[0., 0., 0.,  ..., 0., 0., 0.],\n",
              "        [0., 1., 0.,  ..., 0., 0., 0.],\n",
              "        [1., 0., 0.,  ..., 0., 0., 0.],\n",
              "        ...,\n",
              "        [0., 0., 0.,  ..., 0., 0., 0.],\n",
              "        [0., 0., 0.,  ..., 0., 0., 0.],\n",
              "        [0., 0., 1.,  ..., 0., 0., 0.]])"
            ]
          },
          "metadata": {},
          "execution_count": 8
        }
      ]
    },
    {
      "cell_type": "code",
      "source": [
        "def generate_positive_samples(df, max_len=16):\n",
        "    \"\"\"Generates positive samples (keyword sets that form real hyperedges) from the dataframe.\"\"\"\n",
        "    positive_samples = df.groupby('paper_id')['concept'].apply(list).tolist()\n",
        "\n",
        "    positive_samples_indices = [[node_ids.index(word) if word in node_ids else -1 for word in sublist] for sublist in positive_samples]\n",
        "    positive_samples_indices = [[word_index for word_index in sample if word_index != -1] for sample in positive_samples_indices]\n",
        "\n",
        "    #Pad or truncate to ensure consistent length\n",
        "    padded_samples = []\n",
        "    for sample in positive_samples_indices:\n",
        "        if len(sample) < max_len:\n",
        "            # Pad with zeros\n",
        "            padded_samples.append(sample + [-1] * (max_len - len(sample))) # Padding with zeros\n",
        "        elif len(sample) > max_len:\n",
        "            # Truncate\n",
        "            padded_samples.append(sample[:max_len])\n",
        "        else:\n",
        "            padded_samples.append(sample)\n",
        "\n",
        "    return torch.tensor(padded_samples, dtype=torch.long)"
      ],
      "metadata": {
        "id": "lARQEx1ejbDP"
      },
      "execution_count": null,
      "outputs": []
    },
    {
      "cell_type": "code",
      "source": [
        "def generate_negative_samples(df, num_samples, max_len=16):\n",
        "\n",
        "    negative_samples = []\n",
        "    positive_samples_list = [list(row) for row in df.groupby('paper_id')['concept'].apply(list).tolist()]  # Positive samples as list of lists\n",
        "\n",
        "    while len(negative_samples) < num_samples:\n",
        "        # Randomly select a set of keywords and ensure it’s not in positive_samples\n",
        "        neg_sample_concepts = random.sample(node_ids, random.randint(10,16))\n",
        "        if neg_sample_concepts not in positive_samples_list:\n",
        "            # Convert concepts to their indices\n",
        "            neg_sample_indices = [node_ids.index(word) for word in neg_sample_concepts]\n",
        "\n",
        "            # Pad or truncate to max_len\n",
        "            if len(neg_sample_indices) < max_len:\n",
        "                # Pad with zeros\n",
        "                neg_sample_indices += [-1] * (max_len - len(neg_sample_indices))\n",
        "            elif len(neg_sample_indices) > max_len:\n",
        "                # Truncate to max_len\n",
        "                neg_sample_indices = neg_sample_indices[:max_len]\n",
        "\n",
        "            negative_samples.append(neg_sample_indices)\n",
        "\n",
        "    return torch.tensor(negative_samples, dtype=torch.long)"
      ],
      "metadata": {
        "id": "vnKRdtdFjdJJ"
      },
      "execution_count": null,
      "outputs": []
    },
    {
      "cell_type": "code",
      "source": [
        "from sklearn.model_selection import train_test_split\n",
        "\n",
        "# Generate positive and negative samples\n",
        "positive_samples = generate_positive_samples(df, max_len=16)\n",
        "negative_samples = generate_negative_samples(df, num_samples=len(positive_samples), max_len=16)\n",
        "\n",
        "# Create labels\n",
        "positive_labels = torch.ones(len(positive_samples), dtype=torch.long)  # Label 1 for positive samples\n",
        "negative_labels = torch.zeros(len(negative_samples), dtype=torch.long)  # Label 0 for negative samples\n",
        "\n",
        "# Combine samples and labels\n",
        "all_samples = torch.cat([positive_samples, negative_samples], dim=0)\n",
        "all_labels = torch.cat([positive_labels, negative_labels], dim=0)\n",
        "\n",
        "# Split into train, validation, and test sets\n",
        "X_train, X_temp, y_train, y_temp = train_test_split(all_samples, all_labels, test_size=0.3, random_state=42, stratify=all_labels)\n",
        "X_val, X_test, y_val, y_test = train_test_split(X_temp, y_temp, test_size=0.5, random_state=42, stratify=y_temp)\n",
        "\n",
        "# Print dataset sizes\n",
        "print(f\"Training set: {len(X_train)} samples\")\n",
        "print(f\"Validation set: {len(X_val)} samples\")\n",
        "print(f\"Test set: {len(X_test)} samples\")"
      ],
      "metadata": {
        "colab": {
          "base_uri": "https://localhost:8080/"
        },
        "id": "oki6USwFjiF6",
        "outputId": "cde87f73-d373-4000-d977-4a6be8e81587"
      },
      "execution_count": null,
      "outputs": [
        {
          "output_type": "stream",
          "name": "stdout",
          "text": [
            "Training set: 10677 samples\n",
            "Validation set: 2288 samples\n",
            "Test set: 2289 samples\n"
          ]
        }
      ]
    },
    {
      "cell_type": "code",
      "source": [
        "def compute_hypergraph_laplacian(H):\n",
        "    \"\"\"\n",
        "    Compute the normalized Laplacian for a hypergraph.\n",
        "\n",
        "    Args:\n",
        "        H (torch.Tensor): Incidence matrix of shape (num_nodes, num_hyperedges).\n",
        "\n",
        "    Returns:\n",
        "        torch.Tensor: Hypergraph Laplacian of shape (num_nodes, num_nodes).\n",
        "    \"\"\"\n",
        "    # Compute node degree matrix (D_v)\n",
        "    D_v = torch.diag(torch.sum(H, dim=1))\n",
        "\n",
        "    # Compute hyperedge degree matrix (D_e)\n",
        "    D_e = torch.diag(torch.sum(H, dim=0))\n",
        "\n",
        "    # Compute D_v^(-1/2) and D_e^(-1)\n",
        "    D_v_inv_sqrt = torch.diag(1.0 / torch.sqrt(torch.sum(H, dim=1)))\n",
        "    D_e_inv = torch.diag(1.0 / torch.sum(H, dim=0))\n",
        "\n",
        "    # Avoid division by zero\n",
        "    D_v_inv_sqrt[torch.isinf(D_v_inv_sqrt)] = 0\n",
        "    D_e_inv[torch.isinf(D_e_inv)] = 0\n",
        "\n",
        "    # Compute Laplacian: L = I - D_v^(-1/2) H D_e^(-1) H^T D_v^(-1/2)\n",
        "    identity = torch.eye(H.shape[0])  # Identity matrix\n",
        "    L = identity - D_v_inv_sqrt @ H @ D_e_inv @ H.T @ D_v_inv_sqrt\n",
        "\n",
        "    return L\n",
        "\n",
        "# Example usage\n",
        "num_nodes = 5\n",
        "num_hyperedges = 3\n",
        "\n",
        "# Random binary incidence matrix (nodes x hyperedges)\n",
        "#H.to_dense() = torch.tensor(H, dtype=torch.float)\n",
        "\n",
        "L = compute_hypergraph_laplacian(H.to_dense())\n",
        "print(\"Hypergraph Laplacian:\\n\", L)"
      ],
      "metadata": {
        "colab": {
          "base_uri": "https://localhost:8080/"
        },
        "id": "j0tDTx38ji7n",
        "outputId": "f040fecc-5c6a-41fc-83c1-d03ae35638b9"
      },
      "execution_count": null,
      "outputs": [
        {
          "output_type": "stream",
          "name": "stdout",
          "text": [
            "Hypergraph Laplacian:\n",
            " tensor([[ 0.9390, -0.0018, -0.0027,  ...,  0.0000,  0.0000,  0.0000],\n",
            "        [-0.0018,  0.9435, -0.0049,  ...,  0.0000,  0.0000, -0.0031],\n",
            "        [-0.0027, -0.0049,  0.9434,  ..., -0.0018, -0.0010,  0.0000],\n",
            "        ...,\n",
            "        [ 0.0000,  0.0000, -0.0018,  ...,  0.9410,  0.0000,  0.0000],\n",
            "        [ 0.0000,  0.0000, -0.0010,  ...,  0.0000,  0.9607,  0.0000],\n",
            "        [ 0.0000, -0.0031,  0.0000,  ...,  0.0000,  0.0000,  0.9597]])\n"
          ]
        }
      ]
    },
    {
      "cell_type": "code",
      "source": [
        "D_v = torch.diag(torch.sum(H.to_dense(), dim=1))\n",
        "print(D_v.shape)\n",
        "print(H.to_dense().shape)"
      ],
      "metadata": {
        "colab": {
          "base_uri": "https://localhost:8080/"
        },
        "id": "Slv7n3aIjqkM",
        "outputId": "ee9df859-b9d8-4513-ea08-985c422c1340"
      },
      "execution_count": null,
      "outputs": [
        {
          "output_type": "stream",
          "name": "stdout",
          "text": [
            "torch.Size([5362, 5362])\n",
            "torch.Size([5362, 7627])\n"
          ]
        }
      ]
    },
    {
      "cell_type": "code",
      "source": [
        "import torch\n",
        "import torch.nn as nn\n",
        "import torch.nn.functional as F\n",
        "\n",
        "class HyperGCN(nn.Module):\n",
        "    def __init__(self, input_dim, hidden_dim, out_dim, num_layers=2):\n",
        "        \"\"\"\n",
        "        HyperGCN for hypergraphs.\n",
        "        Args:\n",
        "            input_dim (int): Input feature dimensionality.\n",
        "            hidden_dim (int): Hidden layer dimensionality.\n",
        "            out_dim (int): Output dimensionality.\n",
        "            num_layers (int): Number of GCN layers.\n",
        "        \"\"\"\n",
        "        super(HyperGCN, self).__init__()\n",
        "        self.layers = nn.ModuleList([\n",
        "            nn.Linear(input_dim if i == 0 else hidden_dim, hidden_dim if i < num_layers - 1 else out_dim)\n",
        "            for i in range(num_layers)\n",
        "        ])\n",
        "        self.output_layer = nn.Linear(hidden_dim, hidden_dim)\n",
        "        self.scoring_layer=nn.Linear(hidden_dim,1)\n",
        "\n",
        "    def forward(self, node_embeddings, laplacian, candidate_hyperedges):\n",
        "        \"\"\"\n",
        "        Forward pass of HyperGCN.\n",
        "        Args:\n",
        "            node_embeddings (torch.Tensor): Initial node embeddings [num_nodes, input_dim].\n",
        "            laplacian (torch.Tensor): Normalized hypergraph Laplacian [num_nodes, num_nodes].\n",
        "        Returns:\n",
        "            torch.Tensor: Updated node embeddings.\n",
        "        \"\"\"\n",
        "        x = node_embeddings\n",
        "        for layer in self.layers[:-1]:\n",
        "            x = F.relu(layer(torch.matmul(laplacian, x)))  # Apply Laplacian and non-linearity\n",
        "        x = self.layers[-1](torch.matmul(laplacian, x))  # Final layer without activation\n",
        "        #return F.log_softmax(x, dim=1)\n",
        "        node_embeddings=F.log_softmax(x, dim=1)\n",
        "        #return node_embeddings\n",
        "        # Final layer for node embeddings\n",
        "        final_node_embeddings=self.output_layer(node_embeddings)\n",
        "\n",
        "        # Gather embeddings for each candidate hyperedge\n",
        "        candidate_node_embeddings = final_node_embeddings[candidate_hyperedges]  # Shape: [num_hyperedges, max_len, embedding_dim]\n",
        "\n",
        "        # Calculate mean embeddings for each hyperedge\n",
        "        hyperedge_embs = candidate_node_embeddings.mean(dim=1)  # Mean across nodes in each hyperedge\n",
        "\n",
        "        # Score candidate hyperedges\n",
        "        scores = self.scoring_layer(hyperedge_embs).squeeze(dim=-1)\n",
        "        scores = scores.sigmoid()  # Convert to probabilities between 0 and 1\n",
        "        return scores\n",
        "\n",
        "\n",
        "# Example usage\n",
        "num_nodes = 100\n",
        "input_dim = 16\n",
        "hidden_dim = 32\n",
        "out_dim = 32\n",
        "\n",
        "#node_embeddings = torch.rand(num_nodes, input_dim)  # Random node embeddings\n",
        "#laplacian = torch.eye(num_nodes) - torch.rand(num_nodes, num_nodes) * 0.1  # Approximate Laplacian\n",
        "#laplacian = compute_hypergraph_laplacian(H)\n",
        "\n",
        "model = HyperGCN(input_dim, hidden_dim, out_dim)\n",
        "#output = model(node_embeddings, L, can)\n",
        "#print(\"HyperGCN Output Shape:\", output.shape)\n"
      ],
      "metadata": {
        "id": "1qB3QcNEjtVe"
      },
      "execution_count": null,
      "outputs": []
    },
    {
      "cell_type": "code",
      "source": [
        "import torch\n",
        "\n",
        "# Assuming 'H' is your sparse hypergraph incidence matrix\n",
        "def H_dense():\n",
        "    \"\"\"\n",
        "    Converts the sparse hypergraph incidence matrix 'H' to a dense tensor.\n",
        "    \"\"\"\n",
        "    # Make sure H is a sparse tensor before calling to_dense()\n",
        "    if not isinstance(H, torch.Tensor):\n",
        "        raise TypeError(\"H must be a torch.Tensor\")\n",
        "    if not H.is_sparse:\n",
        "        raise ValueError(\"H must be a sparse tensor\")\n",
        "    return H.to_dense()\n",
        "\n",
        "# Rest of your code (including the training loop)..."
      ],
      "metadata": {
        "id": "iJNr2lQK60Jx"
      },
      "execution_count": null,
      "outputs": []
    },
    {
      "cell_type": "code",
      "source": [
        "node_embeddings=torch.tensor(node_embeddings, dtype=torch.float32)"
      ],
      "metadata": {
        "colab": {
          "base_uri": "https://localhost:8080/"
        },
        "id": "GFI_EoLvAkfl",
        "outputId": "448ec2ee-66cd-4ac9-b4ab-ae0cef43524f"
      },
      "execution_count": null,
      "outputs": [
        {
          "output_type": "stream",
          "name": "stderr",
          "text": [
            "<ipython-input-45-68d74781d0cd>:1: UserWarning: To copy construct from a tensor, it is recommended to use sourceTensor.clone().detach() or sourceTensor.clone().detach().requires_grad_(True), rather than torch.tensor(sourceTensor).\n",
            "  node_embeddings=torch.tensor(node_embeddings, dtype=torch.float32)\n"
          ]
        }
      ]
    },
    {
      "cell_type": "code",
      "source": [
        "node_embeddings.shape"
      ],
      "metadata": {
        "colab": {
          "base_uri": "https://localhost:8080/"
        },
        "id": "m0-0kDwwAmq-",
        "outputId": "675fb4f3-96b3-40ff-95c4-d3e569b30f2f"
      },
      "execution_count": null,
      "outputs": [
        {
          "output_type": "execute_result",
          "data": {
            "text/plain": [
              "torch.Size([5362, 16])"
            ]
          },
          "metadata": {},
          "execution_count": 46
        }
      ]
    },
    {
      "cell_type": "code",
      "source": [
        "predictions = model(node_embeddings, L, X_train)"
      ],
      "metadata": {
        "id": "iD8YmZiEAWzg"
      },
      "execution_count": null,
      "outputs": []
    },
    {
      "cell_type": "code",
      "source": [
        "predictions.shape"
      ],
      "metadata": {
        "colab": {
          "base_uri": "https://localhost:8080/"
        },
        "id": "RStb-y5UAZpM",
        "outputId": "ca74beff-ebe3-48ef-ce87-91957041f0e7"
      },
      "execution_count": null,
      "outputs": [
        {
          "output_type": "execute_result",
          "data": {
            "text/plain": [
              "torch.Size([])"
            ]
          },
          "metadata": {},
          "execution_count": 44
        }
      ]
    },
    {
      "cell_type": "code",
      "source": [
        "import torch.optim as optim\n",
        "learning_rate = 0.001\n",
        "num_epochs = 150\n",
        "\n",
        "# Initialize model, loss, and optimizer\n",
        "criterion = nn.BCELoss()  # Binary Cross-Entropy Loss\n",
        "optimizer = optim.Adam(model.parameters(), lr=learning_rate)\n",
        "node_embeddings=torch.tensor(node_embeddings, dtype=torch.float32)\n",
        "train_losses=[]\n",
        "val_losses=[]\n",
        "# Training and Validation Loop\n",
        "for epoch in range(num_epochs):\n",
        "    # Training phase\n",
        "    model.train()\n",
        "    optimizer.zero_grad()\n",
        "    predictions = model(node_embeddings, L, X_train)  # Forward pass\n",
        "    train_loss = criterion(predictions, y_train.float())  # Compute loss\n",
        "    train_loss.backward()  # Backpropagation\n",
        "    optimizer.step()  # Update weights\n",
        "\n",
        "    # Validation phase\n",
        "    model.eval()\n",
        "    with torch.no_grad():\n",
        "        val_predictions = model(node_embeddings, L, X_val)\n",
        "        val_loss = criterion(val_predictions, y_val.float())\n",
        "        val_accuracy = ((val_predictions >= 0.5) == y_val).float().mean().item()\n",
        "\n",
        "    train_losses.append(train_loss.item())\n",
        "    val_losses.append(val_loss.item())\n",
        "\n",
        "    # Print epoch results\n",
        "    print(\n",
        "        f\"Epoch {epoch+1}/{num_epochs}, \"\n",
        "        f\"Train Loss: {train_loss.item():.4f}, \"\n",
        "        f\"Val Loss: {val_loss.item():.4f}, \"\n",
        "        f\"Val Accuracy: {val_accuracy:.4f}\"\n",
        "    )"
      ],
      "metadata": {
        "colab": {
          "base_uri": "https://localhost:8080/"
        },
        "id": "moWTC6sUmAnj",
        "outputId": "9af4b019-6421-4e6b-fccc-85cf6420505f"
      },
      "execution_count": null,
      "outputs": [
        {
          "output_type": "stream",
          "name": "stdout",
          "text": [
            "Epoch 1/150, Train Loss: 1.0436, Val Loss: 0.9135, Val Accuracy: 0.5000\n",
            "Epoch 2/150, Train Loss: 0.9133, Val Loss: 0.8088, Val Accuracy: 0.5000\n",
            "Epoch 3/150, Train Loss: 0.8086, Val Loss: 0.7348, Val Accuracy: 0.5000\n",
            "Epoch 4/150, Train Loss: 0.7347, Val Loss: 0.6941, Val Accuracy: 0.5000\n",
            "Epoch 5/150, Train Loss: 0.6941, Val Loss: 0.6841, Val Accuracy: 0.5000\n",
            "Epoch 6/150, Train Loss: 0.6842, Val Loss: 0.6957, Val Accuracy: 0.5000\n",
            "Epoch 7/150, Train Loss: 0.6959, Val Loss: 0.7158, Val Accuracy: 0.5000\n",
            "Epoch 8/150, Train Loss: 0.7160, Val Loss: 0.7326, Val Accuracy: 0.5000\n",
            "Epoch 9/150, Train Loss: 0.7329, Val Loss: 0.7401, Val Accuracy: 0.5000\n",
            "Epoch 10/150, Train Loss: 0.7405, Val Loss: 0.7371, Val Accuracy: 0.5000\n",
            "Epoch 11/150, Train Loss: 0.7376, Val Loss: 0.7259, Val Accuracy: 0.5000\n",
            "Epoch 12/150, Train Loss: 0.7264, Val Loss: 0.7097, Val Accuracy: 0.5000\n",
            "Epoch 13/150, Train Loss: 0.7103, Val Loss: 0.6924, Val Accuracy: 0.5000\n",
            "Epoch 14/150, Train Loss: 0.6930, Val Loss: 0.6771, Val Accuracy: 0.5000\n",
            "Epoch 15/150, Train Loss: 0.6777, Val Loss: 0.6658, Val Accuracy: 0.5031\n",
            "Epoch 16/150, Train Loss: 0.6665, Val Loss: 0.6596, Val Accuracy: 0.8724\n",
            "Epoch 17/150, Train Loss: 0.6602, Val Loss: 0.6580, Val Accuracy: 0.5944\n",
            "Epoch 18/150, Train Loss: 0.6586, Val Loss: 0.6595, Val Accuracy: 0.5000\n",
            "Epoch 19/150, Train Loss: 0.6602, Val Loss: 0.6623, Val Accuracy: 0.5000\n",
            "Epoch 20/150, Train Loss: 0.6630, Val Loss: 0.6645, Val Accuracy: 0.5000\n",
            "Epoch 21/150, Train Loss: 0.6652, Val Loss: 0.6647, Val Accuracy: 0.5000\n",
            "Epoch 22/150, Train Loss: 0.6654, Val Loss: 0.6623, Val Accuracy: 0.5000\n",
            "Epoch 23/150, Train Loss: 0.6631, Val Loss: 0.6574, Val Accuracy: 0.5000\n",
            "Epoch 24/150, Train Loss: 0.6583, Val Loss: 0.6509, Val Accuracy: 0.5000\n",
            "Epoch 25/150, Train Loss: 0.6519, Val Loss: 0.6437, Val Accuracy: 0.5000\n",
            "Epoch 26/150, Train Loss: 0.6447, Val Loss: 0.6368, Val Accuracy: 0.5022\n",
            "Epoch 27/150, Train Loss: 0.6379, Val Loss: 0.6309, Val Accuracy: 0.8885\n",
            "Epoch 28/150, Train Loss: 0.6322, Val Loss: 0.6265, Val Accuracy: 0.9681\n",
            "Epoch 29/150, Train Loss: 0.6278, Val Loss: 0.6234, Val Accuracy: 0.9200\n",
            "Epoch 30/150, Train Loss: 0.6249, Val Loss: 0.6212, Val Accuracy: 0.8422\n",
            "Epoch 31/150, Train Loss: 0.6228, Val Loss: 0.6193, Val Accuracy: 0.7627\n",
            "Epoch 32/150, Train Loss: 0.6211, Val Loss: 0.6171, Val Accuracy: 0.7260\n",
            "Epoch 33/150, Train Loss: 0.6190, Val Loss: 0.6140, Val Accuracy: 0.7181\n",
            "Epoch 34/150, Train Loss: 0.6160, Val Loss: 0.6100, Val Accuracy: 0.7338\n",
            "Epoch 35/150, Train Loss: 0.6121, Val Loss: 0.6051, Val Accuracy: 0.7723\n",
            "Epoch 36/150, Train Loss: 0.6073, Val Loss: 0.5996, Val Accuracy: 0.8335\n",
            "Epoch 37/150, Train Loss: 0.6019, Val Loss: 0.5939, Val Accuracy: 0.8890\n",
            "Epoch 38/150, Train Loss: 0.5962, Val Loss: 0.5884, Val Accuracy: 0.9231\n",
            "Epoch 39/150, Train Loss: 0.5907, Val Loss: 0.5832, Val Accuracy: 0.9506\n",
            "Epoch 40/150, Train Loss: 0.5856, Val Loss: 0.5784, Val Accuracy: 0.9624\n",
            "Epoch 41/150, Train Loss: 0.5808, Val Loss: 0.5738, Val Accuracy: 0.9677\n",
            "Epoch 42/150, Train Loss: 0.5763, Val Loss: 0.5693, Val Accuracy: 0.9703\n",
            "Epoch 43/150, Train Loss: 0.5718, Val Loss: 0.5645, Val Accuracy: 0.9655\n",
            "Epoch 44/150, Train Loss: 0.5671, Val Loss: 0.5592, Val Accuracy: 0.9659\n",
            "Epoch 45/150, Train Loss: 0.5619, Val Loss: 0.5534, Val Accuracy: 0.9650\n",
            "Epoch 46/150, Train Loss: 0.5563, Val Loss: 0.5471, Val Accuracy: 0.9694\n",
            "Epoch 47/150, Train Loss: 0.5501, Val Loss: 0.5405, Val Accuracy: 0.9677\n",
            "Epoch 48/150, Train Loss: 0.5436, Val Loss: 0.5336, Val Accuracy: 0.9646\n",
            "Epoch 49/150, Train Loss: 0.5369, Val Loss: 0.5266, Val Accuracy: 0.9628\n",
            "Epoch 50/150, Train Loss: 0.5301, Val Loss: 0.5197, Val Accuracy: 0.9585\n",
            "Epoch 51/150, Train Loss: 0.5234, Val Loss: 0.5128, Val Accuracy: 0.9528\n",
            "Epoch 52/150, Train Loss: 0.5166, Val Loss: 0.5058, Val Accuracy: 0.9497\n",
            "Epoch 53/150, Train Loss: 0.5098, Val Loss: 0.4986, Val Accuracy: 0.9480\n",
            "Epoch 54/150, Train Loss: 0.5028, Val Loss: 0.4911, Val Accuracy: 0.9476\n",
            "Epoch 55/150, Train Loss: 0.4955, Val Loss: 0.4833, Val Accuracy: 0.9476\n",
            "Epoch 56/150, Train Loss: 0.4879, Val Loss: 0.4753, Val Accuracy: 0.9480\n",
            "Epoch 57/150, Train Loss: 0.4800, Val Loss: 0.4669, Val Accuracy: 0.9506\n",
            "Epoch 58/150, Train Loss: 0.4718, Val Loss: 0.4584, Val Accuracy: 0.9528\n",
            "Epoch 59/150, Train Loss: 0.4634, Val Loss: 0.4498, Val Accuracy: 0.9541\n",
            "Epoch 60/150, Train Loss: 0.4549, Val Loss: 0.4412, Val Accuracy: 0.9576\n",
            "Epoch 61/150, Train Loss: 0.4464, Val Loss: 0.4324, Val Accuracy: 0.9589\n",
            "Epoch 62/150, Train Loss: 0.4377, Val Loss: 0.4236, Val Accuracy: 0.9594\n",
            "Epoch 63/150, Train Loss: 0.4290, Val Loss: 0.4146, Val Accuracy: 0.9598\n",
            "Epoch 64/150, Train Loss: 0.4202, Val Loss: 0.4055, Val Accuracy: 0.9602\n",
            "Epoch 65/150, Train Loss: 0.4112, Val Loss: 0.3962, Val Accuracy: 0.9598\n",
            "Epoch 66/150, Train Loss: 0.4021, Val Loss: 0.3869, Val Accuracy: 0.9589\n",
            "Epoch 67/150, Train Loss: 0.3929, Val Loss: 0.3774, Val Accuracy: 0.9589\n",
            "Epoch 68/150, Train Loss: 0.3836, Val Loss: 0.3679, Val Accuracy: 0.9589\n",
            "Epoch 69/150, Train Loss: 0.3743, Val Loss: 0.3584, Val Accuracy: 0.9585\n",
            "Epoch 70/150, Train Loss: 0.3650, Val Loss: 0.3490, Val Accuracy: 0.9576\n",
            "Epoch 71/150, Train Loss: 0.3558, Val Loss: 0.3397, Val Accuracy: 0.9572\n",
            "Epoch 72/150, Train Loss: 0.3467, Val Loss: 0.3305, Val Accuracy: 0.9572\n",
            "Epoch 73/150, Train Loss: 0.3376, Val Loss: 0.3213, Val Accuracy: 0.9567\n",
            "Epoch 74/150, Train Loss: 0.3286, Val Loss: 0.3123, Val Accuracy: 0.9567\n",
            "Epoch 75/150, Train Loss: 0.3197, Val Loss: 0.3034, Val Accuracy: 0.9572\n",
            "Epoch 76/150, Train Loss: 0.3109, Val Loss: 0.2947, Val Accuracy: 0.9576\n",
            "Epoch 77/150, Train Loss: 0.3023, Val Loss: 0.2861, Val Accuracy: 0.9585\n",
            "Epoch 78/150, Train Loss: 0.2938, Val Loss: 0.2777, Val Accuracy: 0.9585\n",
            "Epoch 79/150, Train Loss: 0.2855, Val Loss: 0.2696, Val Accuracy: 0.9589\n",
            "Epoch 80/150, Train Loss: 0.2774, Val Loss: 0.2617, Val Accuracy: 0.9594\n",
            "Epoch 81/150, Train Loss: 0.2696, Val Loss: 0.2541, Val Accuracy: 0.9594\n",
            "Epoch 82/150, Train Loss: 0.2619, Val Loss: 0.2466, Val Accuracy: 0.9594\n",
            "Epoch 83/150, Train Loss: 0.2546, Val Loss: 0.2395, Val Accuracy: 0.9589\n",
            "Epoch 84/150, Train Loss: 0.2474, Val Loss: 0.2325, Val Accuracy: 0.9598\n",
            "Epoch 85/150, Train Loss: 0.2405, Val Loss: 0.2259, Val Accuracy: 0.9607\n",
            "Epoch 86/150, Train Loss: 0.2339, Val Loss: 0.2195, Val Accuracy: 0.9607\n",
            "Epoch 87/150, Train Loss: 0.2275, Val Loss: 0.2133, Val Accuracy: 0.9611\n",
            "Epoch 88/150, Train Loss: 0.2214, Val Loss: 0.2074, Val Accuracy: 0.9607\n",
            "Epoch 89/150, Train Loss: 0.2155, Val Loss: 0.2018, Val Accuracy: 0.9607\n",
            "Epoch 90/150, Train Loss: 0.2099, Val Loss: 0.1964, Val Accuracy: 0.9607\n",
            "Epoch 91/150, Train Loss: 0.2045, Val Loss: 0.1913, Val Accuracy: 0.9607\n",
            "Epoch 92/150, Train Loss: 0.1994, Val Loss: 0.1865, Val Accuracy: 0.9607\n",
            "Epoch 93/150, Train Loss: 0.1945, Val Loss: 0.1818, Val Accuracy: 0.9620\n",
            "Epoch 94/150, Train Loss: 0.1898, Val Loss: 0.1774, Val Accuracy: 0.9624\n",
            "Epoch 95/150, Train Loss: 0.1854, Val Loss: 0.1733, Val Accuracy: 0.9633\n",
            "Epoch 96/150, Train Loss: 0.1811, Val Loss: 0.1693, Val Accuracy: 0.9633\n",
            "Epoch 97/150, Train Loss: 0.1771, Val Loss: 0.1655, Val Accuracy: 0.9633\n",
            "Epoch 98/150, Train Loss: 0.1732, Val Loss: 0.1619, Val Accuracy: 0.9642\n",
            "Epoch 99/150, Train Loss: 0.1696, Val Loss: 0.1585, Val Accuracy: 0.9646\n",
            "Epoch 100/150, Train Loss: 0.1661, Val Loss: 0.1553, Val Accuracy: 0.9646\n",
            "Epoch 101/150, Train Loss: 0.1627, Val Loss: 0.1522, Val Accuracy: 0.9646\n",
            "Epoch 102/150, Train Loss: 0.1596, Val Loss: 0.1492, Val Accuracy: 0.9646\n",
            "Epoch 103/150, Train Loss: 0.1565, Val Loss: 0.1464, Val Accuracy: 0.9646\n",
            "Epoch 104/150, Train Loss: 0.1536, Val Loss: 0.1437, Val Accuracy: 0.9650\n",
            "Epoch 105/150, Train Loss: 0.1508, Val Loss: 0.1412, Val Accuracy: 0.9659\n",
            "Epoch 106/150, Train Loss: 0.1482, Val Loss: 0.1387, Val Accuracy: 0.9668\n",
            "Epoch 107/150, Train Loss: 0.1457, Val Loss: 0.1364, Val Accuracy: 0.9668\n",
            "Epoch 108/150, Train Loss: 0.1433, Val Loss: 0.1341, Val Accuracy: 0.9668\n",
            "Epoch 109/150, Train Loss: 0.1409, Val Loss: 0.1320, Val Accuracy: 0.9668\n",
            "Epoch 110/150, Train Loss: 0.1387, Val Loss: 0.1299, Val Accuracy: 0.9668\n",
            "Epoch 111/150, Train Loss: 0.1366, Val Loss: 0.1279, Val Accuracy: 0.9672\n",
            "Epoch 112/150, Train Loss: 0.1345, Val Loss: 0.1260, Val Accuracy: 0.9681\n",
            "Epoch 113/150, Train Loss: 0.1325, Val Loss: 0.1242, Val Accuracy: 0.9677\n",
            "Epoch 114/150, Train Loss: 0.1306, Val Loss: 0.1224, Val Accuracy: 0.9677\n",
            "Epoch 115/150, Train Loss: 0.1288, Val Loss: 0.1207, Val Accuracy: 0.9677\n",
            "Epoch 116/150, Train Loss: 0.1270, Val Loss: 0.1191, Val Accuracy: 0.9677\n",
            "Epoch 117/150, Train Loss: 0.1253, Val Loss: 0.1175, Val Accuracy: 0.9681\n",
            "Epoch 118/150, Train Loss: 0.1237, Val Loss: 0.1160, Val Accuracy: 0.9690\n",
            "Epoch 119/150, Train Loss: 0.1221, Val Loss: 0.1145, Val Accuracy: 0.9690\n",
            "Epoch 120/150, Train Loss: 0.1205, Val Loss: 0.1131, Val Accuracy: 0.9698\n",
            "Epoch 121/150, Train Loss: 0.1191, Val Loss: 0.1117, Val Accuracy: 0.9703\n",
            "Epoch 122/150, Train Loss: 0.1176, Val Loss: 0.1103, Val Accuracy: 0.9703\n",
            "Epoch 123/150, Train Loss: 0.1162, Val Loss: 0.1090, Val Accuracy: 0.9712\n",
            "Epoch 124/150, Train Loss: 0.1148, Val Loss: 0.1078, Val Accuracy: 0.9716\n",
            "Epoch 125/150, Train Loss: 0.1135, Val Loss: 0.1065, Val Accuracy: 0.9716\n",
            "Epoch 126/150, Train Loss: 0.1122, Val Loss: 0.1053, Val Accuracy: 0.9720\n",
            "Epoch 127/150, Train Loss: 0.1110, Val Loss: 0.1041, Val Accuracy: 0.9720\n",
            "Epoch 128/150, Train Loss: 0.1097, Val Loss: 0.1030, Val Accuracy: 0.9725\n",
            "Epoch 129/150, Train Loss: 0.1086, Val Loss: 0.1019, Val Accuracy: 0.9729\n",
            "Epoch 130/150, Train Loss: 0.1074, Val Loss: 0.1008, Val Accuracy: 0.9725\n",
            "Epoch 131/150, Train Loss: 0.1063, Val Loss: 0.0997, Val Accuracy: 0.9729\n",
            "Epoch 132/150, Train Loss: 0.1052, Val Loss: 0.0987, Val Accuracy: 0.9729\n",
            "Epoch 133/150, Train Loss: 0.1041, Val Loss: 0.0977, Val Accuracy: 0.9729\n",
            "Epoch 134/150, Train Loss: 0.1031, Val Loss: 0.0967, Val Accuracy: 0.9729\n",
            "Epoch 135/150, Train Loss: 0.1020, Val Loss: 0.0957, Val Accuracy: 0.9729\n",
            "Epoch 136/150, Train Loss: 0.1010, Val Loss: 0.0948, Val Accuracy: 0.9725\n",
            "Epoch 137/150, Train Loss: 0.1001, Val Loss: 0.0939, Val Accuracy: 0.9725\n",
            "Epoch 138/150, Train Loss: 0.0991, Val Loss: 0.0930, Val Accuracy: 0.9725\n",
            "Epoch 139/150, Train Loss: 0.0982, Val Loss: 0.0921, Val Accuracy: 0.9725\n",
            "Epoch 140/150, Train Loss: 0.0973, Val Loss: 0.0912, Val Accuracy: 0.9733\n",
            "Epoch 141/150, Train Loss: 0.0964, Val Loss: 0.0904, Val Accuracy: 0.9733\n",
            "Epoch 142/150, Train Loss: 0.0955, Val Loss: 0.0895, Val Accuracy: 0.9733\n",
            "Epoch 143/150, Train Loss: 0.0946, Val Loss: 0.0887, Val Accuracy: 0.9733\n",
            "Epoch 144/150, Train Loss: 0.0938, Val Loss: 0.0879, Val Accuracy: 0.9742\n",
            "Epoch 145/150, Train Loss: 0.0930, Val Loss: 0.0871, Val Accuracy: 0.9742\n",
            "Epoch 146/150, Train Loss: 0.0922, Val Loss: 0.0864, Val Accuracy: 0.9747\n",
            "Epoch 147/150, Train Loss: 0.0914, Val Loss: 0.0856, Val Accuracy: 0.9747\n",
            "Epoch 148/150, Train Loss: 0.0906, Val Loss: 0.0849, Val Accuracy: 0.9751\n",
            "Epoch 149/150, Train Loss: 0.0898, Val Loss: 0.0841, Val Accuracy: 0.9751\n",
            "Epoch 150/150, Train Loss: 0.0891, Val Loss: 0.0834, Val Accuracy: 0.9760\n"
          ]
        }
      ]
    },
    {
      "cell_type": "code",
      "source": [
        "# Test phase\n",
        "model.eval()  # Set the model to evaluation mode\n",
        "with torch.no_grad():  # Disable gradient computation for testing\n",
        "    test_predictions = model(node_embeddings, L, X_test)  # Forward pass for test data\n",
        "    test_loss = criterion(test_predictions, y_test.float())  # Compute loss for test data\n",
        "    test_accuracy = ((test_predictions >= 0.5) == y_test).float().mean().item()  # Calculate accuracy\n",
        "\n",
        "# Print test results\n",
        "print(\n",
        "    f\"Test Loss: {test_loss.item():.4f}, \"\n",
        "    f\"Test Accuracy: {test_accuracy:.4f}\"\n",
        ")\n"
      ],
      "metadata": {
        "colab": {
          "base_uri": "https://localhost:8080/"
        },
        "id": "jBGh4diJIL0d",
        "outputId": "47bb6fc1-f27c-44bf-e6d0-99e45aa4547f"
      },
      "execution_count": null,
      "outputs": [
        {
          "output_type": "stream",
          "name": "stdout",
          "text": [
            "Test Loss: 0.0848, Test Accuracy: 0.9755\n"
          ]
        }
      ]
    },
    {
      "cell_type": "code",
      "source": [
        "import matplotlib.pyplot as plt\n",
        "#print(f\"Test Loss: {test_loss:.4f}\")\n",
        "\n",
        "# Plot the loss curves\n",
        "plt.figure(figsize=(10, 6))\n",
        "plt.plot(range(1, num_epochs + 1), train_losses, label='Train Loss')\n",
        "plt.plot(range(1, num_epochs + 1), val_losses, label='Validation Loss')\n",
        "#plt.axhline(y=test_loss, color='r', linestyle='--', label='Test Loss')  # Test loss as a horizontal line\n",
        "plt.xlabel('Epochs')\n",
        "plt.ylabel('Loss')\n",
        "plt.title('Training, Validation, and Test Loss')\n",
        "plt.legend()\n",
        "plt.grid()\n",
        "plt.show()"
      ],
      "metadata": {
        "colab": {
          "base_uri": "https://localhost:8080/",
          "height": 564
        },
        "id": "iTCiQAIaMbwP",
        "outputId": "5246ca15-7795-44fe-c00c-8609d6233fd1"
      },
      "execution_count": null,
      "outputs": [
        {
          "output_type": "display_data",
          "data": {
            "text/plain": [
              "<Figure size 1000x600 with 1 Axes>"
            ],
            "image/png": "[encoded data removed]"
          },
          "metadata": {}
        }
      ]
    },
    {
      "cell_type": "code",
      "source": [
        "from sklearn.metrics import precision_score, recall_score, f1_score, classification_report, roc_curve, auc\n",
        "import matplotlib.pyplot as plt\n",
        "\n",
        "# Evaluate the model on the test set\n",
        "model.eval()  # Set the model to evaluation mode\n",
        "with torch.no_grad():\n",
        "    test_predictions = model(node_embeddings, L, X_test)  # Forward pass on test set\n",
        "    test_loss = criterion(test_predictions, y_test.float())  # Calculate test loss\n",
        "    test_predictions_bin = (test_predictions >= 0.5).long()  # Convert predictions to binary labels (0 or 1)\n",
        "\n",
        "    # Calculate precision, recall, f1 score\n",
        "    precision = precision_score(y_test, test_predictions_bin)\n",
        "    recall = recall_score(y_test, test_predictions_bin)\n",
        "    f1 = f1_score(y_test, test_predictions_bin)\n",
        "\n",
        "    # Print classification report\n",
        "    print(\"Classification Report:\")\n",
        "    print(classification_report(y_test, test_predictions_bin))\n",
        "\n",
        "    # ROC curve\n",
        "    fpr, tpr, _ = roc_curve(y_test, test_predictions.cpu())  # True positive rate vs false positive rate\n",
        "    roc_auc = auc(fpr, tpr)  # Calculate the area under the ROC curve\n",
        "\n",
        "    # Plot ROC curve\n",
        "    plt.figure(figsize=(8, 6))\n",
        "    plt.plot(fpr, tpr, color='darkorange', lw=2, label=f'ROC curve (area = {roc_auc:.2f})')\n",
        "    plt.plot([0, 1], [0, 1], color='navy', lw=2, linestyle='--')  # Diagonal line\n",
        "    plt.xlim([0.0, 1.0])\n",
        "    plt.ylim([0.0, 1.05])\n",
        "    plt.xlabel('False Positive Rate')\n",
        "    plt.ylabel('True Positive Rate')\n",
        "    plt.title('Receiver Operating Characteristic (ROC) Curve')\n",
        "    plt.legend(loc=\"lower right\")\n",
        "    plt.show()\n",
        "\n",
        "# Print test loss and other metrics\n",
        "print(f\"Test Loss: {test_loss.item():.4f}\")\n",
        "print(f\"Precision: {precision:.4f}\")\n",
        "print(f\"Recall: {recall:.4f}\")\n",
        "print(f\"F1 Score: {f1:.4f}\")\n"
      ],
      "metadata": {
        "id": "dAw7pGTRkTLu",
        "outputId": "212b4221-8062-467d-f71c-89909cac45e0",
        "colab": {
          "base_uri": "https://localhost:8080/",
          "height": 807
        }
      },
      "execution_count": null,
      "outputs": [
        {
          "output_type": "stream",
          "name": "stdout",
          "text": [
            "Classification Report:\n",
            "              precision    recall  f1-score   support\n",
            "\n",
            "           0       0.96      0.99      0.98      1145\n",
            "           1       0.99      0.96      0.98      1144\n",
            "\n",
            "    accuracy                           0.98      2289\n",
            "   macro avg       0.98      0.98      0.98      2289\n",
            "weighted avg       0.98      0.98      0.98      2289\n",
            "\n"
          ]
        },
        {
          "output_type": "display_data",
          "data": {
            "text/plain": [
              "<Figure size 800x600 with 1 Axes>"
            ],
            "image/png": "[encoded data removed]"
          },
          "metadata": {}
        },
        {
          "output_type": "stream",
          "name": "stdout",
          "text": [
            "Test Loss: 0.0848\n",
            "Precision: 0.9892\n",
            "Recall: 0.9615\n",
            "F1 Score: 0.9752\n"
          ]
        }
      ]
    }
  ]
}