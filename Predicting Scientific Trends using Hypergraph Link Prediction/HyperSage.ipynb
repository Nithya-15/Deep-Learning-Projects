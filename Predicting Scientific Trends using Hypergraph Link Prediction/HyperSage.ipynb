{
  "nbformat": 4,
  "nbformat_minor": 0,
  "metadata": {
    "colab": {
      "provenance": []
    },
    "kernelspec": {
      "name": "python3",
      "display_name": "Python 3"
    },
    "language_info": {
      "name": "python"
    }
  },
  "cells": [
    {
      "cell_type": "code",
      "execution_count": null,
      "metadata": {
        "colab": {
          "base_uri": "https://localhost:8080/"
        },
        "id": "PwkDngJARLVR",
        "outputId": "f7491c2c-0974-4f05-e223-2d5cb39df7c8"
      },
      "outputs": [
        {
          "output_type": "stream",
          "name": "stdout",
          "text": [
            "Requirement already satisfied: pydantic in /usr/local/lib/python3.10/dist-packages (2.10.2)\n",
            "Requirement already satisfied: annotated-types>=0.6.0 in /usr/local/lib/python3.10/dist-packages (from pydantic) (0.7.0)\n",
            "Requirement already satisfied: pydantic-core==2.27.1 in /usr/local/lib/python3.10/dist-packages (from pydantic) (2.27.1)\n",
            "Requirement already satisfied: typing-extensions>=4.12.2 in /usr/local/lib/python3.10/dist-packages (from pydantic) (4.12.2)\n",
            "Requirement already satisfied: PyYAML in /usr/local/lib/python3.10/dist-packages (6.0.2)\n",
            "Requirement already satisfied: numpy==1.26.4 in /usr/local/lib/python3.10/dist-packages (1.26.4)\n",
            "Collecting torch==2.1.2\n",
            "  Downloading torch-2.1.2-cp310-cp310-manylinux1_x86_64.whl.metadata (25 kB)\n",
            "Collecting torchvision==0.16.2\n",
            "  Downloading torchvision-0.16.2-cp310-cp310-manylinux1_x86_64.whl.metadata (6.6 kB)\n",
            "Collecting torchaudio==2.1.2\n",
            "  Downloading torchaudio-2.1.2-cp310-cp310-manylinux1_x86_64.whl.metadata (6.4 kB)\n",
            "Requirement already satisfied: filelock in /usr/local/lib/python3.10/dist-packages (from torch==2.1.2) (3.16.1)\n",
            "Requirement already satisfied: typing-extensions in /usr/local/lib/python3.10/dist-packages (from torch==2.1.2) (4.12.2)\n",
            "Requirement already satisfied: sympy in /usr/local/lib/python3.10/dist-packages (from torch==2.1.2) (1.13.1)\n",
            "Requirement already satisfied: networkx in /usr/local/lib/python3.10/dist-packages (from torch==2.1.2) (3.4.2)\n",
            "Requirement already satisfied: jinja2 in /usr/local/lib/python3.10/dist-packages (from torch==2.1.2) (3.1.4)\n",
            "Requirement already satisfied: fsspec in /usr/local/lib/python3.10/dist-packages (from torch==2.1.2) (2024.10.0)\n",
            "Collecting nvidia-cuda-nvrtc-cu12==12.1.105 (from torch==2.1.2)\n",
            "  Downloading nvidia_cuda_nvrtc_cu12-12.1.105-py3-none-manylinux1_x86_64.whl.metadata (1.5 kB)\n",
            "Collecting nvidia-cuda-runtime-cu12==12.1.105 (from torch==2.1.2)\n",
            "  Downloading nvidia_cuda_runtime_cu12-12.1.105-py3-none-manylinux1_x86_64.whl.metadata (1.5 kB)\n",
            "Collecting nvidia-cuda-cupti-cu12==12.1.105 (from torch==2.1.2)\n",
            "  Downloading nvidia_cuda_cupti_cu12-12.1.105-py3-none-manylinux1_x86_64.whl.metadata (1.6 kB)\n",
            "Collecting nvidia-cudnn-cu12==8.9.2.26 (from torch==2.1.2)\n",
            "  Downloading nvidia_cudnn_cu12-8.9.2.26-py3-none-manylinux1_x86_64.whl.metadata (1.6 kB)\n",
            "Collecting nvidia-cublas-cu12==12.1.3.1 (from torch==2.1.2)\n",
            "  Downloading nvidia_cublas_cu12-12.1.3.1-py3-none-manylinux1_x86_64.whl.metadata (1.5 kB)\n",
            "Collecting nvidia-cufft-cu12==11.0.2.54 (from torch==2.1.2)\n",
            "  Downloading nvidia_cufft_cu12-11.0.2.54-py3-none-manylinux1_x86_64.whl.metadata (1.5 kB)\n",
            "Collecting nvidia-curand-cu12==10.3.2.106 (from torch==2.1.2)\n",
            "  Downloading nvidia_curand_cu12-10.3.2.106-py3-none-manylinux1_x86_64.whl.metadata (1.5 kB)\n",
            "Collecting nvidia-cusolver-cu12==11.4.5.107 (from torch==2.1.2)\n",
            "  Downloading nvidia_cusolver_cu12-11.4.5.107-py3-none-manylinux1_x86_64.whl.metadata (1.6 kB)\n",
            "Collecting nvidia-cusparse-cu12==12.1.0.106 (from torch==2.1.2)\n",
            "  Downloading nvidia_cusparse_cu12-12.1.0.106-py3-none-manylinux1_x86_64.whl.metadata (1.6 kB)\n",
            "Collecting nvidia-nccl-cu12==2.18.1 (from torch==2.1.2)\n",
            "  Downloading nvidia_nccl_cu12-2.18.1-py3-none-manylinux1_x86_64.whl.metadata (1.8 kB)\n",
            "Collecting nvidia-nvtx-cu12==12.1.105 (from torch==2.1.2)\n",
            "  Downloading nvidia_nvtx_cu12-12.1.105-py3-none-manylinux1_x86_64.whl.metadata (1.7 kB)\n",
            "Collecting triton==2.1.0 (from torch==2.1.2)\n",
            "  Downloading triton-2.1.0-0-cp310-cp310-manylinux2014_x86_64.manylinux_2_17_x86_64.whl.metadata (1.3 kB)\n",
            "Requirement already satisfied: numpy in /usr/local/lib/python3.10/dist-packages (from torchvision==0.16.2) (1.26.4)\n",
            "Requirement already satisfied: requests in /usr/local/lib/python3.10/dist-packages (from torchvision==0.16.2) (2.32.3)\n",
            "Requirement already satisfied: pillow!=8.3.*,>=5.3.0 in /usr/local/lib/python3.10/dist-packages (from torchvision==0.16.2) (11.0.0)\n",
            "Requirement already satisfied: nvidia-nvjitlink-cu12 in /usr/local/lib/python3.10/dist-packages (from nvidia-cusolver-cu12==11.4.5.107->torch==2.1.2) (12.6.85)\n",
            "Requirement already satisfied: MarkupSafe>=2.0 in /usr/local/lib/python3.10/dist-packages (from jinja2->torch==2.1.2) (3.0.2)\n",
            "Requirement already satisfied: charset-normalizer<4,>=2 in /usr/local/lib/python3.10/dist-packages (from requests->torchvision==0.16.2) (3.4.0)\n",
            "Requirement already satisfied: idna<4,>=2.5 in /usr/local/lib/python3.10/dist-packages (from requests->torchvision==0.16.2) (3.10)\n",
            "Requirement already satisfied: urllib3<3,>=1.21.1 in /usr/local/lib/python3.10/dist-packages (from requests->torchvision==0.16.2) (2.2.3)\n",
            "Requirement already satisfied: certifi>=2017.4.17 in /usr/local/lib/python3.10/dist-packages (from requests->torchvision==0.16.2) (2024.8.30)\n",
            "Requirement already satisfied: mpmath<1.4,>=1.1.0 in /usr/local/lib/python3.10/dist-packages (from sympy->torch==2.1.2) (1.3.0)\n",
            "Downloading torch-2.1.2-cp310-cp310-manylinux1_x86_64.whl (670.2 MB)\n",
            "\u001b[2K   \u001b[90m━━━━━━━━━━━━━━━━━━━━━━━━━━━━━━━━━━━━━━━━\u001b[0m \u001b[32m670.2/670.2 MB\u001b[0m \u001b[31m2.1 MB/s\u001b[0m eta \u001b[36m0:00:00\u001b[0m\n",
            "\u001b[?25hDownloading torchvision-0.16.2-cp310-cp310-manylinux1_x86_64.whl (6.8 MB)\n",
            "\u001b[2K   \u001b[90m━━━━━━━━━━━━━━━━━━━━━━━━━━━━━━━━━━━━━━━━\u001b[0m \u001b[32m6.8/6.8 MB\u001b[0m \u001b[31m83.5 MB/s\u001b[0m eta \u001b[36m0:00:00\u001b[0m\n",
            "\u001b[?25hDownloading torchaudio-2.1.2-cp310-cp310-manylinux1_x86_64.whl (3.3 MB)\n",
            "\u001b[2K   \u001b[90m━━━━━━━━━━━━━━━━━━━━━━━━━━━━━━━━━━━━━━━━\u001b[0m \u001b[32m3.3/3.3 MB\u001b[0m \u001b[31m70.9 MB/s\u001b[0m eta \u001b[36m0:00:00\u001b[0m\n",
            "\u001b[?25hDownloading nvidia_cublas_cu12-12.1.3.1-py3-none-manylinux1_x86_64.whl (410.6 MB)\n",
            "\u001b[2K   \u001b[90m━━━━━━━━━━━━━━━━━━━━━━━━━━━━━━━━━━━━━━━━\u001b[0m \u001b[32m410.6/410.6 MB\u001b[0m \u001b[31m3.8 MB/s\u001b[0m eta \u001b[36m0:00:00\u001b[0m\n",
            "\u001b[?25hDownloading nvidia_cuda_cupti_cu12-12.1.105-py3-none-manylinux1_x86_64.whl (14.1 MB)\n",
            "\u001b[2K   \u001b[90m━━━━━━━━━━━━━━━━━━━━━━━━━━━━━━━━━━━━━━━━\u001b[0m \u001b[32m14.1/14.1 MB\u001b[0m \u001b[31m40.5 MB/s\u001b[0m eta \u001b[36m0:00:00\u001b[0m\n",
            "\u001b[?25hDownloading nvidia_cuda_nvrtc_cu12-12.1.105-py3-none-manylinux1_x86_64.whl (23.7 MB)\n",
            "\u001b[2K   \u001b[90m━━━━━━━━━━━━━━━━━━━━━━━━━━━━━━━━━━━━━━━━\u001b[0m \u001b[32m23.7/23.7 MB\u001b[0m \u001b[31m29.9 MB/s\u001b[0m eta \u001b[36m0:00:00\u001b[0m\n",
            "\u001b[?25hDownloading nvidia_cuda_runtime_cu12-12.1.105-py3-none-manylinux1_x86_64.whl (823 kB)\n",
            "\u001b[2K   \u001b[90m━━━━━━━━━━━━━━━━━━━━━━━━━━━━━━━━━━━━━━━━\u001b[0m \u001b[32m823.6/823.6 kB\u001b[0m \u001b[31m33.4 MB/s\u001b[0m eta \u001b[36m0:00:00\u001b[0m\n",
            "\u001b[?25hDownloading nvidia_cudnn_cu12-8.9.2.26-py3-none-manylinux1_x86_64.whl (731.7 MB)\n",
            "\u001b[2K   \u001b[90m━━━━━━━━━━━━━━━━━━━━━━━━━━━━━━━━━━━━━━━━\u001b[0m \u001b[32m731.7/731.7 MB\u001b[0m \u001b[31m1.7 MB/s\u001b[0m eta \u001b[36m0:00:00\u001b[0m\n",
            "\u001b[?25hDownloading nvidia_cufft_cu12-11.0.2.54-py3-none-manylinux1_x86_64.whl (121.6 MB)\n",
            "\u001b[2K   \u001b[90m━━━━━━━━━━━━━━━━━━━━━━━━━━━━━━━━━━━━━━━━\u001b[0m \u001b[32m121.6/121.6 MB\u001b[0m \u001b[31m7.7 MB/s\u001b[0m eta \u001b[36m0:00:00\u001b[0m\n",
            "\u001b[?25hDownloading nvidia_curand_cu12-10.3.2.106-py3-none-manylinux1_x86_64.whl (56.5 MB)\n",
            "\u001b[2K   \u001b[90m━━━━━━━━━━━━━━━━━━━━━━━━━━━━━━━━━━━━━━━━\u001b[0m \u001b[32m56.5/56.5 MB\u001b[0m \u001b[31m11.6 MB/s\u001b[0m eta \u001b[36m0:00:00\u001b[0m\n",
            "\u001b[?25hDownloading nvidia_cusolver_cu12-11.4.5.107-py3-none-manylinux1_x86_64.whl (124.2 MB)\n",
            "\u001b[2K   \u001b[90m━━━━━━━━━━━━━━━━━━━━━━━━━━━━━━━━━━━━━━━━\u001b[0m \u001b[32m124.2/124.2 MB\u001b[0m \u001b[31m7.7 MB/s\u001b[0m eta \u001b[36m0:00:00\u001b[0m\n",
            "\u001b[?25hDownloading nvidia_cusparse_cu12-12.1.0.106-py3-none-manylinux1_x86_64.whl (196.0 MB)\n",
            "\u001b[2K   \u001b[90m━━━━━━━━━━━━━━━━━━━━━━━━━━━━━━━━━━━━━━━━\u001b[0m \u001b[32m196.0/196.0 MB\u001b[0m \u001b[31m6.5 MB/s\u001b[0m eta \u001b[36m0:00:00\u001b[0m\n",
            "\u001b[?25hDownloading nvidia_nccl_cu12-2.18.1-py3-none-manylinux1_x86_64.whl (209.8 MB)\n",
            "\u001b[2K   \u001b[90m━━━━━━━━━━━━━━━━━━━━━━━━━━━━━━━━━━━━━━━━\u001b[0m \u001b[32m209.8/209.8 MB\u001b[0m \u001b[31m4.7 MB/s\u001b[0m eta \u001b[36m0:00:00\u001b[0m\n",
            "\u001b[?25hDownloading nvidia_nvtx_cu12-12.1.105-py3-none-manylinux1_x86_64.whl (99 kB)\n",
            "\u001b[2K   \u001b[90m━━━━━━━━━━━━━━━━━━━━━━━━━━━━━━━━━━━━━━━━\u001b[0m \u001b[32m99.1/99.1 kB\u001b[0m \u001b[31m7.1 MB/s\u001b[0m eta \u001b[36m0:00:00\u001b[0m\n",
            "\u001b[?25hDownloading triton-2.1.0-0-cp310-cp310-manylinux2014_x86_64.manylinux_2_17_x86_64.whl (89.2 MB)\n",
            "\u001b[2K   \u001b[90m━━━━━━━━━━━━━━━━━━━━━━━━━━━━━━━━━━━━━━━━\u001b[0m \u001b[32m89.2/89.2 MB\u001b[0m \u001b[31m7.4 MB/s\u001b[0m eta \u001b[36m0:00:00\u001b[0m\n",
            "\u001b[?25hInstalling collected packages: triton, nvidia-nvtx-cu12, nvidia-nccl-cu12, nvidia-cusparse-cu12, nvidia-curand-cu12, nvidia-cufft-cu12, nvidia-cuda-runtime-cu12, nvidia-cuda-nvrtc-cu12, nvidia-cuda-cupti-cu12, nvidia-cublas-cu12, nvidia-cusolver-cu12, nvidia-cudnn-cu12, torch, torchvision, torchaudio\n",
            "  Attempting uninstall: nvidia-nccl-cu12\n",
            "    Found existing installation: nvidia-nccl-cu12 2.23.4\n",
            "    Uninstalling nvidia-nccl-cu12-2.23.4:\n",
            "      Successfully uninstalled nvidia-nccl-cu12-2.23.4\n",
            "  Attempting uninstall: nvidia-cusparse-cu12\n",
            "    Found existing installation: nvidia-cusparse-cu12 12.5.4.2\n",
            "    Uninstalling nvidia-cusparse-cu12-12.5.4.2:\n",
            "      Successfully uninstalled nvidia-cusparse-cu12-12.5.4.2\n",
            "  Attempting uninstall: nvidia-curand-cu12\n",
            "    Found existing installation: nvidia-curand-cu12 10.3.7.77\n",
            "    Uninstalling nvidia-curand-cu12-10.3.7.77:\n",
            "      Successfully uninstalled nvidia-curand-cu12-10.3.7.77\n",
            "  Attempting uninstall: nvidia-cufft-cu12\n",
            "    Found existing installation: nvidia-cufft-cu12 11.3.0.4\n",
            "    Uninstalling nvidia-cufft-cu12-11.3.0.4:\n",
            "      Successfully uninstalled nvidia-cufft-cu12-11.3.0.4\n",
            "  Attempting uninstall: nvidia-cuda-runtime-cu12\n",
            "    Found existing installation: nvidia-cuda-runtime-cu12 12.6.77\n",
            "    Uninstalling nvidia-cuda-runtime-cu12-12.6.77:\n",
            "      Successfully uninstalled nvidia-cuda-runtime-cu12-12.6.77\n",
            "  Attempting uninstall: nvidia-cuda-cupti-cu12\n",
            "    Found existing installation: nvidia-cuda-cupti-cu12 12.6.80\n",
            "    Uninstalling nvidia-cuda-cupti-cu12-12.6.80:\n",
            "      Successfully uninstalled nvidia-cuda-cupti-cu12-12.6.80\n",
            "  Attempting uninstall: nvidia-cublas-cu12\n",
            "    Found existing installation: nvidia-cublas-cu12 12.6.4.1\n",
            "    Uninstalling nvidia-cublas-cu12-12.6.4.1:\n",
            "      Successfully uninstalled nvidia-cublas-cu12-12.6.4.1\n",
            "  Attempting uninstall: nvidia-cusolver-cu12\n",
            "    Found existing installation: nvidia-cusolver-cu12 11.7.1.2\n",
            "    Uninstalling nvidia-cusolver-cu12-11.7.1.2:\n",
            "      Successfully uninstalled nvidia-cusolver-cu12-11.7.1.2\n",
            "  Attempting uninstall: nvidia-cudnn-cu12\n",
            "    Found existing installation: nvidia-cudnn-cu12 9.5.1.17\n",
            "    Uninstalling nvidia-cudnn-cu12-9.5.1.17:\n",
            "      Successfully uninstalled nvidia-cudnn-cu12-9.5.1.17\n",
            "  Attempting uninstall: torch\n",
            "    Found existing installation: torch 2.5.1+cu121\n",
            "    Uninstalling torch-2.5.1+cu121:\n",
            "      Successfully uninstalled torch-2.5.1+cu121\n",
            "  Attempting uninstall: torchvision\n",
            "    Found existing installation: torchvision 0.20.1+cu121\n",
            "    Uninstalling torchvision-0.20.1+cu121:\n",
            "      Successfully uninstalled torchvision-0.20.1+cu121\n",
            "  Attempting uninstall: torchaudio\n",
            "    Found existing installation: torchaudio 2.5.1+cu121\n",
            "    Uninstalling torchaudio-2.5.1+cu121:\n",
            "      Successfully uninstalled torchaudio-2.5.1+cu121\n",
            "Successfully installed nvidia-cublas-cu12-12.1.3.1 nvidia-cuda-cupti-cu12-12.1.105 nvidia-cuda-nvrtc-cu12-12.1.105 nvidia-cuda-runtime-cu12-12.1.105 nvidia-cudnn-cu12-8.9.2.26 nvidia-cufft-cu12-11.0.2.54 nvidia-curand-cu12-10.3.2.106 nvidia-cusolver-cu12-11.4.5.107 nvidia-cusparse-cu12-12.1.0.106 nvidia-nccl-cu12-2.18.1 nvidia-nvtx-cu12-12.1.105 torch-2.1.2 torchaudio-2.1.2 torchvision-0.16.2 triton-2.1.0\n",
            "Looking in links: https://data.dgl.ai/wheels/repo.html\n",
            "Collecting dgl\n",
            "  Downloading dgl-2.1.0-cp310-cp310-manylinux1_x86_64.whl.metadata (553 bytes)\n",
            "Requirement already satisfied: numpy>=1.14.0 in /usr/local/lib/python3.10/dist-packages (from dgl) (1.26.4)\n",
            "Requirement already satisfied: scipy>=1.1.0 in /usr/local/lib/python3.10/dist-packages (from dgl) (1.13.1)\n",
            "Requirement already satisfied: networkx>=2.1 in /usr/local/lib/python3.10/dist-packages (from dgl) (3.4.2)\n",
            "Requirement already satisfied: requests>=2.19.0 in /usr/local/lib/python3.10/dist-packages (from dgl) (2.32.3)\n",
            "Requirement already satisfied: tqdm in /usr/local/lib/python3.10/dist-packages (from dgl) (4.66.6)\n",
            "Requirement already satisfied: psutil>=5.8.0 in /usr/local/lib/python3.10/dist-packages (from dgl) (5.9.5)\n",
            "Collecting torchdata>=0.5.0 (from dgl)\n",
            "  Downloading torchdata-0.9.0-cp310-cp310-manylinux1_x86_64.whl.metadata (5.5 kB)\n",
            "Requirement already satisfied: charset-normalizer<4,>=2 in /usr/local/lib/python3.10/dist-packages (from requests>=2.19.0->dgl) (3.4.0)\n",
            "Requirement already satisfied: idna<4,>=2.5 in /usr/local/lib/python3.10/dist-packages (from requests>=2.19.0->dgl) (3.10)\n",
            "Requirement already satisfied: urllib3<3,>=1.21.1 in /usr/local/lib/python3.10/dist-packages (from requests>=2.19.0->dgl) (2.2.3)\n",
            "Requirement already satisfied: certifi>=2017.4.17 in /usr/local/lib/python3.10/dist-packages (from requests>=2.19.0->dgl) (2024.8.30)\n",
            "Requirement already satisfied: torch>=2 in /usr/local/lib/python3.10/dist-packages (from torchdata>=0.5.0->dgl) (2.1.2)\n",
            "Requirement already satisfied: filelock in /usr/local/lib/python3.10/dist-packages (from torch>=2->torchdata>=0.5.0->dgl) (3.16.1)\n",
            "Requirement already satisfied: typing-extensions in /usr/local/lib/python3.10/dist-packages (from torch>=2->torchdata>=0.5.0->dgl) (4.12.2)\n",
            "Requirement already satisfied: sympy in /usr/local/lib/python3.10/dist-packages (from torch>=2->torchdata>=0.5.0->dgl) (1.13.1)\n",
            "Requirement already satisfied: jinja2 in /usr/local/lib/python3.10/dist-packages (from torch>=2->torchdata>=0.5.0->dgl) (3.1.4)\n",
            "Requirement already satisfied: fsspec in /usr/local/lib/python3.10/dist-packages (from torch>=2->torchdata>=0.5.0->dgl) (2024.10.0)\n",
            "Requirement already satisfied: nvidia-cuda-nvrtc-cu12==12.1.105 in /usr/local/lib/python3.10/dist-packages (from torch>=2->torchdata>=0.5.0->dgl) (12.1.105)\n",
            "Requirement already satisfied: nvidia-cuda-runtime-cu12==12.1.105 in /usr/local/lib/python3.10/dist-packages (from torch>=2->torchdata>=0.5.0->dgl) (12.1.105)\n",
            "Requirement already satisfied: nvidia-cuda-cupti-cu12==12.1.105 in /usr/local/lib/python3.10/dist-packages (from torch>=2->torchdata>=0.5.0->dgl) (12.1.105)\n",
            "Requirement already satisfied: nvidia-cudnn-cu12==8.9.2.26 in /usr/local/lib/python3.10/dist-packages (from torch>=2->torchdata>=0.5.0->dgl) (8.9.2.26)\n",
            "Requirement already satisfied: nvidia-cublas-cu12==12.1.3.1 in /usr/local/lib/python3.10/dist-packages (from torch>=2->torchdata>=0.5.0->dgl) (12.1.3.1)\n",
            "Requirement already satisfied: nvidia-cufft-cu12==11.0.2.54 in /usr/local/lib/python3.10/dist-packages (from torch>=2->torchdata>=0.5.0->dgl) (11.0.2.54)\n",
            "Requirement already satisfied: nvidia-curand-cu12==10.3.2.106 in /usr/local/lib/python3.10/dist-packages (from torch>=2->torchdata>=0.5.0->dgl) (10.3.2.106)\n",
            "Requirement already satisfied: nvidia-cusolver-cu12==11.4.5.107 in /usr/local/lib/python3.10/dist-packages (from torch>=2->torchdata>=0.5.0->dgl) (11.4.5.107)\n",
            "Requirement already satisfied: nvidia-cusparse-cu12==12.1.0.106 in /usr/local/lib/python3.10/dist-packages (from torch>=2->torchdata>=0.5.0->dgl) (12.1.0.106)\n",
            "Requirement already satisfied: nvidia-nccl-cu12==2.18.1 in /usr/local/lib/python3.10/dist-packages (from torch>=2->torchdata>=0.5.0->dgl) (2.18.1)\n",
            "Requirement already satisfied: nvidia-nvtx-cu12==12.1.105 in /usr/local/lib/python3.10/dist-packages (from torch>=2->torchdata>=0.5.0->dgl) (12.1.105)\n",
            "Requirement already satisfied: triton==2.1.0 in /usr/local/lib/python3.10/dist-packages (from torch>=2->torchdata>=0.5.0->dgl) (2.1.0)\n",
            "Requirement already satisfied: nvidia-nvjitlink-cu12 in /usr/local/lib/python3.10/dist-packages (from nvidia-cusolver-cu12==11.4.5.107->torch>=2->torchdata>=0.5.0->dgl) (12.6.85)\n",
            "Requirement already satisfied: MarkupSafe>=2.0 in /usr/local/lib/python3.10/dist-packages (from jinja2->torch>=2->torchdata>=0.5.0->dgl) (3.0.2)\n",
            "Requirement already satisfied: mpmath<1.4,>=1.1.0 in /usr/local/lib/python3.10/dist-packages (from sympy->torch>=2->torchdata>=0.5.0->dgl) (1.3.0)\n",
            "Downloading dgl-2.1.0-cp310-cp310-manylinux1_x86_64.whl (8.5 MB)\n",
            "\u001b[2K   \u001b[90m━━━━━━━━━━━━━━━━━━━━━━━━━━━━━━━━━━━━━━━━\u001b[0m \u001b[32m8.5/8.5 MB\u001b[0m \u001b[31m68.6 MB/s\u001b[0m eta \u001b[36m0:00:00\u001b[0m\n",
            "\u001b[?25hDownloading torchdata-0.9.0-cp310-cp310-manylinux1_x86_64.whl (2.7 MB)\n",
            "\u001b[2K   \u001b[90m━━━━━━━━━━━━━━━━━━━━━━━━━━━━━━━━━━━━━━━━\u001b[0m \u001b[32m2.7/2.7 MB\u001b[0m \u001b[31m221.3 MB/s\u001b[0m eta \u001b[36m0:00:00\u001b[0m\n",
            "\u001b[?25hInstalling collected packages: torchdata, dgl\n",
            "Successfully installed dgl-2.1.0 torchdata-0.9.0\n",
            "Collecting dill\n",
            "  Downloading dill-0.3.9-py3-none-any.whl.metadata (10 kB)\n",
            "Downloading dill-0.3.9-py3-none-any.whl (119 kB)\n",
            "\u001b[2K   \u001b[90m━━━━━━━━━━━━━━━━━━━━━━━━━━━━━━━━━━━━━━━━\u001b[0m \u001b[32m119.4/119.4 kB\u001b[0m \u001b[31m2.3 MB/s\u001b[0m eta \u001b[36m0:00:00\u001b[0m\n",
            "\u001b[?25hInstalling collected packages: dill\n",
            "Successfully installed dill-0.3.9\n",
            "Collecting torchdata==0.6.0\n",
            "  Downloading torchdata-0.6.0-cp310-cp310-manylinux_2_17_x86_64.manylinux2014_x86_64.whl.metadata (919 bytes)\n",
            "Requirement already satisfied: urllib3>=1.25 in /usr/local/lib/python3.10/dist-packages (from torchdata==0.6.0) (2.2.3)\n",
            "Requirement already satisfied: requests in /usr/local/lib/python3.10/dist-packages (from torchdata==0.6.0) (2.32.3)\n",
            "Collecting torch==2.0.0 (from torchdata==0.6.0)\n",
            "  Downloading torch-2.0.0-cp310-cp310-manylinux1_x86_64.whl.metadata (24 kB)\n",
            "Requirement already satisfied: filelock in /usr/local/lib/python3.10/dist-packages (from torch==2.0.0->torchdata==0.6.0) (3.16.1)\n",
            "Requirement already satisfied: typing-extensions in /usr/local/lib/python3.10/dist-packages (from torch==2.0.0->torchdata==0.6.0) (4.12.2)\n",
            "Requirement already satisfied: sympy in /usr/local/lib/python3.10/dist-packages (from torch==2.0.0->torchdata==0.6.0) (1.13.1)\n",
            "Requirement already satisfied: networkx in /usr/local/lib/python3.10/dist-packages (from torch==2.0.0->torchdata==0.6.0) (3.4.2)\n",
            "Requirement already satisfied: jinja2 in /usr/local/lib/python3.10/dist-packages (from torch==2.0.0->torchdata==0.6.0) (3.1.4)\n",
            "Collecting nvidia-cuda-nvrtc-cu11==11.7.99 (from torch==2.0.0->torchdata==0.6.0)\n",
            "  Downloading nvidia_cuda_nvrtc_cu11-11.7.99-2-py3-none-manylinux1_x86_64.whl.metadata (1.5 kB)\n",
            "Collecting nvidia-cuda-runtime-cu11==11.7.99 (from torch==2.0.0->torchdata==0.6.0)\n",
            "  Downloading nvidia_cuda_runtime_cu11-11.7.99-py3-none-manylinux1_x86_64.whl.metadata (1.6 kB)\n",
            "Collecting nvidia-cuda-cupti-cu11==11.7.101 (from torch==2.0.0->torchdata==0.6.0)\n",
            "  Downloading nvidia_cuda_cupti_cu11-11.7.101-py3-none-manylinux1_x86_64.whl.metadata (1.6 kB)\n",
            "Collecting nvidia-cudnn-cu11==8.5.0.96 (from torch==2.0.0->torchdata==0.6.0)\n",
            "  Downloading nvidia_cudnn_cu11-8.5.0.96-2-py3-none-manylinux1_x86_64.whl.metadata (1.6 kB)\n",
            "Collecting nvidia-cublas-cu11==11.10.3.66 (from torch==2.0.0->torchdata==0.6.0)\n",
            "  Downloading nvidia_cublas_cu11-11.10.3.66-py3-none-manylinux1_x86_64.whl.metadata (1.6 kB)\n",
            "Collecting nvidia-cufft-cu11==10.9.0.58 (from torch==2.0.0->torchdata==0.6.0)\n",
            "  Downloading nvidia_cufft_cu11-10.9.0.58-py3-none-manylinux2014_x86_64.whl.metadata (1.5 kB)\n",
            "Collecting nvidia-curand-cu11==10.2.10.91 (from torch==2.0.0->torchdata==0.6.0)\n",
            "  Downloading nvidia_curand_cu11-10.2.10.91-py3-none-manylinux1_x86_64.whl.metadata (1.6 kB)\n",
            "Collecting nvidia-cusolver-cu11==11.4.0.1 (from torch==2.0.0->torchdata==0.6.0)\n",
            "  Downloading nvidia_cusolver_cu11-11.4.0.1-2-py3-none-manylinux1_x86_64.whl.metadata (1.6 kB)\n",
            "Collecting nvidia-cusparse-cu11==11.7.4.91 (from torch==2.0.0->torchdata==0.6.0)\n",
            "  Downloading nvidia_cusparse_cu11-11.7.4.91-py3-none-manylinux1_x86_64.whl.metadata (1.6 kB)\n",
            "Collecting nvidia-nccl-cu11==2.14.3 (from torch==2.0.0->torchdata==0.6.0)\n",
            "  Downloading nvidia_nccl_cu11-2.14.3-py3-none-manylinux1_x86_64.whl.metadata (1.8 kB)\n",
            "Collecting nvidia-nvtx-cu11==11.7.91 (from torch==2.0.0->torchdata==0.6.0)\n",
            "  Downloading nvidia_nvtx_cu11-11.7.91-py3-none-manylinux1_x86_64.whl.metadata (1.7 kB)\n",
            "Collecting triton==2.0.0 (from torch==2.0.0->torchdata==0.6.0)\n",
            "  Downloading triton-2.0.0-1-cp310-cp310-manylinux2014_x86_64.manylinux_2_17_x86_64.whl.metadata (1.0 kB)\n",
            "Requirement already satisfied: setuptools in /usr/local/lib/python3.10/dist-packages (from nvidia-cublas-cu11==11.10.3.66->torch==2.0.0->torchdata==0.6.0) (75.1.0)\n",
            "Requirement already satisfied: wheel in /usr/local/lib/python3.10/dist-packages (from nvidia-cublas-cu11==11.10.3.66->torch==2.0.0->torchdata==0.6.0) (0.45.1)\n",
            "Requirement already satisfied: cmake in /usr/local/lib/python3.10/dist-packages (from triton==2.0.0->torch==2.0.0->torchdata==0.6.0) (3.30.5)\n",
            "Collecting lit (from triton==2.0.0->torch==2.0.0->torchdata==0.6.0)\n",
            "  Downloading lit-18.1.8-py3-none-any.whl.metadata (2.5 kB)\n",
            "Requirement already satisfied: charset-normalizer<4,>=2 in /usr/local/lib/python3.10/dist-packages (from requests->torchdata==0.6.0) (3.4.0)\n",
            "Requirement already satisfied: idna<4,>=2.5 in /usr/local/lib/python3.10/dist-packages (from requests->torchdata==0.6.0) (3.10)\n",
            "Requirement already satisfied: certifi>=2017.4.17 in /usr/local/lib/python3.10/dist-packages (from requests->torchdata==0.6.0) (2024.8.30)\n",
            "Requirement already satisfied: MarkupSafe>=2.0 in /usr/local/lib/python3.10/dist-packages (from jinja2->torch==2.0.0->torchdata==0.6.0) (3.0.2)\n",
            "Requirement already satisfied: mpmath<1.4,>=1.1.0 in /usr/local/lib/python3.10/dist-packages (from sympy->torch==2.0.0->torchdata==0.6.0) (1.3.0)\n",
            "Downloading torchdata-0.6.0-cp310-cp310-manylinux_2_17_x86_64.manylinux2014_x86_64.whl (4.6 MB)\n",
            "\u001b[2K   \u001b[90m━━━━━━━━━━━━━━━━━━━━━━━━━━━━━━━━━━━━━━━━\u001b[0m \u001b[32m4.6/4.6 MB\u001b[0m \u001b[31m42.2 MB/s\u001b[0m eta \u001b[36m0:00:00\u001b[0m\n",
            "\u001b[?25hDownloading torch-2.0.0-cp310-cp310-manylinux1_x86_64.whl (619.9 MB)\n",
            "\u001b[2K   \u001b[90m━━━━━━━━━━━━━━━━━━━━━━━━━━━━━━━━━━━━━━━━\u001b[0m \u001b[32m619.9/619.9 MB\u001b[0m \u001b[31m2.8 MB/s\u001b[0m eta \u001b[36m0:00:00\u001b[0m\n",
            "\u001b[?25hDownloading nvidia_cublas_cu11-11.10.3.66-py3-none-manylinux1_x86_64.whl (317.1 MB)\n",
            "\u001b[2K   \u001b[90m━━━━━━━━━━━━━━━━━━━━━━━━━━━━━━━━━━━━━━━━\u001b[0m \u001b[32m317.1/317.1 MB\u001b[0m \u001b[31m1.5 MB/s\u001b[0m eta \u001b[36m0:00:00\u001b[0m\n",
            "\u001b[?25hDownloading nvidia_cuda_cupti_cu11-11.7.101-py3-none-manylinux1_x86_64.whl (11.8 MB)\n",
            "\u001b[2K   \u001b[90m━━━━━━━━━━━━━━━━━━━━━━━━━━━━━━━━━━━━━━━━\u001b[0m \u001b[32m11.8/11.8 MB\u001b[0m \u001b[31m69.1 MB/s\u001b[0m eta \u001b[36m0:00:00\u001b[0m\n",
            "\u001b[?25hDownloading nvidia_cuda_nvrtc_cu11-11.7.99-2-py3-none-manylinux1_x86_64.whl (21.0 MB)\n",
            "\u001b[2K   \u001b[90m━━━━━━━━━━━━━━━━━━━━━━━━━━━━━━━━━━━━━━━━\u001b[0m \u001b[32m21.0/21.0 MB\u001b[0m \u001b[31m56.3 MB/s\u001b[0m eta \u001b[36m0:00:00\u001b[0m\n",
            "\u001b[?25hDownloading nvidia_cuda_runtime_cu11-11.7.99-py3-none-manylinux1_x86_64.whl (849 kB)\n",
            "\u001b[2K   \u001b[90m━━━━━━━━━━━━━━━━━━━━━━━━━━━━━━━━━━━━━━━━\u001b[0m \u001b[32m849.3/849.3 kB\u001b[0m \u001b[31m41.0 MB/s\u001b[0m eta \u001b[36m0:00:00\u001b[0m\n",
            "\u001b[?25hDownloading nvidia_cudnn_cu11-8.5.0.96-2-py3-none-manylinux1_x86_64.whl (557.1 MB)\n",
            "\u001b[2K   \u001b[90m━━━━━━━━━━━━━━━━━━━━━━━━━━━━━━━━━━━━━━━━\u001b[0m \u001b[32m557.1/557.1 MB\u001b[0m \u001b[31m3.2 MB/s\u001b[0m eta \u001b[36m0:00:00\u001b[0m\n",
            "\u001b[?25hDownloading nvidia_cufft_cu11-10.9.0.58-py3-none-manylinux2014_x86_64.whl (168.4 MB)\n",
            "\u001b[2K   \u001b[90m━━━━━━━━━━━━━━━━━━━━━━━━━━━━━━━━━━━━━━━━\u001b[0m \u001b[32m168.4/168.4 MB\u001b[0m \u001b[31m6.0 MB/s\u001b[0m eta \u001b[36m0:00:00\u001b[0m\n",
            "\u001b[?25hDownloading nvidia_curand_cu11-10.2.10.91-py3-none-manylinux1_x86_64.whl (54.6 MB)\n",
            "\u001b[2K   \u001b[90m━━━━━━━━━━━━━━━━━━━━━━━━━━━━━━━━━━━━━━━━\u001b[0m \u001b[32m54.6/54.6 MB\u001b[0m \u001b[31m12.2 MB/s\u001b[0m eta \u001b[36m0:00:00\u001b[0m\n",
            "\u001b[?25hDownloading nvidia_cusolver_cu11-11.4.0.1-2-py3-none-manylinux1_x86_64.whl (102.6 MB)\n",
            "\u001b[2K   \u001b[90m━━━━━━━━━━━━━━━━━━━━━━━━━━━━━━━━━━━━━━━━\u001b[0m \u001b[32m102.6/102.6 MB\u001b[0m \u001b[31m8.2 MB/s\u001b[0m eta \u001b[36m0:00:00\u001b[0m\n",
            "\u001b[?25hDownloading nvidia_cusparse_cu11-11.7.4.91-py3-none-manylinux1_x86_64.whl (173.2 MB)\n",
            "\u001b[2K   \u001b[90m━━━━━━━━━━━━━━━━━━━━━━━━━━━━━━━━━━━━━━━━\u001b[0m \u001b[32m173.2/173.2 MB\u001b[0m \u001b[31m6.7 MB/s\u001b[0m eta \u001b[36m0:00:00\u001b[0m\n",
            "\u001b[?25hDownloading nvidia_nccl_cu11-2.14.3-py3-none-manylinux1_x86_64.whl (177.1 MB)\n",
            "\u001b[2K   \u001b[90m━━━━━━━━━━━━━━━━━━━━━━━━━━━━━━━━━━━━━━━━\u001b[0m \u001b[32m177.1/177.1 MB\u001b[0m \u001b[31m6.9 MB/s\u001b[0m eta \u001b[36m0:00:00\u001b[0m\n",
            "\u001b[?25hDownloading nvidia_nvtx_cu11-11.7.91-py3-none-manylinux1_x86_64.whl (98 kB)\n",
            "\u001b[2K   \u001b[90m━━━━━━━━━━━━━━━━━━━━━━━━━━━━━━━━━━━━━━━━\u001b[0m \u001b[32m98.6/98.6 kB\u001b[0m \u001b[31m7.1 MB/s\u001b[0m eta \u001b[36m0:00:00\u001b[0m\n",
            "\u001b[?25hDownloading triton-2.0.0-1-cp310-cp310-manylinux2014_x86_64.manylinux_2_17_x86_64.whl (63.3 MB)\n",
            "\u001b[2K   \u001b[90m━━━━━━━━━━━━━━━━━━━━━━━━━━━━━━━━━━━━━━━━\u001b[0m \u001b[32m63.3/63.3 MB\u001b[0m \u001b[31m12.4 MB/s\u001b[0m eta \u001b[36m0:00:00\u001b[0m\n",
            "\u001b[?25hDownloading lit-18.1.8-py3-none-any.whl (96 kB)\n",
            "\u001b[2K   \u001b[90m━━━━━━━━━━━━━━━━━━━━━━━━━━━━━━━━━━━━━━━━\u001b[0m \u001b[32m96.4/96.4 kB\u001b[0m \u001b[31m6.6 MB/s\u001b[0m eta \u001b[36m0:00:00\u001b[0m\n",
            "\u001b[?25hInstalling collected packages: lit, nvidia-nvtx-cu11, nvidia-nccl-cu11, nvidia-cusparse-cu11, nvidia-curand-cu11, nvidia-cufft-cu11, nvidia-cuda-runtime-cu11, nvidia-cuda-nvrtc-cu11, nvidia-cuda-cupti-cu11, nvidia-cublas-cu11, nvidia-cusolver-cu11, nvidia-cudnn-cu11, triton, torch, torchdata\n",
            "  Attempting uninstall: triton\n",
            "    Found existing installation: triton 2.1.0\n",
            "    Uninstalling triton-2.1.0:\n",
            "      Successfully uninstalled triton-2.1.0\n",
            "  Attempting uninstall: torch\n",
            "    Found existing installation: torch 2.1.2\n",
            "    Uninstalling torch-2.1.2:\n",
            "      Successfully uninstalled torch-2.1.2\n",
            "  Attempting uninstall: torchdata\n",
            "    Found existing installation: torchdata 0.9.0\n",
            "    Uninstalling torchdata-0.9.0:\n",
            "      Successfully uninstalled torchdata-0.9.0\n",
            "\u001b[31mERROR: pip's dependency resolver does not currently take into account all the packages that are installed. This behaviour is the source of the following dependency conflicts.\n",
            "torchaudio 2.1.2 requires torch==2.1.2, but you have torch 2.0.0 which is incompatible.\n",
            "torchvision 0.16.2 requires torch==2.1.2, but you have torch 2.0.0 which is incompatible.\u001b[0m\u001b[31m\n",
            "\u001b[0mSuccessfully installed lit-18.1.8 nvidia-cublas-cu11-11.10.3.66 nvidia-cuda-cupti-cu11-11.7.101 nvidia-cuda-nvrtc-cu11-11.7.99 nvidia-cuda-runtime-cu11-11.7.99 nvidia-cudnn-cu11-8.5.0.96 nvidia-cufft-cu11-10.9.0.58 nvidia-curand-cu11-10.2.10.91 nvidia-cusolver-cu11-11.4.0.1 nvidia-cusparse-cu11-11.7.4.91 nvidia-nccl-cu11-2.14.3 nvidia-nvtx-cu11-11.7.91 torch-2.0.0 torchdata-0.6.0 triton-2.0.0\n"
          ]
        }
      ],
      "source": [
        "! pip install pydantic\n",
        "! pip install PyYAML\n",
        "! pip install numpy==1.26.4\n",
        "! pip install torch==2.1.2 torchvision==0.16.2 torchaudio==2.1.2\n",
        "! pip install --no-cache-dir dgl -f https://data.dgl.ai/wheels/repo.html\n",
        "! pip install dill\n",
        "! pip install torchdata==0.6.0"
      ]
    },
    {
      "cell_type": "code",
      "source": [
        "import pandas as pd\n",
        "import torch\n",
        "import dgl.sparse as dglsp\n",
        "import torch\n",
        "import torch.nn as nn\n",
        "import torch.nn.functional as F\n",
        "import random"
      ],
      "metadata": {
        "id": "JOUGyr_GRchy",
        "colab": {
          "base_uri": "https://localhost:8080/"
        },
        "outputId": "83f9c2b2-656e-4b54-b93d-286702ac292b"
      },
      "execution_count": null,
      "outputs": [
        {
          "output_type": "stream",
          "name": "stderr",
          "text": [
            "DGL backend not selected or invalid.  Assuming PyTorch for now.\n"
          ]
        },
        {
          "output_type": "stream",
          "name": "stdout",
          "text": [
            "Setting the default backend to \"pytorch\". You can change it in the ~/.dgl/config.json file or export the DGLBACKEND environment variable.  Valid options are: pytorch, mxnet, tensorflow (all lowercase)\n"
          ]
        }
      ]
    },
    {
      "cell_type": "code",
      "source": [
        "df=pd.read_excel('/content/drive/MyDrive/Graph_Research/filtered_dataset.xlsx')"
      ],
      "metadata": {
        "id": "0DL9u-6LR1j1"
      },
      "execution_count": null,
      "outputs": []
    },
    {
      "cell_type": "code",
      "source": [
        "df['concept'] = df['concept'].astype(str)\n",
        "df['paper_id'] = df['paper_id'].astype(str)"
      ],
      "metadata": {
        "id": "G-bh_lsKT1D6"
      },
      "execution_count": null,
      "outputs": []
    },
    {
      "cell_type": "code",
      "source": [
        "datadir = '/content/drive/MyDrive/Graph_Research'\n",
        "max_groupsize = 169\n",
        "import pickle\n",
        "\n",
        "# Load the vertex embeddings from the file\n",
        "with open(datadir + '/vertex_embeddings3_' + str(max_groupsize) + '.p', 'rb') as fp:\n",
        "    vertex_data = pickle.load(fp)\n",
        "node_ids = vertex_data[\"ids\"]\n",
        "node_embeddings = vertex_data[\"embeddings\"]"
      ],
      "metadata": {
        "id": "8179m06nSJl2"
      },
      "execution_count": null,
      "outputs": []
    },
    {
      "cell_type": "code",
      "source": [
        "with open(datadir + '/hyperedge_embeddings3_' + str(max_groupsize) + '.p', 'rb') as fp:\n",
        "    hyperedge_data = pickle.load(fp)\n",
        "hyperedge_ids=hyperedge_data[\"ids\"]\n",
        "hyperedge_embeddings=hyperedge_data[\"embeddings\"]"
      ],
      "metadata": {
        "id": "Uh8iT0pnSNDm"
      },
      "execution_count": null,
      "outputs": []
    },
    {
      "cell_type": "code",
      "source": [
        "def create_incidence_matrix(df):\n",
        "  concept_to_idx={word:node_ids.index(word) for word in list(df['concept'].unique())}\n",
        "  paper_to_idx={str(paper_id):hyperedge_ids.index(paper_id) for paper_id in list(df['paper_id'].unique())}\n",
        "\n",
        "  rows=[]\n",
        "  cols=[]\n",
        "  for _, row in df.iterrows():\n",
        "    concept_idx=concept_to_idx[row['concept']]\n",
        "    paper_idx=paper_to_idx[row['paper_id']]\n",
        "    rows.append(concept_idx)\n",
        "    cols.append(paper_idx)\n",
        "  rows=torch.tensor(rows)\n",
        "  cols=torch.tensor(cols)\n",
        "\n",
        "  H=dglsp.spmatrix(torch.stack([rows,cols]))\n",
        "  return H, concept_to_idx\n",
        "\n",
        "H, concept_to_idx_train = create_incidence_matrix(df)"
      ],
      "metadata": {
        "id": "Sss-EuWdTXHK"
      },
      "execution_count": null,
      "outputs": []
    },
    {
      "cell_type": "code",
      "source": [
        "H.to_dense()"
      ],
      "metadata": {
        "colab": {
          "base_uri": "https://localhost:8080/"
        },
        "id": "SPLk6hbdTZ1g",
        "outputId": "ee8d9fb0-b385-4ed5-c35d-b0ec141fce53"
      },
      "execution_count": null,
      "outputs": [
        {
          "output_type": "execute_result",
          "data": {
            "text/plain": [
              "tensor([[0., 0., 0.,  ..., 0., 0., 0.],\n",
              "        [0., 1., 0.,  ..., 0., 0., 0.],\n",
              "        [1., 0., 0.,  ..., 0., 0., 0.],\n",
              "        ...,\n",
              "        [0., 0., 0.,  ..., 0., 0., 0.],\n",
              "        [0., 0., 0.,  ..., 0., 0., 0.],\n",
              "        [0., 0., 1.,  ..., 0., 0., 0.]])"
            ]
          },
          "metadata": {},
          "execution_count": 8
        }
      ]
    },
    {
      "cell_type": "code",
      "source": [
        "def generate_positive_samples(df, max_len=16):\n",
        "    \"\"\"Generates positive samples (keyword sets that form real hyperedges) from the dataframe.\"\"\"\n",
        "    positive_samples = df.groupby('paper_id')['concept'].apply(list).tolist()\n",
        "\n",
        "    positive_samples_indices = [[node_ids.index(word) if word in node_ids else -1 for word in sublist] for sublist in positive_samples]\n",
        "    positive_samples_indices = [[word_index for word_index in sample if word_index != -1] for sample in positive_samples_indices]\n",
        "\n",
        "    #Pad or truncate to ensure consistent length\n",
        "    padded_samples = []\n",
        "    for sample in positive_samples_indices:\n",
        "        if len(sample) < max_len:\n",
        "            # Pad with zeros\n",
        "            padded_samples.append(sample + [-1] * (max_len - len(sample))) # Padding with zeros\n",
        "        elif len(sample) > max_len:\n",
        "            # Truncate\n",
        "            padded_samples.append(sample[:max_len])\n",
        "        else:\n",
        "            padded_samples.append(sample)\n",
        "\n",
        "    return torch.tensor(padded_samples, dtype=torch.long)"
      ],
      "metadata": {
        "id": "kSl_HBkrSQWJ"
      },
      "execution_count": null,
      "outputs": []
    },
    {
      "cell_type": "code",
      "source": [
        "def generate_negative_samples(df, num_samples, max_len=16):\n",
        "\n",
        "    negative_samples = []\n",
        "    positive_samples_list = [list(row) for row in df.groupby('paper_id')['concept'].apply(list).tolist()]  # Positive samples as list of lists\n",
        "\n",
        "    while len(negative_samples) < num_samples:\n",
        "        # Randomly select a set of keywords and ensure it’s not in positive_samples\n",
        "        neg_sample_concepts = random.sample(node_ids, random.randint(10,16))\n",
        "        if neg_sample_concepts not in positive_samples_list:\n",
        "            # Convert concepts to their indices\n",
        "            neg_sample_indices = [node_ids.index(word) for word in neg_sample_concepts]\n",
        "\n",
        "            # Pad or truncate to max_len\n",
        "            if len(neg_sample_indices) < max_len:\n",
        "                # Pad with zeros\n",
        "                neg_sample_indices += [-1] * (max_len - len(neg_sample_indices))\n",
        "            elif len(neg_sample_indices) > max_len:\n",
        "                # Truncate to max_len\n",
        "                neg_sample_indices = neg_sample_indices[:max_len]\n",
        "\n",
        "            negative_samples.append(neg_sample_indices)\n",
        "\n",
        "    return torch.tensor(negative_samples, dtype=torch.long)"
      ],
      "metadata": {
        "id": "wsGgvoOmStYe"
      },
      "execution_count": null,
      "outputs": []
    },
    {
      "cell_type": "code",
      "source": [
        "from sklearn.model_selection import train_test_split\n",
        "\n",
        "# Generate positive and negative samples\n",
        "positive_samples = generate_positive_samples(df, max_len=16)\n",
        "negative_samples = generate_negative_samples(df, num_samples=len(positive_samples), max_len=16)\n",
        "\n",
        "# Create labels\n",
        "positive_labels = torch.ones(len(positive_samples), dtype=torch.long)  # Label 1 for positive samples\n",
        "negative_labels = torch.zeros(len(negative_samples), dtype=torch.long)  # Label 0 for negative samples\n",
        "\n",
        "# Combine samples and labels\n",
        "all_samples = torch.cat([positive_samples, negative_samples], dim=0)\n",
        "all_labels = torch.cat([positive_labels, negative_labels], dim=0)\n",
        "\n",
        "# Split into train, validation, and test sets\n",
        "X_train, X_temp, y_train, y_temp = train_test_split(all_samples, all_labels, test_size=0.3, random_state=42, stratify=all_labels)\n",
        "X_val, X_test, y_val, y_test = train_test_split(X_temp, y_temp, test_size=0.5, random_state=42, stratify=y_temp)\n",
        "\n",
        "# Print dataset sizes\n",
        "print(f\"Training set: {len(X_train)} samples\")\n",
        "print(f\"Validation set: {len(X_val)} samples\")\n",
        "print(f\"Test set: {len(X_test)} samples\")\n"
      ],
      "metadata": {
        "colab": {
          "base_uri": "https://localhost:8080/"
        },
        "id": "G_0AiO4PS3zU",
        "outputId": "3d467127-a579-47ee-89cc-71e6cc96d3f1"
      },
      "execution_count": null,
      "outputs": [
        {
          "output_type": "stream",
          "name": "stdout",
          "text": [
            "Training set: 10677 samples\n",
            "Validation set: 2288 samples\n",
            "Test set: 2289 samples\n"
          ]
        }
      ]
    },
    {
      "cell_type": "code",
      "source": [
        "X_train"
      ],
      "metadata": {
        "colab": {
          "base_uri": "https://localhost:8080/"
        },
        "id": "WBmJBSnqr5ha",
        "outputId": "1fcd8481-dc89-4e2b-beba-2f518a938343"
      },
      "execution_count": null,
      "outputs": [
        {
          "output_type": "execute_result",
          "data": {
            "text/plain": [
              "tensor([[ 271,  376, 4903,  ...,   -1,   -1,   -1],\n",
              "        [1511,  209, 2049,  ...,   34, 2164, 2013],\n",
              "        [ 693,    4,   61,  ...,  966, 2904,  215],\n",
              "        ...,\n",
              "        [ 260,  301, 3703,  ...,  423,  693,  151],\n",
              "        [1011, 3109, 1507,  ...,   -1,   -1,   -1],\n",
              "        [ 100,  571,   21,  ...,   20,   16,    0]])"
            ]
          },
          "metadata": {},
          "execution_count": 12
        }
      ]
    },
    {
      "cell_type": "code",
      "source": [
        "import torch\n",
        "import torch.nn as nn\n",
        "import torch.nn.functional as F\n",
        "\n",
        "class HyperSAGE(nn.Module):\n",
        "    def __init__(self, node_dim, edge_dim, hidden_dim, out_dim, num_layers=1):\n",
        "\n",
        "        super(HyperSAGE, self).__init__()\n",
        "        self.num_layers = num_layers\n",
        "        self.node_to_edge_mlp = nn.ModuleList([\n",
        "            nn.Linear(node_dim if i == 0 else hidden_dim, hidden_dim) for i in range(num_layers)\n",
        "        ])\n",
        "        self.dropout = nn.Dropout(0.2)\n",
        "        # self.edge_to_node_mlp = nn.ModuleList([\n",
        "        #     nn.Linear(edge_dim if i == 0 else hidden_dim, hidden_dim) for i in range(num_layers)\n",
        "        # ])\n",
        "        # Change in edge_to_node_mlp input dimension from edge_dim to hidden_dim\n",
        "        self.edge_to_node_mlp = nn.ModuleList([\n",
        "            nn.Linear(hidden_dim, hidden_dim) for i in range(num_layers) # Change from edge_dim to hidden_dim\n",
        "        ])\n",
        "        self.output_layer = nn.Linear(hidden_dim, hidden_dim)\n",
        "        self.scoring_layer=nn.Linear(hidden_dim,1)\n",
        "\n",
        "    def forward(self, node_embeddings, edge_embeddings, incidence_matrix, candidate_hyperedges):\n",
        "\n",
        "        for i in range(self.num_layers):\n",
        "            # Node to hyperedge aggregation\n",
        "\n",
        "            edge_inputs = torch.matmul(incidence_matrix.T, node_embeddings)  # Aggregate node embeddings to edges\n",
        "            edge_embeddings = F.relu(self.node_to_edge_mlp[i](edge_inputs))\n",
        "\n",
        "            # Hyperedge to node aggregation\n",
        "            node_inputs = torch.matmul(incidence_matrix, edge_embeddings)  # Aggregate edge embeddings to nodes\n",
        "            node_embeddings = F.relu(self.edge_to_node_mlp[i](node_inputs))\n",
        "\n",
        "        # Final layer for node embeddings\n",
        "        final_node_embeddings=self.output_layer(node_embeddings)\n",
        "\n",
        "        # Gather embeddings for each candidate hyperedge\n",
        "        candidate_node_embeddings = final_node_embeddings[candidate_hyperedges]  # Shape: [num_hyperedges, max_len, embedding_dim]\n",
        "\n",
        "        # Calculate mean embeddings for each hyperedge\n",
        "        hyperedge_embs = candidate_node_embeddings.mean(dim=1)  # Mean across nodes in each hyperedge\n",
        "\n",
        "        # Score candidate hyperedges\n",
        "        scores = self.scoring_layer(hyperedge_embs).squeeze(dim=-1)\n",
        "        scores = scores.sigmoid()  # Convert to probabilities between 0 and 1\n",
        "\n",
        "        return scores\n",
        "\n",
        "\n",
        "# Example usage\n",
        "num_nodes = node_embeddings.shape[0]\n",
        "num_edges = hyperedge_embeddings.shape[0]\n",
        "node_dim = 16\n",
        "edge_dim = 50\n",
        "hidden_dim = 32\n",
        "out_dim = 32\n",
        "\n",
        "H_dense=H.to_dense()\n",
        "hyperedge_embeddings=torch.tensor(hyperedge_embeddings, dtype=torch.float32)\n",
        "node_embeddings=torch.tensor(node_embeddings, dtype=torch.float32)\n",
        "\n",
        "model = HyperSAGE(node_dim, edge_dim, hidden_dim, out_dim)\n",
        "# output = model(node_embeddings, hyperedge_embeddings, H_dense)\n",
        "# print(\"Hyper-SAGE Output Shape:\", output.shape)"
      ],
      "metadata": {
        "id": "wAj6203GU9j9"
      },
      "execution_count": null,
      "outputs": []
    },
    {
      "cell_type": "code",
      "source": [
        "import torch.optim as optim\n",
        "learning_rate = 0.001\n",
        "num_epochs = 100\n",
        "\n",
        "# Initialize model, loss, and optimizer\n",
        "criterion = nn.BCELoss()  # Binary Cross-Entropy Loss\n",
        "optimizer = optim.Adam(model.parameters(), lr=learning_rate)\n",
        "\n",
        "train_losses=[]\n",
        "val_losses=[]\n",
        "\n",
        "# Training and Validation Loop\n",
        "for epoch in range(num_epochs):\n",
        "    # Training phase\n",
        "    model.train()\n",
        "    optimizer.zero_grad()\n",
        "    predictions = model(node_embeddings, hyperedge_embeddings, H_dense, X_train)  # Forward pass\n",
        "    train_loss = criterion(predictions, y_train.float())  # Compute loss\n",
        "    train_loss.backward()  # Backpropagation\n",
        "    optimizer.step()  # Update weights\n",
        "\n",
        "    # Validation phase\n",
        "    model.eval()\n",
        "    with torch.no_grad():\n",
        "        val_predictions = model(node_embeddings, hyperedge_embeddings, H_dense, X_val)\n",
        "        val_loss = criterion(val_predictions, y_val.float())\n",
        "        val_accuracy = ((val_predictions >= 0.5) == y_val).float().mean().item()\n",
        "    train_losses.append(train_loss.item())\n",
        "    val_losses.append(val_loss.item())\n",
        "\n",
        "    # Print epoch results\n",
        "    print(\n",
        "        f\"Epoch {epoch+1}/{num_epochs}, \"\n",
        "        f\"Train Loss: {train_loss.item():.4f}, \"\n",
        "        f\"Val Loss: {val_loss.item():.4f}, \"\n",
        "        f\"Val Accuracy: {val_accuracy:.4f}\"\n",
        "    )"
      ],
      "metadata": {
        "id": "Koekz2RPeG7a",
        "colab": {
          "base_uri": "https://localhost:8080/"
        },
        "outputId": "e2d81ff0-05dd-424e-8e78-da53a3b3e1ab"
      },
      "execution_count": null,
      "outputs": [
        {
          "output_type": "stream",
          "name": "stdout",
          "text": [
            "Epoch 1/100, Train Loss: 0.3607, Val Loss: 0.6312, Val Accuracy: 0.6416\n",
            "Epoch 2/100, Train Loss: 0.6297, Val Loss: 0.3584, Val Accuracy: 0.8514\n",
            "Epoch 3/100, Train Loss: 0.3576, Val Loss: 1.1260, Val Accuracy: 0.5909\n",
            "Epoch 4/100, Train Loss: 1.1149, Val Loss: 0.3709, Val Accuracy: 0.8785\n",
            "Epoch 5/100, Train Loss: 0.3710, Val Loss: 0.4123, Val Accuracy: 0.7841\n",
            "Epoch 6/100, Train Loss: 0.4106, Val Loss: 0.5433, Val Accuracy: 0.6875\n",
            "Epoch 7/100, Train Loss: 0.5414, Val Loss: 0.6391, Val Accuracy: 0.6429\n",
            "Epoch 8/100, Train Loss: 0.6371, Val Loss: 0.6821, Val Accuracy: 0.6285\n",
            "Epoch 9/100, Train Loss: 0.6798, Val Loss: 0.6750, Val Accuracy: 0.6307\n",
            "Epoch 10/100, Train Loss: 0.6723, Val Loss: 0.6273, Val Accuracy: 0.6508\n",
            "Epoch 11/100, Train Loss: 0.6240, Val Loss: 0.5519, Val Accuracy: 0.6879\n",
            "Epoch 12/100, Train Loss: 0.5477, Val Loss: 0.4660, Val Accuracy: 0.7434\n",
            "Epoch 13/100, Train Loss: 0.4601, Val Loss: 0.3939, Val Accuracy: 0.8108\n",
            "Epoch 14/100, Train Loss: 0.3858, Val Loss: 0.3772, Val Accuracy: 0.8518\n",
            "Epoch 15/100, Train Loss: 0.3682, Val Loss: 0.4528, Val Accuracy: 0.8444\n",
            "Epoch 16/100, Train Loss: 0.4388, Val Loss: 0.4968, Val Accuracy: 0.8383\n",
            "Epoch 17/100, Train Loss: 0.4831, Val Loss: 0.4421, Val Accuracy: 0.8448\n",
            "Epoch 18/100, Train Loss: 0.4331, Val Loss: 0.3731, Val Accuracy: 0.8719\n",
            "Epoch 19/100, Train Loss: 0.3673, Val Loss: 0.3496, Val Accuracy: 0.8676\n",
            "Epoch 20/100, Train Loss: 0.3429, Val Loss: 0.3573, Val Accuracy: 0.8466\n",
            "Epoch 21/100, Train Loss: 0.3501, Val Loss: 0.3729, Val Accuracy: 0.8265\n",
            "Epoch 22/100, Train Loss: 0.3660, Val Loss: 0.3832, Val Accuracy: 0.8116\n",
            "Epoch 23/100, Train Loss: 0.3768, Val Loss: 0.3836, Val Accuracy: 0.8108\n",
            "Epoch 24/100, Train Loss: 0.3776, Val Loss: 0.3742, Val Accuracy: 0.8226\n",
            "Epoch 25/100, Train Loss: 0.3684, Val Loss: 0.3585, Val Accuracy: 0.8357\n",
            "Epoch 26/100, Train Loss: 0.3529, Val Loss: 0.3427, Val Accuracy: 0.8562\n",
            "Epoch 27/100, Train Loss: 0.3371, Val Loss: 0.3342, Val Accuracy: 0.8763\n",
            "Epoch 28/100, Train Loss: 0.3289, Val Loss: 0.3381, Val Accuracy: 0.8903\n",
            "Epoch 29/100, Train Loss: 0.3333, Val Loss: 0.3498, Val Accuracy: 0.8920\n",
            "Epoch 30/100, Train Loss: 0.3454, Val Loss: 0.3538, Val Accuracy: 0.8912\n",
            "Epoch 31/100, Train Loss: 0.3494, Val Loss: 0.3436, Val Accuracy: 0.8916\n",
            "Epoch 32/100, Train Loss: 0.3390, Val Loss: 0.3313, Val Accuracy: 0.8916\n",
            "Epoch 33/100, Train Loss: 0.3264, Val Loss: 0.3267, Val Accuracy: 0.8829\n",
            "Epoch 34/100, Train Loss: 0.3218, Val Loss: 0.3288, Val Accuracy: 0.8706\n",
            "Epoch 35/100, Train Loss: 0.3240, Val Loss: 0.3324, Val Accuracy: 0.8619\n",
            "Epoch 36/100, Train Loss: 0.3277, Val Loss: 0.3331, Val Accuracy: 0.8601\n",
            "Epoch 37/100, Train Loss: 0.3283, Val Loss: 0.3301, Val Accuracy: 0.8628\n",
            "Epoch 38/100, Train Loss: 0.3250, Val Loss: 0.3244, Val Accuracy: 0.8719\n",
            "Epoch 39/100, Train Loss: 0.3188, Val Loss: 0.3189, Val Accuracy: 0.8842\n",
            "Epoch 40/100, Train Loss: 0.3128, Val Loss: 0.3165, Val Accuracy: 0.8920\n",
            "Epoch 41/100, Train Loss: 0.3100, Val Loss: 0.3181, Val Accuracy: 0.8942\n",
            "Epoch 42/100, Train Loss: 0.3113, Val Loss: 0.3199, Val Accuracy: 0.8938\n",
            "Epoch 43/100, Train Loss: 0.3129, Val Loss: 0.3166, Val Accuracy: 0.8964\n",
            "Epoch 44/100, Train Loss: 0.3098, Val Loss: 0.3096, Val Accuracy: 0.8995\n",
            "Epoch 45/100, Train Loss: 0.3032, Val Loss: 0.3037, Val Accuracy: 0.8990\n",
            "Epoch 46/100, Train Loss: 0.2982, Val Loss: 0.3002, Val Accuracy: 0.8995\n",
            "Epoch 47/100, Train Loss: 0.2960, Val Loss: 0.2984, Val Accuracy: 0.8995\n",
            "Epoch 48/100, Train Loss: 0.2953, Val Loss: 0.2971, Val Accuracy: 0.8982\n",
            "Epoch 49/100, Train Loss: 0.2947, Val Loss: 0.2957, Val Accuracy: 0.8982\n",
            "Epoch 50/100, Train Loss: 0.2936, Val Loss: 0.2940, Val Accuracy: 0.8977\n",
            "Epoch 51/100, Train Loss: 0.2920, Val Loss: 0.2918, Val Accuracy: 0.8999\n",
            "Epoch 52/100, Train Loss: 0.2898, Val Loss: 0.2900, Val Accuracy: 0.9012\n",
            "Epoch 53/100, Train Loss: 0.2879, Val Loss: 0.2887, Val Accuracy: 0.8999\n",
            "Epoch 54/100, Train Loss: 0.2860, Val Loss: 0.2883, Val Accuracy: 0.9021\n",
            "Epoch 55/100, Train Loss: 0.2845, Val Loss: 0.2884, Val Accuracy: 0.9021\n",
            "Epoch 56/100, Train Loss: 0.2838, Val Loss: 0.2881, Val Accuracy: 0.9012\n",
            "Epoch 57/100, Train Loss: 0.2829, Val Loss: 0.2871, Val Accuracy: 0.9008\n",
            "Epoch 58/100, Train Loss: 0.2816, Val Loss: 0.2855, Val Accuracy: 0.9012\n",
            "Epoch 59/100, Train Loss: 0.2800, Val Loss: 0.2832, Val Accuracy: 0.9038\n",
            "Epoch 60/100, Train Loss: 0.2782, Val Loss: 0.2808, Val Accuracy: 0.9025\n",
            "Epoch 61/100, Train Loss: 0.2764, Val Loss: 0.2793, Val Accuracy: 0.9034\n",
            "Epoch 62/100, Train Loss: 0.2753, Val Loss: 0.2782, Val Accuracy: 0.9034\n",
            "Epoch 63/100, Train Loss: 0.2742, Val Loss: 0.2775, Val Accuracy: 0.9034\n",
            "Epoch 64/100, Train Loss: 0.2735, Val Loss: 0.2766, Val Accuracy: 0.9021\n",
            "Epoch 65/100, Train Loss: 0.2725, Val Loss: 0.2756, Val Accuracy: 0.9003\n",
            "Epoch 66/100, Train Loss: 0.2713, Val Loss: 0.2749, Val Accuracy: 0.9017\n",
            "Epoch 67/100, Train Loss: 0.2701, Val Loss: 0.2744, Val Accuracy: 0.9003\n",
            "Epoch 68/100, Train Loss: 0.2691, Val Loss: 0.2739, Val Accuracy: 0.9030\n",
            "Epoch 69/100, Train Loss: 0.2680, Val Loss: 0.2732, Val Accuracy: 0.9034\n",
            "Epoch 70/100, Train Loss: 0.2669, Val Loss: 0.2724, Val Accuracy: 0.9034\n",
            "Epoch 71/100, Train Loss: 0.2660, Val Loss: 0.2715, Val Accuracy: 0.9038\n",
            "Epoch 72/100, Train Loss: 0.2651, Val Loss: 0.2705, Val Accuracy: 0.9038\n",
            "Epoch 73/100, Train Loss: 0.2641, Val Loss: 0.2695, Val Accuracy: 0.9047\n",
            "Epoch 74/100, Train Loss: 0.2632, Val Loss: 0.2686, Val Accuracy: 0.9065\n",
            "Epoch 75/100, Train Loss: 0.2623, Val Loss: 0.2678, Val Accuracy: 0.9069\n",
            "Epoch 76/100, Train Loss: 0.2614, Val Loss: 0.2670, Val Accuracy: 0.9069\n",
            "Epoch 77/100, Train Loss: 0.2606, Val Loss: 0.2662, Val Accuracy: 0.9069\n",
            "Epoch 78/100, Train Loss: 0.2597, Val Loss: 0.2654, Val Accuracy: 0.9065\n",
            "Epoch 79/100, Train Loss: 0.2589, Val Loss: 0.2645, Val Accuracy: 0.9073\n",
            "Epoch 80/100, Train Loss: 0.2580, Val Loss: 0.2637, Val Accuracy: 0.9073\n",
            "Epoch 81/100, Train Loss: 0.2571, Val Loss: 0.2629, Val Accuracy: 0.9087\n",
            "Epoch 82/100, Train Loss: 0.2561, Val Loss: 0.2622, Val Accuracy: 0.9095\n",
            "Epoch 83/100, Train Loss: 0.2553, Val Loss: 0.2616, Val Accuracy: 0.9113\n",
            "Epoch 84/100, Train Loss: 0.2545, Val Loss: 0.2611, Val Accuracy: 0.9113\n",
            "Epoch 85/100, Train Loss: 0.2537, Val Loss: 0.2606, Val Accuracy: 0.9104\n",
            "Epoch 86/100, Train Loss: 0.2530, Val Loss: 0.2601, Val Accuracy: 0.9108\n",
            "Epoch 87/100, Train Loss: 0.2523, Val Loss: 0.2593, Val Accuracy: 0.9091\n",
            "Epoch 88/100, Train Loss: 0.2515, Val Loss: 0.2583, Val Accuracy: 0.9100\n",
            "Epoch 89/100, Train Loss: 0.2507, Val Loss: 0.2573, Val Accuracy: 0.9117\n",
            "Epoch 90/100, Train Loss: 0.2499, Val Loss: 0.2565, Val Accuracy: 0.9117\n",
            "Epoch 91/100, Train Loss: 0.2492, Val Loss: 0.2558, Val Accuracy: 0.9117\n",
            "Epoch 92/100, Train Loss: 0.2484, Val Loss: 0.2553, Val Accuracy: 0.9117\n",
            "Epoch 93/100, Train Loss: 0.2477, Val Loss: 0.2546, Val Accuracy: 0.9100\n",
            "Epoch 94/100, Train Loss: 0.2470, Val Loss: 0.2539, Val Accuracy: 0.9108\n",
            "Epoch 95/100, Train Loss: 0.2463, Val Loss: 0.2533, Val Accuracy: 0.9122\n",
            "Epoch 96/100, Train Loss: 0.2456, Val Loss: 0.2528, Val Accuracy: 0.9135\n",
            "Epoch 97/100, Train Loss: 0.2450, Val Loss: 0.2522, Val Accuracy: 0.9126\n",
            "Epoch 98/100, Train Loss: 0.2443, Val Loss: 0.2518, Val Accuracy: 0.9126\n",
            "Epoch 99/100, Train Loss: 0.2437, Val Loss: 0.2515, Val Accuracy: 0.9126\n",
            "Epoch 100/100, Train Loss: 0.2430, Val Loss: 0.2510, Val Accuracy: 0.9126\n"
          ]
        }
      ]
    },
    {
      "cell_type": "code",
      "source": [
        "import matplotlib.pyplot as plt\n",
        "\n",
        "# Plot the training and validation loss\n",
        "plt.figure(figsize=(8, 6))\n",
        "plt.plot(range(1, num_epochs + 1), train_losses, label=\"Training Loss\", color='blue', linestyle='-')\n",
        "plt.plot(range(1, num_epochs + 1), val_losses, label=\"Validation Loss\", color='red', linestyle='-')\n",
        "\n",
        "plt.xlabel('Epochs')\n",
        "plt.ylabel('Loss')\n",
        "plt.title('Training and Validation Loss')\n",
        "plt.legend()\n",
        "plt.grid(True)\n",
        "plt.show()\n"
      ],
      "metadata": {
        "colab": {
          "base_uri": "https://localhost:8080/",
          "height": 564
        },
        "id": "BEO9gMCDhWXx",
        "outputId": "a4f78839-e5d7-46ed-c94a-fdcbf0feb1c4"
      },
      "execution_count": null,
      "outputs": [
        {
          "output_type": "display_data",
          "data": {
            "text/plain": [
              "<Figure size 800x600 with 1 Axes>"
            ],
            "image/png": "[encoded data removed]"
          },
          "metadata": {}
        }
      ]
    },
    {
      "cell_type": "code",
      "source": [
        "from sklearn.metrics import accuracy_score, precision_score, recall_score, f1_score, classification_report, roc_curve, auc\n",
        "import matplotlib.pyplot as plt\n",
        "\n",
        "# After training loop\n",
        "model.eval()\n",
        "with torch.no_grad():\n",
        "    # Get test predictions\n",
        "    test_predictions = model(node_embeddings, hyperedge_embeddings, H_dense, X_test)\n",
        "    test_predictions_labels = (test_predictions >= 0.5).long()  # Convert probabilities to binary labels\n",
        "\n",
        "    # Calculate metrics\n",
        "    accuracy = accuracy_score(y_test.cpu(), test_predictions_labels.cpu())\n",
        "    precision = precision_score(y_test.cpu(), test_predictions_labels.cpu())\n",
        "    recall = recall_score(y_test.cpu(), test_predictions_labels.cpu())\n",
        "    f1 = f1_score(y_test.cpu(), test_predictions_labels.cpu())\n",
        "    report = classification_report(y_test.cpu(), test_predictions_labels.cpu())\n",
        "\n",
        "    print(\"\\nTest Results:\")\n",
        "    print(f\"Accuracy: {accuracy:.4f}\")\n",
        "    print(f\"Precision: {precision:.4f}\")\n",
        "    print(f\"Recall: {recall:.4f}\")\n",
        "    print(f\"F1 Score: {f1:.4f}\")\n",
        "    print(\"\\nClassification Report:\\n\", report)\n",
        "\n",
        "    # ROC curve\n",
        "    fpr, tpr, _ = roc_curve(y_test.cpu(), test_predictions.cpu())\n",
        "    roc_auc = auc(fpr, tpr)\n",
        "\n",
        "    # Plot ROC curve\n",
        "    plt.figure(figsize=(8, 6))\n",
        "    plt.plot(fpr, tpr, color=\"blue\", label=f\"ROC curve (AUC = {roc_auc:.4f})\")\n",
        "    plt.plot([0, 1], [0, 1], color=\"red\", linestyle=\"--\", label=\"Random guess\")\n",
        "    plt.xlabel(\"False Positive Rate\")\n",
        "    plt.ylabel(\"True Positive Rate\")\n",
        "    plt.title(\"ROC Curve\")\n",
        "    plt.legend(loc=\"lower right\")\n",
        "    plt.grid()\n",
        "    plt.show()\n"
      ],
      "metadata": {
        "colab": {
          "base_uri": "https://localhost:8080/",
          "height": 859
        },
        "id": "lAQDLjKnhIfr",
        "outputId": "103c2097-a958-4a7e-ca99-7d5a4af4d123"
      },
      "execution_count": null,
      "outputs": [
        {
          "output_type": "stream",
          "name": "stdout",
          "text": [
            "\n",
            "Test Results:\n",
            "Accuracy: 0.8484\n",
            "Precision: 0.8049\n",
            "Recall: 0.9196\n",
            "F1 Score: 0.8584\n",
            "\n",
            "Classification Report:\n",
            "               precision    recall  f1-score   support\n",
            "\n",
            "           0       0.91      0.78      0.84      1145\n",
            "           1       0.80      0.92      0.86      1144\n",
            "\n",
            "    accuracy                           0.85      2289\n",
            "   macro avg       0.86      0.85      0.85      2289\n",
            "weighted avg       0.86      0.85      0.85      2289\n",
            "\n"
          ]
        },
        {
          "output_type": "display_data",
          "data": {
            "text/plain": [
              "<Figure size 800x600 with 1 Axes>"
            ],
            "image/png": "[encoded data removed]"
          },
          "metadata": {}
        }
      ]
    },
    {
      "cell_type": "code",
      "source": [
        "# Test phase\n",
        "model.eval()\n",
        "with torch.no_grad():\n",
        "    test_predictions = model(node_embeddings, hyperedge_embeddings, H_dense, X_test)\n",
        "    test_loss = criterion(test_predictions, y_test.float())\n",
        "    test_accuracy = ((test_predictions >= 0.5) == y_test).float().mean().item()\n",
        "\n",
        "# Print test results\n",
        "print(\n",
        "    f\"Test Loss: {test_loss.item():.4f}, \"\n",
        "    f\"Test Accuracy: {test_accuracy:.4f}\"\n",
        ")\n"
      ],
      "metadata": {
        "colab": {
          "base_uri": "https://localhost:8080/"
        },
        "id": "lq0RD8Q0RlSW",
        "outputId": "eb1ffbd5-dcab-4024-cdf3-9a658a2e2f5b"
      },
      "execution_count": null,
      "outputs": [
        {
          "output_type": "stream",
          "name": "stdout",
          "text": [
            "Test Loss: 0.3489, Test Accuracy: 0.8851\n"
          ]
        }
      ]
    },
    {
      "cell_type": "code",
      "source": [
        "import matplotlib.pyplot as plt\n",
        "print(f\"Test Loss: {test_loss:.4f}\")\n",
        "\n",
        "# Plot the loss curves\n",
        "plt.figure(figsize=(10, 6))\n",
        "plt.plot(range(1, num_epochs + 1), train_losses, label='Train Loss')\n",
        "plt.plot(range(1, num_epochs + 1), val_losses, label='Validation Loss')\n",
        "plt.axhline(y=test_loss, color='r', linestyle='--', label='Test Loss')  # Test loss as a horizontal line\n",
        "plt.xlabel('Epochs')\n",
        "plt.ylabel('Loss')\n",
        "plt.title('Training, Validation, and Test Loss')\n",
        "plt.legend()\n",
        "plt.grid()\n",
        "plt.show()"
      ],
      "metadata": {
        "colab": {
          "base_uri": "https://localhost:8080/",
          "height": 581
        },
        "id": "OGp_l_ScRu3y",
        "outputId": "e3b51790-6a5d-4083-fbf4-4a545ab1ab81"
      },
      "execution_count": null,
      "outputs": [
        {
          "output_type": "stream",
          "name": "stdout",
          "text": [
            "Test Loss: 0.3489\n"
          ]
        },
        {
          "output_type": "display_data",
          "data": {
            "text/plain": [
              "<Figure size 1000x600 with 1 Axes>"
            ],
            "image/png": "[encoded data removed]"
          },
          "metadata": {}
        }
      ]
    }
  ]
}